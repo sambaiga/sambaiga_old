{
 "cells": [
  {
   "cell_type": "markdown",
   "metadata": {},
   "source": [
    "# Super-charge Deep learning hyper-parameter search with Optuna\n",
    ">  Learn how to perform deep learning hyper-parameter search using Pytorch Lightning and Optuna\n",
    "- toc: False\n",
    "- badges: true\n",
    "- comments: true\n",
    "- categories: [Deep learning, Machine learning]\n",
    "- image:  images/post/search.jpg\n",
    "- author: Anthony Faustine\n"
   ]
  },
  {
   "cell_type": "markdown",
   "metadata": {},
   "source": [
    "## Introduction\n",
    "Training machine learning sometimes involves various hyperparameter settings. Performing a hyperparameter search is an integral element in building machine learning models. It consists of attuning different sets of parameters to find the best settings for best model performance. It should be remarked that deep neural networks can involve many hyperparameter settings. Getting the best set parameters for such a high dimensional space might a challenging task. Opportunely, different strategies and tools can be used to simplify the process. This post will guide you on how to use Optuna for a hyper-parameter search using [PyTorch](https://pytorch.org/) and [PyTorch lightning](https://github.com/PyTorchLightning/pytorch-lightning) framework.\n",
    "The notebook with all the code for this post can be found on this [colab link](https://colab.research.google.com/drive/1QVST56bq3zNyIYx9595HVcq5fwFNH44x?usp=sharing).\n",
    "\n",
    "### Optuna\n",
    "[Optuna](https://optuna.org/) is an open-source hyperparameter optimization framework. It automates the process of searching for optimal hyperparameter using Python conditionals, loops, and syntax. The optuna library offers efficiently hyper-parameter search in large spaces while pruning unpromising trials for faster results. It is also possible to run a hyperparameter search over multiple processes without modifying code.\n",
    "For a brief introduction of optuna, you can watch this video."
   ]
  },
  {
   "cell_type": "markdown",
   "metadata": {},
   "source": [
    "> youtube: https://youtu.be/J_aymk4YXhg"
   ]
  },
  {
   "cell_type": "markdown",
   "metadata": {},
   "source": [
    "The optuna optimization problem consists of three main building blocks; **objective function**, **trial**, and **study**. Let consider a simple optimisation problem: *Suppose a rectangular garden is to be constructed using a rock wall as one side of the garden and wire fencing for the other three sides as shown in figure below (taken from this [link](https://math.libretexts.org/Bookshelves/Calculus/Map%3A_Calculus_-_Early_Transcendentals_(Stewart)/04%3A_Applications_of_Differentiation/4.07%3A_Optimization_Problems)). Given 500m of wire fencing, determine the dimensions that would create a garden of maximum area. What is the maximum area?*\n",
    "![](my_icons/optuna_one.png)\n",
    "\n",
    "Let $x$ denote the side of the garden's side perpendicular to the rock wall, and $y$ indicates the side parallel to the rock wall. Then the area of the garden $A= x \\cdot y$. We want to find the maximum possible area subject to the constraint that the total fencing is 500m. The total amount of fencing used will be $2x+y$. Therefore, the constraint equation is \n",
    "$$\n",
    "\\begin{aligned}\n",
    "500 & = 2x +y \\\\\n",
    "y & = 500-2x\\\\\n",
    "A(x) &= x \\cdot (500-2x) = 500x - 2x^2\n",
    "\\end{aligned}\n",
    "\n",
    "$$\n",
    "\n",
    "From equation above, $A(x) = 500x - 2x^2$ is an **objective function**, the function to be optimized. To maximize this function, we need to determine optimization constraints. We know that to construct a rectangular garden, we certainly need the lengths of both sides to be positive $y>0$, and $x>0$. Since $500 = 2x +y$ and $y>0$ then $x<250$. Therefore, we will try to determine the maximum value of A(x) for x over the open interval (0,50).\n",
    "\n",
    "Optuna [**trial**](https://optuna.readthedocs.io/en/stable/reference/trial.html) corresponds to a single execution of the **objective function** and is internally instantiated upon each invocation of the function. \n",
    "To obtain the parameters for each trial within a provided *constraints* the [**suggest**](https://optuna.readthedocs.io/en/stable/reference/trial.html)  method is used. \n",
    "```python\n",
    "trial.suggest_uniform('x', 0, 250)\n",
    "```\n",
    "\n",
    "We can now code the objective function that be optimized for our problem.\n",
    "```python\n",
    "def gardent_area(trial):\n",
    " x = trial.suggest_uniform('x', 0, 250)\n",
    " return (500*x - 2*x**2 ) \n",
    "```\n",
    "\n",
    "Once the objective function has been defined, the [study object]() is used to start the optimization.  The **study** is an optimization session, a set of trials. Optuna provide different [sampler strategies](https://optuna.readthedocs.io/en/latest/reference/samplers.html) such as Random Sampler and [Tree-structured Parzen Estimator (TPE)](https://papers.nips.cc/paper/4443-algorithms-for-hyper-parameter-optimization.pdf) sampler. A sampler has the responsibility to determine the parameter values to be evaluated in a trial. By default, Optuna uses [TPE](https://papers.nips.cc/paper/4443-algorithms-for-hyper-parameter-optimization.pdf) sampler, which is a form of Bayesian Optimization. The TPE provides a more efficient search than a random sampler search by choosing points closer to past good results. It possible to add a custom sampler as described in this [link](https://optuna.readthedocs.io/en/latest/tutorial/sampler.html#overview-of-sampler)\n",
    "Let create a study and start the optimization process. "
   ]
  },
  {
   "cell_type": "code",
   "execution_count": 1,
   "metadata": {},
   "outputs": [
    {
     "name": "stderr",
     "output_type": "stream",
     "text": [
      "\u001b[32m[I 2020-06-22 22:52:09,728]\u001b[0m Finished trial#0 with value: 10151.49608988398 with parameters: {'x': 22.290448569483033}. Best is trial#0 with value: 10151.49608988398.\u001b[0m\n",
      "\u001b[32m[I 2020-06-22 22:52:09,773]\u001b[0m Finished trial#1 with value: 17318.662620758565 with parameters: {'x': 208.46058165158396}. Best is trial#1 with value: 17318.662620758565.\u001b[0m\n",
      "\u001b[32m[I 2020-06-22 22:52:09,823]\u001b[0m Finished trial#2 with value: 27521.441691493033 with parameters: {'x': 168.17729906158428}. Best is trial#2 with value: 27521.441691493033.\u001b[0m\n",
      "\u001b[32m[I 2020-06-22 22:52:09,895]\u001b[0m Finished trial#3 with value: 13298.982948674558 with parameters: {'x': 219.7391604652623}. Best is trial#2 with value: 27521.441691493033.\u001b[0m\n",
      "\u001b[32m[I 2020-06-22 22:52:09,963]\u001b[0m Finished trial#4 with value: 28781.742638896496 with parameters: {'x': 89.86983232958102}. Best is trial#4 with value: 28781.742638896496.\u001b[0m\n",
      "\u001b[32m[I 2020-06-22 22:52:10,029]\u001b[0m Finished trial#5 with value: 24178.31616974594 with parameters: {'x': 65.53705426799789}. Best is trial#4 with value: 28781.742638896496.\u001b[0m\n",
      "\u001b[32m[I 2020-06-22 22:52:10,093]\u001b[0m Finished trial#6 with value: 30988.976474053892 with parameters: {'x': 113.5758255014617}. Best is trial#6 with value: 30988.976474053892.\u001b[0m\n",
      "\u001b[32m[I 2020-06-22 22:52:10,157]\u001b[0m Finished trial#7 with value: 13014.154069127257 with parameters: {'x': 29.51218420428514}. Best is trial#6 with value: 30988.976474053892.\u001b[0m\n",
      "\u001b[32m[I 2020-06-22 22:52:10,213]\u001b[0m Finished trial#8 with value: 26495.19819885987 with parameters: {'x': 76.24140177804468}. Best is trial#6 with value: 30988.976474053892.\u001b[0m\n",
      "\u001b[32m[I 2020-06-22 22:52:10,284]\u001b[0m Finished trial#9 with value: 7902.5922494895785 with parameters: {'x': 233.0449160083676}. Best is trial#6 with value: 30988.976474053892.\u001b[0m\n",
      "\u001b[32m[I 2020-06-22 22:52:10,348]\u001b[0m Finished trial#10 with value: 30674.733702364072 with parameters: {'x': 141.959750847756}. Best is trial#6 with value: 30988.976474053892.\u001b[0m\n",
      "\u001b[32m[I 2020-06-22 22:52:10,398]\u001b[0m Finished trial#11 with value: 29435.27370289011 with parameters: {'x': 155.12246916431226}. Best is trial#6 with value: 30988.976474053892.\u001b[0m\n",
      "\u001b[32m[I 2020-06-22 22:52:10,466]\u001b[0m Finished trial#12 with value: 31245.068909091035 with parameters: {'x': 126.57020554529808}. Best is trial#12 with value: 31245.068909091035.\u001b[0m\n",
      "\u001b[32m[I 2020-06-22 22:52:10,578]\u001b[0m Finished trial#13 with value: 30588.77344891283 with parameters: {'x': 106.81722585677348}. Best is trial#12 with value: 31245.068909091035.\u001b[0m\n",
      "\u001b[32m[I 2020-06-22 22:52:10,660]\u001b[0m Finished trial#14 with value: 24240.253402783623 with parameters: {'x': 184.20197039464304}. Best is trial#12 with value: 31245.068909091035.\u001b[0m\n",
      "\u001b[32m[I 2020-06-22 22:52:10,821]\u001b[0m Finished trial#15 with value: 31159.747247230775 with parameters: {'x': 118.28238313204648}. Best is trial#12 with value: 31245.068909091035.\u001b[0m\n",
      "\u001b[32m[I 2020-06-22 22:52:10,868]\u001b[0m Finished trial#16 with value: 31178.10743621456 with parameters: {'x': 130.99552181988523}. Best is trial#12 with value: 31245.068909091035.\u001b[0m\n",
      "\u001b[32m[I 2020-06-22 22:52:10,948]\u001b[0m Finished trial#17 with value: 21092.127701120175 with parameters: {'x': 53.733344757594296}. Best is trial#12 with value: 31245.068909091035.\u001b[0m\n",
      "\u001b[32m[I 2020-06-22 22:52:10,999]\u001b[0m Finished trial#18 with value: 30900.324237077977 with parameters: {'x': 138.2226276307325}. Best is trial#12 with value: 31245.068909091035.\u001b[0m\n",
      "\u001b[32m[I 2020-06-22 22:52:11,089]\u001b[0m Finished trial#19 with value: 24068.372267603627 with parameters: {'x': 184.92339998863707}. Best is trial#12 with value: 31245.068909091035.\u001b[0m\n"
     ]
    },
    {
     "name": "stdout",
     "output_type": "stream",
     "text": [
      "{'x': 126.57020554529808}\n",
      "31245.068909091035\n"
     ]
    }
   ],
   "source": [
    "##collapse\n",
    "import optuna\n",
    "def gardent_area(trial):\n",
    "    x = trial.suggest_uniform('x', 0, 250)\n",
    "    return (500*x - 2*x**2 ) \n",
    "\n",
    "study = optuna.create_study(study_name=\"garden\", direction=\"maximize\")\n",
    "study.optimize(gardent_area, n_trials=20)\n",
    "print(study.best_params)\n",
    "print(study.best_value)"
   ]
  },
  {
   "cell_type": "markdown",
   "metadata": {},
   "source": [
    "Once the study is completed, you can get the best parameters using ```study.best_params``` and ```study.best_value``` will give you the best value."
   ]
  },
  {
   "cell_type": "markdown",
   "metadata": {},
   "source": [
    "## Hyper-param search for deep neural net\n",
    "\n",
    "Suppose we want to build MLP classifier to recognize handwritten digits using the MNIST dataset. We will first build a pytorch MLP model with the following default parameters\n",
    "```python\n",
    "hparams = {\"in_size\": 28*28, \"hidden_size\":128, \"out_size\":10, \"layer_size\":5, \"dropout\":0.2}\n",
    "```"
   ]
  },
  {
   "cell_type": "code",
   "execution_count": 2,
   "metadata": {},
   "outputs": [],
   "source": [
    "#collapse\n",
    "import torch\n",
    "import torch.nn as nn\n",
    "from torch.nn import functional as F\n",
    "\n",
    "class MLP(nn.Module):\n",
    "    def __init__(self, hparams):\n",
    "        super().__init__()\n",
    "        layers = [hparams['in_size'], hparams['hidden_size']]+[hparams['hidden_size']*2**i  for i in range(hparams['layer_size']-1)] \n",
    "        self.layers = []\n",
    "        \n",
    "        for i in range(len(layers)-1):\n",
    "            layer = nn.Linear(layers[i], layers[i+1])\n",
    "            self.layers.append(layer) \n",
    "            self.layers.append(nn.ReLU())\n",
    "            if i!=0:\n",
    "                self.layers.append(nn.Dropout(hparams['dropout']))\n",
    "                \n",
    "        out_layer = nn.Linear(layers[-1], hparams['out_size'])\n",
    "        self.layers.append(out_layer)\n",
    "        \n",
    "        ##initilize weights\n",
    "        for layer in self.layers:\n",
    "            if isinstance(layer, nn.Linear):\n",
    "                nn.init.xavier_uniform_(layer.weight)\n",
    "        self.mlp =  nn.Sequential(*self.layers)\n",
    "        \n",
    "        \n",
    "    def forward(self, x):\n",
    "        return self.mlp(x)"
   ]
  },
  {
   "cell_type": "code",
   "execution_count": 3,
   "metadata": {},
   "outputs": [
    {
     "data": {
      "text/plain": [
       "MLP(\n",
       "  (mlp): Sequential(\n",
       "    (0): Linear(in_features=784, out_features=128, bias=True)\n",
       "    (1): ReLU()\n",
       "    (2): Linear(in_features=128, out_features=128, bias=True)\n",
       "    (3): ReLU()\n",
       "    (4): Dropout(p=0.2, inplace=False)\n",
       "    (5): Linear(in_features=128, out_features=256, bias=True)\n",
       "    (6): ReLU()\n",
       "    (7): Dropout(p=0.2, inplace=False)\n",
       "    (8): Linear(in_features=256, out_features=512, bias=True)\n",
       "    (9): ReLU()\n",
       "    (10): Dropout(p=0.2, inplace=False)\n",
       "    (11): Linear(in_features=512, out_features=1024, bias=True)\n",
       "    (12): ReLU()\n",
       "    (13): Dropout(p=0.2, inplace=False)\n",
       "    (14): Linear(in_features=1024, out_features=10, bias=True)\n",
       "  )\n",
       ")"
      ]
     },
     "execution_count": 3,
     "metadata": {},
     "output_type": "execute_result"
    }
   ],
   "source": [
    "#collapse\n",
    "hparams = {\"in_size\": 28*28, \"hidden_size\":128, \"out_size\":10, \"layer_size\":5, \"dropout\":0.2}\n",
    "model = MLP(hparams)\n",
    "model"
   ]
  },
  {
   "cell_type": "markdown",
   "metadata": {},
   "source": [
    "For the above MLP model, we need to specify the following parameters *hidden size, dropout, and number of linear layers*. The critical question is, how do we pick these parameters. We will use optuna to search for optimal parameters that will give us an excellent performance. First, we will create a PyTorch lightning model that will provide the structure for organizing the fundamentals component of any machine learning project. These elements include the data, architecture or model, optimizer, loss function, training, and evaluation step. Since we fine defined our MLP, we go ahead and create a PyTorch lightning module."
   ]
  },
  {
   "cell_type": "code",
   "execution_count": 4,
   "metadata": {},
   "outputs": [],
   "source": [
    "#collapse\n",
    "from torch.utils.data import DataLoader, random_split\n",
    "from torchvision.datasets import MNIST\n",
    "import os\n",
    "from torchvision import datasets, transforms\n",
    "import pytorch_lightning as pl\n",
    "import  pytorch_lightning.metrics.functional as metrics\n",
    "\n",
    "class MLPIL(pl.LightningModule):\n",
    "    \n",
    "    def __init__(self, hparams):\n",
    "        super().__init__()\n",
    "        self.hparams = hparams\n",
    "        self.model = MLP(hparams)\n",
    "    \n",
    "    \n",
    "    def forward(self, x):\n",
    "        return self.model(x)\n",
    "    \n",
    "    def training_step(self, batch, batch_idx):\n",
    "        x, y = batch\n",
    "        logits = self(x.reshape(x.size(0), -1))\n",
    "        loss = F.cross_entropy(logits, y)\n",
    "        acc  = metrics.accuracy(torch.max(logits, 1)[1], y)\n",
    "        \n",
    "        logs = {'loss': loss, \"tra_acc\":acc}\n",
    "        return {'loss': loss, 'log': logs}\n",
    "    \n",
    "    def validation_step(self, batch, batch_idx):\n",
    "        x, y = batch\n",
    "        logits = self(x.reshape(x.size(0), -1))\n",
    "        loss = F.cross_entropy(logits, y)\n",
    "        acc  = metrics.accuracy(torch.max(logits, 1)[1], y)\n",
    "        \n",
    "        logs = {'val_loss': loss, \"val_acc\":acc}\n",
    "        return logs\n",
    "\n",
    "    def validation_epoch_end(self, outputs):\n",
    "        # OPTIONAL\n",
    "        avg_loss = torch.stack([x['val_loss'] for x in outputs]).mean()\n",
    "        avg_acc = torch.stack([x['val_acc'] for x in outputs]).mean()\n",
    "        logs = {'val_loss': avg_loss, \"val_acc\":avg_acc}\n",
    "        return {'log':logs}\n",
    "\n",
    "    \n",
    "    def train_dataloader(self):\n",
    "        # REQUIRED\n",
    "        return DataLoader(MNIST(os.getcwd(), train=True, download=True, \n",
    "                                transform=transforms.ToTensor()), \n",
    "                                batch_size=self.hparams[\"batch_size\"], num_workers=4)\n",
    "\n",
    "    def val_dataloader(self):\n",
    "        # OPTIONAL\n",
    "        return DataLoader(MNIST(os.getcwd(), train=False, download=True, \n",
    "                                transform=transforms.ToTensor()),\n",
    "                                batch_size=self.hparams[\"batch_size\"], num_workers=4)\n",
    "\n",
    "    \n",
    "    def configure_optimizers(self):\n",
    "        \n",
    "        optimizer =  torch.optim.SGD(self.model.parameters(), \n",
    "                                         lr=self.hparams['learning_rate'], \n",
    "                                         momentum=self.hparams['momentum'], \n",
    "                                         nesterov=self.hparams['nesterov'],\n",
    "                                         weight_decay=self.hparams['weight_decay'])    \n",
    "        \n",
    "        return optimizer\n",
    "         "
   ]
  },
  {
   "cell_type": "markdown",
   "metadata": {},
   "source": [
    "\n",
    "To learn the parameters of the MLP we will use Stochastic Gradient Descent Optimizer (SGD) optimizer. The SGD has several other hper-parameters such as learning rate which we can also optimize.\n",
    "```pyhon\n",
    " optimizer = torch.optim.SGD(self.model.parameters(), \n",
    " lr=self.hparams['learning_rate'], \n",
    " momentum=self.hparams['momentum'], \n",
    " nesterov=self.hparams['nesterov'],\n",
    " weight_decay=self.hparams['weight_decay']) \n",
    "```\n",
    "Thus the SGD optimizer will add four additional parameters. We can also treat the batch size as hyper-parameter to optimize. We will have the following set of parameters to optimizers.\n",
    "\n",
    "```python\n",
    "default_params = {\"in_size\": 28*28, \"hidden_size\":128, \"out_size\":10, \n",
    " \"layer_size\":5, \"dropout\":0.2, \"batch_size\":32,\n",
    " 'learning_rate':1e-3, 'momentum':0.9, 'nesterov': True,\n",
    " 'weight_decay':1e-5,\n",
    " 'epochs':2}\n",
    "```"
   ]
  },
  {
   "cell_type": "markdown",
   "metadata": {},
   "source": [
    "### Defining the hyperparameters and objective function to be optimized\n",
    "Since we know all the parameters that we want to optimize, we will use the optuna **suggest** to define a search space for each hyperparameter that we want to tune. Optuna supports a variety of suggests which can be used to optimize floats, integers, or discrete categorical values. Numerical values such as learning rate can be suggested using a logarithmic scale.\n"
   ]
  },
  {
   "cell_type": "code",
   "execution_count": 20,
   "metadata": {},
   "outputs": [],
   "source": [
    "def get_search_space(trial, default_params):\n",
    "    lr_param = {'learning_rate': trial.suggest_loguniform(\"learning_rate\", 1e-4, 1e-3)}\n",
    "    default_params.update(lr_param)\n",
    "    wdecay_param = {'weight_decay': trial.suggest_loguniform('weight_decay', 1e-5, 1e-2)}\n",
    "    default_params.update(wdecay_param)\n",
    "    hidden_size_param={'hidden_size': trial.suggest_categorical(\"hidden_size\", [8*2**i for i in range(6)])}\n",
    "    default_params.update(hidden_size_param)\n",
    "    batch_size_param={'hidden_size': trial.suggest_categorical(\"batch_size\", [16, 32, 64, 128])}\n",
    "    default_params.update(hidden_size_param)\n",
    "    layer_size_param={\"layer_size\": trial.suggest_int(\"layer_size\", 2, 5)}\n",
    "    default_params.update(layer_size_param)\n",
    "    dropout_param={\"dropout\": trial.suggest_float('dropout', 0.1, .5)}\n",
    "    default_params.update(dropout_param)\n",
    "    momentum_param = {'momentum': trial.suggest_float('momentum', 0.8, 1.0)}\n",
    "    default_params.update(momentum_param)\n",
    "    nest_param={'nesterov':trial.suggest_categorical(\"nesterov\", [False, True])}\n",
    "    default_params.update(nest_param)\n",
    "    return default_params"
   ]
  },
  {
   "cell_type": "markdown",
   "metadata": {},
   "source": [
    "To create an objective function, we use the trainer module within PyTorch lightning with the default TensorBoard logger. The trainer will return the validation score. Optuna will use this score to evaluate the performance of the hyperparameters and decide where to sample in upcoming trials."
   ]
  },
  {
   "cell_type": "code",
   "execution_count": 21,
   "metadata": {},
   "outputs": [
    {
     "name": "stdout",
     "output_type": "stream",
     "text": [
      "now run `tensorboard --logdir /Users/sambaiga/Documents/sambaiga/_notebooks/MLP\n"
     ]
    }
   ],
   "source": [
    "#collapse\n",
    "from pathlib import Path\n",
    "from optuna.integration import PyTorchLightningPruningCallback\n",
    "DIR = Path(os.getcwd())\n",
    "MODEL_DIR = DIR/ \"MLP\"\n",
    "MODEL_DIR.mkdir(parents=True, exist_ok=True)\n",
    "print(f\"now run `tensorboard --logdir {MODEL_DIR}\")\n",
    "\n",
    "class DictLogger(pl.loggers.TensorBoardLogger):\n",
    "    \"\"\"PyTorch Lightning `dict` logger.\"\"\"\n",
    "    # see https://github.com/PyTorchLightning/pytorch-lightning/blob/50881c0b31/pytorch_lightning/logging/base.py\n",
    "\n",
    "    def __init__(self, *args, **kwargs):\n",
    "        super().__init__(*args, **kwargs)\n",
    "        self.metrics = [] \n",
    "\n",
    "    def log_metrics(self, metrics, step=None):\n",
    "        super().log_metrics(metrics, step=step)\n",
    "        self.metrics.append(metrics)"
   ]
  },
  {
   "cell_type": "markdown",
   "metadata": {},
   "source": [
    "In addition to sampling strategies, Optuna provides a mechanism to automatically stops unpromising trials at the early stages of the training. This allows computing time to be used for tests that show more potential. This feature is called [**pruning**](https://optuna.readthedocs.io/en/stable/tutorial/pruning.html), and it is a form of automated early-stopping. The [PyTorchLightingPruningCallBack](https://optuna.readthedocs.io/en/stable/reference/integration.html) provides integration Optuna pruning  function to PyTorch lightning. Pruner using the median stopping rule."
   ]
  },
  {
   "cell_type": "code",
   "execution_count": 22,
   "metadata": {},
   "outputs": [],
   "source": [
    "#collapse\n",
    "default_params = {\"in_size\": 28*28, \"hidden_size\":128, \"out_size\":10, \n",
    "           \"layer_size\":5, \"dropout\":0.2, \"batch_size\":32,\n",
    "          'learning_rate':1e-3, 'momentum':0.9, 'nesterov': True,\n",
    "          'weight_decay':1e-5,\n",
    "          'epochs':50}\n",
    "\n",
    "def objective(trial=None):\n",
    "    \n",
    "    if trial is not None:\n",
    "        hparams = get_search_space(trial, default_params) \n",
    "        early_stopping = PyTorchLightningPruningCallback(trial, monitor='val_acc')\n",
    "        checkpoint_callback = pl.callbacks.ModelCheckpoint(\n",
    "        os.path.join(MODEL_DIR, \"trial_{}\".format(trial.number)), monitor=\"val_acc\"\n",
    "        )   \n",
    "    \n",
    "        logger = DictLogger(MODEL_DIR,  version=trial.number)\n",
    "    else: \n",
    "        early_stopping = pl.callbacks.EarlyStopping(monitor='val_acc', min_delta=1e-4, patience=20, mode=\"max\")  \n",
    "        logger = DictLogger(MODEL_DIR)\n",
    "    trainer = pl.Trainer(\n",
    "                    logger = logger,\n",
    "                    checkpoint_callback=checkpoint_callback,\n",
    "                    max_epochs=10,\n",
    "                    gpus=1 if torch.cuda.is_available() else None,\n",
    "                    early_stop_callback=early_stopping\n",
    "                     )\n",
    "    \n",
    "    model = MLPIL(hparams)\n",
    "    trainer.fit(model)\n",
    "    if trial is not None:\n",
    "        return logger.metrics[-1]['val_acc']\n"
   ]
  },
  {
   "cell_type": "markdown",
   "metadata": {},
   "source": [
    "To start the optimization, we create a study object and pass the objective function to method optimize() as follows."
   ]
  },
  {
   "cell_type": "code",
   "execution_count": 25,
   "metadata": {},
   "outputs": [],
   "source": [
    "##collapse\n",
    "import optuna\n",
    "def run_study(num_trials=10):\n",
    "    #Activate the pruning feature. `MedianPruner` stops unpromising \n",
    "    # Set up the median stopping rule as the pruning condition\n",
    "    pruner = optuna.pruners.MedianPruner()\n",
    "    study = optuna.create_study(pruner=pruner, direction='maximize')\n",
    "    study.optimize(objective, n_trials=num_trials)\n",
    "    print(\"Number of finished trials: {}\".format(len(study.trials)))\n",
    "    print(\"Best trial:\")\n",
    "    trial = study.best_trial\n",
    "    print(\"  Value: {}\".format(trial.value))\n",
    "    print(\"  Params: \")\n",
    "    for key, value in trial.params.items():\n",
    "        print(\"    {}: {}\".format(key, value))\n",
    "    return study"
   ]
  },
  {
   "cell_type": "markdown",
   "metadata": {},
   "source": [
    "To turn on the pruning feature, we hve to set up the the pruning condition which periodically monitors the intermediate objective values. Several [pruning condistions](https://optuna.readthedocs.io/en/latest/reference/pruners.html) such as [Hyperband](http://www.jmlr.org/papers/volume18/16-558/16-558.pdf), [Successive Halving](https://arxiv.org/abs/1502.07943) exists as decribed in optuna documentation. For this example we will use the ```MedianPruner()``` which prune if the trial’s best intermediate result is worse than median of intermediate results of previous trials at the same step."
   ]
  },
  {
   "cell_type": "code",
   "execution_count": 26,
   "metadata": {},
   "outputs": [
    {
     "name": "stderr",
     "output_type": "stream",
     "text": [
      "GPU available: False, used: False\n",
      "TPU available: False, using: 0 TPU cores\n",
      "\n",
      "  | Name  | Type | Params\n",
      "-------------------------------\n",
      "0 | model | MLP  | 817 K \n"
     ]
    },
    {
     "data": {
      "application/vnd.jupyter.widget-view+json": {
       "model_id": "",
       "version_major": 2,
       "version_minor": 0
      },
      "text/plain": [
       "HBox(children=(FloatProgress(value=1.0, bar_style='info', description='Validation sanity check', layout=Layout…"
      ]
     },
     "metadata": {},
     "output_type": "display_data"
    },
    {
     "data": {
      "application/vnd.jupyter.widget-view+json": {
       "model_id": "928fdf2ca4904c1195b89eaa698538d2",
       "version_major": 2,
       "version_minor": 0
      },
      "text/plain": [
       "HBox(children=(FloatProgress(value=1.0, bar_style='info', description='Training', layout=Layout(flex='2'), max…"
      ]
     },
     "metadata": {},
     "output_type": "display_data"
    },
    {
     "data": {
      "application/vnd.jupyter.widget-view+json": {
       "model_id": "",
       "version_major": 2,
       "version_minor": 0
      },
      "text/plain": [
       "HBox(children=(FloatProgress(value=1.0, bar_style='info', description='Validating', layout=Layout(flex='2'), m…"
      ]
     },
     "metadata": {},
     "output_type": "display_data"
    },
    {
     "data": {
      "application/vnd.jupyter.widget-view+json": {
       "model_id": "",
       "version_major": 2,
       "version_minor": 0
      },
      "text/plain": [
       "HBox(children=(FloatProgress(value=1.0, bar_style='info', description='Validating', layout=Layout(flex='2'), m…"
      ]
     },
     "metadata": {},
     "output_type": "display_data"
    },
    {
     "data": {
      "application/vnd.jupyter.widget-view+json": {
       "model_id": "",
       "version_major": 2,
       "version_minor": 0
      },
      "text/plain": [
       "HBox(children=(FloatProgress(value=1.0, bar_style='info', description='Validating', layout=Layout(flex='2'), m…"
      ]
     },
     "metadata": {},
     "output_type": "display_data"
    },
    {
     "data": {
      "application/vnd.jupyter.widget-view+json": {
       "model_id": "",
       "version_major": 2,
       "version_minor": 0
      },
      "text/plain": [
       "HBox(children=(FloatProgress(value=1.0, bar_style='info', description='Validating', layout=Layout(flex='2'), m…"
      ]
     },
     "metadata": {},
     "output_type": "display_data"
    },
    {
     "name": "stdout",
     "output_type": "stream",
     "text": [
      "\n"
     ]
    },
    {
     "name": "stderr",
     "output_type": "stream",
     "text": [
      "\u001b[32m[I 2020-06-22 23:36:32,489]\u001b[0m Finished trial#0 with value: 0.763079047203064 with parameters: {'learning_rate': 0.0002781761413312715, 'weight_decay': 0.00026786709389757784, 'hidden_size': 128, 'batch_size': 16, 'layer_size': 5, 'dropout': 0.4475426537245917, 'momentum': 0.8343662356211846, 'nesterov': True}. Best is trial#0 with value: 0.763079047203064.\u001b[0m\n",
      "GPU available: False, used: False\n",
      "TPU available: False, using: 0 TPU cores\n",
      "\n",
      "  | Name  | Type | Params\n",
      "-------------------------------\n",
      "0 | model | MLP  | 286 K \n"
     ]
    },
    {
     "data": {
      "application/vnd.jupyter.widget-view+json": {
       "model_id": "",
       "version_major": 2,
       "version_minor": 0
      },
      "text/plain": [
       "HBox(children=(FloatProgress(value=1.0, bar_style='info', description='Validation sanity check', layout=Layout…"
      ]
     },
     "metadata": {},
     "output_type": "display_data"
    },
    {
     "data": {
      "application/vnd.jupyter.widget-view+json": {
       "model_id": "78bf921e22f84a37918d84cbff1b1465",
       "version_major": 2,
       "version_minor": 0
      },
      "text/plain": [
       "HBox(children=(FloatProgress(value=1.0, bar_style='info', description='Training', layout=Layout(flex='2'), max…"
      ]
     },
     "metadata": {},
     "output_type": "display_data"
    },
    {
     "data": {
      "application/vnd.jupyter.widget-view+json": {
       "model_id": "",
       "version_major": 2,
       "version_minor": 0
      },
      "text/plain": [
       "HBox(children=(FloatProgress(value=1.0, bar_style='info', description='Validating', layout=Layout(flex='2'), m…"
      ]
     },
     "metadata": {},
     "output_type": "display_data"
    },
    {
     "data": {
      "application/vnd.jupyter.widget-view+json": {
       "model_id": "",
       "version_major": 2,
       "version_minor": 0
      },
      "text/plain": [
       "HBox(children=(FloatProgress(value=1.0, bar_style='info', description='Validating', layout=Layout(flex='2'), m…"
      ]
     },
     "metadata": {},
     "output_type": "display_data"
    },
    {
     "data": {
      "application/vnd.jupyter.widget-view+json": {
       "model_id": "",
       "version_major": 2,
       "version_minor": 0
      },
      "text/plain": [
       "HBox(children=(FloatProgress(value=1.0, bar_style='info', description='Validating', layout=Layout(flex='2'), m…"
      ]
     },
     "metadata": {},
     "output_type": "display_data"
    },
    {
     "data": {
      "application/vnd.jupyter.widget-view+json": {
       "model_id": "",
       "version_major": 2,
       "version_minor": 0
      },
      "text/plain": [
       "HBox(children=(FloatProgress(value=1.0, bar_style='info', description='Validating', layout=Layout(flex='2'), m…"
      ]
     },
     "metadata": {},
     "output_type": "display_data"
    },
    {
     "name": "stderr",
     "output_type": "stream",
     "text": [
      "\u001b[32m[I 2020-06-22 23:38:10,138]\u001b[0m Finished trial#1 with value: 0.8695088028907776 with parameters: {'learning_rate': 0.00019459451111337528, 'weight_decay': 0.0008316437322277936, 'hidden_size': 128, 'batch_size': 16, 'layer_size': 4, 'dropout': 0.30811559721491616, 'momentum': 0.8792675991877269, 'nesterov': True}. Best is trial#1 with value: 0.8695088028907776.\u001b[0m\n",
      "GPU available: False, used: False\n",
      "TPU available: False, using: 0 TPU cores\n",
      "\n",
      "  | Name  | Type | Params\n",
      "-------------------------------\n",
      "0 | model | MLP  | 6 K   \n"
     ]
    },
    {
     "name": "stdout",
     "output_type": "stream",
     "text": [
      "\n"
     ]
    },
    {
     "data": {
      "application/vnd.jupyter.widget-view+json": {
       "model_id": "",
       "version_major": 2,
       "version_minor": 0
      },
      "text/plain": [
       "HBox(children=(FloatProgress(value=1.0, bar_style='info', description='Validation sanity check', layout=Layout…"
      ]
     },
     "metadata": {},
     "output_type": "display_data"
    },
    {
     "data": {
      "application/vnd.jupyter.widget-view+json": {
       "model_id": "c78c92b3e10d48d284562cc2bd4c0932",
       "version_major": 2,
       "version_minor": 0
      },
      "text/plain": [
       "HBox(children=(FloatProgress(value=1.0, bar_style='info', description='Training', layout=Layout(flex='2'), max…"
      ]
     },
     "metadata": {},
     "output_type": "display_data"
    },
    {
     "data": {
      "application/vnd.jupyter.widget-view+json": {
       "model_id": "",
       "version_major": 2,
       "version_minor": 0
      },
      "text/plain": [
       "HBox(children=(FloatProgress(value=1.0, bar_style='info', description='Validating', layout=Layout(flex='2'), m…"
      ]
     },
     "metadata": {},
     "output_type": "display_data"
    },
    {
     "data": {
      "application/vnd.jupyter.widget-view+json": {
       "model_id": "",
       "version_major": 2,
       "version_minor": 0
      },
      "text/plain": [
       "HBox(children=(FloatProgress(value=1.0, bar_style='info', description='Validating', layout=Layout(flex='2'), m…"
      ]
     },
     "metadata": {},
     "output_type": "display_data"
    },
    {
     "data": {
      "application/vnd.jupyter.widget-view+json": {
       "model_id": "",
       "version_major": 2,
       "version_minor": 0
      },
      "text/plain": [
       "HBox(children=(FloatProgress(value=1.0, bar_style='info', description='Validating', layout=Layout(flex='2'), m…"
      ]
     },
     "metadata": {},
     "output_type": "display_data"
    },
    {
     "data": {
      "application/vnd.jupyter.widget-view+json": {
       "model_id": "",
       "version_major": 2,
       "version_minor": 0
      },
      "text/plain": [
       "HBox(children=(FloatProgress(value=1.0, bar_style='info', description='Validating', layout=Layout(flex='2'), m…"
      ]
     },
     "metadata": {},
     "output_type": "display_data"
    },
    {
     "name": "stdout",
     "output_type": "stream",
     "text": [
      "\n"
     ]
    },
    {
     "name": "stderr",
     "output_type": "stream",
     "text": [
      "\u001b[32m[I 2020-06-22 23:39:32,721]\u001b[0m Finished trial#2 with value: 0.5426318049430847 with parameters: {'learning_rate': 0.00031379768467785276, 'weight_decay': 0.00024206467053167096, 'hidden_size': 8, 'batch_size': 128, 'layer_size': 3, 'dropout': 0.4051284289161241, 'momentum': 0.8700648073603755, 'nesterov': True}. Best is trial#1 with value: 0.8695088028907776.\u001b[0m\n",
      "GPU available: False, used: False\n",
      "TPU available: False, using: 0 TPU cores\n",
      "\n",
      "  | Name  | Type | Params\n",
      "-------------------------------\n",
      "0 | model | MLP  | 16 K  \n"
     ]
    },
    {
     "data": {
      "application/vnd.jupyter.widget-view+json": {
       "model_id": "",
       "version_major": 2,
       "version_minor": 0
      },
      "text/plain": [
       "HBox(children=(FloatProgress(value=1.0, bar_style='info', description='Validation sanity check', layout=Layout…"
      ]
     },
     "metadata": {},
     "output_type": "display_data"
    },
    {
     "data": {
      "application/vnd.jupyter.widget-view+json": {
       "model_id": "87b0dfe164aa41eb92e6684ea9e84410",
       "version_major": 2,
       "version_minor": 0
      },
      "text/plain": [
       "HBox(children=(FloatProgress(value=1.0, bar_style='info', description='Training', layout=Layout(flex='2'), max…"
      ]
     },
     "metadata": {},
     "output_type": "display_data"
    },
    {
     "data": {
      "application/vnd.jupyter.widget-view+json": {
       "model_id": "",
       "version_major": 2,
       "version_minor": 0
      },
      "text/plain": [
       "HBox(children=(FloatProgress(value=1.0, bar_style='info', description='Validating', layout=Layout(flex='2'), m…"
      ]
     },
     "metadata": {},
     "output_type": "display_data"
    },
    {
     "data": {
      "application/vnd.jupyter.widget-view+json": {
       "model_id": "",
       "version_major": 2,
       "version_minor": 0
      },
      "text/plain": [
       "HBox(children=(FloatProgress(value=1.0, bar_style='info', description='Validating', layout=Layout(flex='2'), m…"
      ]
     },
     "metadata": {},
     "output_type": "display_data"
    },
    {
     "data": {
      "application/vnd.jupyter.widget-view+json": {
       "model_id": "",
       "version_major": 2,
       "version_minor": 0
      },
      "text/plain": [
       "HBox(children=(FloatProgress(value=1.0, bar_style='info', description='Validating', layout=Layout(flex='2'), m…"
      ]
     },
     "metadata": {},
     "output_type": "display_data"
    },
    {
     "data": {
      "application/vnd.jupyter.widget-view+json": {
       "model_id": "",
       "version_major": 2,
       "version_minor": 0
      },
      "text/plain": [
       "HBox(children=(FloatProgress(value=1.0, bar_style='info', description='Validating', layout=Layout(flex='2'), m…"
      ]
     },
     "metadata": {},
     "output_type": "display_data"
    },
    {
     "name": "stdout",
     "output_type": "stream",
     "text": [
      "\n"
     ]
    },
    {
     "name": "stderr",
     "output_type": "stream",
     "text": [
      "\u001b[32m[I 2020-06-22 23:41:03,403]\u001b[0m Finished trial#3 with value: 0.7521964907646179 with parameters: {'learning_rate': 0.0009969827342691411, 'weight_decay': 0.00191834042067662, 'hidden_size': 16, 'batch_size': 64, 'layer_size': 4, 'dropout': 0.4199071669462878, 'momentum': 0.8583730620569984, 'nesterov': False}. Best is trial#1 with value: 0.8695088028907776.\u001b[0m\n",
      "GPU available: False, used: False\n",
      "TPU available: False, using: 0 TPU cores\n",
      "\n",
      "  | Name  | Type | Params\n",
      "-------------------------------\n",
      "0 | model | MLP  | 16 K  \n"
     ]
    },
    {
     "data": {
      "application/vnd.jupyter.widget-view+json": {
       "model_id": "",
       "version_major": 2,
       "version_minor": 0
      },
      "text/plain": [
       "HBox(children=(FloatProgress(value=1.0, bar_style='info', description='Validation sanity check', layout=Layout…"
      ]
     },
     "metadata": {},
     "output_type": "display_data"
    },
    {
     "data": {
      "application/vnd.jupyter.widget-view+json": {
       "model_id": "aba4e22255154cfc95f77b9f4d789886",
       "version_major": 2,
       "version_minor": 0
      },
      "text/plain": [
       "HBox(children=(FloatProgress(value=1.0, bar_style='info', description='Training', layout=Layout(flex='2'), max…"
      ]
     },
     "metadata": {},
     "output_type": "display_data"
    },
    {
     "data": {
      "application/vnd.jupyter.widget-view+json": {
       "model_id": "",
       "version_major": 2,
       "version_minor": 0
      },
      "text/plain": [
       "HBox(children=(FloatProgress(value=1.0, bar_style='info', description='Validating', layout=Layout(flex='2'), m…"
      ]
     },
     "metadata": {},
     "output_type": "display_data"
    },
    {
     "data": {
      "application/vnd.jupyter.widget-view+json": {
       "model_id": "",
       "version_major": 2,
       "version_minor": 0
      },
      "text/plain": [
       "HBox(children=(FloatProgress(value=1.0, bar_style='info', description='Validating', layout=Layout(flex='2'), m…"
      ]
     },
     "metadata": {},
     "output_type": "display_data"
    },
    {
     "data": {
      "application/vnd.jupyter.widget-view+json": {
       "model_id": "",
       "version_major": 2,
       "version_minor": 0
      },
      "text/plain": [
       "HBox(children=(FloatProgress(value=1.0, bar_style='info', description='Validating', layout=Layout(flex='2'), m…"
      ]
     },
     "metadata": {},
     "output_type": "display_data"
    },
    {
     "data": {
      "application/vnd.jupyter.widget-view+json": {
       "model_id": "",
       "version_major": 2,
       "version_minor": 0
      },
      "text/plain": [
       "HBox(children=(FloatProgress(value=1.0, bar_style='info', description='Validating', layout=Layout(flex='2'), m…"
      ]
     },
     "metadata": {},
     "output_type": "display_data"
    },
    {
     "name": "stderr",
     "output_type": "stream",
     "text": [
      "\u001b[32m[I 2020-06-22 23:42:18,938]\u001b[0m Finished trial#4 with value: 0.9208266735076904 with parameters: {'learning_rate': 0.0003222124173376937, 'weight_decay': 0.0002461730007892341, 'hidden_size': 16, 'batch_size': 128, 'layer_size': 4, 'dropout': 0.27574042289278133, 'momentum': 0.9910653091313444, 'nesterov': True}. Best is trial#4 with value: 0.9208266735076904.\u001b[0m\n",
      "GPU available: False, used: False\n",
      "TPU available: False, using: 0 TPU cores\n"
     ]
    },
    {
     "name": "stdout",
     "output_type": "stream",
     "text": [
      "\n"
     ]
    },
    {
     "name": "stderr",
     "output_type": "stream",
     "text": [
      "\n",
      "  | Name  | Type | Params\n",
      "-------------------------------\n",
      "0 | model | MLP  | 3 M   \n"
     ]
    },
    {
     "data": {
      "application/vnd.jupyter.widget-view+json": {
       "model_id": "",
       "version_major": 2,
       "version_minor": 0
      },
      "text/plain": [
       "HBox(children=(FloatProgress(value=1.0, bar_style='info', description='Validation sanity check', layout=Layout…"
      ]
     },
     "metadata": {},
     "output_type": "display_data"
    },
    {
     "data": {
      "application/vnd.jupyter.widget-view+json": {
       "model_id": "45c7ca701a2941a5a57fc8e83b4b854f",
       "version_major": 2,
       "version_minor": 0
      },
      "text/plain": [
       "HBox(children=(FloatProgress(value=1.0, bar_style='info', description='Training', layout=Layout(flex='2'), max…"
      ]
     },
     "metadata": {},
     "output_type": "display_data"
    },
    {
     "data": {
      "application/vnd.jupyter.widget-view+json": {
       "model_id": "",
       "version_major": 2,
       "version_minor": 0
      },
      "text/plain": [
       "HBox(children=(FloatProgress(value=1.0, bar_style='info', description='Validating', layout=Layout(flex='2'), m…"
      ]
     },
     "metadata": {},
     "output_type": "display_data"
    },
    {
     "data": {
      "application/vnd.jupyter.widget-view+json": {
       "model_id": "",
       "version_major": 2,
       "version_minor": 0
      },
      "text/plain": [
       "HBox(children=(FloatProgress(value=1.0, bar_style='info', description='Validating', layout=Layout(flex='2'), m…"
      ]
     },
     "metadata": {},
     "output_type": "display_data"
    },
    {
     "data": {
      "application/vnd.jupyter.widget-view+json": {
       "model_id": "",
       "version_major": 2,
       "version_minor": 0
      },
      "text/plain": [
       "HBox(children=(FloatProgress(value=1.0, bar_style='info', description='Validating', layout=Layout(flex='2'), m…"
      ]
     },
     "metadata": {},
     "output_type": "display_data"
    },
    {
     "data": {
      "application/vnd.jupyter.widget-view+json": {
       "model_id": "",
       "version_major": 2,
       "version_minor": 0
      },
      "text/plain": [
       "HBox(children=(FloatProgress(value=1.0, bar_style='info', description='Validating', layout=Layout(flex='2'), m…"
      ]
     },
     "metadata": {},
     "output_type": "display_data"
    },
    {
     "name": "stderr",
     "output_type": "stream",
     "text": [
      "\u001b[32m[I 2020-06-22 23:47:26,157]\u001b[0m Finished trial#5 with value: 0.9458865523338318 with parameters: {'learning_rate': 0.0009011149211580522, 'weight_decay': 0.008235695017360493, 'hidden_size': 256, 'batch_size': 16, 'layer_size': 5, 'dropout': 0.13696254402480412, 'momentum': 0.9454761908726577, 'nesterov': True}. Best is trial#5 with value: 0.9458865523338318.\u001b[0m\n"
     ]
    },
    {
     "name": "stdout",
     "output_type": "stream",
     "text": [
      "\n"
     ]
    },
    {
     "name": "stderr",
     "output_type": "stream",
     "text": [
      "GPU available: False, used: False\n",
      "TPU available: False, using: 0 TPU cores\n",
      "\n",
      "  | Name  | Type | Params\n",
      "-------------------------------\n",
      "0 | model | MLP  | 817 K \n"
     ]
    },
    {
     "data": {
      "application/vnd.jupyter.widget-view+json": {
       "model_id": "",
       "version_major": 2,
       "version_minor": 0
      },
      "text/plain": [
       "HBox(children=(FloatProgress(value=1.0, bar_style='info', description='Validation sanity check', layout=Layout…"
      ]
     },
     "metadata": {},
     "output_type": "display_data"
    },
    {
     "data": {
      "application/vnd.jupyter.widget-view+json": {
       "model_id": "1217e17ea2fe46b691fcc275483bc3a3",
       "version_major": 2,
       "version_minor": 0
      },
      "text/plain": [
       "HBox(children=(FloatProgress(value=1.0, bar_style='info', description='Training', layout=Layout(flex='2'), max…"
      ]
     },
     "metadata": {},
     "output_type": "display_data"
    },
    {
     "data": {
      "application/vnd.jupyter.widget-view+json": {
       "model_id": "",
       "version_major": 2,
       "version_minor": 0
      },
      "text/plain": [
       "HBox(children=(FloatProgress(value=1.0, bar_style='info', description='Validating', layout=Layout(flex='2'), m…"
      ]
     },
     "metadata": {},
     "output_type": "display_data"
    },
    {
     "data": {
      "application/vnd.jupyter.widget-view+json": {
       "model_id": "",
       "version_major": 2,
       "version_minor": 0
      },
      "text/plain": [
       "HBox(children=(FloatProgress(value=1.0, bar_style='info', description='Validating', layout=Layout(flex='2'), m…"
      ]
     },
     "metadata": {},
     "output_type": "display_data"
    },
    {
     "data": {
      "application/vnd.jupyter.widget-view+json": {
       "model_id": "",
       "version_major": 2,
       "version_minor": 0
      },
      "text/plain": [
       "HBox(children=(FloatProgress(value=1.0, bar_style='info', description='Validating', layout=Layout(flex='2'), m…"
      ]
     },
     "metadata": {},
     "output_type": "display_data"
    },
    {
     "data": {
      "application/vnd.jupyter.widget-view+json": {
       "model_id": "",
       "version_major": 2,
       "version_minor": 0
      },
      "text/plain": [
       "HBox(children=(FloatProgress(value=1.0, bar_style='info', description='Validating', layout=Layout(flex='2'), m…"
      ]
     },
     "metadata": {},
     "output_type": "display_data"
    },
    {
     "name": "stdout",
     "output_type": "stream",
     "text": [
      "\n"
     ]
    },
    {
     "name": "stderr",
     "output_type": "stream",
     "text": [
      "\u001b[32m[I 2020-06-22 23:49:29,151]\u001b[0m Finished trial#6 with value: 0.7892372012138367 with parameters: {'learning_rate': 0.00011431229408656762, 'weight_decay': 9.658630631397371e-05, 'hidden_size': 128, 'batch_size': 16, 'layer_size': 5, 'dropout': 0.4476176051738697, 'momentum': 0.9355278762575644, 'nesterov': True}. Best is trial#5 with value: 0.9458865523338318.\u001b[0m\n",
      "GPU available: False, used: False\n",
      "TPU available: False, using: 0 TPU cores\n",
      "\n",
      "  | Name  | Type | Params\n",
      "-------------------------------\n",
      "0 | model | MLP  | 118 K \n"
     ]
    },
    {
     "data": {
      "application/vnd.jupyter.widget-view+json": {
       "model_id": "",
       "version_major": 2,
       "version_minor": 0
      },
      "text/plain": [
       "HBox(children=(FloatProgress(value=1.0, bar_style='info', description='Validation sanity check', layout=Layout…"
      ]
     },
     "metadata": {},
     "output_type": "display_data"
    },
    {
     "data": {
      "application/vnd.jupyter.widget-view+json": {
       "model_id": "a2410e98bc9543aa902652ba4ea0520d",
       "version_major": 2,
       "version_minor": 0
      },
      "text/plain": [
       "HBox(children=(FloatProgress(value=1.0, bar_style='info', description='Training', layout=Layout(flex='2'), max…"
      ]
     },
     "metadata": {},
     "output_type": "display_data"
    },
    {
     "data": {
      "application/vnd.jupyter.widget-view+json": {
       "model_id": "",
       "version_major": 2,
       "version_minor": 0
      },
      "text/plain": [
       "HBox(children=(FloatProgress(value=1.0, bar_style='info', description='Validating', layout=Layout(flex='2'), m…"
      ]
     },
     "metadata": {},
     "output_type": "display_data"
    },
    {
     "data": {
      "application/vnd.jupyter.widget-view+json": {
       "model_id": "",
       "version_major": 2,
       "version_minor": 0
      },
      "text/plain": [
       "HBox(children=(FloatProgress(value=1.0, bar_style='info', description='Validating', layout=Layout(flex='2'), m…"
      ]
     },
     "metadata": {},
     "output_type": "display_data"
    },
    {
     "data": {
      "application/vnd.jupyter.widget-view+json": {
       "model_id": "",
       "version_major": 2,
       "version_minor": 0
      },
      "text/plain": [
       "HBox(children=(FloatProgress(value=1.0, bar_style='info', description='Validating', layout=Layout(flex='2'), m…"
      ]
     },
     "metadata": {},
     "output_type": "display_data"
    },
    {
     "data": {
      "application/vnd.jupyter.widget-view+json": {
       "model_id": "",
       "version_major": 2,
       "version_minor": 0
      },
      "text/plain": [
       "HBox(children=(FloatProgress(value=1.0, bar_style='info', description='Validating', layout=Layout(flex='2'), m…"
      ]
     },
     "metadata": {},
     "output_type": "display_data"
    },
    {
     "name": "stderr",
     "output_type": "stream",
     "text": [
      "\u001b[32m[I 2020-06-22 23:50:47,697]\u001b[0m Finished trial#7 with value: 0.8660143613815308 with parameters: {'learning_rate': 0.00011985939874632534, 'weight_decay': 0.00013574996304822177, 'hidden_size': 128, 'batch_size': 128, 'layer_size': 2, 'dropout': 0.43912042347804847, 'momentum': 0.8847775912911807, 'nesterov': False}. Best is trial#5 with value: 0.9458865523338318.\u001b[0m\n",
      "GPU available: False, used: False\n",
      "TPU available: False, using: 0 TPU cores\n",
      "\n",
      "  | Name  | Type | Params\n",
      "-------------------------------\n",
      "0 | model | MLP  | 817 K \n"
     ]
    },
    {
     "name": "stdout",
     "output_type": "stream",
     "text": [
      "\n"
     ]
    },
    {
     "data": {
      "application/vnd.jupyter.widget-view+json": {
       "model_id": "",
       "version_major": 2,
       "version_minor": 0
      },
      "text/plain": [
       "HBox(children=(FloatProgress(value=1.0, bar_style='info', description='Validation sanity check', layout=Layout…"
      ]
     },
     "metadata": {},
     "output_type": "display_data"
    },
    {
     "data": {
      "application/vnd.jupyter.widget-view+json": {
       "model_id": "c00a062a055342b3910829181ccd8727",
       "version_major": 2,
       "version_minor": 0
      },
      "text/plain": [
       "HBox(children=(FloatProgress(value=1.0, bar_style='info', description='Training', layout=Layout(flex='2'), max…"
      ]
     },
     "metadata": {},
     "output_type": "display_data"
    },
    {
     "data": {
      "application/vnd.jupyter.widget-view+json": {
       "model_id": "",
       "version_major": 2,
       "version_minor": 0
      },
      "text/plain": [
       "HBox(children=(FloatProgress(value=1.0, bar_style='info', description='Validating', layout=Layout(flex='2'), m…"
      ]
     },
     "metadata": {},
     "output_type": "display_data"
    },
    {
     "data": {
      "application/vnd.jupyter.widget-view+json": {
       "model_id": "",
       "version_major": 2,
       "version_minor": 0
      },
      "text/plain": [
       "HBox(children=(FloatProgress(value=1.0, bar_style='info', description='Validating', layout=Layout(flex='2'), m…"
      ]
     },
     "metadata": {},
     "output_type": "display_data"
    },
    {
     "data": {
      "application/vnd.jupyter.widget-view+json": {
       "model_id": "",
       "version_major": 2,
       "version_minor": 0
      },
      "text/plain": [
       "HBox(children=(FloatProgress(value=1.0, bar_style='info', description='Validating', layout=Layout(flex='2'), m…"
      ]
     },
     "metadata": {},
     "output_type": "display_data"
    },
    {
     "data": {
      "application/vnd.jupyter.widget-view+json": {
       "model_id": "",
       "version_major": 2,
       "version_minor": 0
      },
      "text/plain": [
       "HBox(children=(FloatProgress(value=1.0, bar_style='info', description='Validating', layout=Layout(flex='2'), m…"
      ]
     },
     "metadata": {},
     "output_type": "display_data"
    },
    {
     "name": "stdout",
     "output_type": "stream",
     "text": [
      "\n"
     ]
    },
    {
     "name": "stderr",
     "output_type": "stream",
     "text": [
      "\u001b[32m[I 2020-06-22 23:52:38,352]\u001b[0m Finished trial#8 with value: 0.7717651724815369 with parameters: {'learning_rate': 0.00021577654778061675, 'weight_decay': 0.00010839860995588048, 'hidden_size': 128, 'batch_size': 64, 'layer_size': 5, 'dropout': 0.32940522064176114, 'momentum': 0.8292747404960318, 'nesterov': False}. Best is trial#5 with value: 0.9458865523338318.\u001b[0m\n",
      "GPU available: False, used: False\n",
      "TPU available: False, using: 0 TPU cores\n",
      "\n",
      "  | Name  | Type | Params\n",
      "-------------------------------\n",
      "0 | model | MLP  | 6 K   \n"
     ]
    },
    {
     "data": {
      "application/vnd.jupyter.widget-view+json": {
       "model_id": "",
       "version_major": 2,
       "version_minor": 0
      },
      "text/plain": [
       "HBox(children=(FloatProgress(value=1.0, bar_style='info', description='Validation sanity check', layout=Layout…"
      ]
     },
     "metadata": {},
     "output_type": "display_data"
    },
    {
     "data": {
      "application/vnd.jupyter.widget-view+json": {
       "model_id": "9ef382d7be214fc49e536b612fcfc63e",
       "version_major": 2,
       "version_minor": 0
      },
      "text/plain": [
       "HBox(children=(FloatProgress(value=1.0, bar_style='info', description='Training', layout=Layout(flex='2'), max…"
      ]
     },
     "metadata": {},
     "output_type": "display_data"
    },
    {
     "data": {
      "application/vnd.jupyter.widget-view+json": {
       "model_id": "",
       "version_major": 2,
       "version_minor": 0
      },
      "text/plain": [
       "HBox(children=(FloatProgress(value=1.0, bar_style='info', description='Validating', layout=Layout(flex='2'), m…"
      ]
     },
     "metadata": {},
     "output_type": "display_data"
    },
    {
     "data": {
      "application/vnd.jupyter.widget-view+json": {
       "model_id": "",
       "version_major": 2,
       "version_minor": 0
      },
      "text/plain": [
       "HBox(children=(FloatProgress(value=1.0, bar_style='info', description='Validating', layout=Layout(flex='2'), m…"
      ]
     },
     "metadata": {},
     "output_type": "display_data"
    },
    {
     "data": {
      "application/vnd.jupyter.widget-view+json": {
       "model_id": "",
       "version_major": 2,
       "version_minor": 0
      },
      "text/plain": [
       "HBox(children=(FloatProgress(value=1.0, bar_style='info', description='Validating', layout=Layout(flex='2'), m…"
      ]
     },
     "metadata": {},
     "output_type": "display_data"
    },
    {
     "data": {
      "application/vnd.jupyter.widget-view+json": {
       "model_id": "",
       "version_major": 2,
       "version_minor": 0
      },
      "text/plain": [
       "HBox(children=(FloatProgress(value=1.0, bar_style='info', description='Validating', layout=Layout(flex='2'), m…"
      ]
     },
     "metadata": {},
     "output_type": "display_data"
    },
    {
     "name": "stderr",
     "output_type": "stream",
     "text": [
      "\u001b[32m[I 2020-06-22 23:53:47,373]\u001b[0m Finished trial#9 with value: 0.5784744620323181 with parameters: {'learning_rate': 0.00034234441557670246, 'weight_decay': 7.769001540971277e-05, 'hidden_size': 8, 'batch_size': 64, 'layer_size': 3, 'dropout': 0.3206051108604173, 'momentum': 0.8964296642692322, 'nesterov': False}. Best is trial#5 with value: 0.9458865523338318.\u001b[0m\n"
     ]
    },
    {
     "name": "stdout",
     "output_type": "stream",
     "text": [
      "\n",
      "Number of finished trials: 10\n",
      "Best trial:\n",
      "  Value: 0.9458865523338318\n",
      "  Params: \n",
      "    learning_rate: 0.0009011149211580522\n",
      "    weight_decay: 0.008235695017360493\n",
      "    hidden_size: 256\n",
      "    batch_size: 16\n",
      "    layer_size: 5\n",
      "    dropout: 0.13696254402480412\n",
      "    momentum: 0.9454761908726577\n",
      "    nesterov: True\n"
     ]
    }
   ],
   "source": [
    "#collapse\n",
    "study = run_study(num_trials=10)"
   ]
  },
  {
   "cell_type": "markdown",
   "metadata": {},
   "source": [
    "After the study is completed, we can export trials as a pandas data frame. This provides various features to analyze studies. It is also useful to draw a histogram of objective values and to export trials as a CSV file. \n",
    "```python\n",
    "df = study.trials_dataframe()\n",
    "```"
   ]
  },
  {
   "cell_type": "markdown",
   "metadata": {},
   "source": [
    "## Visualize study"
   ]
  },
  {
   "cell_type": "code",
   "execution_count": 27,
   "metadata": {},
   "outputs": [],
   "source": [
    "import pandas as pd\n",
    "df = study.trials_dataframe()"
   ]
  },
  {
   "cell_type": "code",
   "execution_count": 28,
   "metadata": {},
   "outputs": [
    {
     "data": {
      "text/html": [
       "<div>\n",
       "<style scoped>\n",
       "    .dataframe tbody tr th:only-of-type {\n",
       "        vertical-align: middle;\n",
       "    }\n",
       "\n",
       "    .dataframe tbody tr th {\n",
       "        vertical-align: top;\n",
       "    }\n",
       "\n",
       "    .dataframe thead th {\n",
       "        text-align: right;\n",
       "    }\n",
       "</style>\n",
       "<table border=\"1\" class=\"dataframe\">\n",
       "  <thead>\n",
       "    <tr style=\"text-align: right;\">\n",
       "      <th></th>\n",
       "      <th>number</th>\n",
       "      <th>value</th>\n",
       "      <th>datetime_start</th>\n",
       "      <th>datetime_complete</th>\n",
       "      <th>duration</th>\n",
       "      <th>params_batch_size</th>\n",
       "      <th>params_dropout</th>\n",
       "      <th>params_hidden_size</th>\n",
       "      <th>params_layer_size</th>\n",
       "      <th>params_learning_rate</th>\n",
       "      <th>params_momentum</th>\n",
       "      <th>params_nesterov</th>\n",
       "      <th>params_weight_decay</th>\n",
       "      <th>state</th>\n",
       "    </tr>\n",
       "  </thead>\n",
       "  <tbody>\n",
       "    <tr>\n",
       "      <th>0</th>\n",
       "      <td>0</td>\n",
       "      <td>0.763079</td>\n",
       "      <td>2020-06-22 23:33:43.417440</td>\n",
       "      <td>2020-06-22 23:36:32.488858</td>\n",
       "      <td>00:02:49.071418</td>\n",
       "      <td>16</td>\n",
       "      <td>0.447543</td>\n",
       "      <td>128</td>\n",
       "      <td>5</td>\n",
       "      <td>0.000278</td>\n",
       "      <td>0.834366</td>\n",
       "      <td>True</td>\n",
       "      <td>0.000268</td>\n",
       "      <td>COMPLETE</td>\n",
       "    </tr>\n",
       "    <tr>\n",
       "      <th>1</th>\n",
       "      <td>1</td>\n",
       "      <td>0.869509</td>\n",
       "      <td>2020-06-22 23:36:32.492923</td>\n",
       "      <td>2020-06-22 23:38:10.137740</td>\n",
       "      <td>00:01:37.644817</td>\n",
       "      <td>16</td>\n",
       "      <td>0.308116</td>\n",
       "      <td>128</td>\n",
       "      <td>4</td>\n",
       "      <td>0.000195</td>\n",
       "      <td>0.879268</td>\n",
       "      <td>True</td>\n",
       "      <td>0.000832</td>\n",
       "      <td>COMPLETE</td>\n",
       "    </tr>\n",
       "    <tr>\n",
       "      <th>2</th>\n",
       "      <td>2</td>\n",
       "      <td>0.542632</td>\n",
       "      <td>2020-06-22 23:38:10.139134</td>\n",
       "      <td>2020-06-22 23:39:32.720646</td>\n",
       "      <td>00:01:22.581512</td>\n",
       "      <td>128</td>\n",
       "      <td>0.405128</td>\n",
       "      <td>8</td>\n",
       "      <td>3</td>\n",
       "      <td>0.000314</td>\n",
       "      <td>0.870065</td>\n",
       "      <td>True</td>\n",
       "      <td>0.000242</td>\n",
       "      <td>COMPLETE</td>\n",
       "    </tr>\n",
       "    <tr>\n",
       "      <th>3</th>\n",
       "      <td>3</td>\n",
       "      <td>0.752196</td>\n",
       "      <td>2020-06-22 23:39:32.722697</td>\n",
       "      <td>2020-06-22 23:41:03.401500</td>\n",
       "      <td>00:01:30.678803</td>\n",
       "      <td>64</td>\n",
       "      <td>0.419907</td>\n",
       "      <td>16</td>\n",
       "      <td>4</td>\n",
       "      <td>0.000997</td>\n",
       "      <td>0.858373</td>\n",
       "      <td>False</td>\n",
       "      <td>0.001918</td>\n",
       "      <td>COMPLETE</td>\n",
       "    </tr>\n",
       "    <tr>\n",
       "      <th>4</th>\n",
       "      <td>4</td>\n",
       "      <td>0.920827</td>\n",
       "      <td>2020-06-22 23:41:03.405764</td>\n",
       "      <td>2020-06-22 23:42:18.937616</td>\n",
       "      <td>00:01:15.531852</td>\n",
       "      <td>128</td>\n",
       "      <td>0.275740</td>\n",
       "      <td>16</td>\n",
       "      <td>4</td>\n",
       "      <td>0.000322</td>\n",
       "      <td>0.991065</td>\n",
       "      <td>True</td>\n",
       "      <td>0.000246</td>\n",
       "      <td>COMPLETE</td>\n",
       "    </tr>\n",
       "    <tr>\n",
       "      <th>5</th>\n",
       "      <td>5</td>\n",
       "      <td>0.945887</td>\n",
       "      <td>2020-06-22 23:42:18.939922</td>\n",
       "      <td>2020-06-22 23:47:26.156283</td>\n",
       "      <td>00:05:07.216361</td>\n",
       "      <td>16</td>\n",
       "      <td>0.136963</td>\n",
       "      <td>256</td>\n",
       "      <td>5</td>\n",
       "      <td>0.000901</td>\n",
       "      <td>0.945476</td>\n",
       "      <td>True</td>\n",
       "      <td>0.008236</td>\n",
       "      <td>COMPLETE</td>\n",
       "    </tr>\n",
       "    <tr>\n",
       "      <th>6</th>\n",
       "      <td>6</td>\n",
       "      <td>0.789237</td>\n",
       "      <td>2020-06-22 23:47:26.158874</td>\n",
       "      <td>2020-06-22 23:49:29.150356</td>\n",
       "      <td>00:02:02.991482</td>\n",
       "      <td>16</td>\n",
       "      <td>0.447618</td>\n",
       "      <td>128</td>\n",
       "      <td>5</td>\n",
       "      <td>0.000114</td>\n",
       "      <td>0.935528</td>\n",
       "      <td>True</td>\n",
       "      <td>0.000097</td>\n",
       "      <td>COMPLETE</td>\n",
       "    </tr>\n",
       "    <tr>\n",
       "      <th>7</th>\n",
       "      <td>7</td>\n",
       "      <td>0.866014</td>\n",
       "      <td>2020-06-22 23:49:29.152156</td>\n",
       "      <td>2020-06-22 23:50:47.697022</td>\n",
       "      <td>00:01:18.544866</td>\n",
       "      <td>128</td>\n",
       "      <td>0.439120</td>\n",
       "      <td>128</td>\n",
       "      <td>2</td>\n",
       "      <td>0.000120</td>\n",
       "      <td>0.884778</td>\n",
       "      <td>False</td>\n",
       "      <td>0.000136</td>\n",
       "      <td>COMPLETE</td>\n",
       "    </tr>\n",
       "    <tr>\n",
       "      <th>8</th>\n",
       "      <td>8</td>\n",
       "      <td>0.771765</td>\n",
       "      <td>2020-06-22 23:50:47.699384</td>\n",
       "      <td>2020-06-22 23:52:38.352413</td>\n",
       "      <td>00:01:50.653029</td>\n",
       "      <td>64</td>\n",
       "      <td>0.329405</td>\n",
       "      <td>128</td>\n",
       "      <td>5</td>\n",
       "      <td>0.000216</td>\n",
       "      <td>0.829275</td>\n",
       "      <td>False</td>\n",
       "      <td>0.000108</td>\n",
       "      <td>COMPLETE</td>\n",
       "    </tr>\n",
       "    <tr>\n",
       "      <th>9</th>\n",
       "      <td>9</td>\n",
       "      <td>0.578474</td>\n",
       "      <td>2020-06-22 23:52:38.354018</td>\n",
       "      <td>2020-06-22 23:53:47.372384</td>\n",
       "      <td>00:01:09.018366</td>\n",
       "      <td>64</td>\n",
       "      <td>0.320605</td>\n",
       "      <td>8</td>\n",
       "      <td>3</td>\n",
       "      <td>0.000342</td>\n",
       "      <td>0.896430</td>\n",
       "      <td>False</td>\n",
       "      <td>0.000078</td>\n",
       "      <td>COMPLETE</td>\n",
       "    </tr>\n",
       "  </tbody>\n",
       "</table>\n",
       "</div>"
      ],
      "text/plain": [
       "   number     value             datetime_start          datetime_complete  \\\n",
       "0       0  0.763079 2020-06-22 23:33:43.417440 2020-06-22 23:36:32.488858   \n",
       "1       1  0.869509 2020-06-22 23:36:32.492923 2020-06-22 23:38:10.137740   \n",
       "2       2  0.542632 2020-06-22 23:38:10.139134 2020-06-22 23:39:32.720646   \n",
       "3       3  0.752196 2020-06-22 23:39:32.722697 2020-06-22 23:41:03.401500   \n",
       "4       4  0.920827 2020-06-22 23:41:03.405764 2020-06-22 23:42:18.937616   \n",
       "5       5  0.945887 2020-06-22 23:42:18.939922 2020-06-22 23:47:26.156283   \n",
       "6       6  0.789237 2020-06-22 23:47:26.158874 2020-06-22 23:49:29.150356   \n",
       "7       7  0.866014 2020-06-22 23:49:29.152156 2020-06-22 23:50:47.697022   \n",
       "8       8  0.771765 2020-06-22 23:50:47.699384 2020-06-22 23:52:38.352413   \n",
       "9       9  0.578474 2020-06-22 23:52:38.354018 2020-06-22 23:53:47.372384   \n",
       "\n",
       "         duration  params_batch_size  params_dropout  params_hidden_size  \\\n",
       "0 00:02:49.071418                 16        0.447543                 128   \n",
       "1 00:01:37.644817                 16        0.308116                 128   \n",
       "2 00:01:22.581512                128        0.405128                   8   \n",
       "3 00:01:30.678803                 64        0.419907                  16   \n",
       "4 00:01:15.531852                128        0.275740                  16   \n",
       "5 00:05:07.216361                 16        0.136963                 256   \n",
       "6 00:02:02.991482                 16        0.447618                 128   \n",
       "7 00:01:18.544866                128        0.439120                 128   \n",
       "8 00:01:50.653029                 64        0.329405                 128   \n",
       "9 00:01:09.018366                 64        0.320605                   8   \n",
       "\n",
       "   params_layer_size  params_learning_rate  params_momentum  params_nesterov  \\\n",
       "0                  5              0.000278         0.834366             True   \n",
       "1                  4              0.000195         0.879268             True   \n",
       "2                  3              0.000314         0.870065             True   \n",
       "3                  4              0.000997         0.858373            False   \n",
       "4                  4              0.000322         0.991065             True   \n",
       "5                  5              0.000901         0.945476             True   \n",
       "6                  5              0.000114         0.935528             True   \n",
       "7                  2              0.000120         0.884778            False   \n",
       "8                  5              0.000216         0.829275            False   \n",
       "9                  3              0.000342         0.896430            False   \n",
       "\n",
       "   params_weight_decay     state  \n",
       "0             0.000268  COMPLETE  \n",
       "1             0.000832  COMPLETE  \n",
       "2             0.000242  COMPLETE  \n",
       "3             0.001918  COMPLETE  \n",
       "4             0.000246  COMPLETE  \n",
       "5             0.008236  COMPLETE  \n",
       "6             0.000097  COMPLETE  \n",
       "7             0.000136  COMPLETE  \n",
       "8             0.000108  COMPLETE  \n",
       "9             0.000078  COMPLETE  "
      ]
     },
     "execution_count": 28,
     "metadata": {},
     "output_type": "execute_result"
    }
   ],
   "source": [
    "df"
   ]
  },
  {
   "cell_type": "code",
   "execution_count": 29,
   "metadata": {},
   "outputs": [
    {
     "data": {
      "text/plain": [
       "{'learning_rate': 0.0009011149211580522,\n",
       " 'weight_decay': 0.008235695017360493,\n",
       " 'hidden_size': 256,\n",
       " 'batch_size': 16,\n",
       " 'layer_size': 5,\n",
       " 'dropout': 0.13696254402480412,\n",
       " 'momentum': 0.9454761908726577,\n",
       " 'nesterov': True}"
      ]
     },
     "execution_count": 29,
     "metadata": {},
     "output_type": "execute_result"
    }
   ],
   "source": [
    "study.best_params"
   ]
  },
  {
   "cell_type": "code",
   "execution_count": 30,
   "metadata": {},
   "outputs": [
    {
     "data": {
      "application/vnd.plotly.v1+json": {
       "config": {
        "plotlyServerURL": "https://plot.ly"
       },
       "data": [
        {
         "type": "scatter",
         "xaxis": "x",
         "yaxis": "y"
        },
        {
         "colorbar": {
          "title": {
           "text": "Objective Value"
          }
         },
         "colorscale": [
          [
           0,
           "rgb(5,10,172)"
          ],
          [
           0.35,
           "rgb(40,60,190)"
          ],
          [
           0.5,
           "rgb(70,100,245)"
          ],
          [
           0.6,
           "rgb(90,120,245)"
          ],
          [
           0.7,
           "rgb(106,137,247)"
          ],
          [
           1,
           "rgb(220,220,220)"
          ]
         ],
         "connectgaps": true,
         "contours": {
          "coloring": "heatmap"
         },
         "hoverinfo": "none",
         "line": {
          "smoothing": 1.3
         },
         "showscale": true,
         "type": "contour",
         "x": [
          16,
          64,
          128
         ],
         "xaxis": "x9",
         "y": [
          0.13696254402480412,
          0.27574042289278133,
          0.30811559721491616,
          0.3206051108604173,
          0.32940522064176114,
          0.4051284289161241,
          0.4199071669462878,
          0.43912042347804847,
          0.4475426537245917,
          0.4476176051738697
         ],
         "yaxis": "y9",
         "z": [
          [
           0.9458865523338318,
           null,
           null
          ],
          [
           null,
           null,
           0.9208266735076904
          ],
          [
           0.8695088028907776,
           null,
           null
          ],
          [
           null,
           0.5784744620323181,
           null
          ],
          [
           null,
           0.7717651724815369,
           null
          ],
          [
           null,
           null,
           0.5426318049430847
          ],
          [
           null,
           0.7521964907646179,
           null
          ],
          [
           null,
           null,
           0.8660143613815308
          ],
          [
           0.763079047203064,
           null,
           null
          ],
          [
           0.7892372012138367,
           null,
           null
          ]
         ]
        },
        {
         "marker": {
          "color": "black"
         },
         "mode": "markers",
         "showlegend": false,
         "type": "scatter",
         "x": [
          16,
          16,
          128,
          64,
          128,
          16,
          16,
          128,
          64,
          64
         ],
         "xaxis": "x9",
         "y": [
          0.4475426537245917,
          0.30811559721491616,
          0.4051284289161241,
          0.4199071669462878,
          0.27574042289278133,
          0.13696254402480412,
          0.4476176051738697,
          0.43912042347804847,
          0.32940522064176114,
          0.3206051108604173
         ],
         "yaxis": "y9"
        },
        {
         "colorbar": {
          "title": {
           "text": "Objective Value"
          }
         },
         "colorscale": [
          [
           0,
           "rgb(5,10,172)"
          ],
          [
           0.35,
           "rgb(40,60,190)"
          ],
          [
           0.5,
           "rgb(70,100,245)"
          ],
          [
           0.6,
           "rgb(90,120,245)"
          ],
          [
           0.7,
           "rgb(106,137,247)"
          ],
          [
           1,
           "rgb(220,220,220)"
          ]
         ],
         "connectgaps": true,
         "contours": {
          "coloring": "heatmap"
         },
         "hoverinfo": "none",
         "line": {
          "smoothing": 1.3
         },
         "showscale": false,
         "type": "contour",
         "x": [
          16,
          64,
          128
         ],
         "xaxis": "x17",
         "y": [
          8,
          16,
          128,
          256
         ],
         "yaxis": "y17",
         "z": [
          [
           null,
           0.5784744620323181,
           0.5426318049430847
          ],
          [
           null,
           0.7521964907646179,
           0.9208266735076904
          ],
          [
           0.7892372012138367,
           0.7717651724815369,
           0.8660143613815308
          ],
          [
           0.9458865523338318,
           null,
           null
          ]
         ]
        },
        {
         "marker": {
          "color": "black"
         },
         "mode": "markers",
         "showlegend": false,
         "type": "scatter",
         "x": [
          16,
          16,
          128,
          64,
          128,
          16,
          16,
          128,
          64,
          64
         ],
         "xaxis": "x17",
         "y": [
          128,
          128,
          8,
          16,
          16,
          256,
          128,
          128,
          128,
          8
         ],
         "yaxis": "y17"
        },
        {
         "colorbar": {
          "title": {
           "text": "Objective Value"
          }
         },
         "colorscale": [
          [
           0,
           "rgb(5,10,172)"
          ],
          [
           0.35,
           "rgb(40,60,190)"
          ],
          [
           0.5,
           "rgb(70,100,245)"
          ],
          [
           0.6,
           "rgb(90,120,245)"
          ],
          [
           0.7,
           "rgb(106,137,247)"
          ],
          [
           1,
           "rgb(220,220,220)"
          ]
         ],
         "connectgaps": true,
         "contours": {
          "coloring": "heatmap"
         },
         "hoverinfo": "none",
         "line": {
          "smoothing": 1.3
         },
         "showscale": false,
         "type": "contour",
         "x": [
          16,
          64,
          128
         ],
         "xaxis": "x25",
         "y": [
          2,
          3,
          4,
          5
         ],
         "yaxis": "y25",
         "z": [
          [
           null,
           null,
           0.8660143613815308
          ],
          [
           null,
           0.5784744620323181,
           0.5426318049430847
          ],
          [
           0.8695088028907776,
           0.7521964907646179,
           0.9208266735076904
          ],
          [
           0.7892372012138367,
           0.7717651724815369,
           null
          ]
         ]
        },
        {
         "marker": {
          "color": "black"
         },
         "mode": "markers",
         "showlegend": false,
         "type": "scatter",
         "x": [
          16,
          16,
          128,
          64,
          128,
          16,
          16,
          128,
          64,
          64
         ],
         "xaxis": "x25",
         "y": [
          5,
          4,
          3,
          4,
          4,
          5,
          5,
          2,
          5,
          3
         ],
         "yaxis": "y25"
        },
        {
         "colorbar": {
          "title": {
           "text": "Objective Value"
          }
         },
         "colorscale": [
          [
           0,
           "rgb(5,10,172)"
          ],
          [
           0.35,
           "rgb(40,60,190)"
          ],
          [
           0.5,
           "rgb(70,100,245)"
          ],
          [
           0.6,
           "rgb(90,120,245)"
          ],
          [
           0.7,
           "rgb(106,137,247)"
          ],
          [
           1,
           "rgb(220,220,220)"
          ]
         ],
         "connectgaps": true,
         "contours": {
          "coloring": "heatmap"
         },
         "hoverinfo": "none",
         "line": {
          "smoothing": 1.3
         },
         "showscale": false,
         "type": "contour",
         "x": [
          16,
          64,
          128
         ],
         "xaxis": "x33",
         "y": [
          0.00011431229408656762,
          0.00011985939874632534,
          0.00019459451111337528,
          0.00021577654778061675,
          0.0002781761413312715,
          0.00031379768467785276,
          0.0003222124173376937,
          0.00034234441557670246,
          0.0009011149211580522,
          0.0009969827342691411
         ],
         "yaxis": "y33",
         "z": [
          [
           0.7892372012138367,
           null,
           null
          ],
          [
           null,
           null,
           0.8660143613815308
          ],
          [
           0.8695088028907776,
           null,
           null
          ],
          [
           null,
           0.7717651724815369,
           null
          ],
          [
           0.763079047203064,
           null,
           null
          ],
          [
           null,
           null,
           0.5426318049430847
          ],
          [
           null,
           null,
           0.9208266735076904
          ],
          [
           null,
           0.5784744620323181,
           null
          ],
          [
           0.9458865523338318,
           null,
           null
          ],
          [
           null,
           0.7521964907646179,
           null
          ]
         ]
        },
        {
         "marker": {
          "color": "black"
         },
         "mode": "markers",
         "showlegend": false,
         "type": "scatter",
         "x": [
          16,
          16,
          128,
          64,
          128,
          16,
          16,
          128,
          64,
          64
         ],
         "xaxis": "x33",
         "y": [
          0.0002781761413312715,
          0.00019459451111337528,
          0.00031379768467785276,
          0.0009969827342691411,
          0.0003222124173376937,
          0.0009011149211580522,
          0.00011431229408656762,
          0.00011985939874632534,
          0.00021577654778061675,
          0.00034234441557670246
         ],
         "yaxis": "y33"
        },
        {
         "colorbar": {
          "title": {
           "text": "Objective Value"
          }
         },
         "colorscale": [
          [
           0,
           "rgb(5,10,172)"
          ],
          [
           0.35,
           "rgb(40,60,190)"
          ],
          [
           0.5,
           "rgb(70,100,245)"
          ],
          [
           0.6,
           "rgb(90,120,245)"
          ],
          [
           0.7,
           "rgb(106,137,247)"
          ],
          [
           1,
           "rgb(220,220,220)"
          ]
         ],
         "connectgaps": true,
         "contours": {
          "coloring": "heatmap"
         },
         "hoverinfo": "none",
         "line": {
          "smoothing": 1.3
         },
         "showscale": false,
         "type": "contour",
         "x": [
          16,
          64,
          128
         ],
         "xaxis": "x41",
         "y": [
          0.8292747404960318,
          0.8343662356211846,
          0.8583730620569984,
          0.8700648073603755,
          0.8792675991877269,
          0.8847775912911807,
          0.8964296642692322,
          0.9355278762575644,
          0.9454761908726577,
          0.9910653091313444
         ],
         "yaxis": "y41",
         "z": [
          [
           null,
           0.7717651724815369,
           null
          ],
          [
           0.763079047203064,
           null,
           null
          ],
          [
           null,
           0.7521964907646179,
           null
          ],
          [
           null,
           null,
           0.5426318049430847
          ],
          [
           0.8695088028907776,
           null,
           null
          ],
          [
           null,
           null,
           0.8660143613815308
          ],
          [
           null,
           0.5784744620323181,
           null
          ],
          [
           0.7892372012138367,
           null,
           null
          ],
          [
           0.9458865523338318,
           null,
           null
          ],
          [
           null,
           null,
           0.9208266735076904
          ]
         ]
        },
        {
         "marker": {
          "color": "black"
         },
         "mode": "markers",
         "showlegend": false,
         "type": "scatter",
         "x": [
          16,
          16,
          128,
          64,
          128,
          16,
          16,
          128,
          64,
          64
         ],
         "xaxis": "x41",
         "y": [
          0.8343662356211846,
          0.8792675991877269,
          0.8700648073603755,
          0.8583730620569984,
          0.9910653091313444,
          0.9454761908726577,
          0.9355278762575644,
          0.8847775912911807,
          0.8292747404960318,
          0.8964296642692322
         ],
         "yaxis": "y41"
        },
        {
         "colorbar": {
          "title": {
           "text": "Objective Value"
          }
         },
         "colorscale": [
          [
           0,
           "rgb(5,10,172)"
          ],
          [
           0.35,
           "rgb(40,60,190)"
          ],
          [
           0.5,
           "rgb(70,100,245)"
          ],
          [
           0.6,
           "rgb(90,120,245)"
          ],
          [
           0.7,
           "rgb(106,137,247)"
          ],
          [
           1,
           "rgb(220,220,220)"
          ]
         ],
         "connectgaps": true,
         "contours": {
          "coloring": "heatmap"
         },
         "hoverinfo": "none",
         "line": {
          "smoothing": 1.3
         },
         "showscale": false,
         "type": "contour",
         "x": [
          16,
          64,
          128
         ],
         "xaxis": "x49",
         "y": [
          false,
          true
         ],
         "yaxis": "y49",
         "z": [
          [
           null,
           0.5784744620323181,
           0.8660143613815308
          ],
          [
           0.7892372012138367,
           null,
           0.9208266735076904
          ]
         ]
        },
        {
         "marker": {
          "color": "black"
         },
         "mode": "markers",
         "showlegend": false,
         "type": "scatter",
         "x": [
          16,
          16,
          128,
          64,
          128,
          16,
          16,
          128,
          64,
          64
         ],
         "xaxis": "x49",
         "y": [
          true,
          true,
          true,
          false,
          true,
          true,
          true,
          false,
          false,
          false
         ],
         "yaxis": "y49"
        },
        {
         "colorbar": {
          "title": {
           "text": "Objective Value"
          }
         },
         "colorscale": [
          [
           0,
           "rgb(5,10,172)"
          ],
          [
           0.35,
           "rgb(40,60,190)"
          ],
          [
           0.5,
           "rgb(70,100,245)"
          ],
          [
           0.6,
           "rgb(90,120,245)"
          ],
          [
           0.7,
           "rgb(106,137,247)"
          ],
          [
           1,
           "rgb(220,220,220)"
          ]
         ],
         "connectgaps": true,
         "contours": {
          "coloring": "heatmap"
         },
         "hoverinfo": "none",
         "line": {
          "smoothing": 1.3
         },
         "showscale": false,
         "type": "contour",
         "x": [
          16,
          64,
          128
         ],
         "xaxis": "x57",
         "y": [
          7.769001540971277e-05,
          9.658630631397371e-05,
          0.00010839860995588048,
          0.00013574996304822177,
          0.00024206467053167096,
          0.0002461730007892341,
          0.00026786709389757784,
          0.0008316437322277936,
          0.00191834042067662,
          0.008235695017360493
         ],
         "yaxis": "y57",
         "z": [
          [
           null,
           0.5784744620323181,
           null
          ],
          [
           0.7892372012138367,
           null,
           null
          ],
          [
           null,
           0.7717651724815369,
           null
          ],
          [
           null,
           null,
           0.8660143613815308
          ],
          [
           null,
           null,
           0.5426318049430847
          ],
          [
           null,
           null,
           0.9208266735076904
          ],
          [
           0.763079047203064,
           null,
           null
          ],
          [
           0.8695088028907776,
           null,
           null
          ],
          [
           null,
           0.7521964907646179,
           null
          ],
          [
           0.9458865523338318,
           null,
           null
          ]
         ]
        },
        {
         "marker": {
          "color": "black"
         },
         "mode": "markers",
         "showlegend": false,
         "type": "scatter",
         "x": [
          16,
          16,
          128,
          64,
          128,
          16,
          16,
          128,
          64,
          64
         ],
         "xaxis": "x57",
         "y": [
          0.00026786709389757784,
          0.0008316437322277936,
          0.00024206467053167096,
          0.00191834042067662,
          0.0002461730007892341,
          0.008235695017360493,
          9.658630631397371e-05,
          0.00013574996304822177,
          0.00010839860995588048,
          7.769001540971277e-05
         ],
         "yaxis": "y57"
        },
        {
         "colorbar": {
          "title": {
           "text": "Objective Value"
          }
         },
         "colorscale": [
          [
           0,
           "rgb(5,10,172)"
          ],
          [
           0.35,
           "rgb(40,60,190)"
          ],
          [
           0.5,
           "rgb(70,100,245)"
          ],
          [
           0.6,
           "rgb(90,120,245)"
          ],
          [
           0.7,
           "rgb(106,137,247)"
          ],
          [
           1,
           "rgb(220,220,220)"
          ]
         ],
         "connectgaps": true,
         "contours": {
          "coloring": "heatmap"
         },
         "hoverinfo": "none",
         "line": {
          "smoothing": 1.3
         },
         "showscale": false,
         "type": "contour",
         "x": [
          0.13696254402480412,
          0.27574042289278133,
          0.30811559721491616,
          0.3206051108604173,
          0.32940522064176114,
          0.4051284289161241,
          0.4199071669462878,
          0.43912042347804847,
          0.4475426537245917,
          0.4476176051738697
         ],
         "xaxis": "x2",
         "y": [
          16,
          64,
          128
         ],
         "yaxis": "y2",
         "z": [
          [
           0.9458865523338318,
           null,
           0.8695088028907776,
           null,
           null,
           null,
           null,
           null,
           0.763079047203064,
           0.7892372012138367
          ],
          [
           null,
           null,
           null,
           0.5784744620323181,
           0.7717651724815369,
           null,
           0.7521964907646179,
           null,
           null,
           null
          ],
          [
           null,
           0.9208266735076904,
           null,
           null,
           null,
           0.5426318049430847,
           null,
           0.8660143613815308,
           null,
           null
          ]
         ]
        },
        {
         "marker": {
          "color": "black"
         },
         "mode": "markers",
         "showlegend": false,
         "type": "scatter",
         "x": [
          0.4475426537245917,
          0.30811559721491616,
          0.4051284289161241,
          0.4199071669462878,
          0.27574042289278133,
          0.13696254402480412,
          0.4476176051738697,
          0.43912042347804847,
          0.32940522064176114,
          0.3206051108604173
         ],
         "xaxis": "x2",
         "y": [
          16,
          16,
          128,
          64,
          128,
          16,
          16,
          128,
          64,
          64
         ],
         "yaxis": "y2"
        },
        {
         "type": "scatter",
         "xaxis": "x10",
         "yaxis": "y10"
        },
        {
         "colorbar": {
          "title": {
           "text": "Objective Value"
          }
         },
         "colorscale": [
          [
           0,
           "rgb(5,10,172)"
          ],
          [
           0.35,
           "rgb(40,60,190)"
          ],
          [
           0.5,
           "rgb(70,100,245)"
          ],
          [
           0.6,
           "rgb(90,120,245)"
          ],
          [
           0.7,
           "rgb(106,137,247)"
          ],
          [
           1,
           "rgb(220,220,220)"
          ]
         ],
         "connectgaps": true,
         "contours": {
          "coloring": "heatmap"
         },
         "hoverinfo": "none",
         "line": {
          "smoothing": 1.3
         },
         "showscale": false,
         "type": "contour",
         "x": [
          0.13696254402480412,
          0.27574042289278133,
          0.30811559721491616,
          0.3206051108604173,
          0.32940522064176114,
          0.4051284289161241,
          0.4199071669462878,
          0.43912042347804847,
          0.4475426537245917,
          0.4476176051738697
         ],
         "xaxis": "x18",
         "y": [
          8,
          16,
          128,
          256
         ],
         "yaxis": "y18",
         "z": [
          [
           null,
           null,
           null,
           0.5784744620323181,
           null,
           0.5426318049430847,
           null,
           null,
           null,
           null
          ],
          [
           null,
           0.9208266735076904,
           null,
           null,
           null,
           null,
           0.7521964907646179,
           null,
           null,
           null
          ],
          [
           null,
           null,
           0.8695088028907776,
           null,
           0.7717651724815369,
           null,
           null,
           0.8660143613815308,
           0.763079047203064,
           0.7892372012138367
          ],
          [
           0.9458865523338318,
           null,
           null,
           null,
           null,
           null,
           null,
           null,
           null,
           null
          ]
         ]
        },
        {
         "marker": {
          "color": "black"
         },
         "mode": "markers",
         "showlegend": false,
         "type": "scatter",
         "x": [
          0.4475426537245917,
          0.30811559721491616,
          0.4051284289161241,
          0.4199071669462878,
          0.27574042289278133,
          0.13696254402480412,
          0.4476176051738697,
          0.43912042347804847,
          0.32940522064176114,
          0.3206051108604173
         ],
         "xaxis": "x18",
         "y": [
          128,
          128,
          8,
          16,
          16,
          256,
          128,
          128,
          128,
          8
         ],
         "yaxis": "y18"
        },
        {
         "colorbar": {
          "title": {
           "text": "Objective Value"
          }
         },
         "colorscale": [
          [
           0,
           "rgb(5,10,172)"
          ],
          [
           0.35,
           "rgb(40,60,190)"
          ],
          [
           0.5,
           "rgb(70,100,245)"
          ],
          [
           0.6,
           "rgb(90,120,245)"
          ],
          [
           0.7,
           "rgb(106,137,247)"
          ],
          [
           1,
           "rgb(220,220,220)"
          ]
         ],
         "connectgaps": true,
         "contours": {
          "coloring": "heatmap"
         },
         "hoverinfo": "none",
         "line": {
          "smoothing": 1.3
         },
         "showscale": false,
         "type": "contour",
         "x": [
          0.13696254402480412,
          0.27574042289278133,
          0.30811559721491616,
          0.3206051108604173,
          0.32940522064176114,
          0.4051284289161241,
          0.4199071669462878,
          0.43912042347804847,
          0.4475426537245917,
          0.4476176051738697
         ],
         "xaxis": "x26",
         "y": [
          2,
          3,
          4,
          5
         ],
         "yaxis": "y26",
         "z": [
          [
           null,
           null,
           null,
           null,
           null,
           null,
           null,
           0.8660143613815308,
           null,
           null
          ],
          [
           null,
           null,
           null,
           0.5784744620323181,
           null,
           0.5426318049430847,
           null,
           null,
           null,
           null
          ],
          [
           null,
           0.9208266735076904,
           0.8695088028907776,
           null,
           null,
           null,
           0.7521964907646179,
           null,
           null,
           null
          ],
          [
           0.9458865523338318,
           null,
           null,
           null,
           0.7717651724815369,
           null,
           null,
           null,
           0.763079047203064,
           0.7892372012138367
          ]
         ]
        },
        {
         "marker": {
          "color": "black"
         },
         "mode": "markers",
         "showlegend": false,
         "type": "scatter",
         "x": [
          0.4475426537245917,
          0.30811559721491616,
          0.4051284289161241,
          0.4199071669462878,
          0.27574042289278133,
          0.13696254402480412,
          0.4476176051738697,
          0.43912042347804847,
          0.32940522064176114,
          0.3206051108604173
         ],
         "xaxis": "x26",
         "y": [
          5,
          4,
          3,
          4,
          4,
          5,
          5,
          2,
          5,
          3
         ],
         "yaxis": "y26"
        },
        {
         "colorbar": {
          "title": {
           "text": "Objective Value"
          }
         },
         "colorscale": [
          [
           0,
           "rgb(5,10,172)"
          ],
          [
           0.35,
           "rgb(40,60,190)"
          ],
          [
           0.5,
           "rgb(70,100,245)"
          ],
          [
           0.6,
           "rgb(90,120,245)"
          ],
          [
           0.7,
           "rgb(106,137,247)"
          ],
          [
           1,
           "rgb(220,220,220)"
          ]
         ],
         "connectgaps": true,
         "contours": {
          "coloring": "heatmap"
         },
         "hoverinfo": "none",
         "line": {
          "smoothing": 1.3
         },
         "showscale": false,
         "type": "contour",
         "x": [
          0.13696254402480412,
          0.27574042289278133,
          0.30811559721491616,
          0.3206051108604173,
          0.32940522064176114,
          0.4051284289161241,
          0.4199071669462878,
          0.43912042347804847,
          0.4475426537245917,
          0.4476176051738697
         ],
         "xaxis": "x34",
         "y": [
          0.00011431229408656762,
          0.00011985939874632534,
          0.00019459451111337528,
          0.00021577654778061675,
          0.0002781761413312715,
          0.00031379768467785276,
          0.0003222124173376937,
          0.00034234441557670246,
          0.0009011149211580522,
          0.0009969827342691411
         ],
         "yaxis": "y34",
         "z": [
          [
           null,
           null,
           null,
           null,
           null,
           null,
           null,
           null,
           null,
           0.7892372012138367
          ],
          [
           null,
           null,
           null,
           null,
           null,
           null,
           null,
           0.8660143613815308,
           null,
           null
          ],
          [
           null,
           null,
           0.8695088028907776,
           null,
           null,
           null,
           null,
           null,
           null,
           null
          ],
          [
           null,
           null,
           null,
           null,
           0.7717651724815369,
           null,
           null,
           null,
           null,
           null
          ],
          [
           null,
           null,
           null,
           null,
           null,
           null,
           null,
           null,
           0.763079047203064,
           null
          ],
          [
           null,
           null,
           null,
           null,
           null,
           0.5426318049430847,
           null,
           null,
           null,
           null
          ],
          [
           null,
           0.9208266735076904,
           null,
           null,
           null,
           null,
           null,
           null,
           null,
           null
          ],
          [
           null,
           null,
           null,
           0.5784744620323181,
           null,
           null,
           null,
           null,
           null,
           null
          ],
          [
           0.9458865523338318,
           null,
           null,
           null,
           null,
           null,
           null,
           null,
           null,
           null
          ],
          [
           null,
           null,
           null,
           null,
           null,
           null,
           0.7521964907646179,
           null,
           null,
           null
          ]
         ]
        },
        {
         "marker": {
          "color": "black"
         },
         "mode": "markers",
         "showlegend": false,
         "type": "scatter",
         "x": [
          0.4475426537245917,
          0.30811559721491616,
          0.4051284289161241,
          0.4199071669462878,
          0.27574042289278133,
          0.13696254402480412,
          0.4476176051738697,
          0.43912042347804847,
          0.32940522064176114,
          0.3206051108604173
         ],
         "xaxis": "x34",
         "y": [
          0.0002781761413312715,
          0.00019459451111337528,
          0.00031379768467785276,
          0.0009969827342691411,
          0.0003222124173376937,
          0.0009011149211580522,
          0.00011431229408656762,
          0.00011985939874632534,
          0.00021577654778061675,
          0.00034234441557670246
         ],
         "yaxis": "y34"
        },
        {
         "colorbar": {
          "title": {
           "text": "Objective Value"
          }
         },
         "colorscale": [
          [
           0,
           "rgb(5,10,172)"
          ],
          [
           0.35,
           "rgb(40,60,190)"
          ],
          [
           0.5,
           "rgb(70,100,245)"
          ],
          [
           0.6,
           "rgb(90,120,245)"
          ],
          [
           0.7,
           "rgb(106,137,247)"
          ],
          [
           1,
           "rgb(220,220,220)"
          ]
         ],
         "connectgaps": true,
         "contours": {
          "coloring": "heatmap"
         },
         "hoverinfo": "none",
         "line": {
          "smoothing": 1.3
         },
         "showscale": false,
         "type": "contour",
         "x": [
          0.13696254402480412,
          0.27574042289278133,
          0.30811559721491616,
          0.3206051108604173,
          0.32940522064176114,
          0.4051284289161241,
          0.4199071669462878,
          0.43912042347804847,
          0.4475426537245917,
          0.4476176051738697
         ],
         "xaxis": "x42",
         "y": [
          0.8292747404960318,
          0.8343662356211846,
          0.8583730620569984,
          0.8700648073603755,
          0.8792675991877269,
          0.8847775912911807,
          0.8964296642692322,
          0.9355278762575644,
          0.9454761908726577,
          0.9910653091313444
         ],
         "yaxis": "y42",
         "z": [
          [
           null,
           null,
           null,
           null,
           0.7717651724815369,
           null,
           null,
           null,
           null,
           null
          ],
          [
           null,
           null,
           null,
           null,
           null,
           null,
           null,
           null,
           0.763079047203064,
           null
          ],
          [
           null,
           null,
           null,
           null,
           null,
           null,
           0.7521964907646179,
           null,
           null,
           null
          ],
          [
           null,
           null,
           null,
           null,
           null,
           0.5426318049430847,
           null,
           null,
           null,
           null
          ],
          [
           null,
           null,
           0.8695088028907776,
           null,
           null,
           null,
           null,
           null,
           null,
           null
          ],
          [
           null,
           null,
           null,
           null,
           null,
           null,
           null,
           0.8660143613815308,
           null,
           null
          ],
          [
           null,
           null,
           null,
           0.5784744620323181,
           null,
           null,
           null,
           null,
           null,
           null
          ],
          [
           null,
           null,
           null,
           null,
           null,
           null,
           null,
           null,
           null,
           0.7892372012138367
          ],
          [
           0.9458865523338318,
           null,
           null,
           null,
           null,
           null,
           null,
           null,
           null,
           null
          ],
          [
           null,
           0.9208266735076904,
           null,
           null,
           null,
           null,
           null,
           null,
           null,
           null
          ]
         ]
        },
        {
         "marker": {
          "color": "black"
         },
         "mode": "markers",
         "showlegend": false,
         "type": "scatter",
         "x": [
          0.4475426537245917,
          0.30811559721491616,
          0.4051284289161241,
          0.4199071669462878,
          0.27574042289278133,
          0.13696254402480412,
          0.4476176051738697,
          0.43912042347804847,
          0.32940522064176114,
          0.3206051108604173
         ],
         "xaxis": "x42",
         "y": [
          0.8343662356211846,
          0.8792675991877269,
          0.8700648073603755,
          0.8583730620569984,
          0.9910653091313444,
          0.9454761908726577,
          0.9355278762575644,
          0.8847775912911807,
          0.8292747404960318,
          0.8964296642692322
         ],
         "yaxis": "y42"
        },
        {
         "colorbar": {
          "title": {
           "text": "Objective Value"
          }
         },
         "colorscale": [
          [
           0,
           "rgb(5,10,172)"
          ],
          [
           0.35,
           "rgb(40,60,190)"
          ],
          [
           0.5,
           "rgb(70,100,245)"
          ],
          [
           0.6,
           "rgb(90,120,245)"
          ],
          [
           0.7,
           "rgb(106,137,247)"
          ],
          [
           1,
           "rgb(220,220,220)"
          ]
         ],
         "connectgaps": true,
         "contours": {
          "coloring": "heatmap"
         },
         "hoverinfo": "none",
         "line": {
          "smoothing": 1.3
         },
         "showscale": false,
         "type": "contour",
         "x": [
          0.13696254402480412,
          0.27574042289278133,
          0.30811559721491616,
          0.3206051108604173,
          0.32940522064176114,
          0.4051284289161241,
          0.4199071669462878,
          0.43912042347804847,
          0.4475426537245917,
          0.4476176051738697
         ],
         "xaxis": "x50",
         "y": [
          false,
          true
         ],
         "yaxis": "y50",
         "z": [
          [
           null,
           null,
           null,
           0.5784744620323181,
           0.7717651724815369,
           null,
           0.7521964907646179,
           0.8660143613815308,
           null,
           null
          ],
          [
           0.9458865523338318,
           0.9208266735076904,
           0.8695088028907776,
           null,
           null,
           0.5426318049430847,
           null,
           null,
           0.763079047203064,
           0.7892372012138367
          ]
         ]
        },
        {
         "marker": {
          "color": "black"
         },
         "mode": "markers",
         "showlegend": false,
         "type": "scatter",
         "x": [
          0.4475426537245917,
          0.30811559721491616,
          0.4051284289161241,
          0.4199071669462878,
          0.27574042289278133,
          0.13696254402480412,
          0.4476176051738697,
          0.43912042347804847,
          0.32940522064176114,
          0.3206051108604173
         ],
         "xaxis": "x50",
         "y": [
          true,
          true,
          true,
          false,
          true,
          true,
          true,
          false,
          false,
          false
         ],
         "yaxis": "y50"
        },
        {
         "colorbar": {
          "title": {
           "text": "Objective Value"
          }
         },
         "colorscale": [
          [
           0,
           "rgb(5,10,172)"
          ],
          [
           0.35,
           "rgb(40,60,190)"
          ],
          [
           0.5,
           "rgb(70,100,245)"
          ],
          [
           0.6,
           "rgb(90,120,245)"
          ],
          [
           0.7,
           "rgb(106,137,247)"
          ],
          [
           1,
           "rgb(220,220,220)"
          ]
         ],
         "connectgaps": true,
         "contours": {
          "coloring": "heatmap"
         },
         "hoverinfo": "none",
         "line": {
          "smoothing": 1.3
         },
         "showscale": false,
         "type": "contour",
         "x": [
          0.13696254402480412,
          0.27574042289278133,
          0.30811559721491616,
          0.3206051108604173,
          0.32940522064176114,
          0.4051284289161241,
          0.4199071669462878,
          0.43912042347804847,
          0.4475426537245917,
          0.4476176051738697
         ],
         "xaxis": "x58",
         "y": [
          7.769001540971277e-05,
          9.658630631397371e-05,
          0.00010839860995588048,
          0.00013574996304822177,
          0.00024206467053167096,
          0.0002461730007892341,
          0.00026786709389757784,
          0.0008316437322277936,
          0.00191834042067662,
          0.008235695017360493
         ],
         "yaxis": "y58",
         "z": [
          [
           null,
           null,
           null,
           0.5784744620323181,
           null,
           null,
           null,
           null,
           null,
           null
          ],
          [
           null,
           null,
           null,
           null,
           null,
           null,
           null,
           null,
           null,
           0.7892372012138367
          ],
          [
           null,
           null,
           null,
           null,
           0.7717651724815369,
           null,
           null,
           null,
           null,
           null
          ],
          [
           null,
           null,
           null,
           null,
           null,
           null,
           null,
           0.8660143613815308,
           null,
           null
          ],
          [
           null,
           null,
           null,
           null,
           null,
           0.5426318049430847,
           null,
           null,
           null,
           null
          ],
          [
           null,
           0.9208266735076904,
           null,
           null,
           null,
           null,
           null,
           null,
           null,
           null
          ],
          [
           null,
           null,
           null,
           null,
           null,
           null,
           null,
           null,
           0.763079047203064,
           null
          ],
          [
           null,
           null,
           0.8695088028907776,
           null,
           null,
           null,
           null,
           null,
           null,
           null
          ],
          [
           null,
           null,
           null,
           null,
           null,
           null,
           0.7521964907646179,
           null,
           null,
           null
          ],
          [
           0.9458865523338318,
           null,
           null,
           null,
           null,
           null,
           null,
           null,
           null,
           null
          ]
         ]
        },
        {
         "marker": {
          "color": "black"
         },
         "mode": "markers",
         "showlegend": false,
         "type": "scatter",
         "x": [
          0.4475426537245917,
          0.30811559721491616,
          0.4051284289161241,
          0.4199071669462878,
          0.27574042289278133,
          0.13696254402480412,
          0.4476176051738697,
          0.43912042347804847,
          0.32940522064176114,
          0.3206051108604173
         ],
         "xaxis": "x58",
         "y": [
          0.00026786709389757784,
          0.0008316437322277936,
          0.00024206467053167096,
          0.00191834042067662,
          0.0002461730007892341,
          0.008235695017360493,
          9.658630631397371e-05,
          0.00013574996304822177,
          0.00010839860995588048,
          7.769001540971277e-05
         ],
         "yaxis": "y58"
        },
        {
         "colorbar": {
          "title": {
           "text": "Objective Value"
          }
         },
         "colorscale": [
          [
           0,
           "rgb(5,10,172)"
          ],
          [
           0.35,
           "rgb(40,60,190)"
          ],
          [
           0.5,
           "rgb(70,100,245)"
          ],
          [
           0.6,
           "rgb(90,120,245)"
          ],
          [
           0.7,
           "rgb(106,137,247)"
          ],
          [
           1,
           "rgb(220,220,220)"
          ]
         ],
         "connectgaps": true,
         "contours": {
          "coloring": "heatmap"
         },
         "hoverinfo": "none",
         "line": {
          "smoothing": 1.3
         },
         "showscale": false,
         "type": "contour",
         "x": [
          8,
          16,
          128,
          256
         ],
         "xaxis": "x3",
         "y": [
          16,
          64,
          128
         ],
         "yaxis": "y3",
         "z": [
          [
           null,
           null,
           0.7892372012138367,
           0.9458865523338318
          ],
          [
           0.5784744620323181,
           0.7521964907646179,
           0.7717651724815369,
           null
          ],
          [
           0.5426318049430847,
           0.9208266735076904,
           0.8660143613815308,
           null
          ]
         ]
        },
        {
         "marker": {
          "color": "black"
         },
         "mode": "markers",
         "showlegend": false,
         "type": "scatter",
         "x": [
          128,
          128,
          8,
          16,
          16,
          256,
          128,
          128,
          128,
          8
         ],
         "xaxis": "x3",
         "y": [
          16,
          16,
          128,
          64,
          128,
          16,
          16,
          128,
          64,
          64
         ],
         "yaxis": "y3"
        },
        {
         "colorbar": {
          "title": {
           "text": "Objective Value"
          }
         },
         "colorscale": [
          [
           0,
           "rgb(5,10,172)"
          ],
          [
           0.35,
           "rgb(40,60,190)"
          ],
          [
           0.5,
           "rgb(70,100,245)"
          ],
          [
           0.6,
           "rgb(90,120,245)"
          ],
          [
           0.7,
           "rgb(106,137,247)"
          ],
          [
           1,
           "rgb(220,220,220)"
          ]
         ],
         "connectgaps": true,
         "contours": {
          "coloring": "heatmap"
         },
         "hoverinfo": "none",
         "line": {
          "smoothing": 1.3
         },
         "showscale": false,
         "type": "contour",
         "x": [
          8,
          16,
          128,
          256
         ],
         "xaxis": "x11",
         "y": [
          0.13696254402480412,
          0.27574042289278133,
          0.30811559721491616,
          0.3206051108604173,
          0.32940522064176114,
          0.4051284289161241,
          0.4199071669462878,
          0.43912042347804847,
          0.4475426537245917,
          0.4476176051738697
         ],
         "yaxis": "y11",
         "z": [
          [
           null,
           null,
           null,
           0.9458865523338318
          ],
          [
           null,
           0.9208266735076904,
           null,
           null
          ],
          [
           null,
           null,
           0.8695088028907776,
           null
          ],
          [
           0.5784744620323181,
           null,
           null,
           null
          ],
          [
           null,
           null,
           0.7717651724815369,
           null
          ],
          [
           0.5426318049430847,
           null,
           null,
           null
          ],
          [
           null,
           0.7521964907646179,
           null,
           null
          ],
          [
           null,
           null,
           0.8660143613815308,
           null
          ],
          [
           null,
           null,
           0.763079047203064,
           null
          ],
          [
           null,
           null,
           0.7892372012138367,
           null
          ]
         ]
        },
        {
         "marker": {
          "color": "black"
         },
         "mode": "markers",
         "showlegend": false,
         "type": "scatter",
         "x": [
          128,
          128,
          8,
          16,
          16,
          256,
          128,
          128,
          128,
          8
         ],
         "xaxis": "x11",
         "y": [
          0.4475426537245917,
          0.30811559721491616,
          0.4051284289161241,
          0.4199071669462878,
          0.27574042289278133,
          0.13696254402480412,
          0.4476176051738697,
          0.43912042347804847,
          0.32940522064176114,
          0.3206051108604173
         ],
         "yaxis": "y11"
        },
        {
         "type": "scatter",
         "xaxis": "x19",
         "yaxis": "y19"
        },
        {
         "colorbar": {
          "title": {
           "text": "Objective Value"
          }
         },
         "colorscale": [
          [
           0,
           "rgb(5,10,172)"
          ],
          [
           0.35,
           "rgb(40,60,190)"
          ],
          [
           0.5,
           "rgb(70,100,245)"
          ],
          [
           0.6,
           "rgb(90,120,245)"
          ],
          [
           0.7,
           "rgb(106,137,247)"
          ],
          [
           1,
           "rgb(220,220,220)"
          ]
         ],
         "connectgaps": true,
         "contours": {
          "coloring": "heatmap"
         },
         "hoverinfo": "none",
         "line": {
          "smoothing": 1.3
         },
         "showscale": false,
         "type": "contour",
         "x": [
          8,
          16,
          128,
          256
         ],
         "xaxis": "x27",
         "y": [
          2,
          3,
          4,
          5
         ],
         "yaxis": "y27",
         "z": [
          [
           null,
           null,
           0.8660143613815308,
           null
          ],
          [
           0.5784744620323181,
           null,
           null,
           null
          ],
          [
           null,
           0.9208266735076904,
           0.8695088028907776,
           null
          ],
          [
           null,
           null,
           0.7717651724815369,
           0.9458865523338318
          ]
         ]
        },
        {
         "marker": {
          "color": "black"
         },
         "mode": "markers",
         "showlegend": false,
         "type": "scatter",
         "x": [
          128,
          128,
          8,
          16,
          16,
          256,
          128,
          128,
          128,
          8
         ],
         "xaxis": "x27",
         "y": [
          5,
          4,
          3,
          4,
          4,
          5,
          5,
          2,
          5,
          3
         ],
         "yaxis": "y27"
        },
        {
         "colorbar": {
          "title": {
           "text": "Objective Value"
          }
         },
         "colorscale": [
          [
           0,
           "rgb(5,10,172)"
          ],
          [
           0.35,
           "rgb(40,60,190)"
          ],
          [
           0.5,
           "rgb(70,100,245)"
          ],
          [
           0.6,
           "rgb(90,120,245)"
          ],
          [
           0.7,
           "rgb(106,137,247)"
          ],
          [
           1,
           "rgb(220,220,220)"
          ]
         ],
         "connectgaps": true,
         "contours": {
          "coloring": "heatmap"
         },
         "hoverinfo": "none",
         "line": {
          "smoothing": 1.3
         },
         "showscale": false,
         "type": "contour",
         "x": [
          8,
          16,
          128,
          256
         ],
         "xaxis": "x35",
         "y": [
          0.00011431229408656762,
          0.00011985939874632534,
          0.00019459451111337528,
          0.00021577654778061675,
          0.0002781761413312715,
          0.00031379768467785276,
          0.0003222124173376937,
          0.00034234441557670246,
          0.0009011149211580522,
          0.0009969827342691411
         ],
         "yaxis": "y35",
         "z": [
          [
           null,
           null,
           0.7892372012138367,
           null
          ],
          [
           null,
           null,
           0.8660143613815308,
           null
          ],
          [
           null,
           null,
           0.8695088028907776,
           null
          ],
          [
           null,
           null,
           0.7717651724815369,
           null
          ],
          [
           null,
           null,
           0.763079047203064,
           null
          ],
          [
           0.5426318049430847,
           null,
           null,
           null
          ],
          [
           null,
           0.9208266735076904,
           null,
           null
          ],
          [
           0.5784744620323181,
           null,
           null,
           null
          ],
          [
           null,
           null,
           null,
           0.9458865523338318
          ],
          [
           null,
           0.7521964907646179,
           null,
           null
          ]
         ]
        },
        {
         "marker": {
          "color": "black"
         },
         "mode": "markers",
         "showlegend": false,
         "type": "scatter",
         "x": [
          128,
          128,
          8,
          16,
          16,
          256,
          128,
          128,
          128,
          8
         ],
         "xaxis": "x35",
         "y": [
          0.0002781761413312715,
          0.00019459451111337528,
          0.00031379768467785276,
          0.0009969827342691411,
          0.0003222124173376937,
          0.0009011149211580522,
          0.00011431229408656762,
          0.00011985939874632534,
          0.00021577654778061675,
          0.00034234441557670246
         ],
         "yaxis": "y35"
        },
        {
         "colorbar": {
          "title": {
           "text": "Objective Value"
          }
         },
         "colorscale": [
          [
           0,
           "rgb(5,10,172)"
          ],
          [
           0.35,
           "rgb(40,60,190)"
          ],
          [
           0.5,
           "rgb(70,100,245)"
          ],
          [
           0.6,
           "rgb(90,120,245)"
          ],
          [
           0.7,
           "rgb(106,137,247)"
          ],
          [
           1,
           "rgb(220,220,220)"
          ]
         ],
         "connectgaps": true,
         "contours": {
          "coloring": "heatmap"
         },
         "hoverinfo": "none",
         "line": {
          "smoothing": 1.3
         },
         "showscale": false,
         "type": "contour",
         "x": [
          8,
          16,
          128,
          256
         ],
         "xaxis": "x43",
         "y": [
          0.8292747404960318,
          0.8343662356211846,
          0.8583730620569984,
          0.8700648073603755,
          0.8792675991877269,
          0.8847775912911807,
          0.8964296642692322,
          0.9355278762575644,
          0.9454761908726577,
          0.9910653091313444
         ],
         "yaxis": "y43",
         "z": [
          [
           null,
           null,
           0.7717651724815369,
           null
          ],
          [
           null,
           null,
           0.763079047203064,
           null
          ],
          [
           null,
           0.7521964907646179,
           null,
           null
          ],
          [
           0.5426318049430847,
           null,
           null,
           null
          ],
          [
           null,
           null,
           0.8695088028907776,
           null
          ],
          [
           null,
           null,
           0.8660143613815308,
           null
          ],
          [
           0.5784744620323181,
           null,
           null,
           null
          ],
          [
           null,
           null,
           0.7892372012138367,
           null
          ],
          [
           null,
           null,
           null,
           0.9458865523338318
          ],
          [
           null,
           0.9208266735076904,
           null,
           null
          ]
         ]
        },
        {
         "marker": {
          "color": "black"
         },
         "mode": "markers",
         "showlegend": false,
         "type": "scatter",
         "x": [
          128,
          128,
          8,
          16,
          16,
          256,
          128,
          128,
          128,
          8
         ],
         "xaxis": "x43",
         "y": [
          0.8343662356211846,
          0.8792675991877269,
          0.8700648073603755,
          0.8583730620569984,
          0.9910653091313444,
          0.9454761908726577,
          0.9355278762575644,
          0.8847775912911807,
          0.8292747404960318,
          0.8964296642692322
         ],
         "yaxis": "y43"
        },
        {
         "colorbar": {
          "title": {
           "text": "Objective Value"
          }
         },
         "colorscale": [
          [
           0,
           "rgb(5,10,172)"
          ],
          [
           0.35,
           "rgb(40,60,190)"
          ],
          [
           0.5,
           "rgb(70,100,245)"
          ],
          [
           0.6,
           "rgb(90,120,245)"
          ],
          [
           0.7,
           "rgb(106,137,247)"
          ],
          [
           1,
           "rgb(220,220,220)"
          ]
         ],
         "connectgaps": true,
         "contours": {
          "coloring": "heatmap"
         },
         "hoverinfo": "none",
         "line": {
          "smoothing": 1.3
         },
         "showscale": false,
         "type": "contour",
         "x": [
          8,
          16,
          128,
          256
         ],
         "xaxis": "x51",
         "y": [
          false,
          true
         ],
         "yaxis": "y51",
         "z": [
          [
           0.5784744620323181,
           0.7521964907646179,
           0.7717651724815369,
           null
          ],
          [
           0.5426318049430847,
           0.9208266735076904,
           0.7892372012138367,
           0.9458865523338318
          ]
         ]
        },
        {
         "marker": {
          "color": "black"
         },
         "mode": "markers",
         "showlegend": false,
         "type": "scatter",
         "x": [
          128,
          128,
          8,
          16,
          16,
          256,
          128,
          128,
          128,
          8
         ],
         "xaxis": "x51",
         "y": [
          true,
          true,
          true,
          false,
          true,
          true,
          true,
          false,
          false,
          false
         ],
         "yaxis": "y51"
        },
        {
         "colorbar": {
          "title": {
           "text": "Objective Value"
          }
         },
         "colorscale": [
          [
           0,
           "rgb(5,10,172)"
          ],
          [
           0.35,
           "rgb(40,60,190)"
          ],
          [
           0.5,
           "rgb(70,100,245)"
          ],
          [
           0.6,
           "rgb(90,120,245)"
          ],
          [
           0.7,
           "rgb(106,137,247)"
          ],
          [
           1,
           "rgb(220,220,220)"
          ]
         ],
         "connectgaps": true,
         "contours": {
          "coloring": "heatmap"
         },
         "hoverinfo": "none",
         "line": {
          "smoothing": 1.3
         },
         "showscale": false,
         "type": "contour",
         "x": [
          8,
          16,
          128,
          256
         ],
         "xaxis": "x59",
         "y": [
          7.769001540971277e-05,
          9.658630631397371e-05,
          0.00010839860995588048,
          0.00013574996304822177,
          0.00024206467053167096,
          0.0002461730007892341,
          0.00026786709389757784,
          0.0008316437322277936,
          0.00191834042067662,
          0.008235695017360493
         ],
         "yaxis": "y59",
         "z": [
          [
           0.5784744620323181,
           null,
           null,
           null
          ],
          [
           null,
           null,
           0.7892372012138367,
           null
          ],
          [
           null,
           null,
           0.7717651724815369,
           null
          ],
          [
           null,
           null,
           0.8660143613815308,
           null
          ],
          [
           0.5426318049430847,
           null,
           null,
           null
          ],
          [
           null,
           0.9208266735076904,
           null,
           null
          ],
          [
           null,
           null,
           0.763079047203064,
           null
          ],
          [
           null,
           null,
           0.8695088028907776,
           null
          ],
          [
           null,
           0.7521964907646179,
           null,
           null
          ],
          [
           null,
           null,
           null,
           0.9458865523338318
          ]
         ]
        },
        {
         "marker": {
          "color": "black"
         },
         "mode": "markers",
         "showlegend": false,
         "type": "scatter",
         "x": [
          128,
          128,
          8,
          16,
          16,
          256,
          128,
          128,
          128,
          8
         ],
         "xaxis": "x59",
         "y": [
          0.00026786709389757784,
          0.0008316437322277936,
          0.00024206467053167096,
          0.00191834042067662,
          0.0002461730007892341,
          0.008235695017360493,
          9.658630631397371e-05,
          0.00013574996304822177,
          0.00010839860995588048,
          7.769001540971277e-05
         ],
         "yaxis": "y59"
        },
        {
         "colorbar": {
          "title": {
           "text": "Objective Value"
          }
         },
         "colorscale": [
          [
           0,
           "rgb(5,10,172)"
          ],
          [
           0.35,
           "rgb(40,60,190)"
          ],
          [
           0.5,
           "rgb(70,100,245)"
          ],
          [
           0.6,
           "rgb(90,120,245)"
          ],
          [
           0.7,
           "rgb(106,137,247)"
          ],
          [
           1,
           "rgb(220,220,220)"
          ]
         ],
         "connectgaps": true,
         "contours": {
          "coloring": "heatmap"
         },
         "hoverinfo": "none",
         "line": {
          "smoothing": 1.3
         },
         "showscale": false,
         "type": "contour",
         "x": [
          2,
          3,
          4,
          5
         ],
         "xaxis": "x4",
         "y": [
          16,
          64,
          128
         ],
         "yaxis": "y4",
         "z": [
          [
           null,
           null,
           0.8695088028907776,
           0.7892372012138367
          ],
          [
           null,
           0.5784744620323181,
           0.7521964907646179,
           0.7717651724815369
          ],
          [
           0.8660143613815308,
           0.5426318049430847,
           0.9208266735076904,
           null
          ]
         ]
        },
        {
         "marker": {
          "color": "black"
         },
         "mode": "markers",
         "showlegend": false,
         "type": "scatter",
         "x": [
          5,
          4,
          3,
          4,
          4,
          5,
          5,
          2,
          5,
          3
         ],
         "xaxis": "x4",
         "y": [
          16,
          16,
          128,
          64,
          128,
          16,
          16,
          128,
          64,
          64
         ],
         "yaxis": "y4"
        },
        {
         "colorbar": {
          "title": {
           "text": "Objective Value"
          }
         },
         "colorscale": [
          [
           0,
           "rgb(5,10,172)"
          ],
          [
           0.35,
           "rgb(40,60,190)"
          ],
          [
           0.5,
           "rgb(70,100,245)"
          ],
          [
           0.6,
           "rgb(90,120,245)"
          ],
          [
           0.7,
           "rgb(106,137,247)"
          ],
          [
           1,
           "rgb(220,220,220)"
          ]
         ],
         "connectgaps": true,
         "contours": {
          "coloring": "heatmap"
         },
         "hoverinfo": "none",
         "line": {
          "smoothing": 1.3
         },
         "showscale": false,
         "type": "contour",
         "x": [
          2,
          3,
          4,
          5
         ],
         "xaxis": "x12",
         "y": [
          0.13696254402480412,
          0.27574042289278133,
          0.30811559721491616,
          0.3206051108604173,
          0.32940522064176114,
          0.4051284289161241,
          0.4199071669462878,
          0.43912042347804847,
          0.4475426537245917,
          0.4476176051738697
         ],
         "yaxis": "y12",
         "z": [
          [
           null,
           null,
           null,
           0.9458865523338318
          ],
          [
           null,
           null,
           0.9208266735076904,
           null
          ],
          [
           null,
           null,
           0.8695088028907776,
           null
          ],
          [
           null,
           0.5784744620323181,
           null,
           null
          ],
          [
           null,
           null,
           null,
           0.7717651724815369
          ],
          [
           null,
           0.5426318049430847,
           null,
           null
          ],
          [
           null,
           null,
           0.7521964907646179,
           null
          ],
          [
           0.8660143613815308,
           null,
           null,
           null
          ],
          [
           null,
           null,
           null,
           0.763079047203064
          ],
          [
           null,
           null,
           null,
           0.7892372012138367
          ]
         ]
        },
        {
         "marker": {
          "color": "black"
         },
         "mode": "markers",
         "showlegend": false,
         "type": "scatter",
         "x": [
          5,
          4,
          3,
          4,
          4,
          5,
          5,
          2,
          5,
          3
         ],
         "xaxis": "x12",
         "y": [
          0.4475426537245917,
          0.30811559721491616,
          0.4051284289161241,
          0.4199071669462878,
          0.27574042289278133,
          0.13696254402480412,
          0.4476176051738697,
          0.43912042347804847,
          0.32940522064176114,
          0.3206051108604173
         ],
         "yaxis": "y12"
        },
        {
         "colorbar": {
          "title": {
           "text": "Objective Value"
          }
         },
         "colorscale": [
          [
           0,
           "rgb(5,10,172)"
          ],
          [
           0.35,
           "rgb(40,60,190)"
          ],
          [
           0.5,
           "rgb(70,100,245)"
          ],
          [
           0.6,
           "rgb(90,120,245)"
          ],
          [
           0.7,
           "rgb(106,137,247)"
          ],
          [
           1,
           "rgb(220,220,220)"
          ]
         ],
         "connectgaps": true,
         "contours": {
          "coloring": "heatmap"
         },
         "hoverinfo": "none",
         "line": {
          "smoothing": 1.3
         },
         "showscale": false,
         "type": "contour",
         "x": [
          2,
          3,
          4,
          5
         ],
         "xaxis": "x20",
         "y": [
          8,
          16,
          128,
          256
         ],
         "yaxis": "y20",
         "z": [
          [
           null,
           0.5784744620323181,
           null,
           null
          ],
          [
           null,
           null,
           0.9208266735076904,
           null
          ],
          [
           0.8660143613815308,
           null,
           0.8695088028907776,
           0.7717651724815369
          ],
          [
           null,
           null,
           null,
           0.9458865523338318
          ]
         ]
        },
        {
         "marker": {
          "color": "black"
         },
         "mode": "markers",
         "showlegend": false,
         "type": "scatter",
         "x": [
          5,
          4,
          3,
          4,
          4,
          5,
          5,
          2,
          5,
          3
         ],
         "xaxis": "x20",
         "y": [
          128,
          128,
          8,
          16,
          16,
          256,
          128,
          128,
          128,
          8
         ],
         "yaxis": "y20"
        },
        {
         "type": "scatter",
         "xaxis": "x28",
         "yaxis": "y28"
        },
        {
         "colorbar": {
          "title": {
           "text": "Objective Value"
          }
         },
         "colorscale": [
          [
           0,
           "rgb(5,10,172)"
          ],
          [
           0.35,
           "rgb(40,60,190)"
          ],
          [
           0.5,
           "rgb(70,100,245)"
          ],
          [
           0.6,
           "rgb(90,120,245)"
          ],
          [
           0.7,
           "rgb(106,137,247)"
          ],
          [
           1,
           "rgb(220,220,220)"
          ]
         ],
         "connectgaps": true,
         "contours": {
          "coloring": "heatmap"
         },
         "hoverinfo": "none",
         "line": {
          "smoothing": 1.3
         },
         "showscale": false,
         "type": "contour",
         "x": [
          2,
          3,
          4,
          5
         ],
         "xaxis": "x36",
         "y": [
          0.00011431229408656762,
          0.00011985939874632534,
          0.00019459451111337528,
          0.00021577654778061675,
          0.0002781761413312715,
          0.00031379768467785276,
          0.0003222124173376937,
          0.00034234441557670246,
          0.0009011149211580522,
          0.0009969827342691411
         ],
         "yaxis": "y36",
         "z": [
          [
           null,
           null,
           null,
           0.7892372012138367
          ],
          [
           0.8660143613815308,
           null,
           null,
           null
          ],
          [
           null,
           null,
           0.8695088028907776,
           null
          ],
          [
           null,
           null,
           null,
           0.7717651724815369
          ],
          [
           null,
           null,
           null,
           0.763079047203064
          ],
          [
           null,
           0.5426318049430847,
           null,
           null
          ],
          [
           null,
           null,
           0.9208266735076904,
           null
          ],
          [
           null,
           0.5784744620323181,
           null,
           null
          ],
          [
           null,
           null,
           null,
           0.9458865523338318
          ],
          [
           null,
           null,
           0.7521964907646179,
           null
          ]
         ]
        },
        {
         "marker": {
          "color": "black"
         },
         "mode": "markers",
         "showlegend": false,
         "type": "scatter",
         "x": [
          5,
          4,
          3,
          4,
          4,
          5,
          5,
          2,
          5,
          3
         ],
         "xaxis": "x36",
         "y": [
          0.0002781761413312715,
          0.00019459451111337528,
          0.00031379768467785276,
          0.0009969827342691411,
          0.0003222124173376937,
          0.0009011149211580522,
          0.00011431229408656762,
          0.00011985939874632534,
          0.00021577654778061675,
          0.00034234441557670246
         ],
         "yaxis": "y36"
        },
        {
         "colorbar": {
          "title": {
           "text": "Objective Value"
          }
         },
         "colorscale": [
          [
           0,
           "rgb(5,10,172)"
          ],
          [
           0.35,
           "rgb(40,60,190)"
          ],
          [
           0.5,
           "rgb(70,100,245)"
          ],
          [
           0.6,
           "rgb(90,120,245)"
          ],
          [
           0.7,
           "rgb(106,137,247)"
          ],
          [
           1,
           "rgb(220,220,220)"
          ]
         ],
         "connectgaps": true,
         "contours": {
          "coloring": "heatmap"
         },
         "hoverinfo": "none",
         "line": {
          "smoothing": 1.3
         },
         "showscale": false,
         "type": "contour",
         "x": [
          2,
          3,
          4,
          5
         ],
         "xaxis": "x44",
         "y": [
          0.8292747404960318,
          0.8343662356211846,
          0.8583730620569984,
          0.8700648073603755,
          0.8792675991877269,
          0.8847775912911807,
          0.8964296642692322,
          0.9355278762575644,
          0.9454761908726577,
          0.9910653091313444
         ],
         "yaxis": "y44",
         "z": [
          [
           null,
           null,
           null,
           0.7717651724815369
          ],
          [
           null,
           null,
           null,
           0.763079047203064
          ],
          [
           null,
           null,
           0.7521964907646179,
           null
          ],
          [
           null,
           0.5426318049430847,
           null,
           null
          ],
          [
           null,
           null,
           0.8695088028907776,
           null
          ],
          [
           0.8660143613815308,
           null,
           null,
           null
          ],
          [
           null,
           0.5784744620323181,
           null,
           null
          ],
          [
           null,
           null,
           null,
           0.7892372012138367
          ],
          [
           null,
           null,
           null,
           0.9458865523338318
          ],
          [
           null,
           null,
           0.9208266735076904,
           null
          ]
         ]
        },
        {
         "marker": {
          "color": "black"
         },
         "mode": "markers",
         "showlegend": false,
         "type": "scatter",
         "x": [
          5,
          4,
          3,
          4,
          4,
          5,
          5,
          2,
          5,
          3
         ],
         "xaxis": "x44",
         "y": [
          0.8343662356211846,
          0.8792675991877269,
          0.8700648073603755,
          0.8583730620569984,
          0.9910653091313444,
          0.9454761908726577,
          0.9355278762575644,
          0.8847775912911807,
          0.8292747404960318,
          0.8964296642692322
         ],
         "yaxis": "y44"
        },
        {
         "colorbar": {
          "title": {
           "text": "Objective Value"
          }
         },
         "colorscale": [
          [
           0,
           "rgb(5,10,172)"
          ],
          [
           0.35,
           "rgb(40,60,190)"
          ],
          [
           0.5,
           "rgb(70,100,245)"
          ],
          [
           0.6,
           "rgb(90,120,245)"
          ],
          [
           0.7,
           "rgb(106,137,247)"
          ],
          [
           1,
           "rgb(220,220,220)"
          ]
         ],
         "connectgaps": true,
         "contours": {
          "coloring": "heatmap"
         },
         "hoverinfo": "none",
         "line": {
          "smoothing": 1.3
         },
         "showscale": false,
         "type": "contour",
         "x": [
          2,
          3,
          4,
          5
         ],
         "xaxis": "x52",
         "y": [
          false,
          true
         ],
         "yaxis": "y52",
         "z": [
          [
           0.8660143613815308,
           0.5784744620323181,
           0.7521964907646179,
           0.7717651724815369
          ],
          [
           null,
           0.5426318049430847,
           0.9208266735076904,
           0.7892372012138367
          ]
         ]
        },
        {
         "marker": {
          "color": "black"
         },
         "mode": "markers",
         "showlegend": false,
         "type": "scatter",
         "x": [
          5,
          4,
          3,
          4,
          4,
          5,
          5,
          2,
          5,
          3
         ],
         "xaxis": "x52",
         "y": [
          true,
          true,
          true,
          false,
          true,
          true,
          true,
          false,
          false,
          false
         ],
         "yaxis": "y52"
        },
        {
         "colorbar": {
          "title": {
           "text": "Objective Value"
          }
         },
         "colorscale": [
          [
           0,
           "rgb(5,10,172)"
          ],
          [
           0.35,
           "rgb(40,60,190)"
          ],
          [
           0.5,
           "rgb(70,100,245)"
          ],
          [
           0.6,
           "rgb(90,120,245)"
          ],
          [
           0.7,
           "rgb(106,137,247)"
          ],
          [
           1,
           "rgb(220,220,220)"
          ]
         ],
         "connectgaps": true,
         "contours": {
          "coloring": "heatmap"
         },
         "hoverinfo": "none",
         "line": {
          "smoothing": 1.3
         },
         "showscale": false,
         "type": "contour",
         "x": [
          2,
          3,
          4,
          5
         ],
         "xaxis": "x60",
         "y": [
          7.769001540971277e-05,
          9.658630631397371e-05,
          0.00010839860995588048,
          0.00013574996304822177,
          0.00024206467053167096,
          0.0002461730007892341,
          0.00026786709389757784,
          0.0008316437322277936,
          0.00191834042067662,
          0.008235695017360493
         ],
         "yaxis": "y60",
         "z": [
          [
           null,
           0.5784744620323181,
           null,
           null
          ],
          [
           null,
           null,
           null,
           0.7892372012138367
          ],
          [
           null,
           null,
           null,
           0.7717651724815369
          ],
          [
           0.8660143613815308,
           null,
           null,
           null
          ],
          [
           null,
           0.5426318049430847,
           null,
           null
          ],
          [
           null,
           null,
           0.9208266735076904,
           null
          ],
          [
           null,
           null,
           null,
           0.763079047203064
          ],
          [
           null,
           null,
           0.8695088028907776,
           null
          ],
          [
           null,
           null,
           0.7521964907646179,
           null
          ],
          [
           null,
           null,
           null,
           0.9458865523338318
          ]
         ]
        },
        {
         "marker": {
          "color": "black"
         },
         "mode": "markers",
         "showlegend": false,
         "type": "scatter",
         "x": [
          5,
          4,
          3,
          4,
          4,
          5,
          5,
          2,
          5,
          3
         ],
         "xaxis": "x60",
         "y": [
          0.00026786709389757784,
          0.0008316437322277936,
          0.00024206467053167096,
          0.00191834042067662,
          0.0002461730007892341,
          0.008235695017360493,
          9.658630631397371e-05,
          0.00013574996304822177,
          0.00010839860995588048,
          7.769001540971277e-05
         ],
         "yaxis": "y60"
        },
        {
         "colorbar": {
          "title": {
           "text": "Objective Value"
          }
         },
         "colorscale": [
          [
           0,
           "rgb(5,10,172)"
          ],
          [
           0.35,
           "rgb(40,60,190)"
          ],
          [
           0.5,
           "rgb(70,100,245)"
          ],
          [
           0.6,
           "rgb(90,120,245)"
          ],
          [
           0.7,
           "rgb(106,137,247)"
          ],
          [
           1,
           "rgb(220,220,220)"
          ]
         ],
         "connectgaps": true,
         "contours": {
          "coloring": "heatmap"
         },
         "hoverinfo": "none",
         "line": {
          "smoothing": 1.3
         },
         "showscale": false,
         "type": "contour",
         "x": [
          0.00011431229408656762,
          0.00011985939874632534,
          0.00019459451111337528,
          0.00021577654778061675,
          0.0002781761413312715,
          0.00031379768467785276,
          0.0003222124173376937,
          0.00034234441557670246,
          0.0009011149211580522,
          0.0009969827342691411
         ],
         "xaxis": "x5",
         "y": [
          16,
          64,
          128
         ],
         "yaxis": "y5",
         "z": [
          [
           0.7892372012138367,
           null,
           0.8695088028907776,
           null,
           0.763079047203064,
           null,
           null,
           null,
           0.9458865523338318,
           null
          ],
          [
           null,
           null,
           null,
           0.7717651724815369,
           null,
           null,
           null,
           0.5784744620323181,
           null,
           0.7521964907646179
          ],
          [
           null,
           0.8660143613815308,
           null,
           null,
           null,
           0.5426318049430847,
           0.9208266735076904,
           null,
           null,
           null
          ]
         ]
        },
        {
         "marker": {
          "color": "black"
         },
         "mode": "markers",
         "showlegend": false,
         "type": "scatter",
         "x": [
          0.0002781761413312715,
          0.00019459451111337528,
          0.00031379768467785276,
          0.0009969827342691411,
          0.0003222124173376937,
          0.0009011149211580522,
          0.00011431229408656762,
          0.00011985939874632534,
          0.00021577654778061675,
          0.00034234441557670246
         ],
         "xaxis": "x5",
         "y": [
          16,
          16,
          128,
          64,
          128,
          16,
          16,
          128,
          64,
          64
         ],
         "yaxis": "y5"
        },
        {
         "colorbar": {
          "title": {
           "text": "Objective Value"
          }
         },
         "colorscale": [
          [
           0,
           "rgb(5,10,172)"
          ],
          [
           0.35,
           "rgb(40,60,190)"
          ],
          [
           0.5,
           "rgb(70,100,245)"
          ],
          [
           0.6,
           "rgb(90,120,245)"
          ],
          [
           0.7,
           "rgb(106,137,247)"
          ],
          [
           1,
           "rgb(220,220,220)"
          ]
         ],
         "connectgaps": true,
         "contours": {
          "coloring": "heatmap"
         },
         "hoverinfo": "none",
         "line": {
          "smoothing": 1.3
         },
         "showscale": false,
         "type": "contour",
         "x": [
          0.00011431229408656762,
          0.00011985939874632534,
          0.00019459451111337528,
          0.00021577654778061675,
          0.0002781761413312715,
          0.00031379768467785276,
          0.0003222124173376937,
          0.00034234441557670246,
          0.0009011149211580522,
          0.0009969827342691411
         ],
         "xaxis": "x13",
         "y": [
          0.13696254402480412,
          0.27574042289278133,
          0.30811559721491616,
          0.3206051108604173,
          0.32940522064176114,
          0.4051284289161241,
          0.4199071669462878,
          0.43912042347804847,
          0.4475426537245917,
          0.4476176051738697
         ],
         "yaxis": "y13",
         "z": [
          [
           null,
           null,
           null,
           null,
           null,
           null,
           null,
           null,
           0.9458865523338318,
           null
          ],
          [
           null,
           null,
           null,
           null,
           null,
           null,
           0.9208266735076904,
           null,
           null,
           null
          ],
          [
           null,
           null,
           0.8695088028907776,
           null,
           null,
           null,
           null,
           null,
           null,
           null
          ],
          [
           null,
           null,
           null,
           null,
           null,
           null,
           null,
           0.5784744620323181,
           null,
           null
          ],
          [
           null,
           null,
           null,
           0.7717651724815369,
           null,
           null,
           null,
           null,
           null,
           null
          ],
          [
           null,
           null,
           null,
           null,
           null,
           0.5426318049430847,
           null,
           null,
           null,
           null
          ],
          [
           null,
           null,
           null,
           null,
           null,
           null,
           null,
           null,
           null,
           0.7521964907646179
          ],
          [
           null,
           0.8660143613815308,
           null,
           null,
           null,
           null,
           null,
           null,
           null,
           null
          ],
          [
           null,
           null,
           null,
           null,
           0.763079047203064,
           null,
           null,
           null,
           null,
           null
          ],
          [
           0.7892372012138367,
           null,
           null,
           null,
           null,
           null,
           null,
           null,
           null,
           null
          ]
         ]
        },
        {
         "marker": {
          "color": "black"
         },
         "mode": "markers",
         "showlegend": false,
         "type": "scatter",
         "x": [
          0.0002781761413312715,
          0.00019459451111337528,
          0.00031379768467785276,
          0.0009969827342691411,
          0.0003222124173376937,
          0.0009011149211580522,
          0.00011431229408656762,
          0.00011985939874632534,
          0.00021577654778061675,
          0.00034234441557670246
         ],
         "xaxis": "x13",
         "y": [
          0.4475426537245917,
          0.30811559721491616,
          0.4051284289161241,
          0.4199071669462878,
          0.27574042289278133,
          0.13696254402480412,
          0.4476176051738697,
          0.43912042347804847,
          0.32940522064176114,
          0.3206051108604173
         ],
         "yaxis": "y13"
        },
        {
         "colorbar": {
          "title": {
           "text": "Objective Value"
          }
         },
         "colorscale": [
          [
           0,
           "rgb(5,10,172)"
          ],
          [
           0.35,
           "rgb(40,60,190)"
          ],
          [
           0.5,
           "rgb(70,100,245)"
          ],
          [
           0.6,
           "rgb(90,120,245)"
          ],
          [
           0.7,
           "rgb(106,137,247)"
          ],
          [
           1,
           "rgb(220,220,220)"
          ]
         ],
         "connectgaps": true,
         "contours": {
          "coloring": "heatmap"
         },
         "hoverinfo": "none",
         "line": {
          "smoothing": 1.3
         },
         "showscale": false,
         "type": "contour",
         "x": [
          0.00011431229408656762,
          0.00011985939874632534,
          0.00019459451111337528,
          0.00021577654778061675,
          0.0002781761413312715,
          0.00031379768467785276,
          0.0003222124173376937,
          0.00034234441557670246,
          0.0009011149211580522,
          0.0009969827342691411
         ],
         "xaxis": "x21",
         "y": [
          8,
          16,
          128,
          256
         ],
         "yaxis": "y21",
         "z": [
          [
           null,
           null,
           null,
           null,
           null,
           0.5426318049430847,
           null,
           0.5784744620323181,
           null,
           null
          ],
          [
           null,
           null,
           null,
           null,
           null,
           null,
           0.9208266735076904,
           null,
           null,
           0.7521964907646179
          ],
          [
           0.7892372012138367,
           0.8660143613815308,
           0.8695088028907776,
           0.7717651724815369,
           0.763079047203064,
           null,
           null,
           null,
           null,
           null
          ],
          [
           null,
           null,
           null,
           null,
           null,
           null,
           null,
           null,
           0.9458865523338318,
           null
          ]
         ]
        },
        {
         "marker": {
          "color": "black"
         },
         "mode": "markers",
         "showlegend": false,
         "type": "scatter",
         "x": [
          0.0002781761413312715,
          0.00019459451111337528,
          0.00031379768467785276,
          0.0009969827342691411,
          0.0003222124173376937,
          0.0009011149211580522,
          0.00011431229408656762,
          0.00011985939874632534,
          0.00021577654778061675,
          0.00034234441557670246
         ],
         "xaxis": "x21",
         "y": [
          128,
          128,
          8,
          16,
          16,
          256,
          128,
          128,
          128,
          8
         ],
         "yaxis": "y21"
        },
        {
         "colorbar": {
          "title": {
           "text": "Objective Value"
          }
         },
         "colorscale": [
          [
           0,
           "rgb(5,10,172)"
          ],
          [
           0.35,
           "rgb(40,60,190)"
          ],
          [
           0.5,
           "rgb(70,100,245)"
          ],
          [
           0.6,
           "rgb(90,120,245)"
          ],
          [
           0.7,
           "rgb(106,137,247)"
          ],
          [
           1,
           "rgb(220,220,220)"
          ]
         ],
         "connectgaps": true,
         "contours": {
          "coloring": "heatmap"
         },
         "hoverinfo": "none",
         "line": {
          "smoothing": 1.3
         },
         "showscale": false,
         "type": "contour",
         "x": [
          0.00011431229408656762,
          0.00011985939874632534,
          0.00019459451111337528,
          0.00021577654778061675,
          0.0002781761413312715,
          0.00031379768467785276,
          0.0003222124173376937,
          0.00034234441557670246,
          0.0009011149211580522,
          0.0009969827342691411
         ],
         "xaxis": "x29",
         "y": [
          2,
          3,
          4,
          5
         ],
         "yaxis": "y29",
         "z": [
          [
           null,
           0.8660143613815308,
           null,
           null,
           null,
           null,
           null,
           null,
           null,
           null
          ],
          [
           null,
           null,
           null,
           null,
           null,
           0.5426318049430847,
           null,
           0.5784744620323181,
           null,
           null
          ],
          [
           null,
           null,
           0.8695088028907776,
           null,
           null,
           null,
           0.9208266735076904,
           null,
           null,
           0.7521964907646179
          ],
          [
           0.7892372012138367,
           null,
           null,
           0.7717651724815369,
           0.763079047203064,
           null,
           null,
           null,
           0.9458865523338318,
           null
          ]
         ]
        },
        {
         "marker": {
          "color": "black"
         },
         "mode": "markers",
         "showlegend": false,
         "type": "scatter",
         "x": [
          0.0002781761413312715,
          0.00019459451111337528,
          0.00031379768467785276,
          0.0009969827342691411,
          0.0003222124173376937,
          0.0009011149211580522,
          0.00011431229408656762,
          0.00011985939874632534,
          0.00021577654778061675,
          0.00034234441557670246
         ],
         "xaxis": "x29",
         "y": [
          5,
          4,
          3,
          4,
          4,
          5,
          5,
          2,
          5,
          3
         ],
         "yaxis": "y29"
        },
        {
         "type": "scatter",
         "xaxis": "x37",
         "yaxis": "y37"
        },
        {
         "colorbar": {
          "title": {
           "text": "Objective Value"
          }
         },
         "colorscale": [
          [
           0,
           "rgb(5,10,172)"
          ],
          [
           0.35,
           "rgb(40,60,190)"
          ],
          [
           0.5,
           "rgb(70,100,245)"
          ],
          [
           0.6,
           "rgb(90,120,245)"
          ],
          [
           0.7,
           "rgb(106,137,247)"
          ],
          [
           1,
           "rgb(220,220,220)"
          ]
         ],
         "connectgaps": true,
         "contours": {
          "coloring": "heatmap"
         },
         "hoverinfo": "none",
         "line": {
          "smoothing": 1.3
         },
         "showscale": false,
         "type": "contour",
         "x": [
          0.00011431229408656762,
          0.00011985939874632534,
          0.00019459451111337528,
          0.00021577654778061675,
          0.0002781761413312715,
          0.00031379768467785276,
          0.0003222124173376937,
          0.00034234441557670246,
          0.0009011149211580522,
          0.0009969827342691411
         ],
         "xaxis": "x45",
         "y": [
          0.8292747404960318,
          0.8343662356211846,
          0.8583730620569984,
          0.8700648073603755,
          0.8792675991877269,
          0.8847775912911807,
          0.8964296642692322,
          0.9355278762575644,
          0.9454761908726577,
          0.9910653091313444
         ],
         "yaxis": "y45",
         "z": [
          [
           null,
           null,
           null,
           0.7717651724815369,
           null,
           null,
           null,
           null,
           null,
           null
          ],
          [
           null,
           null,
           null,
           null,
           0.763079047203064,
           null,
           null,
           null,
           null,
           null
          ],
          [
           null,
           null,
           null,
           null,
           null,
           null,
           null,
           null,
           null,
           0.7521964907646179
          ],
          [
           null,
           null,
           null,
           null,
           null,
           0.5426318049430847,
           null,
           null,
           null,
           null
          ],
          [
           null,
           null,
           0.8695088028907776,
           null,
           null,
           null,
           null,
           null,
           null,
           null
          ],
          [
           null,
           0.8660143613815308,
           null,
           null,
           null,
           null,
           null,
           null,
           null,
           null
          ],
          [
           null,
           null,
           null,
           null,
           null,
           null,
           null,
           0.5784744620323181,
           null,
           null
          ],
          [
           0.7892372012138367,
           null,
           null,
           null,
           null,
           null,
           null,
           null,
           null,
           null
          ],
          [
           null,
           null,
           null,
           null,
           null,
           null,
           null,
           null,
           0.9458865523338318,
           null
          ],
          [
           null,
           null,
           null,
           null,
           null,
           null,
           0.9208266735076904,
           null,
           null,
           null
          ]
         ]
        },
        {
         "marker": {
          "color": "black"
         },
         "mode": "markers",
         "showlegend": false,
         "type": "scatter",
         "x": [
          0.0002781761413312715,
          0.00019459451111337528,
          0.00031379768467785276,
          0.0009969827342691411,
          0.0003222124173376937,
          0.0009011149211580522,
          0.00011431229408656762,
          0.00011985939874632534,
          0.00021577654778061675,
          0.00034234441557670246
         ],
         "xaxis": "x45",
         "y": [
          0.8343662356211846,
          0.8792675991877269,
          0.8700648073603755,
          0.8583730620569984,
          0.9910653091313444,
          0.9454761908726577,
          0.9355278762575644,
          0.8847775912911807,
          0.8292747404960318,
          0.8964296642692322
         ],
         "yaxis": "y45"
        },
        {
         "colorbar": {
          "title": {
           "text": "Objective Value"
          }
         },
         "colorscale": [
          [
           0,
           "rgb(5,10,172)"
          ],
          [
           0.35,
           "rgb(40,60,190)"
          ],
          [
           0.5,
           "rgb(70,100,245)"
          ],
          [
           0.6,
           "rgb(90,120,245)"
          ],
          [
           0.7,
           "rgb(106,137,247)"
          ],
          [
           1,
           "rgb(220,220,220)"
          ]
         ],
         "connectgaps": true,
         "contours": {
          "coloring": "heatmap"
         },
         "hoverinfo": "none",
         "line": {
          "smoothing": 1.3
         },
         "showscale": false,
         "type": "contour",
         "x": [
          0.00011431229408656762,
          0.00011985939874632534,
          0.00019459451111337528,
          0.00021577654778061675,
          0.0002781761413312715,
          0.00031379768467785276,
          0.0003222124173376937,
          0.00034234441557670246,
          0.0009011149211580522,
          0.0009969827342691411
         ],
         "xaxis": "x53",
         "y": [
          false,
          true
         ],
         "yaxis": "y53",
         "z": [
          [
           null,
           0.8660143613815308,
           null,
           0.7717651724815369,
           null,
           null,
           null,
           0.5784744620323181,
           null,
           0.7521964907646179
          ],
          [
           0.7892372012138367,
           null,
           0.8695088028907776,
           null,
           0.763079047203064,
           0.5426318049430847,
           0.9208266735076904,
           null,
           0.9458865523338318,
           null
          ]
         ]
        },
        {
         "marker": {
          "color": "black"
         },
         "mode": "markers",
         "showlegend": false,
         "type": "scatter",
         "x": [
          0.0002781761413312715,
          0.00019459451111337528,
          0.00031379768467785276,
          0.0009969827342691411,
          0.0003222124173376937,
          0.0009011149211580522,
          0.00011431229408656762,
          0.00011985939874632534,
          0.00021577654778061675,
          0.00034234441557670246
         ],
         "xaxis": "x53",
         "y": [
          true,
          true,
          true,
          false,
          true,
          true,
          true,
          false,
          false,
          false
         ],
         "yaxis": "y53"
        },
        {
         "colorbar": {
          "title": {
           "text": "Objective Value"
          }
         },
         "colorscale": [
          [
           0,
           "rgb(5,10,172)"
          ],
          [
           0.35,
           "rgb(40,60,190)"
          ],
          [
           0.5,
           "rgb(70,100,245)"
          ],
          [
           0.6,
           "rgb(90,120,245)"
          ],
          [
           0.7,
           "rgb(106,137,247)"
          ],
          [
           1,
           "rgb(220,220,220)"
          ]
         ],
         "connectgaps": true,
         "contours": {
          "coloring": "heatmap"
         },
         "hoverinfo": "none",
         "line": {
          "smoothing": 1.3
         },
         "showscale": false,
         "type": "contour",
         "x": [
          0.00011431229408656762,
          0.00011985939874632534,
          0.00019459451111337528,
          0.00021577654778061675,
          0.0002781761413312715,
          0.00031379768467785276,
          0.0003222124173376937,
          0.00034234441557670246,
          0.0009011149211580522,
          0.0009969827342691411
         ],
         "xaxis": "x61",
         "y": [
          7.769001540971277e-05,
          9.658630631397371e-05,
          0.00010839860995588048,
          0.00013574996304822177,
          0.00024206467053167096,
          0.0002461730007892341,
          0.00026786709389757784,
          0.0008316437322277936,
          0.00191834042067662,
          0.008235695017360493
         ],
         "yaxis": "y61",
         "z": [
          [
           null,
           null,
           null,
           null,
           null,
           null,
           null,
           0.5784744620323181,
           null,
           null
          ],
          [
           0.7892372012138367,
           null,
           null,
           null,
           null,
           null,
           null,
           null,
           null,
           null
          ],
          [
           null,
           null,
           null,
           0.7717651724815369,
           null,
           null,
           null,
           null,
           null,
           null
          ],
          [
           null,
           0.8660143613815308,
           null,
           null,
           null,
           null,
           null,
           null,
           null,
           null
          ],
          [
           null,
           null,
           null,
           null,
           null,
           0.5426318049430847,
           null,
           null,
           null,
           null
          ],
          [
           null,
           null,
           null,
           null,
           null,
           null,
           0.9208266735076904,
           null,
           null,
           null
          ],
          [
           null,
           null,
           null,
           null,
           0.763079047203064,
           null,
           null,
           null,
           null,
           null
          ],
          [
           null,
           null,
           0.8695088028907776,
           null,
           null,
           null,
           null,
           null,
           null,
           null
          ],
          [
           null,
           null,
           null,
           null,
           null,
           null,
           null,
           null,
           null,
           0.7521964907646179
          ],
          [
           null,
           null,
           null,
           null,
           null,
           null,
           null,
           null,
           0.9458865523338318,
           null
          ]
         ]
        },
        {
         "marker": {
          "color": "black"
         },
         "mode": "markers",
         "showlegend": false,
         "type": "scatter",
         "x": [
          0.0002781761413312715,
          0.00019459451111337528,
          0.00031379768467785276,
          0.0009969827342691411,
          0.0003222124173376937,
          0.0009011149211580522,
          0.00011431229408656762,
          0.00011985939874632534,
          0.00021577654778061675,
          0.00034234441557670246
         ],
         "xaxis": "x61",
         "y": [
          0.00026786709389757784,
          0.0008316437322277936,
          0.00024206467053167096,
          0.00191834042067662,
          0.0002461730007892341,
          0.008235695017360493,
          9.658630631397371e-05,
          0.00013574996304822177,
          0.00010839860995588048,
          7.769001540971277e-05
         ],
         "yaxis": "y61"
        },
        {
         "colorbar": {
          "title": {
           "text": "Objective Value"
          }
         },
         "colorscale": [
          [
           0,
           "rgb(5,10,172)"
          ],
          [
           0.35,
           "rgb(40,60,190)"
          ],
          [
           0.5,
           "rgb(70,100,245)"
          ],
          [
           0.6,
           "rgb(90,120,245)"
          ],
          [
           0.7,
           "rgb(106,137,247)"
          ],
          [
           1,
           "rgb(220,220,220)"
          ]
         ],
         "connectgaps": true,
         "contours": {
          "coloring": "heatmap"
         },
         "hoverinfo": "none",
         "line": {
          "smoothing": 1.3
         },
         "showscale": false,
         "type": "contour",
         "x": [
          0.8292747404960318,
          0.8343662356211846,
          0.8583730620569984,
          0.8700648073603755,
          0.8792675991877269,
          0.8847775912911807,
          0.8964296642692322,
          0.9355278762575644,
          0.9454761908726577,
          0.9910653091313444
         ],
         "xaxis": "x6",
         "y": [
          16,
          64,
          128
         ],
         "yaxis": "y6",
         "z": [
          [
           null,
           0.763079047203064,
           null,
           null,
           0.8695088028907776,
           null,
           null,
           0.7892372012138367,
           0.9458865523338318,
           null
          ],
          [
           0.7717651724815369,
           null,
           0.7521964907646179,
           null,
           null,
           null,
           0.5784744620323181,
           null,
           null,
           null
          ],
          [
           null,
           null,
           null,
           0.5426318049430847,
           null,
           0.8660143613815308,
           null,
           null,
           null,
           0.9208266735076904
          ]
         ]
        },
        {
         "marker": {
          "color": "black"
         },
         "mode": "markers",
         "showlegend": false,
         "type": "scatter",
         "x": [
          0.8343662356211846,
          0.8792675991877269,
          0.8700648073603755,
          0.8583730620569984,
          0.9910653091313444,
          0.9454761908726577,
          0.9355278762575644,
          0.8847775912911807,
          0.8292747404960318,
          0.8964296642692322
         ],
         "xaxis": "x6",
         "y": [
          16,
          16,
          128,
          64,
          128,
          16,
          16,
          128,
          64,
          64
         ],
         "yaxis": "y6"
        },
        {
         "colorbar": {
          "title": {
           "text": "Objective Value"
          }
         },
         "colorscale": [
          [
           0,
           "rgb(5,10,172)"
          ],
          [
           0.35,
           "rgb(40,60,190)"
          ],
          [
           0.5,
           "rgb(70,100,245)"
          ],
          [
           0.6,
           "rgb(90,120,245)"
          ],
          [
           0.7,
           "rgb(106,137,247)"
          ],
          [
           1,
           "rgb(220,220,220)"
          ]
         ],
         "connectgaps": true,
         "contours": {
          "coloring": "heatmap"
         },
         "hoverinfo": "none",
         "line": {
          "smoothing": 1.3
         },
         "showscale": false,
         "type": "contour",
         "x": [
          0.8292747404960318,
          0.8343662356211846,
          0.8583730620569984,
          0.8700648073603755,
          0.8792675991877269,
          0.8847775912911807,
          0.8964296642692322,
          0.9355278762575644,
          0.9454761908726577,
          0.9910653091313444
         ],
         "xaxis": "x14",
         "y": [
          0.13696254402480412,
          0.27574042289278133,
          0.30811559721491616,
          0.3206051108604173,
          0.32940522064176114,
          0.4051284289161241,
          0.4199071669462878,
          0.43912042347804847,
          0.4475426537245917,
          0.4476176051738697
         ],
         "yaxis": "y14",
         "z": [
          [
           null,
           null,
           null,
           null,
           null,
           null,
           null,
           null,
           0.9458865523338318,
           null
          ],
          [
           null,
           null,
           null,
           null,
           null,
           null,
           null,
           null,
           null,
           0.9208266735076904
          ],
          [
           null,
           null,
           null,
           null,
           0.8695088028907776,
           null,
           null,
           null,
           null,
           null
          ],
          [
           null,
           null,
           null,
           null,
           null,
           null,
           0.5784744620323181,
           null,
           null,
           null
          ],
          [
           0.7717651724815369,
           null,
           null,
           null,
           null,
           null,
           null,
           null,
           null,
           null
          ],
          [
           null,
           null,
           null,
           0.5426318049430847,
           null,
           null,
           null,
           null,
           null,
           null
          ],
          [
           null,
           null,
           0.7521964907646179,
           null,
           null,
           null,
           null,
           null,
           null,
           null
          ],
          [
           null,
           null,
           null,
           null,
           null,
           0.8660143613815308,
           null,
           null,
           null,
           null
          ],
          [
           null,
           0.763079047203064,
           null,
           null,
           null,
           null,
           null,
           null,
           null,
           null
          ],
          [
           null,
           null,
           null,
           null,
           null,
           null,
           null,
           0.7892372012138367,
           null,
           null
          ]
         ]
        },
        {
         "marker": {
          "color": "black"
         },
         "mode": "markers",
         "showlegend": false,
         "type": "scatter",
         "x": [
          0.8343662356211846,
          0.8792675991877269,
          0.8700648073603755,
          0.8583730620569984,
          0.9910653091313444,
          0.9454761908726577,
          0.9355278762575644,
          0.8847775912911807,
          0.8292747404960318,
          0.8964296642692322
         ],
         "xaxis": "x14",
         "y": [
          0.4475426537245917,
          0.30811559721491616,
          0.4051284289161241,
          0.4199071669462878,
          0.27574042289278133,
          0.13696254402480412,
          0.4476176051738697,
          0.43912042347804847,
          0.32940522064176114,
          0.3206051108604173
         ],
         "yaxis": "y14"
        },
        {
         "colorbar": {
          "title": {
           "text": "Objective Value"
          }
         },
         "colorscale": [
          [
           0,
           "rgb(5,10,172)"
          ],
          [
           0.35,
           "rgb(40,60,190)"
          ],
          [
           0.5,
           "rgb(70,100,245)"
          ],
          [
           0.6,
           "rgb(90,120,245)"
          ],
          [
           0.7,
           "rgb(106,137,247)"
          ],
          [
           1,
           "rgb(220,220,220)"
          ]
         ],
         "connectgaps": true,
         "contours": {
          "coloring": "heatmap"
         },
         "hoverinfo": "none",
         "line": {
          "smoothing": 1.3
         },
         "showscale": false,
         "type": "contour",
         "x": [
          0.8292747404960318,
          0.8343662356211846,
          0.8583730620569984,
          0.8700648073603755,
          0.8792675991877269,
          0.8847775912911807,
          0.8964296642692322,
          0.9355278762575644,
          0.9454761908726577,
          0.9910653091313444
         ],
         "xaxis": "x22",
         "y": [
          8,
          16,
          128,
          256
         ],
         "yaxis": "y22",
         "z": [
          [
           null,
           null,
           null,
           0.5426318049430847,
           null,
           null,
           0.5784744620323181,
           null,
           null,
           null
          ],
          [
           null,
           null,
           0.7521964907646179,
           null,
           null,
           null,
           null,
           null,
           null,
           0.9208266735076904
          ],
          [
           0.7717651724815369,
           0.763079047203064,
           null,
           null,
           0.8695088028907776,
           0.8660143613815308,
           null,
           0.7892372012138367,
           null,
           null
          ],
          [
           null,
           null,
           null,
           null,
           null,
           null,
           null,
           null,
           0.9458865523338318,
           null
          ]
         ]
        },
        {
         "marker": {
          "color": "black"
         },
         "mode": "markers",
         "showlegend": false,
         "type": "scatter",
         "x": [
          0.8343662356211846,
          0.8792675991877269,
          0.8700648073603755,
          0.8583730620569984,
          0.9910653091313444,
          0.9454761908726577,
          0.9355278762575644,
          0.8847775912911807,
          0.8292747404960318,
          0.8964296642692322
         ],
         "xaxis": "x22",
         "y": [
          128,
          128,
          8,
          16,
          16,
          256,
          128,
          128,
          128,
          8
         ],
         "yaxis": "y22"
        },
        {
         "colorbar": {
          "title": {
           "text": "Objective Value"
          }
         },
         "colorscale": [
          [
           0,
           "rgb(5,10,172)"
          ],
          [
           0.35,
           "rgb(40,60,190)"
          ],
          [
           0.5,
           "rgb(70,100,245)"
          ],
          [
           0.6,
           "rgb(90,120,245)"
          ],
          [
           0.7,
           "rgb(106,137,247)"
          ],
          [
           1,
           "rgb(220,220,220)"
          ]
         ],
         "connectgaps": true,
         "contours": {
          "coloring": "heatmap"
         },
         "hoverinfo": "none",
         "line": {
          "smoothing": 1.3
         },
         "showscale": false,
         "type": "contour",
         "x": [
          0.8292747404960318,
          0.8343662356211846,
          0.8583730620569984,
          0.8700648073603755,
          0.8792675991877269,
          0.8847775912911807,
          0.8964296642692322,
          0.9355278762575644,
          0.9454761908726577,
          0.9910653091313444
         ],
         "xaxis": "x30",
         "y": [
          2,
          3,
          4,
          5
         ],
         "yaxis": "y30",
         "z": [
          [
           null,
           null,
           null,
           null,
           null,
           0.8660143613815308,
           null,
           null,
           null,
           null
          ],
          [
           null,
           null,
           null,
           0.5426318049430847,
           null,
           null,
           0.5784744620323181,
           null,
           null,
           null
          ],
          [
           null,
           null,
           0.7521964907646179,
           null,
           0.8695088028907776,
           null,
           null,
           null,
           null,
           0.9208266735076904
          ],
          [
           0.7717651724815369,
           0.763079047203064,
           null,
           null,
           null,
           null,
           null,
           0.7892372012138367,
           0.9458865523338318,
           null
          ]
         ]
        },
        {
         "marker": {
          "color": "black"
         },
         "mode": "markers",
         "showlegend": false,
         "type": "scatter",
         "x": [
          0.8343662356211846,
          0.8792675991877269,
          0.8700648073603755,
          0.8583730620569984,
          0.9910653091313444,
          0.9454761908726577,
          0.9355278762575644,
          0.8847775912911807,
          0.8292747404960318,
          0.8964296642692322
         ],
         "xaxis": "x30",
         "y": [
          5,
          4,
          3,
          4,
          4,
          5,
          5,
          2,
          5,
          3
         ],
         "yaxis": "y30"
        },
        {
         "colorbar": {
          "title": {
           "text": "Objective Value"
          }
         },
         "colorscale": [
          [
           0,
           "rgb(5,10,172)"
          ],
          [
           0.35,
           "rgb(40,60,190)"
          ],
          [
           0.5,
           "rgb(70,100,245)"
          ],
          [
           0.6,
           "rgb(90,120,245)"
          ],
          [
           0.7,
           "rgb(106,137,247)"
          ],
          [
           1,
           "rgb(220,220,220)"
          ]
         ],
         "connectgaps": true,
         "contours": {
          "coloring": "heatmap"
         },
         "hoverinfo": "none",
         "line": {
          "smoothing": 1.3
         },
         "showscale": false,
         "type": "contour",
         "x": [
          0.8292747404960318,
          0.8343662356211846,
          0.8583730620569984,
          0.8700648073603755,
          0.8792675991877269,
          0.8847775912911807,
          0.8964296642692322,
          0.9355278762575644,
          0.9454761908726577,
          0.9910653091313444
         ],
         "xaxis": "x38",
         "y": [
          0.00011431229408656762,
          0.00011985939874632534,
          0.00019459451111337528,
          0.00021577654778061675,
          0.0002781761413312715,
          0.00031379768467785276,
          0.0003222124173376937,
          0.00034234441557670246,
          0.0009011149211580522,
          0.0009969827342691411
         ],
         "yaxis": "y38",
         "z": [
          [
           null,
           null,
           null,
           null,
           null,
           null,
           null,
           0.7892372012138367,
           null,
           null
          ],
          [
           null,
           null,
           null,
           null,
           null,
           0.8660143613815308,
           null,
           null,
           null,
           null
          ],
          [
           null,
           null,
           null,
           null,
           0.8695088028907776,
           null,
           null,
           null,
           null,
           null
          ],
          [
           0.7717651724815369,
           null,
           null,
           null,
           null,
           null,
           null,
           null,
           null,
           null
          ],
          [
           null,
           0.763079047203064,
           null,
           null,
           null,
           null,
           null,
           null,
           null,
           null
          ],
          [
           null,
           null,
           null,
           0.5426318049430847,
           null,
           null,
           null,
           null,
           null,
           null
          ],
          [
           null,
           null,
           null,
           null,
           null,
           null,
           null,
           null,
           null,
           0.9208266735076904
          ],
          [
           null,
           null,
           null,
           null,
           null,
           null,
           0.5784744620323181,
           null,
           null,
           null
          ],
          [
           null,
           null,
           null,
           null,
           null,
           null,
           null,
           null,
           0.9458865523338318,
           null
          ],
          [
           null,
           null,
           0.7521964907646179,
           null,
           null,
           null,
           null,
           null,
           null,
           null
          ]
         ]
        },
        {
         "marker": {
          "color": "black"
         },
         "mode": "markers",
         "showlegend": false,
         "type": "scatter",
         "x": [
          0.8343662356211846,
          0.8792675991877269,
          0.8700648073603755,
          0.8583730620569984,
          0.9910653091313444,
          0.9454761908726577,
          0.9355278762575644,
          0.8847775912911807,
          0.8292747404960318,
          0.8964296642692322
         ],
         "xaxis": "x38",
         "y": [
          0.0002781761413312715,
          0.00019459451111337528,
          0.00031379768467785276,
          0.0009969827342691411,
          0.0003222124173376937,
          0.0009011149211580522,
          0.00011431229408656762,
          0.00011985939874632534,
          0.00021577654778061675,
          0.00034234441557670246
         ],
         "yaxis": "y38"
        },
        {
         "type": "scatter",
         "xaxis": "x46",
         "yaxis": "y46"
        },
        {
         "colorbar": {
          "title": {
           "text": "Objective Value"
          }
         },
         "colorscale": [
          [
           0,
           "rgb(5,10,172)"
          ],
          [
           0.35,
           "rgb(40,60,190)"
          ],
          [
           0.5,
           "rgb(70,100,245)"
          ],
          [
           0.6,
           "rgb(90,120,245)"
          ],
          [
           0.7,
           "rgb(106,137,247)"
          ],
          [
           1,
           "rgb(220,220,220)"
          ]
         ],
         "connectgaps": true,
         "contours": {
          "coloring": "heatmap"
         },
         "hoverinfo": "none",
         "line": {
          "smoothing": 1.3
         },
         "showscale": false,
         "type": "contour",
         "x": [
          0.8292747404960318,
          0.8343662356211846,
          0.8583730620569984,
          0.8700648073603755,
          0.8792675991877269,
          0.8847775912911807,
          0.8964296642692322,
          0.9355278762575644,
          0.9454761908726577,
          0.9910653091313444
         ],
         "xaxis": "x54",
         "y": [
          false,
          true
         ],
         "yaxis": "y54",
         "z": [
          [
           0.7717651724815369,
           null,
           0.7521964907646179,
           null,
           null,
           0.8660143613815308,
           0.5784744620323181,
           null,
           null,
           null
          ],
          [
           null,
           0.763079047203064,
           null,
           0.5426318049430847,
           0.8695088028907776,
           null,
           null,
           0.7892372012138367,
           0.9458865523338318,
           0.9208266735076904
          ]
         ]
        },
        {
         "marker": {
          "color": "black"
         },
         "mode": "markers",
         "showlegend": false,
         "type": "scatter",
         "x": [
          0.8343662356211846,
          0.8792675991877269,
          0.8700648073603755,
          0.8583730620569984,
          0.9910653091313444,
          0.9454761908726577,
          0.9355278762575644,
          0.8847775912911807,
          0.8292747404960318,
          0.8964296642692322
         ],
         "xaxis": "x54",
         "y": [
          true,
          true,
          true,
          false,
          true,
          true,
          true,
          false,
          false,
          false
         ],
         "yaxis": "y54"
        },
        {
         "colorbar": {
          "title": {
           "text": "Objective Value"
          }
         },
         "colorscale": [
          [
           0,
           "rgb(5,10,172)"
          ],
          [
           0.35,
           "rgb(40,60,190)"
          ],
          [
           0.5,
           "rgb(70,100,245)"
          ],
          [
           0.6,
           "rgb(90,120,245)"
          ],
          [
           0.7,
           "rgb(106,137,247)"
          ],
          [
           1,
           "rgb(220,220,220)"
          ]
         ],
         "connectgaps": true,
         "contours": {
          "coloring": "heatmap"
         },
         "hoverinfo": "none",
         "line": {
          "smoothing": 1.3
         },
         "showscale": false,
         "type": "contour",
         "x": [
          0.8292747404960318,
          0.8343662356211846,
          0.8583730620569984,
          0.8700648073603755,
          0.8792675991877269,
          0.8847775912911807,
          0.8964296642692322,
          0.9355278762575644,
          0.9454761908726577,
          0.9910653091313444
         ],
         "xaxis": "x62",
         "y": [
          7.769001540971277e-05,
          9.658630631397371e-05,
          0.00010839860995588048,
          0.00013574996304822177,
          0.00024206467053167096,
          0.0002461730007892341,
          0.00026786709389757784,
          0.0008316437322277936,
          0.00191834042067662,
          0.008235695017360493
         ],
         "yaxis": "y62",
         "z": [
          [
           null,
           null,
           null,
           null,
           null,
           null,
           0.5784744620323181,
           null,
           null,
           null
          ],
          [
           null,
           null,
           null,
           null,
           null,
           null,
           null,
           0.7892372012138367,
           null,
           null
          ],
          [
           0.7717651724815369,
           null,
           null,
           null,
           null,
           null,
           null,
           null,
           null,
           null
          ],
          [
           null,
           null,
           null,
           null,
           null,
           0.8660143613815308,
           null,
           null,
           null,
           null
          ],
          [
           null,
           null,
           null,
           0.5426318049430847,
           null,
           null,
           null,
           null,
           null,
           null
          ],
          [
           null,
           null,
           null,
           null,
           null,
           null,
           null,
           null,
           null,
           0.9208266735076904
          ],
          [
           null,
           0.763079047203064,
           null,
           null,
           null,
           null,
           null,
           null,
           null,
           null
          ],
          [
           null,
           null,
           null,
           null,
           0.8695088028907776,
           null,
           null,
           null,
           null,
           null
          ],
          [
           null,
           null,
           0.7521964907646179,
           null,
           null,
           null,
           null,
           null,
           null,
           null
          ],
          [
           null,
           null,
           null,
           null,
           null,
           null,
           null,
           null,
           0.9458865523338318,
           null
          ]
         ]
        },
        {
         "marker": {
          "color": "black"
         },
         "mode": "markers",
         "showlegend": false,
         "type": "scatter",
         "x": [
          0.8343662356211846,
          0.8792675991877269,
          0.8700648073603755,
          0.8583730620569984,
          0.9910653091313444,
          0.9454761908726577,
          0.9355278762575644,
          0.8847775912911807,
          0.8292747404960318,
          0.8964296642692322
         ],
         "xaxis": "x62",
         "y": [
          0.00026786709389757784,
          0.0008316437322277936,
          0.00024206467053167096,
          0.00191834042067662,
          0.0002461730007892341,
          0.008235695017360493,
          9.658630631397371e-05,
          0.00013574996304822177,
          0.00010839860995588048,
          7.769001540971277e-05
         ],
         "yaxis": "y62"
        },
        {
         "colorbar": {
          "title": {
           "text": "Objective Value"
          }
         },
         "colorscale": [
          [
           0,
           "rgb(5,10,172)"
          ],
          [
           0.35,
           "rgb(40,60,190)"
          ],
          [
           0.5,
           "rgb(70,100,245)"
          ],
          [
           0.6,
           "rgb(90,120,245)"
          ],
          [
           0.7,
           "rgb(106,137,247)"
          ],
          [
           1,
           "rgb(220,220,220)"
          ]
         ],
         "connectgaps": true,
         "contours": {
          "coloring": "heatmap"
         },
         "hoverinfo": "none",
         "line": {
          "smoothing": 1.3
         },
         "showscale": false,
         "type": "contour",
         "x": [
          false,
          true
         ],
         "xaxis": "x7",
         "y": [
          16,
          64,
          128
         ],
         "yaxis": "y7",
         "z": [
          [
           null,
           0.7892372012138367
          ],
          [
           0.5784744620323181,
           null
          ],
          [
           0.8660143613815308,
           0.9208266735076904
          ]
         ]
        },
        {
         "marker": {
          "color": "black"
         },
         "mode": "markers",
         "showlegend": false,
         "type": "scatter",
         "x": [
          true,
          true,
          true,
          false,
          true,
          true,
          true,
          false,
          false,
          false
         ],
         "xaxis": "x7",
         "y": [
          16,
          16,
          128,
          64,
          128,
          16,
          16,
          128,
          64,
          64
         ],
         "yaxis": "y7"
        },
        {
         "colorbar": {
          "title": {
           "text": "Objective Value"
          }
         },
         "colorscale": [
          [
           0,
           "rgb(5,10,172)"
          ],
          [
           0.35,
           "rgb(40,60,190)"
          ],
          [
           0.5,
           "rgb(70,100,245)"
          ],
          [
           0.6,
           "rgb(90,120,245)"
          ],
          [
           0.7,
           "rgb(106,137,247)"
          ],
          [
           1,
           "rgb(220,220,220)"
          ]
         ],
         "connectgaps": true,
         "contours": {
          "coloring": "heatmap"
         },
         "hoverinfo": "none",
         "line": {
          "smoothing": 1.3
         },
         "showscale": false,
         "type": "contour",
         "x": [
          false,
          true
         ],
         "xaxis": "x15",
         "y": [
          0.13696254402480412,
          0.27574042289278133,
          0.30811559721491616,
          0.3206051108604173,
          0.32940522064176114,
          0.4051284289161241,
          0.4199071669462878,
          0.43912042347804847,
          0.4475426537245917,
          0.4476176051738697
         ],
         "yaxis": "y15",
         "z": [
          [
           null,
           0.9458865523338318
          ],
          [
           null,
           0.9208266735076904
          ],
          [
           null,
           0.8695088028907776
          ],
          [
           0.5784744620323181,
           null
          ],
          [
           0.7717651724815369,
           null
          ],
          [
           null,
           0.5426318049430847
          ],
          [
           0.7521964907646179,
           null
          ],
          [
           0.8660143613815308,
           null
          ],
          [
           null,
           0.763079047203064
          ],
          [
           null,
           0.7892372012138367
          ]
         ]
        },
        {
         "marker": {
          "color": "black"
         },
         "mode": "markers",
         "showlegend": false,
         "type": "scatter",
         "x": [
          true,
          true,
          true,
          false,
          true,
          true,
          true,
          false,
          false,
          false
         ],
         "xaxis": "x15",
         "y": [
          0.4475426537245917,
          0.30811559721491616,
          0.4051284289161241,
          0.4199071669462878,
          0.27574042289278133,
          0.13696254402480412,
          0.4476176051738697,
          0.43912042347804847,
          0.32940522064176114,
          0.3206051108604173
         ],
         "yaxis": "y15"
        },
        {
         "colorbar": {
          "title": {
           "text": "Objective Value"
          }
         },
         "colorscale": [
          [
           0,
           "rgb(5,10,172)"
          ],
          [
           0.35,
           "rgb(40,60,190)"
          ],
          [
           0.5,
           "rgb(70,100,245)"
          ],
          [
           0.6,
           "rgb(90,120,245)"
          ],
          [
           0.7,
           "rgb(106,137,247)"
          ],
          [
           1,
           "rgb(220,220,220)"
          ]
         ],
         "connectgaps": true,
         "contours": {
          "coloring": "heatmap"
         },
         "hoverinfo": "none",
         "line": {
          "smoothing": 1.3
         },
         "showscale": false,
         "type": "contour",
         "x": [
          false,
          true
         ],
         "xaxis": "x23",
         "y": [
          8,
          16,
          128,
          256
         ],
         "yaxis": "y23",
         "z": [
          [
           0.5784744620323181,
           0.5426318049430847
          ],
          [
           0.7521964907646179,
           0.9208266735076904
          ],
          [
           0.7717651724815369,
           0.7892372012138367
          ],
          [
           null,
           0.9458865523338318
          ]
         ]
        },
        {
         "marker": {
          "color": "black"
         },
         "mode": "markers",
         "showlegend": false,
         "type": "scatter",
         "x": [
          true,
          true,
          true,
          false,
          true,
          true,
          true,
          false,
          false,
          false
         ],
         "xaxis": "x23",
         "y": [
          128,
          128,
          8,
          16,
          16,
          256,
          128,
          128,
          128,
          8
         ],
         "yaxis": "y23"
        },
        {
         "colorbar": {
          "title": {
           "text": "Objective Value"
          }
         },
         "colorscale": [
          [
           0,
           "rgb(5,10,172)"
          ],
          [
           0.35,
           "rgb(40,60,190)"
          ],
          [
           0.5,
           "rgb(70,100,245)"
          ],
          [
           0.6,
           "rgb(90,120,245)"
          ],
          [
           0.7,
           "rgb(106,137,247)"
          ],
          [
           1,
           "rgb(220,220,220)"
          ]
         ],
         "connectgaps": true,
         "contours": {
          "coloring": "heatmap"
         },
         "hoverinfo": "none",
         "line": {
          "smoothing": 1.3
         },
         "showscale": false,
         "type": "contour",
         "x": [
          false,
          true
         ],
         "xaxis": "x31",
         "y": [
          2,
          3,
          4,
          5
         ],
         "yaxis": "y31",
         "z": [
          [
           0.8660143613815308,
           null
          ],
          [
           0.5784744620323181,
           0.5426318049430847
          ],
          [
           0.7521964907646179,
           0.9208266735076904
          ],
          [
           0.7717651724815369,
           0.7892372012138367
          ]
         ]
        },
        {
         "marker": {
          "color": "black"
         },
         "mode": "markers",
         "showlegend": false,
         "type": "scatter",
         "x": [
          true,
          true,
          true,
          false,
          true,
          true,
          true,
          false,
          false,
          false
         ],
         "xaxis": "x31",
         "y": [
          5,
          4,
          3,
          4,
          4,
          5,
          5,
          2,
          5,
          3
         ],
         "yaxis": "y31"
        },
        {
         "colorbar": {
          "title": {
           "text": "Objective Value"
          }
         },
         "colorscale": [
          [
           0,
           "rgb(5,10,172)"
          ],
          [
           0.35,
           "rgb(40,60,190)"
          ],
          [
           0.5,
           "rgb(70,100,245)"
          ],
          [
           0.6,
           "rgb(90,120,245)"
          ],
          [
           0.7,
           "rgb(106,137,247)"
          ],
          [
           1,
           "rgb(220,220,220)"
          ]
         ],
         "connectgaps": true,
         "contours": {
          "coloring": "heatmap"
         },
         "hoverinfo": "none",
         "line": {
          "smoothing": 1.3
         },
         "showscale": false,
         "type": "contour",
         "x": [
          false,
          true
         ],
         "xaxis": "x39",
         "y": [
          0.00011431229408656762,
          0.00011985939874632534,
          0.00019459451111337528,
          0.00021577654778061675,
          0.0002781761413312715,
          0.00031379768467785276,
          0.0003222124173376937,
          0.00034234441557670246,
          0.0009011149211580522,
          0.0009969827342691411
         ],
         "yaxis": "y39",
         "z": [
          [
           null,
           0.7892372012138367
          ],
          [
           0.8660143613815308,
           null
          ],
          [
           null,
           0.8695088028907776
          ],
          [
           0.7717651724815369,
           null
          ],
          [
           null,
           0.763079047203064
          ],
          [
           null,
           0.5426318049430847
          ],
          [
           null,
           0.9208266735076904
          ],
          [
           0.5784744620323181,
           null
          ],
          [
           null,
           0.9458865523338318
          ],
          [
           0.7521964907646179,
           null
          ]
         ]
        },
        {
         "marker": {
          "color": "black"
         },
         "mode": "markers",
         "showlegend": false,
         "type": "scatter",
         "x": [
          true,
          true,
          true,
          false,
          true,
          true,
          true,
          false,
          false,
          false
         ],
         "xaxis": "x39",
         "y": [
          0.0002781761413312715,
          0.00019459451111337528,
          0.00031379768467785276,
          0.0009969827342691411,
          0.0003222124173376937,
          0.0009011149211580522,
          0.00011431229408656762,
          0.00011985939874632534,
          0.00021577654778061675,
          0.00034234441557670246
         ],
         "yaxis": "y39"
        },
        {
         "colorbar": {
          "title": {
           "text": "Objective Value"
          }
         },
         "colorscale": [
          [
           0,
           "rgb(5,10,172)"
          ],
          [
           0.35,
           "rgb(40,60,190)"
          ],
          [
           0.5,
           "rgb(70,100,245)"
          ],
          [
           0.6,
           "rgb(90,120,245)"
          ],
          [
           0.7,
           "rgb(106,137,247)"
          ],
          [
           1,
           "rgb(220,220,220)"
          ]
         ],
         "connectgaps": true,
         "contours": {
          "coloring": "heatmap"
         },
         "hoverinfo": "none",
         "line": {
          "smoothing": 1.3
         },
         "showscale": false,
         "type": "contour",
         "x": [
          false,
          true
         ],
         "xaxis": "x47",
         "y": [
          0.8292747404960318,
          0.8343662356211846,
          0.8583730620569984,
          0.8700648073603755,
          0.8792675991877269,
          0.8847775912911807,
          0.8964296642692322,
          0.9355278762575644,
          0.9454761908726577,
          0.9910653091313444
         ],
         "yaxis": "y47",
         "z": [
          [
           0.7717651724815369,
           null
          ],
          [
           null,
           0.763079047203064
          ],
          [
           0.7521964907646179,
           null
          ],
          [
           null,
           0.5426318049430847
          ],
          [
           null,
           0.8695088028907776
          ],
          [
           0.8660143613815308,
           null
          ],
          [
           0.5784744620323181,
           null
          ],
          [
           null,
           0.7892372012138367
          ],
          [
           null,
           0.9458865523338318
          ],
          [
           null,
           0.9208266735076904
          ]
         ]
        },
        {
         "marker": {
          "color": "black"
         },
         "mode": "markers",
         "showlegend": false,
         "type": "scatter",
         "x": [
          true,
          true,
          true,
          false,
          true,
          true,
          true,
          false,
          false,
          false
         ],
         "xaxis": "x47",
         "y": [
          0.8343662356211846,
          0.8792675991877269,
          0.8700648073603755,
          0.8583730620569984,
          0.9910653091313444,
          0.9454761908726577,
          0.9355278762575644,
          0.8847775912911807,
          0.8292747404960318,
          0.8964296642692322
         ],
         "yaxis": "y47"
        },
        {
         "type": "scatter",
         "xaxis": "x55",
         "yaxis": "y55"
        },
        {
         "colorbar": {
          "title": {
           "text": "Objective Value"
          }
         },
         "colorscale": [
          [
           0,
           "rgb(5,10,172)"
          ],
          [
           0.35,
           "rgb(40,60,190)"
          ],
          [
           0.5,
           "rgb(70,100,245)"
          ],
          [
           0.6,
           "rgb(90,120,245)"
          ],
          [
           0.7,
           "rgb(106,137,247)"
          ],
          [
           1,
           "rgb(220,220,220)"
          ]
         ],
         "connectgaps": true,
         "contours": {
          "coloring": "heatmap"
         },
         "hoverinfo": "none",
         "line": {
          "smoothing": 1.3
         },
         "showscale": false,
         "type": "contour",
         "x": [
          false,
          true
         ],
         "xaxis": "x63",
         "y": [
          7.769001540971277e-05,
          9.658630631397371e-05,
          0.00010839860995588048,
          0.00013574996304822177,
          0.00024206467053167096,
          0.0002461730007892341,
          0.00026786709389757784,
          0.0008316437322277936,
          0.00191834042067662,
          0.008235695017360493
         ],
         "yaxis": "y63",
         "z": [
          [
           0.5784744620323181,
           null
          ],
          [
           null,
           0.7892372012138367
          ],
          [
           0.7717651724815369,
           null
          ],
          [
           0.8660143613815308,
           null
          ],
          [
           null,
           0.5426318049430847
          ],
          [
           null,
           0.9208266735076904
          ],
          [
           null,
           0.763079047203064
          ],
          [
           null,
           0.8695088028907776
          ],
          [
           0.7521964907646179,
           null
          ],
          [
           null,
           0.9458865523338318
          ]
         ]
        },
        {
         "marker": {
          "color": "black"
         },
         "mode": "markers",
         "showlegend": false,
         "type": "scatter",
         "x": [
          true,
          true,
          true,
          false,
          true,
          true,
          true,
          false,
          false,
          false
         ],
         "xaxis": "x63",
         "y": [
          0.00026786709389757784,
          0.0008316437322277936,
          0.00024206467053167096,
          0.00191834042067662,
          0.0002461730007892341,
          0.008235695017360493,
          9.658630631397371e-05,
          0.00013574996304822177,
          0.00010839860995588048,
          7.769001540971277e-05
         ],
         "yaxis": "y63"
        },
        {
         "colorbar": {
          "title": {
           "text": "Objective Value"
          }
         },
         "colorscale": [
          [
           0,
           "rgb(5,10,172)"
          ],
          [
           0.35,
           "rgb(40,60,190)"
          ],
          [
           0.5,
           "rgb(70,100,245)"
          ],
          [
           0.6,
           "rgb(90,120,245)"
          ],
          [
           0.7,
           "rgb(106,137,247)"
          ],
          [
           1,
           "rgb(220,220,220)"
          ]
         ],
         "connectgaps": true,
         "contours": {
          "coloring": "heatmap"
         },
         "hoverinfo": "none",
         "line": {
          "smoothing": 1.3
         },
         "showscale": false,
         "type": "contour",
         "x": [
          7.769001540971277e-05,
          9.658630631397371e-05,
          0.00010839860995588048,
          0.00013574996304822177,
          0.00024206467053167096,
          0.0002461730007892341,
          0.00026786709389757784,
          0.0008316437322277936,
          0.00191834042067662,
          0.008235695017360493
         ],
         "xaxis": "x8",
         "y": [
          16,
          64,
          128
         ],
         "yaxis": "y8",
         "z": [
          [
           null,
           0.7892372012138367,
           null,
           null,
           null,
           null,
           0.763079047203064,
           0.8695088028907776,
           null,
           0.9458865523338318
          ],
          [
           0.5784744620323181,
           null,
           0.7717651724815369,
           null,
           null,
           null,
           null,
           null,
           0.7521964907646179,
           null
          ],
          [
           null,
           null,
           null,
           0.8660143613815308,
           0.5426318049430847,
           0.9208266735076904,
           null,
           null,
           null,
           null
          ]
         ]
        },
        {
         "marker": {
          "color": "black"
         },
         "mode": "markers",
         "showlegend": false,
         "type": "scatter",
         "x": [
          0.00026786709389757784,
          0.0008316437322277936,
          0.00024206467053167096,
          0.00191834042067662,
          0.0002461730007892341,
          0.008235695017360493,
          9.658630631397371e-05,
          0.00013574996304822177,
          0.00010839860995588048,
          7.769001540971277e-05
         ],
         "xaxis": "x8",
         "y": [
          16,
          16,
          128,
          64,
          128,
          16,
          16,
          128,
          64,
          64
         ],
         "yaxis": "y8"
        },
        {
         "colorbar": {
          "title": {
           "text": "Objective Value"
          }
         },
         "colorscale": [
          [
           0,
           "rgb(5,10,172)"
          ],
          [
           0.35,
           "rgb(40,60,190)"
          ],
          [
           0.5,
           "rgb(70,100,245)"
          ],
          [
           0.6,
           "rgb(90,120,245)"
          ],
          [
           0.7,
           "rgb(106,137,247)"
          ],
          [
           1,
           "rgb(220,220,220)"
          ]
         ],
         "connectgaps": true,
         "contours": {
          "coloring": "heatmap"
         },
         "hoverinfo": "none",
         "line": {
          "smoothing": 1.3
         },
         "showscale": false,
         "type": "contour",
         "x": [
          7.769001540971277e-05,
          9.658630631397371e-05,
          0.00010839860995588048,
          0.00013574996304822177,
          0.00024206467053167096,
          0.0002461730007892341,
          0.00026786709389757784,
          0.0008316437322277936,
          0.00191834042067662,
          0.008235695017360493
         ],
         "xaxis": "x16",
         "y": [
          0.13696254402480412,
          0.27574042289278133,
          0.30811559721491616,
          0.3206051108604173,
          0.32940522064176114,
          0.4051284289161241,
          0.4199071669462878,
          0.43912042347804847,
          0.4475426537245917,
          0.4476176051738697
         ],
         "yaxis": "y16",
         "z": [
          [
           null,
           null,
           null,
           null,
           null,
           null,
           null,
           null,
           null,
           0.9458865523338318
          ],
          [
           null,
           null,
           null,
           null,
           null,
           0.9208266735076904,
           null,
           null,
           null,
           null
          ],
          [
           null,
           null,
           null,
           null,
           null,
           null,
           null,
           0.8695088028907776,
           null,
           null
          ],
          [
           0.5784744620323181,
           null,
           null,
           null,
           null,
           null,
           null,
           null,
           null,
           null
          ],
          [
           null,
           null,
           0.7717651724815369,
           null,
           null,
           null,
           null,
           null,
           null,
           null
          ],
          [
           null,
           null,
           null,
           null,
           0.5426318049430847,
           null,
           null,
           null,
           null,
           null
          ],
          [
           null,
           null,
           null,
           null,
           null,
           null,
           null,
           null,
           0.7521964907646179,
           null
          ],
          [
           null,
           null,
           null,
           0.8660143613815308,
           null,
           null,
           null,
           null,
           null,
           null
          ],
          [
           null,
           null,
           null,
           null,
           null,
           null,
           0.763079047203064,
           null,
           null,
           null
          ],
          [
           null,
           0.7892372012138367,
           null,
           null,
           null,
           null,
           null,
           null,
           null,
           null
          ]
         ]
        },
        {
         "marker": {
          "color": "black"
         },
         "mode": "markers",
         "showlegend": false,
         "type": "scatter",
         "x": [
          0.00026786709389757784,
          0.0008316437322277936,
          0.00024206467053167096,
          0.00191834042067662,
          0.0002461730007892341,
          0.008235695017360493,
          9.658630631397371e-05,
          0.00013574996304822177,
          0.00010839860995588048,
          7.769001540971277e-05
         ],
         "xaxis": "x16",
         "y": [
          0.4475426537245917,
          0.30811559721491616,
          0.4051284289161241,
          0.4199071669462878,
          0.27574042289278133,
          0.13696254402480412,
          0.4476176051738697,
          0.43912042347804847,
          0.32940522064176114,
          0.3206051108604173
         ],
         "yaxis": "y16"
        },
        {
         "colorbar": {
          "title": {
           "text": "Objective Value"
          }
         },
         "colorscale": [
          [
           0,
           "rgb(5,10,172)"
          ],
          [
           0.35,
           "rgb(40,60,190)"
          ],
          [
           0.5,
           "rgb(70,100,245)"
          ],
          [
           0.6,
           "rgb(90,120,245)"
          ],
          [
           0.7,
           "rgb(106,137,247)"
          ],
          [
           1,
           "rgb(220,220,220)"
          ]
         ],
         "connectgaps": true,
         "contours": {
          "coloring": "heatmap"
         },
         "hoverinfo": "none",
         "line": {
          "smoothing": 1.3
         },
         "showscale": false,
         "type": "contour",
         "x": [
          7.769001540971277e-05,
          9.658630631397371e-05,
          0.00010839860995588048,
          0.00013574996304822177,
          0.00024206467053167096,
          0.0002461730007892341,
          0.00026786709389757784,
          0.0008316437322277936,
          0.00191834042067662,
          0.008235695017360493
         ],
         "xaxis": "x24",
         "y": [
          8,
          16,
          128,
          256
         ],
         "yaxis": "y24",
         "z": [
          [
           0.5784744620323181,
           null,
           null,
           null,
           0.5426318049430847,
           null,
           null,
           null,
           null,
           null
          ],
          [
           null,
           null,
           null,
           null,
           null,
           0.9208266735076904,
           null,
           null,
           0.7521964907646179,
           null
          ],
          [
           null,
           0.7892372012138367,
           0.7717651724815369,
           0.8660143613815308,
           null,
           null,
           0.763079047203064,
           0.8695088028907776,
           null,
           null
          ],
          [
           null,
           null,
           null,
           null,
           null,
           null,
           null,
           null,
           null,
           0.9458865523338318
          ]
         ]
        },
        {
         "marker": {
          "color": "black"
         },
         "mode": "markers",
         "showlegend": false,
         "type": "scatter",
         "x": [
          0.00026786709389757784,
          0.0008316437322277936,
          0.00024206467053167096,
          0.00191834042067662,
          0.0002461730007892341,
          0.008235695017360493,
          9.658630631397371e-05,
          0.00013574996304822177,
          0.00010839860995588048,
          7.769001540971277e-05
         ],
         "xaxis": "x24",
         "y": [
          128,
          128,
          8,
          16,
          16,
          256,
          128,
          128,
          128,
          8
         ],
         "yaxis": "y24"
        },
        {
         "colorbar": {
          "title": {
           "text": "Objective Value"
          }
         },
         "colorscale": [
          [
           0,
           "rgb(5,10,172)"
          ],
          [
           0.35,
           "rgb(40,60,190)"
          ],
          [
           0.5,
           "rgb(70,100,245)"
          ],
          [
           0.6,
           "rgb(90,120,245)"
          ],
          [
           0.7,
           "rgb(106,137,247)"
          ],
          [
           1,
           "rgb(220,220,220)"
          ]
         ],
         "connectgaps": true,
         "contours": {
          "coloring": "heatmap"
         },
         "hoverinfo": "none",
         "line": {
          "smoothing": 1.3
         },
         "showscale": false,
         "type": "contour",
         "x": [
          7.769001540971277e-05,
          9.658630631397371e-05,
          0.00010839860995588048,
          0.00013574996304822177,
          0.00024206467053167096,
          0.0002461730007892341,
          0.00026786709389757784,
          0.0008316437322277936,
          0.00191834042067662,
          0.008235695017360493
         ],
         "xaxis": "x32",
         "y": [
          2,
          3,
          4,
          5
         ],
         "yaxis": "y32",
         "z": [
          [
           null,
           null,
           null,
           0.8660143613815308,
           null,
           null,
           null,
           null,
           null,
           null
          ],
          [
           0.5784744620323181,
           null,
           null,
           null,
           0.5426318049430847,
           null,
           null,
           null,
           null,
           null
          ],
          [
           null,
           null,
           null,
           null,
           null,
           0.9208266735076904,
           null,
           0.8695088028907776,
           0.7521964907646179,
           null
          ],
          [
           null,
           0.7892372012138367,
           0.7717651724815369,
           null,
           null,
           null,
           0.763079047203064,
           null,
           null,
           0.9458865523338318
          ]
         ]
        },
        {
         "marker": {
          "color": "black"
         },
         "mode": "markers",
         "showlegend": false,
         "type": "scatter",
         "x": [
          0.00026786709389757784,
          0.0008316437322277936,
          0.00024206467053167096,
          0.00191834042067662,
          0.0002461730007892341,
          0.008235695017360493,
          9.658630631397371e-05,
          0.00013574996304822177,
          0.00010839860995588048,
          7.769001540971277e-05
         ],
         "xaxis": "x32",
         "y": [
          5,
          4,
          3,
          4,
          4,
          5,
          5,
          2,
          5,
          3
         ],
         "yaxis": "y32"
        },
        {
         "colorbar": {
          "title": {
           "text": "Objective Value"
          }
         },
         "colorscale": [
          [
           0,
           "rgb(5,10,172)"
          ],
          [
           0.35,
           "rgb(40,60,190)"
          ],
          [
           0.5,
           "rgb(70,100,245)"
          ],
          [
           0.6,
           "rgb(90,120,245)"
          ],
          [
           0.7,
           "rgb(106,137,247)"
          ],
          [
           1,
           "rgb(220,220,220)"
          ]
         ],
         "connectgaps": true,
         "contours": {
          "coloring": "heatmap"
         },
         "hoverinfo": "none",
         "line": {
          "smoothing": 1.3
         },
         "showscale": false,
         "type": "contour",
         "x": [
          7.769001540971277e-05,
          9.658630631397371e-05,
          0.00010839860995588048,
          0.00013574996304822177,
          0.00024206467053167096,
          0.0002461730007892341,
          0.00026786709389757784,
          0.0008316437322277936,
          0.00191834042067662,
          0.008235695017360493
         ],
         "xaxis": "x40",
         "y": [
          0.00011431229408656762,
          0.00011985939874632534,
          0.00019459451111337528,
          0.00021577654778061675,
          0.0002781761413312715,
          0.00031379768467785276,
          0.0003222124173376937,
          0.00034234441557670246,
          0.0009011149211580522,
          0.0009969827342691411
         ],
         "yaxis": "y40",
         "z": [
          [
           null,
           0.7892372012138367,
           null,
           null,
           null,
           null,
           null,
           null,
           null,
           null
          ],
          [
           null,
           null,
           null,
           0.8660143613815308,
           null,
           null,
           null,
           null,
           null,
           null
          ],
          [
           null,
           null,
           null,
           null,
           null,
           null,
           null,
           0.8695088028907776,
           null,
           null
          ],
          [
           null,
           null,
           0.7717651724815369,
           null,
           null,
           null,
           null,
           null,
           null,
           null
          ],
          [
           null,
           null,
           null,
           null,
           null,
           null,
           0.763079047203064,
           null,
           null,
           null
          ],
          [
           null,
           null,
           null,
           null,
           0.5426318049430847,
           null,
           null,
           null,
           null,
           null
          ],
          [
           null,
           null,
           null,
           null,
           null,
           0.9208266735076904,
           null,
           null,
           null,
           null
          ],
          [
           0.5784744620323181,
           null,
           null,
           null,
           null,
           null,
           null,
           null,
           null,
           null
          ],
          [
           null,
           null,
           null,
           null,
           null,
           null,
           null,
           null,
           null,
           0.9458865523338318
          ],
          [
           null,
           null,
           null,
           null,
           null,
           null,
           null,
           null,
           0.7521964907646179,
           null
          ]
         ]
        },
        {
         "marker": {
          "color": "black"
         },
         "mode": "markers",
         "showlegend": false,
         "type": "scatter",
         "x": [
          0.00026786709389757784,
          0.0008316437322277936,
          0.00024206467053167096,
          0.00191834042067662,
          0.0002461730007892341,
          0.008235695017360493,
          9.658630631397371e-05,
          0.00013574996304822177,
          0.00010839860995588048,
          7.769001540971277e-05
         ],
         "xaxis": "x40",
         "y": [
          0.0002781761413312715,
          0.00019459451111337528,
          0.00031379768467785276,
          0.0009969827342691411,
          0.0003222124173376937,
          0.0009011149211580522,
          0.00011431229408656762,
          0.00011985939874632534,
          0.00021577654778061675,
          0.00034234441557670246
         ],
         "yaxis": "y40"
        },
        {
         "colorbar": {
          "title": {
           "text": "Objective Value"
          }
         },
         "colorscale": [
          [
           0,
           "rgb(5,10,172)"
          ],
          [
           0.35,
           "rgb(40,60,190)"
          ],
          [
           0.5,
           "rgb(70,100,245)"
          ],
          [
           0.6,
           "rgb(90,120,245)"
          ],
          [
           0.7,
           "rgb(106,137,247)"
          ],
          [
           1,
           "rgb(220,220,220)"
          ]
         ],
         "connectgaps": true,
         "contours": {
          "coloring": "heatmap"
         },
         "hoverinfo": "none",
         "line": {
          "smoothing": 1.3
         },
         "showscale": false,
         "type": "contour",
         "x": [
          7.769001540971277e-05,
          9.658630631397371e-05,
          0.00010839860995588048,
          0.00013574996304822177,
          0.00024206467053167096,
          0.0002461730007892341,
          0.00026786709389757784,
          0.0008316437322277936,
          0.00191834042067662,
          0.008235695017360493
         ],
         "xaxis": "x48",
         "y": [
          0.8292747404960318,
          0.8343662356211846,
          0.8583730620569984,
          0.8700648073603755,
          0.8792675991877269,
          0.8847775912911807,
          0.8964296642692322,
          0.9355278762575644,
          0.9454761908726577,
          0.9910653091313444
         ],
         "yaxis": "y48",
         "z": [
          [
           null,
           null,
           0.7717651724815369,
           null,
           null,
           null,
           null,
           null,
           null,
           null
          ],
          [
           null,
           null,
           null,
           null,
           null,
           null,
           0.763079047203064,
           null,
           null,
           null
          ],
          [
           null,
           null,
           null,
           null,
           null,
           null,
           null,
           null,
           0.7521964907646179,
           null
          ],
          [
           null,
           null,
           null,
           null,
           0.5426318049430847,
           null,
           null,
           null,
           null,
           null
          ],
          [
           null,
           null,
           null,
           null,
           null,
           null,
           null,
           0.8695088028907776,
           null,
           null
          ],
          [
           null,
           null,
           null,
           0.8660143613815308,
           null,
           null,
           null,
           null,
           null,
           null
          ],
          [
           0.5784744620323181,
           null,
           null,
           null,
           null,
           null,
           null,
           null,
           null,
           null
          ],
          [
           null,
           0.7892372012138367,
           null,
           null,
           null,
           null,
           null,
           null,
           null,
           null
          ],
          [
           null,
           null,
           null,
           null,
           null,
           null,
           null,
           null,
           null,
           0.9458865523338318
          ],
          [
           null,
           null,
           null,
           null,
           null,
           0.9208266735076904,
           null,
           null,
           null,
           null
          ]
         ]
        },
        {
         "marker": {
          "color": "black"
         },
         "mode": "markers",
         "showlegend": false,
         "type": "scatter",
         "x": [
          0.00026786709389757784,
          0.0008316437322277936,
          0.00024206467053167096,
          0.00191834042067662,
          0.0002461730007892341,
          0.008235695017360493,
          9.658630631397371e-05,
          0.00013574996304822177,
          0.00010839860995588048,
          7.769001540971277e-05
         ],
         "xaxis": "x48",
         "y": [
          0.8343662356211846,
          0.8792675991877269,
          0.8700648073603755,
          0.8583730620569984,
          0.9910653091313444,
          0.9454761908726577,
          0.9355278762575644,
          0.8847775912911807,
          0.8292747404960318,
          0.8964296642692322
         ],
         "yaxis": "y48"
        },
        {
         "colorbar": {
          "title": {
           "text": "Objective Value"
          }
         },
         "colorscale": [
          [
           0,
           "rgb(5,10,172)"
          ],
          [
           0.35,
           "rgb(40,60,190)"
          ],
          [
           0.5,
           "rgb(70,100,245)"
          ],
          [
           0.6,
           "rgb(90,120,245)"
          ],
          [
           0.7,
           "rgb(106,137,247)"
          ],
          [
           1,
           "rgb(220,220,220)"
          ]
         ],
         "connectgaps": true,
         "contours": {
          "coloring": "heatmap"
         },
         "hoverinfo": "none",
         "line": {
          "smoothing": 1.3
         },
         "showscale": false,
         "type": "contour",
         "x": [
          7.769001540971277e-05,
          9.658630631397371e-05,
          0.00010839860995588048,
          0.00013574996304822177,
          0.00024206467053167096,
          0.0002461730007892341,
          0.00026786709389757784,
          0.0008316437322277936,
          0.00191834042067662,
          0.008235695017360493
         ],
         "xaxis": "x56",
         "y": [
          false,
          true
         ],
         "yaxis": "y56",
         "z": [
          [
           0.5784744620323181,
           null,
           0.7717651724815369,
           0.8660143613815308,
           null,
           null,
           null,
           null,
           0.7521964907646179,
           null
          ],
          [
           null,
           0.7892372012138367,
           null,
           null,
           0.5426318049430847,
           0.9208266735076904,
           0.763079047203064,
           0.8695088028907776,
           null,
           0.9458865523338318
          ]
         ]
        },
        {
         "marker": {
          "color": "black"
         },
         "mode": "markers",
         "showlegend": false,
         "type": "scatter",
         "x": [
          0.00026786709389757784,
          0.0008316437322277936,
          0.00024206467053167096,
          0.00191834042067662,
          0.0002461730007892341,
          0.008235695017360493,
          9.658630631397371e-05,
          0.00013574996304822177,
          0.00010839860995588048,
          7.769001540971277e-05
         ],
         "xaxis": "x56",
         "y": [
          true,
          true,
          true,
          false,
          true,
          true,
          true,
          false,
          false,
          false
         ],
         "yaxis": "y56"
        },
        {
         "type": "scatter",
         "xaxis": "x64",
         "yaxis": "y64"
        }
       ],
       "layout": {
        "template": {
         "data": {
          "bar": [
           {
            "error_x": {
             "color": "#2a3f5f"
            },
            "error_y": {
             "color": "#2a3f5f"
            },
            "marker": {
             "line": {
              "color": "#E5ECF6",
              "width": 0.5
             }
            },
            "type": "bar"
           }
          ],
          "barpolar": [
           {
            "marker": {
             "line": {
              "color": "#E5ECF6",
              "width": 0.5
             }
            },
            "type": "barpolar"
           }
          ],
          "carpet": [
           {
            "aaxis": {
             "endlinecolor": "#2a3f5f",
             "gridcolor": "white",
             "linecolor": "white",
             "minorgridcolor": "white",
             "startlinecolor": "#2a3f5f"
            },
            "baxis": {
             "endlinecolor": "#2a3f5f",
             "gridcolor": "white",
             "linecolor": "white",
             "minorgridcolor": "white",
             "startlinecolor": "#2a3f5f"
            },
            "type": "carpet"
           }
          ],
          "choropleth": [
           {
            "colorbar": {
             "outlinewidth": 0,
             "ticks": ""
            },
            "type": "choropleth"
           }
          ],
          "contour": [
           {
            "colorbar": {
             "outlinewidth": 0,
             "ticks": ""
            },
            "colorscale": [
             [
              0,
              "#0d0887"
             ],
             [
              0.1111111111111111,
              "#46039f"
             ],
             [
              0.2222222222222222,
              "#7201a8"
             ],
             [
              0.3333333333333333,
              "#9c179e"
             ],
             [
              0.4444444444444444,
              "#bd3786"
             ],
             [
              0.5555555555555556,
              "#d8576b"
             ],
             [
              0.6666666666666666,
              "#ed7953"
             ],
             [
              0.7777777777777778,
              "#fb9f3a"
             ],
             [
              0.8888888888888888,
              "#fdca26"
             ],
             [
              1,
              "#f0f921"
             ]
            ],
            "type": "contour"
           }
          ],
          "contourcarpet": [
           {
            "colorbar": {
             "outlinewidth": 0,
             "ticks": ""
            },
            "type": "contourcarpet"
           }
          ],
          "heatmap": [
           {
            "colorbar": {
             "outlinewidth": 0,
             "ticks": ""
            },
            "colorscale": [
             [
              0,
              "#0d0887"
             ],
             [
              0.1111111111111111,
              "#46039f"
             ],
             [
              0.2222222222222222,
              "#7201a8"
             ],
             [
              0.3333333333333333,
              "#9c179e"
             ],
             [
              0.4444444444444444,
              "#bd3786"
             ],
             [
              0.5555555555555556,
              "#d8576b"
             ],
             [
              0.6666666666666666,
              "#ed7953"
             ],
             [
              0.7777777777777778,
              "#fb9f3a"
             ],
             [
              0.8888888888888888,
              "#fdca26"
             ],
             [
              1,
              "#f0f921"
             ]
            ],
            "type": "heatmap"
           }
          ],
          "heatmapgl": [
           {
            "colorbar": {
             "outlinewidth": 0,
             "ticks": ""
            },
            "colorscale": [
             [
              0,
              "#0d0887"
             ],
             [
              0.1111111111111111,
              "#46039f"
             ],
             [
              0.2222222222222222,
              "#7201a8"
             ],
             [
              0.3333333333333333,
              "#9c179e"
             ],
             [
              0.4444444444444444,
              "#bd3786"
             ],
             [
              0.5555555555555556,
              "#d8576b"
             ],
             [
              0.6666666666666666,
              "#ed7953"
             ],
             [
              0.7777777777777778,
              "#fb9f3a"
             ],
             [
              0.8888888888888888,
              "#fdca26"
             ],
             [
              1,
              "#f0f921"
             ]
            ],
            "type": "heatmapgl"
           }
          ],
          "histogram": [
           {
            "marker": {
             "colorbar": {
              "outlinewidth": 0,
              "ticks": ""
             }
            },
            "type": "histogram"
           }
          ],
          "histogram2d": [
           {
            "colorbar": {
             "outlinewidth": 0,
             "ticks": ""
            },
            "colorscale": [
             [
              0,
              "#0d0887"
             ],
             [
              0.1111111111111111,
              "#46039f"
             ],
             [
              0.2222222222222222,
              "#7201a8"
             ],
             [
              0.3333333333333333,
              "#9c179e"
             ],
             [
              0.4444444444444444,
              "#bd3786"
             ],
             [
              0.5555555555555556,
              "#d8576b"
             ],
             [
              0.6666666666666666,
              "#ed7953"
             ],
             [
              0.7777777777777778,
              "#fb9f3a"
             ],
             [
              0.8888888888888888,
              "#fdca26"
             ],
             [
              1,
              "#f0f921"
             ]
            ],
            "type": "histogram2d"
           }
          ],
          "histogram2dcontour": [
           {
            "colorbar": {
             "outlinewidth": 0,
             "ticks": ""
            },
            "colorscale": [
             [
              0,
              "#0d0887"
             ],
             [
              0.1111111111111111,
              "#46039f"
             ],
             [
              0.2222222222222222,
              "#7201a8"
             ],
             [
              0.3333333333333333,
              "#9c179e"
             ],
             [
              0.4444444444444444,
              "#bd3786"
             ],
             [
              0.5555555555555556,
              "#d8576b"
             ],
             [
              0.6666666666666666,
              "#ed7953"
             ],
             [
              0.7777777777777778,
              "#fb9f3a"
             ],
             [
              0.8888888888888888,
              "#fdca26"
             ],
             [
              1,
              "#f0f921"
             ]
            ],
            "type": "histogram2dcontour"
           }
          ],
          "mesh3d": [
           {
            "colorbar": {
             "outlinewidth": 0,
             "ticks": ""
            },
            "type": "mesh3d"
           }
          ],
          "parcoords": [
           {
            "line": {
             "colorbar": {
              "outlinewidth": 0,
              "ticks": ""
             }
            },
            "type": "parcoords"
           }
          ],
          "pie": [
           {
            "automargin": true,
            "type": "pie"
           }
          ],
          "scatter": [
           {
            "marker": {
             "colorbar": {
              "outlinewidth": 0,
              "ticks": ""
             }
            },
            "type": "scatter"
           }
          ],
          "scatter3d": [
           {
            "line": {
             "colorbar": {
              "outlinewidth": 0,
              "ticks": ""
             }
            },
            "marker": {
             "colorbar": {
              "outlinewidth": 0,
              "ticks": ""
             }
            },
            "type": "scatter3d"
           }
          ],
          "scattercarpet": [
           {
            "marker": {
             "colorbar": {
              "outlinewidth": 0,
              "ticks": ""
             }
            },
            "type": "scattercarpet"
           }
          ],
          "scattergeo": [
           {
            "marker": {
             "colorbar": {
              "outlinewidth": 0,
              "ticks": ""
             }
            },
            "type": "scattergeo"
           }
          ],
          "scattergl": [
           {
            "marker": {
             "colorbar": {
              "outlinewidth": 0,
              "ticks": ""
             }
            },
            "type": "scattergl"
           }
          ],
          "scattermapbox": [
           {
            "marker": {
             "colorbar": {
              "outlinewidth": 0,
              "ticks": ""
             }
            },
            "type": "scattermapbox"
           }
          ],
          "scatterpolar": [
           {
            "marker": {
             "colorbar": {
              "outlinewidth": 0,
              "ticks": ""
             }
            },
            "type": "scatterpolar"
           }
          ],
          "scatterpolargl": [
           {
            "marker": {
             "colorbar": {
              "outlinewidth": 0,
              "ticks": ""
             }
            },
            "type": "scatterpolargl"
           }
          ],
          "scatterternary": [
           {
            "marker": {
             "colorbar": {
              "outlinewidth": 0,
              "ticks": ""
             }
            },
            "type": "scatterternary"
           }
          ],
          "surface": [
           {
            "colorbar": {
             "outlinewidth": 0,
             "ticks": ""
            },
            "colorscale": [
             [
              0,
              "#0d0887"
             ],
             [
              0.1111111111111111,
              "#46039f"
             ],
             [
              0.2222222222222222,
              "#7201a8"
             ],
             [
              0.3333333333333333,
              "#9c179e"
             ],
             [
              0.4444444444444444,
              "#bd3786"
             ],
             [
              0.5555555555555556,
              "#d8576b"
             ],
             [
              0.6666666666666666,
              "#ed7953"
             ],
             [
              0.7777777777777778,
              "#fb9f3a"
             ],
             [
              0.8888888888888888,
              "#fdca26"
             ],
             [
              1,
              "#f0f921"
             ]
            ],
            "type": "surface"
           }
          ],
          "table": [
           {
            "cells": {
             "fill": {
              "color": "#EBF0F8"
             },
             "line": {
              "color": "white"
             }
            },
            "header": {
             "fill": {
              "color": "#C8D4E3"
             },
             "line": {
              "color": "white"
             }
            },
            "type": "table"
           }
          ]
         },
         "layout": {
          "annotationdefaults": {
           "arrowcolor": "#2a3f5f",
           "arrowhead": 0,
           "arrowwidth": 1
          },
          "coloraxis": {
           "colorbar": {
            "outlinewidth": 0,
            "ticks": ""
           }
          },
          "colorscale": {
           "diverging": [
            [
             0,
             "#8e0152"
            ],
            [
             0.1,
             "#c51b7d"
            ],
            [
             0.2,
             "#de77ae"
            ],
            [
             0.3,
             "#f1b6da"
            ],
            [
             0.4,
             "#fde0ef"
            ],
            [
             0.5,
             "#f7f7f7"
            ],
            [
             0.6,
             "#e6f5d0"
            ],
            [
             0.7,
             "#b8e186"
            ],
            [
             0.8,
             "#7fbc41"
            ],
            [
             0.9,
             "#4d9221"
            ],
            [
             1,
             "#276419"
            ]
           ],
           "sequential": [
            [
             0,
             "#0d0887"
            ],
            [
             0.1111111111111111,
             "#46039f"
            ],
            [
             0.2222222222222222,
             "#7201a8"
            ],
            [
             0.3333333333333333,
             "#9c179e"
            ],
            [
             0.4444444444444444,
             "#bd3786"
            ],
            [
             0.5555555555555556,
             "#d8576b"
            ],
            [
             0.6666666666666666,
             "#ed7953"
            ],
            [
             0.7777777777777778,
             "#fb9f3a"
            ],
            [
             0.8888888888888888,
             "#fdca26"
            ],
            [
             1,
             "#f0f921"
            ]
           ],
           "sequentialminus": [
            [
             0,
             "#0d0887"
            ],
            [
             0.1111111111111111,
             "#46039f"
            ],
            [
             0.2222222222222222,
             "#7201a8"
            ],
            [
             0.3333333333333333,
             "#9c179e"
            ],
            [
             0.4444444444444444,
             "#bd3786"
            ],
            [
             0.5555555555555556,
             "#d8576b"
            ],
            [
             0.6666666666666666,
             "#ed7953"
            ],
            [
             0.7777777777777778,
             "#fb9f3a"
            ],
            [
             0.8888888888888888,
             "#fdca26"
            ],
            [
             1,
             "#f0f921"
            ]
           ]
          },
          "colorway": [
           "#636efa",
           "#EF553B",
           "#00cc96",
           "#ab63fa",
           "#FFA15A",
           "#19d3f3",
           "#FF6692",
           "#B6E880",
           "#FF97FF",
           "#FECB52"
          ],
          "font": {
           "color": "#2a3f5f"
          },
          "geo": {
           "bgcolor": "white",
           "lakecolor": "white",
           "landcolor": "#E5ECF6",
           "showlakes": true,
           "showland": true,
           "subunitcolor": "white"
          },
          "hoverlabel": {
           "align": "left"
          },
          "hovermode": "closest",
          "mapbox": {
           "style": "light"
          },
          "paper_bgcolor": "white",
          "plot_bgcolor": "#E5ECF6",
          "polar": {
           "angularaxis": {
            "gridcolor": "white",
            "linecolor": "white",
            "ticks": ""
           },
           "bgcolor": "#E5ECF6",
           "radialaxis": {
            "gridcolor": "white",
            "linecolor": "white",
            "ticks": ""
           }
          },
          "scene": {
           "xaxis": {
            "backgroundcolor": "#E5ECF6",
            "gridcolor": "white",
            "gridwidth": 2,
            "linecolor": "white",
            "showbackground": true,
            "ticks": "",
            "zerolinecolor": "white"
           },
           "yaxis": {
            "backgroundcolor": "#E5ECF6",
            "gridcolor": "white",
            "gridwidth": 2,
            "linecolor": "white",
            "showbackground": true,
            "ticks": "",
            "zerolinecolor": "white"
           },
           "zaxis": {
            "backgroundcolor": "#E5ECF6",
            "gridcolor": "white",
            "gridwidth": 2,
            "linecolor": "white",
            "showbackground": true,
            "ticks": "",
            "zerolinecolor": "white"
           }
          },
          "shapedefaults": {
           "line": {
            "color": "#2a3f5f"
           }
          },
          "ternary": {
           "aaxis": {
            "gridcolor": "white",
            "linecolor": "white",
            "ticks": ""
           },
           "baxis": {
            "gridcolor": "white",
            "linecolor": "white",
            "ticks": ""
           },
           "bgcolor": "#E5ECF6",
           "caxis": {
            "gridcolor": "white",
            "linecolor": "white",
            "ticks": ""
           }
          },
          "title": {
           "x": 0.05
          },
          "xaxis": {
           "automargin": true,
           "gridcolor": "white",
           "linecolor": "white",
           "ticks": "",
           "title": {
            "standoff": 15
           },
           "zerolinecolor": "white",
           "zerolinewidth": 2
          },
          "yaxis": {
           "automargin": true,
           "gridcolor": "white",
           "linecolor": "white",
           "ticks": "",
           "title": {
            "standoff": 15
           },
           "zerolinecolor": "white",
           "zerolinewidth": 2
          }
         }
        },
        "title": {
         "text": "Contour Plot"
        },
        "xaxis": {
         "anchor": "y",
         "domain": [
          0,
          0.103125
         ],
         "matches": "x57",
         "range": [
          16,
          128
         ],
         "showticklabels": false
        },
        "xaxis10": {
         "anchor": "y10",
         "domain": [
          0.128125,
          0.23124999999999998
         ],
         "matches": "x58",
         "range": [
          0.13696254402480412,
          0.4476176051738697
         ],
         "showticklabels": false
        },
        "xaxis11": {
         "anchor": "y11",
         "domain": [
          0.25625,
          0.359375
         ],
         "matches": "x59",
         "range": [
          8,
          256
         ],
         "showticklabels": false
        },
        "xaxis12": {
         "anchor": "y12",
         "domain": [
          0.38437499999999997,
          0.48749999999999993
         ],
         "matches": "x60",
         "range": [
          2,
          5
         ],
         "showticklabels": false
        },
        "xaxis13": {
         "anchor": "y13",
         "domain": [
          0.5125,
          0.615625
         ],
         "matches": "x61",
         "range": [
          -3.9419070594837002,
          -3.00131236272803
         ],
         "showticklabels": false,
         "type": "log"
        },
        "xaxis14": {
         "anchor": "y14",
         "domain": [
          0.640625,
          0.74375
         ],
         "matches": "x62",
         "range": [
          0.8292747404960318,
          0.9910653091313444
         ],
         "showticklabels": false
        },
        "xaxis15": {
         "anchor": "y15",
         "domain": [
          0.76875,
          0.8718750000000001
         ],
         "matches": "x63",
         "range": [
          false,
          true
         ],
         "showticklabels": false
        },
        "xaxis16": {
         "anchor": "y16",
         "domain": [
          0.8968750000000001,
          1
         ],
         "matches": "x64",
         "range": [
          -4.109634792410126,
          -2.0842997444641393
         ],
         "showticklabels": false,
         "type": "log"
        },
        "xaxis17": {
         "anchor": "y17",
         "domain": [
          0,
          0.103125
         ],
         "matches": "x57",
         "range": [
          16,
          128
         ],
         "showticklabels": false
        },
        "xaxis18": {
         "anchor": "y18",
         "domain": [
          0.128125,
          0.23124999999999998
         ],
         "matches": "x58",
         "range": [
          0.13696254402480412,
          0.4476176051738697
         ],
         "showticklabels": false
        },
        "xaxis19": {
         "anchor": "y19",
         "domain": [
          0.25625,
          0.359375
         ],
         "matches": "x59",
         "range": [
          8,
          256
         ],
         "showticklabels": false
        },
        "xaxis2": {
         "anchor": "y2",
         "domain": [
          0.128125,
          0.23124999999999998
         ],
         "matches": "x58",
         "range": [
          0.13696254402480412,
          0.4476176051738697
         ],
         "showticklabels": false
        },
        "xaxis20": {
         "anchor": "y20",
         "domain": [
          0.38437499999999997,
          0.48749999999999993
         ],
         "matches": "x60",
         "range": [
          2,
          5
         ],
         "showticklabels": false
        },
        "xaxis21": {
         "anchor": "y21",
         "domain": [
          0.5125,
          0.615625
         ],
         "matches": "x61",
         "range": [
          -3.9419070594837002,
          -3.00131236272803
         ],
         "showticklabels": false,
         "type": "log"
        },
        "xaxis22": {
         "anchor": "y22",
         "domain": [
          0.640625,
          0.74375
         ],
         "matches": "x62",
         "range": [
          0.8292747404960318,
          0.9910653091313444
         ],
         "showticklabels": false
        },
        "xaxis23": {
         "anchor": "y23",
         "domain": [
          0.76875,
          0.8718750000000001
         ],
         "matches": "x63",
         "range": [
          false,
          true
         ],
         "showticklabels": false
        },
        "xaxis24": {
         "anchor": "y24",
         "domain": [
          0.8968750000000001,
          1
         ],
         "matches": "x64",
         "range": [
          -4.109634792410126,
          -2.0842997444641393
         ],
         "showticklabels": false,
         "type": "log"
        },
        "xaxis25": {
         "anchor": "y25",
         "domain": [
          0,
          0.103125
         ],
         "matches": "x57",
         "range": [
          16,
          128
         ],
         "showticklabels": false
        },
        "xaxis26": {
         "anchor": "y26",
         "domain": [
          0.128125,
          0.23124999999999998
         ],
         "matches": "x58",
         "range": [
          0.13696254402480412,
          0.4476176051738697
         ],
         "showticklabels": false
        },
        "xaxis27": {
         "anchor": "y27",
         "domain": [
          0.25625,
          0.359375
         ],
         "matches": "x59",
         "range": [
          8,
          256
         ],
         "showticklabels": false
        },
        "xaxis28": {
         "anchor": "y28",
         "domain": [
          0.38437499999999997,
          0.48749999999999993
         ],
         "matches": "x60",
         "range": [
          2,
          5
         ],
         "showticklabels": false
        },
        "xaxis29": {
         "anchor": "y29",
         "domain": [
          0.5125,
          0.615625
         ],
         "matches": "x61",
         "range": [
          -3.9419070594837002,
          -3.00131236272803
         ],
         "showticklabels": false,
         "type": "log"
        },
        "xaxis3": {
         "anchor": "y3",
         "domain": [
          0.25625,
          0.359375
         ],
         "matches": "x59",
         "range": [
          8,
          256
         ],
         "showticklabels": false
        },
        "xaxis30": {
         "anchor": "y30",
         "domain": [
          0.640625,
          0.74375
         ],
         "matches": "x62",
         "range": [
          0.8292747404960318,
          0.9910653091313444
         ],
         "showticklabels": false
        },
        "xaxis31": {
         "anchor": "y31",
         "domain": [
          0.76875,
          0.8718750000000001
         ],
         "matches": "x63",
         "range": [
          false,
          true
         ],
         "showticklabels": false
        },
        "xaxis32": {
         "anchor": "y32",
         "domain": [
          0.8968750000000001,
          1
         ],
         "matches": "x64",
         "range": [
          -4.109634792410126,
          -2.0842997444641393
         ],
         "showticklabels": false,
         "type": "log"
        },
        "xaxis33": {
         "anchor": "y33",
         "domain": [
          0,
          0.103125
         ],
         "matches": "x57",
         "range": [
          16,
          128
         ],
         "showticklabels": false
        },
        "xaxis34": {
         "anchor": "y34",
         "domain": [
          0.128125,
          0.23124999999999998
         ],
         "matches": "x58",
         "range": [
          0.13696254402480412,
          0.4476176051738697
         ],
         "showticklabels": false
        },
        "xaxis35": {
         "anchor": "y35",
         "domain": [
          0.25625,
          0.359375
         ],
         "matches": "x59",
         "range": [
          8,
          256
         ],
         "showticklabels": false
        },
        "xaxis36": {
         "anchor": "y36",
         "domain": [
          0.38437499999999997,
          0.48749999999999993
         ],
         "matches": "x60",
         "range": [
          2,
          5
         ],
         "showticklabels": false
        },
        "xaxis37": {
         "anchor": "y37",
         "domain": [
          0.5125,
          0.615625
         ],
         "matches": "x61",
         "range": [
          -3.9419070594837002,
          -3.00131236272803
         ],
         "showticklabels": false,
         "type": "log"
        },
        "xaxis38": {
         "anchor": "y38",
         "domain": [
          0.640625,
          0.74375
         ],
         "matches": "x62",
         "range": [
          0.8292747404960318,
          0.9910653091313444
         ],
         "showticklabels": false
        },
        "xaxis39": {
         "anchor": "y39",
         "domain": [
          0.76875,
          0.8718750000000001
         ],
         "matches": "x63",
         "range": [
          false,
          true
         ],
         "showticklabels": false
        },
        "xaxis4": {
         "anchor": "y4",
         "domain": [
          0.38437499999999997,
          0.48749999999999993
         ],
         "matches": "x60",
         "range": [
          2,
          5
         ],
         "showticklabels": false
        },
        "xaxis40": {
         "anchor": "y40",
         "domain": [
          0.8968750000000001,
          1
         ],
         "matches": "x64",
         "range": [
          -4.109634792410126,
          -2.0842997444641393
         ],
         "showticklabels": false,
         "type": "log"
        },
        "xaxis41": {
         "anchor": "y41",
         "domain": [
          0,
          0.103125
         ],
         "matches": "x57",
         "range": [
          16,
          128
         ],
         "showticklabels": false
        },
        "xaxis42": {
         "anchor": "y42",
         "domain": [
          0.128125,
          0.23124999999999998
         ],
         "matches": "x58",
         "range": [
          0.13696254402480412,
          0.4476176051738697
         ],
         "showticklabels": false
        },
        "xaxis43": {
         "anchor": "y43",
         "domain": [
          0.25625,
          0.359375
         ],
         "matches": "x59",
         "range": [
          8,
          256
         ],
         "showticklabels": false
        },
        "xaxis44": {
         "anchor": "y44",
         "domain": [
          0.38437499999999997,
          0.48749999999999993
         ],
         "matches": "x60",
         "range": [
          2,
          5
         ],
         "showticklabels": false
        },
        "xaxis45": {
         "anchor": "y45",
         "domain": [
          0.5125,
          0.615625
         ],
         "matches": "x61",
         "range": [
          -3.9419070594837002,
          -3.00131236272803
         ],
         "showticklabels": false,
         "type": "log"
        },
        "xaxis46": {
         "anchor": "y46",
         "domain": [
          0.640625,
          0.74375
         ],
         "matches": "x62",
         "range": [
          0.8292747404960318,
          0.9910653091313444
         ],
         "showticklabels": false
        },
        "xaxis47": {
         "anchor": "y47",
         "domain": [
          0.76875,
          0.8718750000000001
         ],
         "matches": "x63",
         "range": [
          false,
          true
         ],
         "showticklabels": false
        },
        "xaxis48": {
         "anchor": "y48",
         "domain": [
          0.8968750000000001,
          1
         ],
         "matches": "x64",
         "range": [
          -4.109634792410126,
          -2.0842997444641393
         ],
         "showticklabels": false,
         "type": "log"
        },
        "xaxis49": {
         "anchor": "y49",
         "domain": [
          0,
          0.103125
         ],
         "matches": "x57",
         "range": [
          16,
          128
         ],
         "showticklabels": false
        },
        "xaxis5": {
         "anchor": "y5",
         "domain": [
          0.5125,
          0.615625
         ],
         "matches": "x61",
         "range": [
          -3.9419070594837002,
          -3.00131236272803
         ],
         "showticklabels": false,
         "type": "log"
        },
        "xaxis50": {
         "anchor": "y50",
         "domain": [
          0.128125,
          0.23124999999999998
         ],
         "matches": "x58",
         "range": [
          0.13696254402480412,
          0.4476176051738697
         ],
         "showticklabels": false
        },
        "xaxis51": {
         "anchor": "y51",
         "domain": [
          0.25625,
          0.359375
         ],
         "matches": "x59",
         "range": [
          8,
          256
         ],
         "showticklabels": false
        },
        "xaxis52": {
         "anchor": "y52",
         "domain": [
          0.38437499999999997,
          0.48749999999999993
         ],
         "matches": "x60",
         "range": [
          2,
          5
         ],
         "showticklabels": false
        },
        "xaxis53": {
         "anchor": "y53",
         "domain": [
          0.5125,
          0.615625
         ],
         "matches": "x61",
         "range": [
          -3.9419070594837002,
          -3.00131236272803
         ],
         "showticklabels": false,
         "type": "log"
        },
        "xaxis54": {
         "anchor": "y54",
         "domain": [
          0.640625,
          0.74375
         ],
         "matches": "x62",
         "range": [
          0.8292747404960318,
          0.9910653091313444
         ],
         "showticklabels": false
        },
        "xaxis55": {
         "anchor": "y55",
         "domain": [
          0.76875,
          0.8718750000000001
         ],
         "matches": "x63",
         "range": [
          false,
          true
         ],
         "showticklabels": false
        },
        "xaxis56": {
         "anchor": "y56",
         "domain": [
          0.8968750000000001,
          1
         ],
         "matches": "x64",
         "range": [
          -4.109634792410126,
          -2.0842997444641393
         ],
         "showticklabels": false,
         "type": "log"
        },
        "xaxis57": {
         "anchor": "y57",
         "domain": [
          0,
          0.103125
         ],
         "range": [
          16,
          128
         ],
         "title": {
          "text": "batch_size"
         }
        },
        "xaxis58": {
         "anchor": "y58",
         "domain": [
          0.128125,
          0.23124999999999998
         ],
         "range": [
          0.13696254402480412,
          0.4476176051738697
         ],
         "title": {
          "text": "dropout"
         }
        },
        "xaxis59": {
         "anchor": "y59",
         "domain": [
          0.25625,
          0.359375
         ],
         "range": [
          8,
          256
         ],
         "title": {
          "text": "hidden_size"
         }
        },
        "xaxis6": {
         "anchor": "y6",
         "domain": [
          0.640625,
          0.74375
         ],
         "matches": "x62",
         "range": [
          0.8292747404960318,
          0.9910653091313444
         ],
         "showticklabels": false
        },
        "xaxis60": {
         "anchor": "y60",
         "domain": [
          0.38437499999999997,
          0.48749999999999993
         ],
         "range": [
          2,
          5
         ],
         "title": {
          "text": "layer_size"
         }
        },
        "xaxis61": {
         "anchor": "y61",
         "domain": [
          0.5125,
          0.615625
         ],
         "range": [
          -3.9419070594837002,
          -3.00131236272803
         ],
         "title": {
          "text": "learning_rate"
         },
         "type": "log"
        },
        "xaxis62": {
         "anchor": "y62",
         "domain": [
          0.640625,
          0.74375
         ],
         "range": [
          0.8292747404960318,
          0.9910653091313444
         ],
         "title": {
          "text": "momentum"
         }
        },
        "xaxis63": {
         "anchor": "y63",
         "domain": [
          0.76875,
          0.8718750000000001
         ],
         "range": [
          false,
          true
         ],
         "title": {
          "text": "nesterov"
         }
        },
        "xaxis64": {
         "anchor": "y64",
         "domain": [
          0.8968750000000001,
          1
         ],
         "range": [
          -4.109634792410126,
          -2.0842997444641393
         ],
         "title": {
          "text": "weight_decay"
         },
         "type": "log"
        },
        "xaxis7": {
         "anchor": "y7",
         "domain": [
          0.76875,
          0.8718750000000001
         ],
         "matches": "x63",
         "range": [
          false,
          true
         ],
         "showticklabels": false
        },
        "xaxis8": {
         "anchor": "y8",
         "domain": [
          0.8968750000000001,
          1
         ],
         "matches": "x64",
         "range": [
          -4.109634792410126,
          -2.0842997444641393
         ],
         "showticklabels": false,
         "type": "log"
        },
        "xaxis9": {
         "anchor": "y9",
         "domain": [
          0,
          0.103125
         ],
         "matches": "x57",
         "range": [
          16,
          128
         ],
         "showticklabels": false
        },
        "yaxis": {
         "anchor": "x",
         "domain": [
          0.9078124999999999,
          0.9999999999999999
         ],
         "range": [
          16,
          128
         ],
         "title": {
          "text": "batch_size"
         }
        },
        "yaxis10": {
         "anchor": "x10",
         "domain": [
          0.778125,
          0.8703124999999999
         ],
         "matches": "y9",
         "range": [
          0.13696254402480412,
          0.4476176051738697
         ],
         "showticklabels": false
        },
        "yaxis11": {
         "anchor": "x11",
         "domain": [
          0.778125,
          0.8703124999999999
         ],
         "matches": "y9",
         "range": [
          0.13696254402480412,
          0.4476176051738697
         ],
         "showticklabels": false
        },
        "yaxis12": {
         "anchor": "x12",
         "domain": [
          0.778125,
          0.8703124999999999
         ],
         "matches": "y9",
         "range": [
          0.13696254402480412,
          0.4476176051738697
         ],
         "showticklabels": false
        },
        "yaxis13": {
         "anchor": "x13",
         "domain": [
          0.778125,
          0.8703124999999999
         ],
         "matches": "y9",
         "range": [
          0.13696254402480412,
          0.4476176051738697
         ],
         "showticklabels": false
        },
        "yaxis14": {
         "anchor": "x14",
         "domain": [
          0.778125,
          0.8703124999999999
         ],
         "matches": "y9",
         "range": [
          0.13696254402480412,
          0.4476176051738697
         ],
         "showticklabels": false
        },
        "yaxis15": {
         "anchor": "x15",
         "domain": [
          0.778125,
          0.8703124999999999
         ],
         "matches": "y9",
         "range": [
          0.13696254402480412,
          0.4476176051738697
         ],
         "showticklabels": false
        },
        "yaxis16": {
         "anchor": "x16",
         "domain": [
          0.778125,
          0.8703124999999999
         ],
         "matches": "y9",
         "range": [
          0.13696254402480412,
          0.4476176051738697
         ],
         "showticklabels": false
        },
        "yaxis17": {
         "anchor": "x17",
         "domain": [
          0.6484375,
          0.740625
         ],
         "range": [
          8,
          256
         ],
         "title": {
          "text": "hidden_size"
         }
        },
        "yaxis18": {
         "anchor": "x18",
         "domain": [
          0.6484375,
          0.740625
         ],
         "matches": "y17",
         "range": [
          8,
          256
         ],
         "showticklabels": false
        },
        "yaxis19": {
         "anchor": "x19",
         "domain": [
          0.6484375,
          0.740625
         ],
         "matches": "y17",
         "range": [
          8,
          256
         ],
         "showticklabels": false
        },
        "yaxis2": {
         "anchor": "x2",
         "domain": [
          0.9078124999999999,
          0.9999999999999999
         ],
         "matches": "y",
         "range": [
          16,
          128
         ],
         "showticklabels": false
        },
        "yaxis20": {
         "anchor": "x20",
         "domain": [
          0.6484375,
          0.740625
         ],
         "matches": "y17",
         "range": [
          8,
          256
         ],
         "showticklabels": false
        },
        "yaxis21": {
         "anchor": "x21",
         "domain": [
          0.6484375,
          0.740625
         ],
         "matches": "y17",
         "range": [
          8,
          256
         ],
         "showticklabels": false
        },
        "yaxis22": {
         "anchor": "x22",
         "domain": [
          0.6484375,
          0.740625
         ],
         "matches": "y17",
         "range": [
          8,
          256
         ],
         "showticklabels": false
        },
        "yaxis23": {
         "anchor": "x23",
         "domain": [
          0.6484375,
          0.740625
         ],
         "matches": "y17",
         "range": [
          8,
          256
         ],
         "showticklabels": false
        },
        "yaxis24": {
         "anchor": "x24",
         "domain": [
          0.6484375,
          0.740625
         ],
         "matches": "y17",
         "range": [
          8,
          256
         ],
         "showticklabels": false
        },
        "yaxis25": {
         "anchor": "x25",
         "domain": [
          0.51875,
          0.6109375
         ],
         "range": [
          2,
          5
         ],
         "title": {
          "text": "layer_size"
         }
        },
        "yaxis26": {
         "anchor": "x26",
         "domain": [
          0.51875,
          0.6109375
         ],
         "matches": "y25",
         "range": [
          2,
          5
         ],
         "showticklabels": false
        },
        "yaxis27": {
         "anchor": "x27",
         "domain": [
          0.51875,
          0.6109375
         ],
         "matches": "y25",
         "range": [
          2,
          5
         ],
         "showticklabels": false
        },
        "yaxis28": {
         "anchor": "x28",
         "domain": [
          0.51875,
          0.6109375
         ],
         "matches": "y25",
         "range": [
          2,
          5
         ],
         "showticklabels": false
        },
        "yaxis29": {
         "anchor": "x29",
         "domain": [
          0.51875,
          0.6109375
         ],
         "matches": "y25",
         "range": [
          2,
          5
         ],
         "showticklabels": false
        },
        "yaxis3": {
         "anchor": "x3",
         "domain": [
          0.9078124999999999,
          0.9999999999999999
         ],
         "matches": "y",
         "range": [
          16,
          128
         ],
         "showticklabels": false
        },
        "yaxis30": {
         "anchor": "x30",
         "domain": [
          0.51875,
          0.6109375
         ],
         "matches": "y25",
         "range": [
          2,
          5
         ],
         "showticklabels": false
        },
        "yaxis31": {
         "anchor": "x31",
         "domain": [
          0.51875,
          0.6109375
         ],
         "matches": "y25",
         "range": [
          2,
          5
         ],
         "showticklabels": false
        },
        "yaxis32": {
         "anchor": "x32",
         "domain": [
          0.51875,
          0.6109375
         ],
         "matches": "y25",
         "range": [
          2,
          5
         ],
         "showticklabels": false
        },
        "yaxis33": {
         "anchor": "x33",
         "domain": [
          0.38906250000000003,
          0.48125000000000007
         ],
         "range": [
          -3.9419070594837002,
          -3.00131236272803
         ],
         "title": {
          "text": "learning_rate"
         },
         "type": "log"
        },
        "yaxis34": {
         "anchor": "x34",
         "domain": [
          0.38906250000000003,
          0.48125000000000007
         ],
         "matches": "y33",
         "range": [
          -3.9419070594837002,
          -3.00131236272803
         ],
         "showticklabels": false,
         "type": "log"
        },
        "yaxis35": {
         "anchor": "x35",
         "domain": [
          0.38906250000000003,
          0.48125000000000007
         ],
         "matches": "y33",
         "range": [
          -3.9419070594837002,
          -3.00131236272803
         ],
         "showticklabels": false,
         "type": "log"
        },
        "yaxis36": {
         "anchor": "x36",
         "domain": [
          0.38906250000000003,
          0.48125000000000007
         ],
         "matches": "y33",
         "range": [
          -3.9419070594837002,
          -3.00131236272803
         ],
         "showticklabels": false,
         "type": "log"
        },
        "yaxis37": {
         "anchor": "x37",
         "domain": [
          0.38906250000000003,
          0.48125000000000007
         ],
         "matches": "y33",
         "range": [
          -3.9419070594837002,
          -3.00131236272803
         ],
         "showticklabels": false,
         "type": "log"
        },
        "yaxis38": {
         "anchor": "x38",
         "domain": [
          0.38906250000000003,
          0.48125000000000007
         ],
         "matches": "y33",
         "range": [
          -3.9419070594837002,
          -3.00131236272803
         ],
         "showticklabels": false,
         "type": "log"
        },
        "yaxis39": {
         "anchor": "x39",
         "domain": [
          0.38906250000000003,
          0.48125000000000007
         ],
         "matches": "y33",
         "range": [
          -3.9419070594837002,
          -3.00131236272803
         ],
         "showticklabels": false,
         "type": "log"
        },
        "yaxis4": {
         "anchor": "x4",
         "domain": [
          0.9078124999999999,
          0.9999999999999999
         ],
         "matches": "y",
         "range": [
          16,
          128
         ],
         "showticklabels": false
        },
        "yaxis40": {
         "anchor": "x40",
         "domain": [
          0.38906250000000003,
          0.48125000000000007
         ],
         "matches": "y33",
         "range": [
          -3.9419070594837002,
          -3.00131236272803
         ],
         "showticklabels": false,
         "type": "log"
        },
        "yaxis41": {
         "anchor": "x41",
         "domain": [
          0.259375,
          0.3515625
         ],
         "range": [
          0.8292747404960318,
          0.9910653091313444
         ],
         "title": {
          "text": "momentum"
         }
        },
        "yaxis42": {
         "anchor": "x42",
         "domain": [
          0.259375,
          0.3515625
         ],
         "matches": "y41",
         "range": [
          0.8292747404960318,
          0.9910653091313444
         ],
         "showticklabels": false
        },
        "yaxis43": {
         "anchor": "x43",
         "domain": [
          0.259375,
          0.3515625
         ],
         "matches": "y41",
         "range": [
          0.8292747404960318,
          0.9910653091313444
         ],
         "showticklabels": false
        },
        "yaxis44": {
         "anchor": "x44",
         "domain": [
          0.259375,
          0.3515625
         ],
         "matches": "y41",
         "range": [
          0.8292747404960318,
          0.9910653091313444
         ],
         "showticklabels": false
        },
        "yaxis45": {
         "anchor": "x45",
         "domain": [
          0.259375,
          0.3515625
         ],
         "matches": "y41",
         "range": [
          0.8292747404960318,
          0.9910653091313444
         ],
         "showticklabels": false
        },
        "yaxis46": {
         "anchor": "x46",
         "domain": [
          0.259375,
          0.3515625
         ],
         "matches": "y41",
         "range": [
          0.8292747404960318,
          0.9910653091313444
         ],
         "showticklabels": false
        },
        "yaxis47": {
         "anchor": "x47",
         "domain": [
          0.259375,
          0.3515625
         ],
         "matches": "y41",
         "range": [
          0.8292747404960318,
          0.9910653091313444
         ],
         "showticklabels": false
        },
        "yaxis48": {
         "anchor": "x48",
         "domain": [
          0.259375,
          0.3515625
         ],
         "matches": "y41",
         "range": [
          0.8292747404960318,
          0.9910653091313444
         ],
         "showticklabels": false
        },
        "yaxis49": {
         "anchor": "x49",
         "domain": [
          0.1296875,
          0.22187500000000002
         ],
         "range": [
          false,
          true
         ],
         "title": {
          "text": "nesterov"
         }
        },
        "yaxis5": {
         "anchor": "x5",
         "domain": [
          0.9078124999999999,
          0.9999999999999999
         ],
         "matches": "y",
         "range": [
          16,
          128
         ],
         "showticklabels": false
        },
        "yaxis50": {
         "anchor": "x50",
         "domain": [
          0.1296875,
          0.22187500000000002
         ],
         "matches": "y49",
         "range": [
          false,
          true
         ],
         "showticklabels": false
        },
        "yaxis51": {
         "anchor": "x51",
         "domain": [
          0.1296875,
          0.22187500000000002
         ],
         "matches": "y49",
         "range": [
          false,
          true
         ],
         "showticklabels": false
        },
        "yaxis52": {
         "anchor": "x52",
         "domain": [
          0.1296875,
          0.22187500000000002
         ],
         "matches": "y49",
         "range": [
          false,
          true
         ],
         "showticklabels": false
        },
        "yaxis53": {
         "anchor": "x53",
         "domain": [
          0.1296875,
          0.22187500000000002
         ],
         "matches": "y49",
         "range": [
          false,
          true
         ],
         "showticklabels": false
        },
        "yaxis54": {
         "anchor": "x54",
         "domain": [
          0.1296875,
          0.22187500000000002
         ],
         "matches": "y49",
         "range": [
          false,
          true
         ],
         "showticklabels": false
        },
        "yaxis55": {
         "anchor": "x55",
         "domain": [
          0.1296875,
          0.22187500000000002
         ],
         "matches": "y49",
         "range": [
          false,
          true
         ],
         "showticklabels": false
        },
        "yaxis56": {
         "anchor": "x56",
         "domain": [
          0.1296875,
          0.22187500000000002
         ],
         "matches": "y49",
         "range": [
          false,
          true
         ],
         "showticklabels": false
        },
        "yaxis57": {
         "anchor": "x57",
         "domain": [
          0,
          0.0921875
         ],
         "range": [
          -4.109634792410126,
          -2.0842997444641393
         ],
         "title": {
          "text": "weight_decay"
         },
         "type": "log"
        },
        "yaxis58": {
         "anchor": "x58",
         "domain": [
          0,
          0.0921875
         ],
         "matches": "y57",
         "range": [
          -4.109634792410126,
          -2.0842997444641393
         ],
         "showticklabels": false,
         "type": "log"
        },
        "yaxis59": {
         "anchor": "x59",
         "domain": [
          0,
          0.0921875
         ],
         "matches": "y57",
         "range": [
          -4.109634792410126,
          -2.0842997444641393
         ],
         "showticklabels": false,
         "type": "log"
        },
        "yaxis6": {
         "anchor": "x6",
         "domain": [
          0.9078124999999999,
          0.9999999999999999
         ],
         "matches": "y",
         "range": [
          16,
          128
         ],
         "showticklabels": false
        },
        "yaxis60": {
         "anchor": "x60",
         "domain": [
          0,
          0.0921875
         ],
         "matches": "y57",
         "range": [
          -4.109634792410126,
          -2.0842997444641393
         ],
         "showticklabels": false,
         "type": "log"
        },
        "yaxis61": {
         "anchor": "x61",
         "domain": [
          0,
          0.0921875
         ],
         "matches": "y57",
         "range": [
          -4.109634792410126,
          -2.0842997444641393
         ],
         "showticklabels": false,
         "type": "log"
        },
        "yaxis62": {
         "anchor": "x62",
         "domain": [
          0,
          0.0921875
         ],
         "matches": "y57",
         "range": [
          -4.109634792410126,
          -2.0842997444641393
         ],
         "showticklabels": false,
         "type": "log"
        },
        "yaxis63": {
         "anchor": "x63",
         "domain": [
          0,
          0.0921875
         ],
         "matches": "y57",
         "range": [
          -4.109634792410126,
          -2.0842997444641393
         ],
         "showticklabels": false,
         "type": "log"
        },
        "yaxis64": {
         "anchor": "x64",
         "domain": [
          0,
          0.0921875
         ],
         "matches": "y57",
         "range": [
          -4.109634792410126,
          -2.0842997444641393
         ],
         "showticklabels": false,
         "type": "log"
        },
        "yaxis7": {
         "anchor": "x7",
         "domain": [
          0.9078124999999999,
          0.9999999999999999
         ],
         "matches": "y",
         "range": [
          16,
          128
         ],
         "showticklabels": false
        },
        "yaxis8": {
         "anchor": "x8",
         "domain": [
          0.9078124999999999,
          0.9999999999999999
         ],
         "matches": "y",
         "range": [
          16,
          128
         ],
         "showticklabels": false
        },
        "yaxis9": {
         "anchor": "x9",
         "domain": [
          0.778125,
          0.8703124999999999
         ],
         "range": [
          0.13696254402480412,
          0.4476176051738697
         ],
         "title": {
          "text": "dropout"
         }
        }
       }
      },
      "text/html": [
       "<div>\n",
       "        \n",
       "        \n",
       "            <div id=\"cb406edc-08cf-4e2f-b90d-5177c21cce2c\" class=\"plotly-graph-div\" style=\"height:525px; width:100%;\"></div>\n",
       "            <script type=\"text/javascript\">\n",
       "                require([\"plotly\"], function(Plotly) {\n",
       "                    window.PLOTLYENV=window.PLOTLYENV || {};\n",
       "                    \n",
       "                if (document.getElementById(\"cb406edc-08cf-4e2f-b90d-5177c21cce2c\")) {\n",
       "                    Plotly.newPlot(\n",
       "                        'cb406edc-08cf-4e2f-b90d-5177c21cce2c',\n",
       "                        [{\"type\": \"scatter\", \"xaxis\": \"x\", \"yaxis\": \"y\"}, {\"colorbar\": {\"title\": {\"text\": \"Objective Value\"}}, \"colorscale\": [[0, \"rgb(5,10,172)\"], [0.35, \"rgb(40,60,190)\"], [0.5, \"rgb(70,100,245)\"], [0.6, \"rgb(90,120,245)\"], [0.7, \"rgb(106,137,247)\"], [1, \"rgb(220,220,220)\"]], \"connectgaps\": true, \"contours\": {\"coloring\": \"heatmap\"}, \"hoverinfo\": \"none\", \"line\": {\"smoothing\": 1.3}, \"showscale\": true, \"type\": \"contour\", \"x\": [16, 64, 128], \"xaxis\": \"x9\", \"y\": [0.13696254402480412, 0.27574042289278133, 0.30811559721491616, 0.3206051108604173, 0.32940522064176114, 0.4051284289161241, 0.4199071669462878, 0.43912042347804847, 0.4475426537245917, 0.4476176051738697], \"yaxis\": \"y9\", \"z\": [[0.9458865523338318, null, null], [null, null, 0.9208266735076904], [0.8695088028907776, null, null], [null, 0.5784744620323181, null], [null, 0.7717651724815369, null], [null, null, 0.5426318049430847], [null, 0.7521964907646179, null], [null, null, 0.8660143613815308], [0.763079047203064, null, null], [0.7892372012138367, null, null]]}, {\"marker\": {\"color\": \"black\"}, \"mode\": \"markers\", \"showlegend\": false, \"type\": \"scatter\", \"x\": [16, 16, 128, 64, 128, 16, 16, 128, 64, 64], \"xaxis\": \"x9\", \"y\": [0.4475426537245917, 0.30811559721491616, 0.4051284289161241, 0.4199071669462878, 0.27574042289278133, 0.13696254402480412, 0.4476176051738697, 0.43912042347804847, 0.32940522064176114, 0.3206051108604173], \"yaxis\": \"y9\"}, {\"colorbar\": {\"title\": {\"text\": \"Objective Value\"}}, \"colorscale\": [[0, \"rgb(5,10,172)\"], [0.35, \"rgb(40,60,190)\"], [0.5, \"rgb(70,100,245)\"], [0.6, \"rgb(90,120,245)\"], [0.7, \"rgb(106,137,247)\"], [1, \"rgb(220,220,220)\"]], \"connectgaps\": true, \"contours\": {\"coloring\": \"heatmap\"}, \"hoverinfo\": \"none\", \"line\": {\"smoothing\": 1.3}, \"showscale\": false, \"type\": \"contour\", \"x\": [16, 64, 128], \"xaxis\": \"x17\", \"y\": [8, 16, 128, 256], \"yaxis\": \"y17\", \"z\": [[null, 0.5784744620323181, 0.5426318049430847], [null, 0.7521964907646179, 0.9208266735076904], [0.7892372012138367, 0.7717651724815369, 0.8660143613815308], [0.9458865523338318, null, null]]}, {\"marker\": {\"color\": \"black\"}, \"mode\": \"markers\", \"showlegend\": false, \"type\": \"scatter\", \"x\": [16, 16, 128, 64, 128, 16, 16, 128, 64, 64], \"xaxis\": \"x17\", \"y\": [128, 128, 8, 16, 16, 256, 128, 128, 128, 8], \"yaxis\": \"y17\"}, {\"colorbar\": {\"title\": {\"text\": \"Objective Value\"}}, \"colorscale\": [[0, \"rgb(5,10,172)\"], [0.35, \"rgb(40,60,190)\"], [0.5, \"rgb(70,100,245)\"], [0.6, \"rgb(90,120,245)\"], [0.7, \"rgb(106,137,247)\"], [1, \"rgb(220,220,220)\"]], \"connectgaps\": true, \"contours\": {\"coloring\": \"heatmap\"}, \"hoverinfo\": \"none\", \"line\": {\"smoothing\": 1.3}, \"showscale\": false, \"type\": \"contour\", \"x\": [16, 64, 128], \"xaxis\": \"x25\", \"y\": [2, 3, 4, 5], \"yaxis\": \"y25\", \"z\": [[null, null, 0.8660143613815308], [null, 0.5784744620323181, 0.5426318049430847], [0.8695088028907776, 0.7521964907646179, 0.9208266735076904], [0.7892372012138367, 0.7717651724815369, null]]}, {\"marker\": {\"color\": \"black\"}, \"mode\": \"markers\", \"showlegend\": false, \"type\": \"scatter\", \"x\": [16, 16, 128, 64, 128, 16, 16, 128, 64, 64], \"xaxis\": \"x25\", \"y\": [5, 4, 3, 4, 4, 5, 5, 2, 5, 3], \"yaxis\": \"y25\"}, {\"colorbar\": {\"title\": {\"text\": \"Objective Value\"}}, \"colorscale\": [[0, \"rgb(5,10,172)\"], [0.35, \"rgb(40,60,190)\"], [0.5, \"rgb(70,100,245)\"], [0.6, \"rgb(90,120,245)\"], [0.7, \"rgb(106,137,247)\"], [1, \"rgb(220,220,220)\"]], \"connectgaps\": true, \"contours\": {\"coloring\": \"heatmap\"}, \"hoverinfo\": \"none\", \"line\": {\"smoothing\": 1.3}, \"showscale\": false, \"type\": \"contour\", \"x\": [16, 64, 128], \"xaxis\": \"x33\", \"y\": [0.00011431229408656762, 0.00011985939874632534, 0.00019459451111337528, 0.00021577654778061675, 0.0002781761413312715, 0.00031379768467785276, 0.0003222124173376937, 0.00034234441557670246, 0.0009011149211580522, 0.0009969827342691411], \"yaxis\": \"y33\", \"z\": [[0.7892372012138367, null, null], [null, null, 0.8660143613815308], [0.8695088028907776, null, null], [null, 0.7717651724815369, null], [0.763079047203064, null, null], [null, null, 0.5426318049430847], [null, null, 0.9208266735076904], [null, 0.5784744620323181, null], [0.9458865523338318, null, null], [null, 0.7521964907646179, null]]}, {\"marker\": {\"color\": \"black\"}, \"mode\": \"markers\", \"showlegend\": false, \"type\": \"scatter\", \"x\": [16, 16, 128, 64, 128, 16, 16, 128, 64, 64], \"xaxis\": \"x33\", \"y\": [0.0002781761413312715, 0.00019459451111337528, 0.00031379768467785276, 0.0009969827342691411, 0.0003222124173376937, 0.0009011149211580522, 0.00011431229408656762, 0.00011985939874632534, 0.00021577654778061675, 0.00034234441557670246], \"yaxis\": \"y33\"}, {\"colorbar\": {\"title\": {\"text\": \"Objective Value\"}}, \"colorscale\": [[0, \"rgb(5,10,172)\"], [0.35, \"rgb(40,60,190)\"], [0.5, \"rgb(70,100,245)\"], [0.6, \"rgb(90,120,245)\"], [0.7, \"rgb(106,137,247)\"], [1, \"rgb(220,220,220)\"]], \"connectgaps\": true, \"contours\": {\"coloring\": \"heatmap\"}, \"hoverinfo\": \"none\", \"line\": {\"smoothing\": 1.3}, \"showscale\": false, \"type\": \"contour\", \"x\": [16, 64, 128], \"xaxis\": \"x41\", \"y\": [0.8292747404960318, 0.8343662356211846, 0.8583730620569984, 0.8700648073603755, 0.8792675991877269, 0.8847775912911807, 0.8964296642692322, 0.9355278762575644, 0.9454761908726577, 0.9910653091313444], \"yaxis\": \"y41\", \"z\": [[null, 0.7717651724815369, null], [0.763079047203064, null, null], [null, 0.7521964907646179, null], [null, null, 0.5426318049430847], [0.8695088028907776, null, null], [null, null, 0.8660143613815308], [null, 0.5784744620323181, null], [0.7892372012138367, null, null], [0.9458865523338318, null, null], [null, null, 0.9208266735076904]]}, {\"marker\": {\"color\": \"black\"}, \"mode\": \"markers\", \"showlegend\": false, \"type\": \"scatter\", \"x\": [16, 16, 128, 64, 128, 16, 16, 128, 64, 64], \"xaxis\": \"x41\", \"y\": [0.8343662356211846, 0.8792675991877269, 0.8700648073603755, 0.8583730620569984, 0.9910653091313444, 0.9454761908726577, 0.9355278762575644, 0.8847775912911807, 0.8292747404960318, 0.8964296642692322], \"yaxis\": \"y41\"}, {\"colorbar\": {\"title\": {\"text\": \"Objective Value\"}}, \"colorscale\": [[0, \"rgb(5,10,172)\"], [0.35, \"rgb(40,60,190)\"], [0.5, \"rgb(70,100,245)\"], [0.6, \"rgb(90,120,245)\"], [0.7, \"rgb(106,137,247)\"], [1, \"rgb(220,220,220)\"]], \"connectgaps\": true, \"contours\": {\"coloring\": \"heatmap\"}, \"hoverinfo\": \"none\", \"line\": {\"smoothing\": 1.3}, \"showscale\": false, \"type\": \"contour\", \"x\": [16, 64, 128], \"xaxis\": \"x49\", \"y\": [false, true], \"yaxis\": \"y49\", \"z\": [[null, 0.5784744620323181, 0.8660143613815308], [0.7892372012138367, null, 0.9208266735076904]]}, {\"marker\": {\"color\": \"black\"}, \"mode\": \"markers\", \"showlegend\": false, \"type\": \"scatter\", \"x\": [16, 16, 128, 64, 128, 16, 16, 128, 64, 64], \"xaxis\": \"x49\", \"y\": [true, true, true, false, true, true, true, false, false, false], \"yaxis\": \"y49\"}, {\"colorbar\": {\"title\": {\"text\": \"Objective Value\"}}, \"colorscale\": [[0, \"rgb(5,10,172)\"], [0.35, \"rgb(40,60,190)\"], [0.5, \"rgb(70,100,245)\"], [0.6, \"rgb(90,120,245)\"], [0.7, \"rgb(106,137,247)\"], [1, \"rgb(220,220,220)\"]], \"connectgaps\": true, \"contours\": {\"coloring\": \"heatmap\"}, \"hoverinfo\": \"none\", \"line\": {\"smoothing\": 1.3}, \"showscale\": false, \"type\": \"contour\", \"x\": [16, 64, 128], \"xaxis\": \"x57\", \"y\": [7.769001540971277e-05, 9.658630631397371e-05, 0.00010839860995588048, 0.00013574996304822177, 0.00024206467053167096, 0.0002461730007892341, 0.00026786709389757784, 0.0008316437322277936, 0.00191834042067662, 0.008235695017360493], \"yaxis\": \"y57\", \"z\": [[null, 0.5784744620323181, null], [0.7892372012138367, null, null], [null, 0.7717651724815369, null], [null, null, 0.8660143613815308], [null, null, 0.5426318049430847], [null, null, 0.9208266735076904], [0.763079047203064, null, null], [0.8695088028907776, null, null], [null, 0.7521964907646179, null], [0.9458865523338318, null, null]]}, {\"marker\": {\"color\": \"black\"}, \"mode\": \"markers\", \"showlegend\": false, \"type\": \"scatter\", \"x\": [16, 16, 128, 64, 128, 16, 16, 128, 64, 64], \"xaxis\": \"x57\", \"y\": [0.00026786709389757784, 0.0008316437322277936, 0.00024206467053167096, 0.00191834042067662, 0.0002461730007892341, 0.008235695017360493, 9.658630631397371e-05, 0.00013574996304822177, 0.00010839860995588048, 7.769001540971277e-05], \"yaxis\": \"y57\"}, {\"colorbar\": {\"title\": {\"text\": \"Objective Value\"}}, \"colorscale\": [[0, \"rgb(5,10,172)\"], [0.35, \"rgb(40,60,190)\"], [0.5, \"rgb(70,100,245)\"], [0.6, \"rgb(90,120,245)\"], [0.7, \"rgb(106,137,247)\"], [1, \"rgb(220,220,220)\"]], \"connectgaps\": true, \"contours\": {\"coloring\": \"heatmap\"}, \"hoverinfo\": \"none\", \"line\": {\"smoothing\": 1.3}, \"showscale\": false, \"type\": \"contour\", \"x\": [0.13696254402480412, 0.27574042289278133, 0.30811559721491616, 0.3206051108604173, 0.32940522064176114, 0.4051284289161241, 0.4199071669462878, 0.43912042347804847, 0.4475426537245917, 0.4476176051738697], \"xaxis\": \"x2\", \"y\": [16, 64, 128], \"yaxis\": \"y2\", \"z\": [[0.9458865523338318, null, 0.8695088028907776, null, null, null, null, null, 0.763079047203064, 0.7892372012138367], [null, null, null, 0.5784744620323181, 0.7717651724815369, null, 0.7521964907646179, null, null, null], [null, 0.9208266735076904, null, null, null, 0.5426318049430847, null, 0.8660143613815308, null, null]]}, {\"marker\": {\"color\": \"black\"}, \"mode\": \"markers\", \"showlegend\": false, \"type\": \"scatter\", \"x\": [0.4475426537245917, 0.30811559721491616, 0.4051284289161241, 0.4199071669462878, 0.27574042289278133, 0.13696254402480412, 0.4476176051738697, 0.43912042347804847, 0.32940522064176114, 0.3206051108604173], \"xaxis\": \"x2\", \"y\": [16, 16, 128, 64, 128, 16, 16, 128, 64, 64], \"yaxis\": \"y2\"}, {\"type\": \"scatter\", \"xaxis\": \"x10\", \"yaxis\": \"y10\"}, {\"colorbar\": {\"title\": {\"text\": \"Objective Value\"}}, \"colorscale\": [[0, \"rgb(5,10,172)\"], [0.35, \"rgb(40,60,190)\"], [0.5, \"rgb(70,100,245)\"], [0.6, \"rgb(90,120,245)\"], [0.7, \"rgb(106,137,247)\"], [1, \"rgb(220,220,220)\"]], \"connectgaps\": true, \"contours\": {\"coloring\": \"heatmap\"}, \"hoverinfo\": \"none\", \"line\": {\"smoothing\": 1.3}, \"showscale\": false, \"type\": \"contour\", \"x\": [0.13696254402480412, 0.27574042289278133, 0.30811559721491616, 0.3206051108604173, 0.32940522064176114, 0.4051284289161241, 0.4199071669462878, 0.43912042347804847, 0.4475426537245917, 0.4476176051738697], \"xaxis\": \"x18\", \"y\": [8, 16, 128, 256], \"yaxis\": \"y18\", \"z\": [[null, null, null, 0.5784744620323181, null, 0.5426318049430847, null, null, null, null], [null, 0.9208266735076904, null, null, null, null, 0.7521964907646179, null, null, null], [null, null, 0.8695088028907776, null, 0.7717651724815369, null, null, 0.8660143613815308, 0.763079047203064, 0.7892372012138367], [0.9458865523338318, null, null, null, null, null, null, null, null, null]]}, {\"marker\": {\"color\": \"black\"}, \"mode\": \"markers\", \"showlegend\": false, \"type\": \"scatter\", \"x\": [0.4475426537245917, 0.30811559721491616, 0.4051284289161241, 0.4199071669462878, 0.27574042289278133, 0.13696254402480412, 0.4476176051738697, 0.43912042347804847, 0.32940522064176114, 0.3206051108604173], \"xaxis\": \"x18\", \"y\": [128, 128, 8, 16, 16, 256, 128, 128, 128, 8], \"yaxis\": \"y18\"}, {\"colorbar\": {\"title\": {\"text\": \"Objective Value\"}}, \"colorscale\": [[0, \"rgb(5,10,172)\"], [0.35, \"rgb(40,60,190)\"], [0.5, \"rgb(70,100,245)\"], [0.6, \"rgb(90,120,245)\"], [0.7, \"rgb(106,137,247)\"], [1, \"rgb(220,220,220)\"]], \"connectgaps\": true, \"contours\": {\"coloring\": \"heatmap\"}, \"hoverinfo\": \"none\", \"line\": {\"smoothing\": 1.3}, \"showscale\": false, \"type\": \"contour\", \"x\": [0.13696254402480412, 0.27574042289278133, 0.30811559721491616, 0.3206051108604173, 0.32940522064176114, 0.4051284289161241, 0.4199071669462878, 0.43912042347804847, 0.4475426537245917, 0.4476176051738697], \"xaxis\": \"x26\", \"y\": [2, 3, 4, 5], \"yaxis\": \"y26\", \"z\": [[null, null, null, null, null, null, null, 0.8660143613815308, null, null], [null, null, null, 0.5784744620323181, null, 0.5426318049430847, null, null, null, null], [null, 0.9208266735076904, 0.8695088028907776, null, null, null, 0.7521964907646179, null, null, null], [0.9458865523338318, null, null, null, 0.7717651724815369, null, null, null, 0.763079047203064, 0.7892372012138367]]}, {\"marker\": {\"color\": \"black\"}, \"mode\": \"markers\", \"showlegend\": false, \"type\": \"scatter\", \"x\": [0.4475426537245917, 0.30811559721491616, 0.4051284289161241, 0.4199071669462878, 0.27574042289278133, 0.13696254402480412, 0.4476176051738697, 0.43912042347804847, 0.32940522064176114, 0.3206051108604173], \"xaxis\": \"x26\", \"y\": [5, 4, 3, 4, 4, 5, 5, 2, 5, 3], \"yaxis\": \"y26\"}, {\"colorbar\": {\"title\": {\"text\": \"Objective Value\"}}, \"colorscale\": [[0, \"rgb(5,10,172)\"], [0.35, \"rgb(40,60,190)\"], [0.5, \"rgb(70,100,245)\"], [0.6, \"rgb(90,120,245)\"], [0.7, \"rgb(106,137,247)\"], [1, \"rgb(220,220,220)\"]], \"connectgaps\": true, \"contours\": {\"coloring\": \"heatmap\"}, \"hoverinfo\": \"none\", \"line\": {\"smoothing\": 1.3}, \"showscale\": false, \"type\": \"contour\", \"x\": [0.13696254402480412, 0.27574042289278133, 0.30811559721491616, 0.3206051108604173, 0.32940522064176114, 0.4051284289161241, 0.4199071669462878, 0.43912042347804847, 0.4475426537245917, 0.4476176051738697], \"xaxis\": \"x34\", \"y\": [0.00011431229408656762, 0.00011985939874632534, 0.00019459451111337528, 0.00021577654778061675, 0.0002781761413312715, 0.00031379768467785276, 0.0003222124173376937, 0.00034234441557670246, 0.0009011149211580522, 0.0009969827342691411], \"yaxis\": \"y34\", \"z\": [[null, null, null, null, null, null, null, null, null, 0.7892372012138367], [null, null, null, null, null, null, null, 0.8660143613815308, null, null], [null, null, 0.8695088028907776, null, null, null, null, null, null, null], [null, null, null, null, 0.7717651724815369, null, null, null, null, null], [null, null, null, null, null, null, null, null, 0.763079047203064, null], [null, null, null, null, null, 0.5426318049430847, null, null, null, null], [null, 0.9208266735076904, null, null, null, null, null, null, null, null], [null, null, null, 0.5784744620323181, null, null, null, null, null, null], [0.9458865523338318, null, null, null, null, null, null, null, null, null], [null, null, null, null, null, null, 0.7521964907646179, null, null, null]]}, {\"marker\": {\"color\": \"black\"}, \"mode\": \"markers\", \"showlegend\": false, \"type\": \"scatter\", \"x\": [0.4475426537245917, 0.30811559721491616, 0.4051284289161241, 0.4199071669462878, 0.27574042289278133, 0.13696254402480412, 0.4476176051738697, 0.43912042347804847, 0.32940522064176114, 0.3206051108604173], \"xaxis\": \"x34\", \"y\": [0.0002781761413312715, 0.00019459451111337528, 0.00031379768467785276, 0.0009969827342691411, 0.0003222124173376937, 0.0009011149211580522, 0.00011431229408656762, 0.00011985939874632534, 0.00021577654778061675, 0.00034234441557670246], \"yaxis\": \"y34\"}, {\"colorbar\": {\"title\": {\"text\": \"Objective Value\"}}, \"colorscale\": [[0, \"rgb(5,10,172)\"], [0.35, \"rgb(40,60,190)\"], [0.5, \"rgb(70,100,245)\"], [0.6, \"rgb(90,120,245)\"], [0.7, \"rgb(106,137,247)\"], [1, \"rgb(220,220,220)\"]], \"connectgaps\": true, \"contours\": {\"coloring\": \"heatmap\"}, \"hoverinfo\": \"none\", \"line\": {\"smoothing\": 1.3}, \"showscale\": false, \"type\": \"contour\", \"x\": [0.13696254402480412, 0.27574042289278133, 0.30811559721491616, 0.3206051108604173, 0.32940522064176114, 0.4051284289161241, 0.4199071669462878, 0.43912042347804847, 0.4475426537245917, 0.4476176051738697], \"xaxis\": \"x42\", \"y\": [0.8292747404960318, 0.8343662356211846, 0.8583730620569984, 0.8700648073603755, 0.8792675991877269, 0.8847775912911807, 0.8964296642692322, 0.9355278762575644, 0.9454761908726577, 0.9910653091313444], \"yaxis\": \"y42\", \"z\": [[null, null, null, null, 0.7717651724815369, null, null, null, null, null], [null, null, null, null, null, null, null, null, 0.763079047203064, null], [null, null, null, null, null, null, 0.7521964907646179, null, null, null], [null, null, null, null, null, 0.5426318049430847, null, null, null, null], [null, null, 0.8695088028907776, null, null, null, null, null, null, null], [null, null, null, null, null, null, null, 0.8660143613815308, null, null], [null, null, null, 0.5784744620323181, null, null, null, null, null, null], [null, null, null, null, null, null, null, null, null, 0.7892372012138367], [0.9458865523338318, null, null, null, null, null, null, null, null, null], [null, 0.9208266735076904, null, null, null, null, null, null, null, null]]}, {\"marker\": {\"color\": \"black\"}, \"mode\": \"markers\", \"showlegend\": false, \"type\": \"scatter\", \"x\": [0.4475426537245917, 0.30811559721491616, 0.4051284289161241, 0.4199071669462878, 0.27574042289278133, 0.13696254402480412, 0.4476176051738697, 0.43912042347804847, 0.32940522064176114, 0.3206051108604173], \"xaxis\": \"x42\", \"y\": [0.8343662356211846, 0.8792675991877269, 0.8700648073603755, 0.8583730620569984, 0.9910653091313444, 0.9454761908726577, 0.9355278762575644, 0.8847775912911807, 0.8292747404960318, 0.8964296642692322], \"yaxis\": \"y42\"}, {\"colorbar\": {\"title\": {\"text\": \"Objective Value\"}}, \"colorscale\": [[0, \"rgb(5,10,172)\"], [0.35, \"rgb(40,60,190)\"], [0.5, \"rgb(70,100,245)\"], [0.6, \"rgb(90,120,245)\"], [0.7, \"rgb(106,137,247)\"], [1, \"rgb(220,220,220)\"]], \"connectgaps\": true, \"contours\": {\"coloring\": \"heatmap\"}, \"hoverinfo\": \"none\", \"line\": {\"smoothing\": 1.3}, \"showscale\": false, \"type\": \"contour\", \"x\": [0.13696254402480412, 0.27574042289278133, 0.30811559721491616, 0.3206051108604173, 0.32940522064176114, 0.4051284289161241, 0.4199071669462878, 0.43912042347804847, 0.4475426537245917, 0.4476176051738697], \"xaxis\": \"x50\", \"y\": [false, true], \"yaxis\": \"y50\", \"z\": [[null, null, null, 0.5784744620323181, 0.7717651724815369, null, 0.7521964907646179, 0.8660143613815308, null, null], [0.9458865523338318, 0.9208266735076904, 0.8695088028907776, null, null, 0.5426318049430847, null, null, 0.763079047203064, 0.7892372012138367]]}, {\"marker\": {\"color\": \"black\"}, \"mode\": \"markers\", \"showlegend\": false, \"type\": \"scatter\", \"x\": [0.4475426537245917, 0.30811559721491616, 0.4051284289161241, 0.4199071669462878, 0.27574042289278133, 0.13696254402480412, 0.4476176051738697, 0.43912042347804847, 0.32940522064176114, 0.3206051108604173], \"xaxis\": \"x50\", \"y\": [true, true, true, false, true, true, true, false, false, false], \"yaxis\": \"y50\"}, {\"colorbar\": {\"title\": {\"text\": \"Objective Value\"}}, \"colorscale\": [[0, \"rgb(5,10,172)\"], [0.35, \"rgb(40,60,190)\"], [0.5, \"rgb(70,100,245)\"], [0.6, \"rgb(90,120,245)\"], [0.7, \"rgb(106,137,247)\"], [1, \"rgb(220,220,220)\"]], \"connectgaps\": true, \"contours\": {\"coloring\": \"heatmap\"}, \"hoverinfo\": \"none\", \"line\": {\"smoothing\": 1.3}, \"showscale\": false, \"type\": \"contour\", \"x\": [0.13696254402480412, 0.27574042289278133, 0.30811559721491616, 0.3206051108604173, 0.32940522064176114, 0.4051284289161241, 0.4199071669462878, 0.43912042347804847, 0.4475426537245917, 0.4476176051738697], \"xaxis\": \"x58\", \"y\": [7.769001540971277e-05, 9.658630631397371e-05, 0.00010839860995588048, 0.00013574996304822177, 0.00024206467053167096, 0.0002461730007892341, 0.00026786709389757784, 0.0008316437322277936, 0.00191834042067662, 0.008235695017360493], \"yaxis\": \"y58\", \"z\": [[null, null, null, 0.5784744620323181, null, null, null, null, null, null], [null, null, null, null, null, null, null, null, null, 0.7892372012138367], [null, null, null, null, 0.7717651724815369, null, null, null, null, null], [null, null, null, null, null, null, null, 0.8660143613815308, null, null], [null, null, null, null, null, 0.5426318049430847, null, null, null, null], [null, 0.9208266735076904, null, null, null, null, null, null, null, null], [null, null, null, null, null, null, null, null, 0.763079047203064, null], [null, null, 0.8695088028907776, null, null, null, null, null, null, null], [null, null, null, null, null, null, 0.7521964907646179, null, null, null], [0.9458865523338318, null, null, null, null, null, null, null, null, null]]}, {\"marker\": {\"color\": \"black\"}, \"mode\": \"markers\", \"showlegend\": false, \"type\": \"scatter\", \"x\": [0.4475426537245917, 0.30811559721491616, 0.4051284289161241, 0.4199071669462878, 0.27574042289278133, 0.13696254402480412, 0.4476176051738697, 0.43912042347804847, 0.32940522064176114, 0.3206051108604173], \"xaxis\": \"x58\", \"y\": [0.00026786709389757784, 0.0008316437322277936, 0.00024206467053167096, 0.00191834042067662, 0.0002461730007892341, 0.008235695017360493, 9.658630631397371e-05, 0.00013574996304822177, 0.00010839860995588048, 7.769001540971277e-05], \"yaxis\": \"y58\"}, {\"colorbar\": {\"title\": {\"text\": \"Objective Value\"}}, \"colorscale\": [[0, \"rgb(5,10,172)\"], [0.35, \"rgb(40,60,190)\"], [0.5, \"rgb(70,100,245)\"], [0.6, \"rgb(90,120,245)\"], [0.7, \"rgb(106,137,247)\"], [1, \"rgb(220,220,220)\"]], \"connectgaps\": true, \"contours\": {\"coloring\": \"heatmap\"}, \"hoverinfo\": \"none\", \"line\": {\"smoothing\": 1.3}, \"showscale\": false, \"type\": \"contour\", \"x\": [8, 16, 128, 256], \"xaxis\": \"x3\", \"y\": [16, 64, 128], \"yaxis\": \"y3\", \"z\": [[null, null, 0.7892372012138367, 0.9458865523338318], [0.5784744620323181, 0.7521964907646179, 0.7717651724815369, null], [0.5426318049430847, 0.9208266735076904, 0.8660143613815308, null]]}, {\"marker\": {\"color\": \"black\"}, \"mode\": \"markers\", \"showlegend\": false, \"type\": \"scatter\", \"x\": [128, 128, 8, 16, 16, 256, 128, 128, 128, 8], \"xaxis\": \"x3\", \"y\": [16, 16, 128, 64, 128, 16, 16, 128, 64, 64], \"yaxis\": \"y3\"}, {\"colorbar\": {\"title\": {\"text\": \"Objective Value\"}}, \"colorscale\": [[0, \"rgb(5,10,172)\"], [0.35, \"rgb(40,60,190)\"], [0.5, \"rgb(70,100,245)\"], [0.6, \"rgb(90,120,245)\"], [0.7, \"rgb(106,137,247)\"], [1, \"rgb(220,220,220)\"]], \"connectgaps\": true, \"contours\": {\"coloring\": \"heatmap\"}, \"hoverinfo\": \"none\", \"line\": {\"smoothing\": 1.3}, \"showscale\": false, \"type\": \"contour\", \"x\": [8, 16, 128, 256], \"xaxis\": \"x11\", \"y\": [0.13696254402480412, 0.27574042289278133, 0.30811559721491616, 0.3206051108604173, 0.32940522064176114, 0.4051284289161241, 0.4199071669462878, 0.43912042347804847, 0.4475426537245917, 0.4476176051738697], \"yaxis\": \"y11\", \"z\": [[null, null, null, 0.9458865523338318], [null, 0.9208266735076904, null, null], [null, null, 0.8695088028907776, null], [0.5784744620323181, null, null, null], [null, null, 0.7717651724815369, null], [0.5426318049430847, null, null, null], [null, 0.7521964907646179, null, null], [null, null, 0.8660143613815308, null], [null, null, 0.763079047203064, null], [null, null, 0.7892372012138367, null]]}, {\"marker\": {\"color\": \"black\"}, \"mode\": \"markers\", \"showlegend\": false, \"type\": \"scatter\", \"x\": [128, 128, 8, 16, 16, 256, 128, 128, 128, 8], \"xaxis\": \"x11\", \"y\": [0.4475426537245917, 0.30811559721491616, 0.4051284289161241, 0.4199071669462878, 0.27574042289278133, 0.13696254402480412, 0.4476176051738697, 0.43912042347804847, 0.32940522064176114, 0.3206051108604173], \"yaxis\": \"y11\"}, {\"type\": \"scatter\", \"xaxis\": \"x19\", \"yaxis\": \"y19\"}, {\"colorbar\": {\"title\": {\"text\": \"Objective Value\"}}, \"colorscale\": [[0, \"rgb(5,10,172)\"], [0.35, \"rgb(40,60,190)\"], [0.5, \"rgb(70,100,245)\"], [0.6, \"rgb(90,120,245)\"], [0.7, \"rgb(106,137,247)\"], [1, \"rgb(220,220,220)\"]], \"connectgaps\": true, \"contours\": {\"coloring\": \"heatmap\"}, \"hoverinfo\": \"none\", \"line\": {\"smoothing\": 1.3}, \"showscale\": false, \"type\": \"contour\", \"x\": [8, 16, 128, 256], \"xaxis\": \"x27\", \"y\": [2, 3, 4, 5], \"yaxis\": \"y27\", \"z\": [[null, null, 0.8660143613815308, null], [0.5784744620323181, null, null, null], [null, 0.9208266735076904, 0.8695088028907776, null], [null, null, 0.7717651724815369, 0.9458865523338318]]}, {\"marker\": {\"color\": \"black\"}, \"mode\": \"markers\", \"showlegend\": false, \"type\": \"scatter\", \"x\": [128, 128, 8, 16, 16, 256, 128, 128, 128, 8], \"xaxis\": \"x27\", \"y\": [5, 4, 3, 4, 4, 5, 5, 2, 5, 3], \"yaxis\": \"y27\"}, {\"colorbar\": {\"title\": {\"text\": \"Objective Value\"}}, \"colorscale\": [[0, \"rgb(5,10,172)\"], [0.35, \"rgb(40,60,190)\"], [0.5, \"rgb(70,100,245)\"], [0.6, \"rgb(90,120,245)\"], [0.7, \"rgb(106,137,247)\"], [1, \"rgb(220,220,220)\"]], \"connectgaps\": true, \"contours\": {\"coloring\": \"heatmap\"}, \"hoverinfo\": \"none\", \"line\": {\"smoothing\": 1.3}, \"showscale\": false, \"type\": \"contour\", \"x\": [8, 16, 128, 256], \"xaxis\": \"x35\", \"y\": [0.00011431229408656762, 0.00011985939874632534, 0.00019459451111337528, 0.00021577654778061675, 0.0002781761413312715, 0.00031379768467785276, 0.0003222124173376937, 0.00034234441557670246, 0.0009011149211580522, 0.0009969827342691411], \"yaxis\": \"y35\", \"z\": [[null, null, 0.7892372012138367, null], [null, null, 0.8660143613815308, null], [null, null, 0.8695088028907776, null], [null, null, 0.7717651724815369, null], [null, null, 0.763079047203064, null], [0.5426318049430847, null, null, null], [null, 0.9208266735076904, null, null], [0.5784744620323181, null, null, null], [null, null, null, 0.9458865523338318], [null, 0.7521964907646179, null, null]]}, {\"marker\": {\"color\": \"black\"}, \"mode\": \"markers\", \"showlegend\": false, \"type\": \"scatter\", \"x\": [128, 128, 8, 16, 16, 256, 128, 128, 128, 8], \"xaxis\": \"x35\", \"y\": [0.0002781761413312715, 0.00019459451111337528, 0.00031379768467785276, 0.0009969827342691411, 0.0003222124173376937, 0.0009011149211580522, 0.00011431229408656762, 0.00011985939874632534, 0.00021577654778061675, 0.00034234441557670246], \"yaxis\": \"y35\"}, {\"colorbar\": {\"title\": {\"text\": \"Objective Value\"}}, \"colorscale\": [[0, \"rgb(5,10,172)\"], [0.35, \"rgb(40,60,190)\"], [0.5, \"rgb(70,100,245)\"], [0.6, \"rgb(90,120,245)\"], [0.7, \"rgb(106,137,247)\"], [1, \"rgb(220,220,220)\"]], \"connectgaps\": true, \"contours\": {\"coloring\": \"heatmap\"}, \"hoverinfo\": \"none\", \"line\": {\"smoothing\": 1.3}, \"showscale\": false, \"type\": \"contour\", \"x\": [8, 16, 128, 256], \"xaxis\": \"x43\", \"y\": [0.8292747404960318, 0.8343662356211846, 0.8583730620569984, 0.8700648073603755, 0.8792675991877269, 0.8847775912911807, 0.8964296642692322, 0.9355278762575644, 0.9454761908726577, 0.9910653091313444], \"yaxis\": \"y43\", \"z\": [[null, null, 0.7717651724815369, null], [null, null, 0.763079047203064, null], [null, 0.7521964907646179, null, null], [0.5426318049430847, null, null, null], [null, null, 0.8695088028907776, null], [null, null, 0.8660143613815308, null], [0.5784744620323181, null, null, null], [null, null, 0.7892372012138367, null], [null, null, null, 0.9458865523338318], [null, 0.9208266735076904, null, null]]}, {\"marker\": {\"color\": \"black\"}, \"mode\": \"markers\", \"showlegend\": false, \"type\": \"scatter\", \"x\": [128, 128, 8, 16, 16, 256, 128, 128, 128, 8], \"xaxis\": \"x43\", \"y\": [0.8343662356211846, 0.8792675991877269, 0.8700648073603755, 0.8583730620569984, 0.9910653091313444, 0.9454761908726577, 0.9355278762575644, 0.8847775912911807, 0.8292747404960318, 0.8964296642692322], \"yaxis\": \"y43\"}, {\"colorbar\": {\"title\": {\"text\": \"Objective Value\"}}, \"colorscale\": [[0, \"rgb(5,10,172)\"], [0.35, \"rgb(40,60,190)\"], [0.5, \"rgb(70,100,245)\"], [0.6, \"rgb(90,120,245)\"], [0.7, \"rgb(106,137,247)\"], [1, \"rgb(220,220,220)\"]], \"connectgaps\": true, \"contours\": {\"coloring\": \"heatmap\"}, \"hoverinfo\": \"none\", \"line\": {\"smoothing\": 1.3}, \"showscale\": false, \"type\": \"contour\", \"x\": [8, 16, 128, 256], \"xaxis\": \"x51\", \"y\": [false, true], \"yaxis\": \"y51\", \"z\": [[0.5784744620323181, 0.7521964907646179, 0.7717651724815369, null], [0.5426318049430847, 0.9208266735076904, 0.7892372012138367, 0.9458865523338318]]}, {\"marker\": {\"color\": \"black\"}, \"mode\": \"markers\", \"showlegend\": false, \"type\": \"scatter\", \"x\": [128, 128, 8, 16, 16, 256, 128, 128, 128, 8], \"xaxis\": \"x51\", \"y\": [true, true, true, false, true, true, true, false, false, false], \"yaxis\": \"y51\"}, {\"colorbar\": {\"title\": {\"text\": \"Objective Value\"}}, \"colorscale\": [[0, \"rgb(5,10,172)\"], [0.35, \"rgb(40,60,190)\"], [0.5, \"rgb(70,100,245)\"], [0.6, \"rgb(90,120,245)\"], [0.7, \"rgb(106,137,247)\"], [1, \"rgb(220,220,220)\"]], \"connectgaps\": true, \"contours\": {\"coloring\": \"heatmap\"}, \"hoverinfo\": \"none\", \"line\": {\"smoothing\": 1.3}, \"showscale\": false, \"type\": \"contour\", \"x\": [8, 16, 128, 256], \"xaxis\": \"x59\", \"y\": [7.769001540971277e-05, 9.658630631397371e-05, 0.00010839860995588048, 0.00013574996304822177, 0.00024206467053167096, 0.0002461730007892341, 0.00026786709389757784, 0.0008316437322277936, 0.00191834042067662, 0.008235695017360493], \"yaxis\": \"y59\", \"z\": [[0.5784744620323181, null, null, null], [null, null, 0.7892372012138367, null], [null, null, 0.7717651724815369, null], [null, null, 0.8660143613815308, null], [0.5426318049430847, null, null, null], [null, 0.9208266735076904, null, null], [null, null, 0.763079047203064, null], [null, null, 0.8695088028907776, null], [null, 0.7521964907646179, null, null], [null, null, null, 0.9458865523338318]]}, {\"marker\": {\"color\": \"black\"}, \"mode\": \"markers\", \"showlegend\": false, \"type\": \"scatter\", \"x\": [128, 128, 8, 16, 16, 256, 128, 128, 128, 8], \"xaxis\": \"x59\", \"y\": [0.00026786709389757784, 0.0008316437322277936, 0.00024206467053167096, 0.00191834042067662, 0.0002461730007892341, 0.008235695017360493, 9.658630631397371e-05, 0.00013574996304822177, 0.00010839860995588048, 7.769001540971277e-05], \"yaxis\": \"y59\"}, {\"colorbar\": {\"title\": {\"text\": \"Objective Value\"}}, \"colorscale\": [[0, \"rgb(5,10,172)\"], [0.35, \"rgb(40,60,190)\"], [0.5, \"rgb(70,100,245)\"], [0.6, \"rgb(90,120,245)\"], [0.7, \"rgb(106,137,247)\"], [1, \"rgb(220,220,220)\"]], \"connectgaps\": true, \"contours\": {\"coloring\": \"heatmap\"}, \"hoverinfo\": \"none\", \"line\": {\"smoothing\": 1.3}, \"showscale\": false, \"type\": \"contour\", \"x\": [2, 3, 4, 5], \"xaxis\": \"x4\", \"y\": [16, 64, 128], \"yaxis\": \"y4\", \"z\": [[null, null, 0.8695088028907776, 0.7892372012138367], [null, 0.5784744620323181, 0.7521964907646179, 0.7717651724815369], [0.8660143613815308, 0.5426318049430847, 0.9208266735076904, null]]}, {\"marker\": {\"color\": \"black\"}, \"mode\": \"markers\", \"showlegend\": false, \"type\": \"scatter\", \"x\": [5, 4, 3, 4, 4, 5, 5, 2, 5, 3], \"xaxis\": \"x4\", \"y\": [16, 16, 128, 64, 128, 16, 16, 128, 64, 64], \"yaxis\": \"y4\"}, {\"colorbar\": {\"title\": {\"text\": \"Objective Value\"}}, \"colorscale\": [[0, \"rgb(5,10,172)\"], [0.35, \"rgb(40,60,190)\"], [0.5, \"rgb(70,100,245)\"], [0.6, \"rgb(90,120,245)\"], [0.7, \"rgb(106,137,247)\"], [1, \"rgb(220,220,220)\"]], \"connectgaps\": true, \"contours\": {\"coloring\": \"heatmap\"}, \"hoverinfo\": \"none\", \"line\": {\"smoothing\": 1.3}, \"showscale\": false, \"type\": \"contour\", \"x\": [2, 3, 4, 5], \"xaxis\": \"x12\", \"y\": [0.13696254402480412, 0.27574042289278133, 0.30811559721491616, 0.3206051108604173, 0.32940522064176114, 0.4051284289161241, 0.4199071669462878, 0.43912042347804847, 0.4475426537245917, 0.4476176051738697], \"yaxis\": \"y12\", \"z\": [[null, null, null, 0.9458865523338318], [null, null, 0.9208266735076904, null], [null, null, 0.8695088028907776, null], [null, 0.5784744620323181, null, null], [null, null, null, 0.7717651724815369], [null, 0.5426318049430847, null, null], [null, null, 0.7521964907646179, null], [0.8660143613815308, null, null, null], [null, null, null, 0.763079047203064], [null, null, null, 0.7892372012138367]]}, {\"marker\": {\"color\": \"black\"}, \"mode\": \"markers\", \"showlegend\": false, \"type\": \"scatter\", \"x\": [5, 4, 3, 4, 4, 5, 5, 2, 5, 3], \"xaxis\": \"x12\", \"y\": [0.4475426537245917, 0.30811559721491616, 0.4051284289161241, 0.4199071669462878, 0.27574042289278133, 0.13696254402480412, 0.4476176051738697, 0.43912042347804847, 0.32940522064176114, 0.3206051108604173], \"yaxis\": \"y12\"}, {\"colorbar\": {\"title\": {\"text\": \"Objective Value\"}}, \"colorscale\": [[0, \"rgb(5,10,172)\"], [0.35, \"rgb(40,60,190)\"], [0.5, \"rgb(70,100,245)\"], [0.6, \"rgb(90,120,245)\"], [0.7, \"rgb(106,137,247)\"], [1, \"rgb(220,220,220)\"]], \"connectgaps\": true, \"contours\": {\"coloring\": \"heatmap\"}, \"hoverinfo\": \"none\", \"line\": {\"smoothing\": 1.3}, \"showscale\": false, \"type\": \"contour\", \"x\": [2, 3, 4, 5], \"xaxis\": \"x20\", \"y\": [8, 16, 128, 256], \"yaxis\": \"y20\", \"z\": [[null, 0.5784744620323181, null, null], [null, null, 0.9208266735076904, null], [0.8660143613815308, null, 0.8695088028907776, 0.7717651724815369], [null, null, null, 0.9458865523338318]]}, {\"marker\": {\"color\": \"black\"}, \"mode\": \"markers\", \"showlegend\": false, \"type\": \"scatter\", \"x\": [5, 4, 3, 4, 4, 5, 5, 2, 5, 3], \"xaxis\": \"x20\", \"y\": [128, 128, 8, 16, 16, 256, 128, 128, 128, 8], \"yaxis\": \"y20\"}, {\"type\": \"scatter\", \"xaxis\": \"x28\", \"yaxis\": \"y28\"}, {\"colorbar\": {\"title\": {\"text\": \"Objective Value\"}}, \"colorscale\": [[0, \"rgb(5,10,172)\"], [0.35, \"rgb(40,60,190)\"], [0.5, \"rgb(70,100,245)\"], [0.6, \"rgb(90,120,245)\"], [0.7, \"rgb(106,137,247)\"], [1, \"rgb(220,220,220)\"]], \"connectgaps\": true, \"contours\": {\"coloring\": \"heatmap\"}, \"hoverinfo\": \"none\", \"line\": {\"smoothing\": 1.3}, \"showscale\": false, \"type\": \"contour\", \"x\": [2, 3, 4, 5], \"xaxis\": \"x36\", \"y\": [0.00011431229408656762, 0.00011985939874632534, 0.00019459451111337528, 0.00021577654778061675, 0.0002781761413312715, 0.00031379768467785276, 0.0003222124173376937, 0.00034234441557670246, 0.0009011149211580522, 0.0009969827342691411], \"yaxis\": \"y36\", \"z\": [[null, null, null, 0.7892372012138367], [0.8660143613815308, null, null, null], [null, null, 0.8695088028907776, null], [null, null, null, 0.7717651724815369], [null, null, null, 0.763079047203064], [null, 0.5426318049430847, null, null], [null, null, 0.9208266735076904, null], [null, 0.5784744620323181, null, null], [null, null, null, 0.9458865523338318], [null, null, 0.7521964907646179, null]]}, {\"marker\": {\"color\": \"black\"}, \"mode\": \"markers\", \"showlegend\": false, \"type\": \"scatter\", \"x\": [5, 4, 3, 4, 4, 5, 5, 2, 5, 3], \"xaxis\": \"x36\", \"y\": [0.0002781761413312715, 0.00019459451111337528, 0.00031379768467785276, 0.0009969827342691411, 0.0003222124173376937, 0.0009011149211580522, 0.00011431229408656762, 0.00011985939874632534, 0.00021577654778061675, 0.00034234441557670246], \"yaxis\": \"y36\"}, {\"colorbar\": {\"title\": {\"text\": \"Objective Value\"}}, \"colorscale\": [[0, \"rgb(5,10,172)\"], [0.35, \"rgb(40,60,190)\"], [0.5, \"rgb(70,100,245)\"], [0.6, \"rgb(90,120,245)\"], [0.7, \"rgb(106,137,247)\"], [1, \"rgb(220,220,220)\"]], \"connectgaps\": true, \"contours\": {\"coloring\": \"heatmap\"}, \"hoverinfo\": \"none\", \"line\": {\"smoothing\": 1.3}, \"showscale\": false, \"type\": \"contour\", \"x\": [2, 3, 4, 5], \"xaxis\": \"x44\", \"y\": [0.8292747404960318, 0.8343662356211846, 0.8583730620569984, 0.8700648073603755, 0.8792675991877269, 0.8847775912911807, 0.8964296642692322, 0.9355278762575644, 0.9454761908726577, 0.9910653091313444], \"yaxis\": \"y44\", \"z\": [[null, null, null, 0.7717651724815369], [null, null, null, 0.763079047203064], [null, null, 0.7521964907646179, null], [null, 0.5426318049430847, null, null], [null, null, 0.8695088028907776, null], [0.8660143613815308, null, null, null], [null, 0.5784744620323181, null, null], [null, null, null, 0.7892372012138367], [null, null, null, 0.9458865523338318], [null, null, 0.9208266735076904, null]]}, {\"marker\": {\"color\": \"black\"}, \"mode\": \"markers\", \"showlegend\": false, \"type\": \"scatter\", \"x\": [5, 4, 3, 4, 4, 5, 5, 2, 5, 3], \"xaxis\": \"x44\", \"y\": [0.8343662356211846, 0.8792675991877269, 0.8700648073603755, 0.8583730620569984, 0.9910653091313444, 0.9454761908726577, 0.9355278762575644, 0.8847775912911807, 0.8292747404960318, 0.8964296642692322], \"yaxis\": \"y44\"}, {\"colorbar\": {\"title\": {\"text\": \"Objective Value\"}}, \"colorscale\": [[0, \"rgb(5,10,172)\"], [0.35, \"rgb(40,60,190)\"], [0.5, \"rgb(70,100,245)\"], [0.6, \"rgb(90,120,245)\"], [0.7, \"rgb(106,137,247)\"], [1, \"rgb(220,220,220)\"]], \"connectgaps\": true, \"contours\": {\"coloring\": \"heatmap\"}, \"hoverinfo\": \"none\", \"line\": {\"smoothing\": 1.3}, \"showscale\": false, \"type\": \"contour\", \"x\": [2, 3, 4, 5], \"xaxis\": \"x52\", \"y\": [false, true], \"yaxis\": \"y52\", \"z\": [[0.8660143613815308, 0.5784744620323181, 0.7521964907646179, 0.7717651724815369], [null, 0.5426318049430847, 0.9208266735076904, 0.7892372012138367]]}, {\"marker\": {\"color\": \"black\"}, \"mode\": \"markers\", \"showlegend\": false, \"type\": \"scatter\", \"x\": [5, 4, 3, 4, 4, 5, 5, 2, 5, 3], \"xaxis\": \"x52\", \"y\": [true, true, true, false, true, true, true, false, false, false], \"yaxis\": \"y52\"}, {\"colorbar\": {\"title\": {\"text\": \"Objective Value\"}}, \"colorscale\": [[0, \"rgb(5,10,172)\"], [0.35, \"rgb(40,60,190)\"], [0.5, \"rgb(70,100,245)\"], [0.6, \"rgb(90,120,245)\"], [0.7, \"rgb(106,137,247)\"], [1, \"rgb(220,220,220)\"]], \"connectgaps\": true, \"contours\": {\"coloring\": \"heatmap\"}, \"hoverinfo\": \"none\", \"line\": {\"smoothing\": 1.3}, \"showscale\": false, \"type\": \"contour\", \"x\": [2, 3, 4, 5], \"xaxis\": \"x60\", \"y\": [7.769001540971277e-05, 9.658630631397371e-05, 0.00010839860995588048, 0.00013574996304822177, 0.00024206467053167096, 0.0002461730007892341, 0.00026786709389757784, 0.0008316437322277936, 0.00191834042067662, 0.008235695017360493], \"yaxis\": \"y60\", \"z\": [[null, 0.5784744620323181, null, null], [null, null, null, 0.7892372012138367], [null, null, null, 0.7717651724815369], [0.8660143613815308, null, null, null], [null, 0.5426318049430847, null, null], [null, null, 0.9208266735076904, null], [null, null, null, 0.763079047203064], [null, null, 0.8695088028907776, null], [null, null, 0.7521964907646179, null], [null, null, null, 0.9458865523338318]]}, {\"marker\": {\"color\": \"black\"}, \"mode\": \"markers\", \"showlegend\": false, \"type\": \"scatter\", \"x\": [5, 4, 3, 4, 4, 5, 5, 2, 5, 3], \"xaxis\": \"x60\", \"y\": [0.00026786709389757784, 0.0008316437322277936, 0.00024206467053167096, 0.00191834042067662, 0.0002461730007892341, 0.008235695017360493, 9.658630631397371e-05, 0.00013574996304822177, 0.00010839860995588048, 7.769001540971277e-05], \"yaxis\": \"y60\"}, {\"colorbar\": {\"title\": {\"text\": \"Objective Value\"}}, \"colorscale\": [[0, \"rgb(5,10,172)\"], [0.35, \"rgb(40,60,190)\"], [0.5, \"rgb(70,100,245)\"], [0.6, \"rgb(90,120,245)\"], [0.7, \"rgb(106,137,247)\"], [1, \"rgb(220,220,220)\"]], \"connectgaps\": true, \"contours\": {\"coloring\": \"heatmap\"}, \"hoverinfo\": \"none\", \"line\": {\"smoothing\": 1.3}, \"showscale\": false, \"type\": \"contour\", \"x\": [0.00011431229408656762, 0.00011985939874632534, 0.00019459451111337528, 0.00021577654778061675, 0.0002781761413312715, 0.00031379768467785276, 0.0003222124173376937, 0.00034234441557670246, 0.0009011149211580522, 0.0009969827342691411], \"xaxis\": \"x5\", \"y\": [16, 64, 128], \"yaxis\": \"y5\", \"z\": [[0.7892372012138367, null, 0.8695088028907776, null, 0.763079047203064, null, null, null, 0.9458865523338318, null], [null, null, null, 0.7717651724815369, null, null, null, 0.5784744620323181, null, 0.7521964907646179], [null, 0.8660143613815308, null, null, null, 0.5426318049430847, 0.9208266735076904, null, null, null]]}, {\"marker\": {\"color\": \"black\"}, \"mode\": \"markers\", \"showlegend\": false, \"type\": \"scatter\", \"x\": [0.0002781761413312715, 0.00019459451111337528, 0.00031379768467785276, 0.0009969827342691411, 0.0003222124173376937, 0.0009011149211580522, 0.00011431229408656762, 0.00011985939874632534, 0.00021577654778061675, 0.00034234441557670246], \"xaxis\": \"x5\", \"y\": [16, 16, 128, 64, 128, 16, 16, 128, 64, 64], \"yaxis\": \"y5\"}, {\"colorbar\": {\"title\": {\"text\": \"Objective Value\"}}, \"colorscale\": [[0, \"rgb(5,10,172)\"], [0.35, \"rgb(40,60,190)\"], [0.5, \"rgb(70,100,245)\"], [0.6, \"rgb(90,120,245)\"], [0.7, \"rgb(106,137,247)\"], [1, \"rgb(220,220,220)\"]], \"connectgaps\": true, \"contours\": {\"coloring\": \"heatmap\"}, \"hoverinfo\": \"none\", \"line\": {\"smoothing\": 1.3}, \"showscale\": false, \"type\": \"contour\", \"x\": [0.00011431229408656762, 0.00011985939874632534, 0.00019459451111337528, 0.00021577654778061675, 0.0002781761413312715, 0.00031379768467785276, 0.0003222124173376937, 0.00034234441557670246, 0.0009011149211580522, 0.0009969827342691411], \"xaxis\": \"x13\", \"y\": [0.13696254402480412, 0.27574042289278133, 0.30811559721491616, 0.3206051108604173, 0.32940522064176114, 0.4051284289161241, 0.4199071669462878, 0.43912042347804847, 0.4475426537245917, 0.4476176051738697], \"yaxis\": \"y13\", \"z\": [[null, null, null, null, null, null, null, null, 0.9458865523338318, null], [null, null, null, null, null, null, 0.9208266735076904, null, null, null], [null, null, 0.8695088028907776, null, null, null, null, null, null, null], [null, null, null, null, null, null, null, 0.5784744620323181, null, null], [null, null, null, 0.7717651724815369, null, null, null, null, null, null], [null, null, null, null, null, 0.5426318049430847, null, null, null, null], [null, null, null, null, null, null, null, null, null, 0.7521964907646179], [null, 0.8660143613815308, null, null, null, null, null, null, null, null], [null, null, null, null, 0.763079047203064, null, null, null, null, null], [0.7892372012138367, null, null, null, null, null, null, null, null, null]]}, {\"marker\": {\"color\": \"black\"}, \"mode\": \"markers\", \"showlegend\": false, \"type\": \"scatter\", \"x\": [0.0002781761413312715, 0.00019459451111337528, 0.00031379768467785276, 0.0009969827342691411, 0.0003222124173376937, 0.0009011149211580522, 0.00011431229408656762, 0.00011985939874632534, 0.00021577654778061675, 0.00034234441557670246], \"xaxis\": \"x13\", \"y\": [0.4475426537245917, 0.30811559721491616, 0.4051284289161241, 0.4199071669462878, 0.27574042289278133, 0.13696254402480412, 0.4476176051738697, 0.43912042347804847, 0.32940522064176114, 0.3206051108604173], \"yaxis\": \"y13\"}, {\"colorbar\": {\"title\": {\"text\": \"Objective Value\"}}, \"colorscale\": [[0, \"rgb(5,10,172)\"], [0.35, \"rgb(40,60,190)\"], [0.5, \"rgb(70,100,245)\"], [0.6, \"rgb(90,120,245)\"], [0.7, \"rgb(106,137,247)\"], [1, \"rgb(220,220,220)\"]], \"connectgaps\": true, \"contours\": {\"coloring\": \"heatmap\"}, \"hoverinfo\": \"none\", \"line\": {\"smoothing\": 1.3}, \"showscale\": false, \"type\": \"contour\", \"x\": [0.00011431229408656762, 0.00011985939874632534, 0.00019459451111337528, 0.00021577654778061675, 0.0002781761413312715, 0.00031379768467785276, 0.0003222124173376937, 0.00034234441557670246, 0.0009011149211580522, 0.0009969827342691411], \"xaxis\": \"x21\", \"y\": [8, 16, 128, 256], \"yaxis\": \"y21\", \"z\": [[null, null, null, null, null, 0.5426318049430847, null, 0.5784744620323181, null, null], [null, null, null, null, null, null, 0.9208266735076904, null, null, 0.7521964907646179], [0.7892372012138367, 0.8660143613815308, 0.8695088028907776, 0.7717651724815369, 0.763079047203064, null, null, null, null, null], [null, null, null, null, null, null, null, null, 0.9458865523338318, null]]}, {\"marker\": {\"color\": \"black\"}, \"mode\": \"markers\", \"showlegend\": false, \"type\": \"scatter\", \"x\": [0.0002781761413312715, 0.00019459451111337528, 0.00031379768467785276, 0.0009969827342691411, 0.0003222124173376937, 0.0009011149211580522, 0.00011431229408656762, 0.00011985939874632534, 0.00021577654778061675, 0.00034234441557670246], \"xaxis\": \"x21\", \"y\": [128, 128, 8, 16, 16, 256, 128, 128, 128, 8], \"yaxis\": \"y21\"}, {\"colorbar\": {\"title\": {\"text\": \"Objective Value\"}}, \"colorscale\": [[0, \"rgb(5,10,172)\"], [0.35, \"rgb(40,60,190)\"], [0.5, \"rgb(70,100,245)\"], [0.6, \"rgb(90,120,245)\"], [0.7, \"rgb(106,137,247)\"], [1, \"rgb(220,220,220)\"]], \"connectgaps\": true, \"contours\": {\"coloring\": \"heatmap\"}, \"hoverinfo\": \"none\", \"line\": {\"smoothing\": 1.3}, \"showscale\": false, \"type\": \"contour\", \"x\": [0.00011431229408656762, 0.00011985939874632534, 0.00019459451111337528, 0.00021577654778061675, 0.0002781761413312715, 0.00031379768467785276, 0.0003222124173376937, 0.00034234441557670246, 0.0009011149211580522, 0.0009969827342691411], \"xaxis\": \"x29\", \"y\": [2, 3, 4, 5], \"yaxis\": \"y29\", \"z\": [[null, 0.8660143613815308, null, null, null, null, null, null, null, null], [null, null, null, null, null, 0.5426318049430847, null, 0.5784744620323181, null, null], [null, null, 0.8695088028907776, null, null, null, 0.9208266735076904, null, null, 0.7521964907646179], [0.7892372012138367, null, null, 0.7717651724815369, 0.763079047203064, null, null, null, 0.9458865523338318, null]]}, {\"marker\": {\"color\": \"black\"}, \"mode\": \"markers\", \"showlegend\": false, \"type\": \"scatter\", \"x\": [0.0002781761413312715, 0.00019459451111337528, 0.00031379768467785276, 0.0009969827342691411, 0.0003222124173376937, 0.0009011149211580522, 0.00011431229408656762, 0.00011985939874632534, 0.00021577654778061675, 0.00034234441557670246], \"xaxis\": \"x29\", \"y\": [5, 4, 3, 4, 4, 5, 5, 2, 5, 3], \"yaxis\": \"y29\"}, {\"type\": \"scatter\", \"xaxis\": \"x37\", \"yaxis\": \"y37\"}, {\"colorbar\": {\"title\": {\"text\": \"Objective Value\"}}, \"colorscale\": [[0, \"rgb(5,10,172)\"], [0.35, \"rgb(40,60,190)\"], [0.5, \"rgb(70,100,245)\"], [0.6, \"rgb(90,120,245)\"], [0.7, \"rgb(106,137,247)\"], [1, \"rgb(220,220,220)\"]], \"connectgaps\": true, \"contours\": {\"coloring\": \"heatmap\"}, \"hoverinfo\": \"none\", \"line\": {\"smoothing\": 1.3}, \"showscale\": false, \"type\": \"contour\", \"x\": [0.00011431229408656762, 0.00011985939874632534, 0.00019459451111337528, 0.00021577654778061675, 0.0002781761413312715, 0.00031379768467785276, 0.0003222124173376937, 0.00034234441557670246, 0.0009011149211580522, 0.0009969827342691411], \"xaxis\": \"x45\", \"y\": [0.8292747404960318, 0.8343662356211846, 0.8583730620569984, 0.8700648073603755, 0.8792675991877269, 0.8847775912911807, 0.8964296642692322, 0.9355278762575644, 0.9454761908726577, 0.9910653091313444], \"yaxis\": \"y45\", \"z\": [[null, null, null, 0.7717651724815369, null, null, null, null, null, null], [null, null, null, null, 0.763079047203064, null, null, null, null, null], [null, null, null, null, null, null, null, null, null, 0.7521964907646179], [null, null, null, null, null, 0.5426318049430847, null, null, null, null], [null, null, 0.8695088028907776, null, null, null, null, null, null, null], [null, 0.8660143613815308, null, null, null, null, null, null, null, null], [null, null, null, null, null, null, null, 0.5784744620323181, null, null], [0.7892372012138367, null, null, null, null, null, null, null, null, null], [null, null, null, null, null, null, null, null, 0.9458865523338318, null], [null, null, null, null, null, null, 0.9208266735076904, null, null, null]]}, {\"marker\": {\"color\": \"black\"}, \"mode\": \"markers\", \"showlegend\": false, \"type\": \"scatter\", \"x\": [0.0002781761413312715, 0.00019459451111337528, 0.00031379768467785276, 0.0009969827342691411, 0.0003222124173376937, 0.0009011149211580522, 0.00011431229408656762, 0.00011985939874632534, 0.00021577654778061675, 0.00034234441557670246], \"xaxis\": \"x45\", \"y\": [0.8343662356211846, 0.8792675991877269, 0.8700648073603755, 0.8583730620569984, 0.9910653091313444, 0.9454761908726577, 0.9355278762575644, 0.8847775912911807, 0.8292747404960318, 0.8964296642692322], \"yaxis\": \"y45\"}, {\"colorbar\": {\"title\": {\"text\": \"Objective Value\"}}, \"colorscale\": [[0, \"rgb(5,10,172)\"], [0.35, \"rgb(40,60,190)\"], [0.5, \"rgb(70,100,245)\"], [0.6, \"rgb(90,120,245)\"], [0.7, \"rgb(106,137,247)\"], [1, \"rgb(220,220,220)\"]], \"connectgaps\": true, \"contours\": {\"coloring\": \"heatmap\"}, \"hoverinfo\": \"none\", \"line\": {\"smoothing\": 1.3}, \"showscale\": false, \"type\": \"contour\", \"x\": [0.00011431229408656762, 0.00011985939874632534, 0.00019459451111337528, 0.00021577654778061675, 0.0002781761413312715, 0.00031379768467785276, 0.0003222124173376937, 0.00034234441557670246, 0.0009011149211580522, 0.0009969827342691411], \"xaxis\": \"x53\", \"y\": [false, true], \"yaxis\": \"y53\", \"z\": [[null, 0.8660143613815308, null, 0.7717651724815369, null, null, null, 0.5784744620323181, null, 0.7521964907646179], [0.7892372012138367, null, 0.8695088028907776, null, 0.763079047203064, 0.5426318049430847, 0.9208266735076904, null, 0.9458865523338318, null]]}, {\"marker\": {\"color\": \"black\"}, \"mode\": \"markers\", \"showlegend\": false, \"type\": \"scatter\", \"x\": [0.0002781761413312715, 0.00019459451111337528, 0.00031379768467785276, 0.0009969827342691411, 0.0003222124173376937, 0.0009011149211580522, 0.00011431229408656762, 0.00011985939874632534, 0.00021577654778061675, 0.00034234441557670246], \"xaxis\": \"x53\", \"y\": [true, true, true, false, true, true, true, false, false, false], \"yaxis\": \"y53\"}, {\"colorbar\": {\"title\": {\"text\": \"Objective Value\"}}, \"colorscale\": [[0, \"rgb(5,10,172)\"], [0.35, \"rgb(40,60,190)\"], [0.5, \"rgb(70,100,245)\"], [0.6, \"rgb(90,120,245)\"], [0.7, \"rgb(106,137,247)\"], [1, \"rgb(220,220,220)\"]], \"connectgaps\": true, \"contours\": {\"coloring\": \"heatmap\"}, \"hoverinfo\": \"none\", \"line\": {\"smoothing\": 1.3}, \"showscale\": false, \"type\": \"contour\", \"x\": [0.00011431229408656762, 0.00011985939874632534, 0.00019459451111337528, 0.00021577654778061675, 0.0002781761413312715, 0.00031379768467785276, 0.0003222124173376937, 0.00034234441557670246, 0.0009011149211580522, 0.0009969827342691411], \"xaxis\": \"x61\", \"y\": [7.769001540971277e-05, 9.658630631397371e-05, 0.00010839860995588048, 0.00013574996304822177, 0.00024206467053167096, 0.0002461730007892341, 0.00026786709389757784, 0.0008316437322277936, 0.00191834042067662, 0.008235695017360493], \"yaxis\": \"y61\", \"z\": [[null, null, null, null, null, null, null, 0.5784744620323181, null, null], [0.7892372012138367, null, null, null, null, null, null, null, null, null], [null, null, null, 0.7717651724815369, null, null, null, null, null, null], [null, 0.8660143613815308, null, null, null, null, null, null, null, null], [null, null, null, null, null, 0.5426318049430847, null, null, null, null], [null, null, null, null, null, null, 0.9208266735076904, null, null, null], [null, null, null, null, 0.763079047203064, null, null, null, null, null], [null, null, 0.8695088028907776, null, null, null, null, null, null, null], [null, null, null, null, null, null, null, null, null, 0.7521964907646179], [null, null, null, null, null, null, null, null, 0.9458865523338318, null]]}, {\"marker\": {\"color\": \"black\"}, \"mode\": \"markers\", \"showlegend\": false, \"type\": \"scatter\", \"x\": [0.0002781761413312715, 0.00019459451111337528, 0.00031379768467785276, 0.0009969827342691411, 0.0003222124173376937, 0.0009011149211580522, 0.00011431229408656762, 0.00011985939874632534, 0.00021577654778061675, 0.00034234441557670246], \"xaxis\": \"x61\", \"y\": [0.00026786709389757784, 0.0008316437322277936, 0.00024206467053167096, 0.00191834042067662, 0.0002461730007892341, 0.008235695017360493, 9.658630631397371e-05, 0.00013574996304822177, 0.00010839860995588048, 7.769001540971277e-05], \"yaxis\": \"y61\"}, {\"colorbar\": {\"title\": {\"text\": \"Objective Value\"}}, \"colorscale\": [[0, \"rgb(5,10,172)\"], [0.35, \"rgb(40,60,190)\"], [0.5, \"rgb(70,100,245)\"], [0.6, \"rgb(90,120,245)\"], [0.7, \"rgb(106,137,247)\"], [1, \"rgb(220,220,220)\"]], \"connectgaps\": true, \"contours\": {\"coloring\": \"heatmap\"}, \"hoverinfo\": \"none\", \"line\": {\"smoothing\": 1.3}, \"showscale\": false, \"type\": \"contour\", \"x\": [0.8292747404960318, 0.8343662356211846, 0.8583730620569984, 0.8700648073603755, 0.8792675991877269, 0.8847775912911807, 0.8964296642692322, 0.9355278762575644, 0.9454761908726577, 0.9910653091313444], \"xaxis\": \"x6\", \"y\": [16, 64, 128], \"yaxis\": \"y6\", \"z\": [[null, 0.763079047203064, null, null, 0.8695088028907776, null, null, 0.7892372012138367, 0.9458865523338318, null], [0.7717651724815369, null, 0.7521964907646179, null, null, null, 0.5784744620323181, null, null, null], [null, null, null, 0.5426318049430847, null, 0.8660143613815308, null, null, null, 0.9208266735076904]]}, {\"marker\": {\"color\": \"black\"}, \"mode\": \"markers\", \"showlegend\": false, \"type\": \"scatter\", \"x\": [0.8343662356211846, 0.8792675991877269, 0.8700648073603755, 0.8583730620569984, 0.9910653091313444, 0.9454761908726577, 0.9355278762575644, 0.8847775912911807, 0.8292747404960318, 0.8964296642692322], \"xaxis\": \"x6\", \"y\": [16, 16, 128, 64, 128, 16, 16, 128, 64, 64], \"yaxis\": \"y6\"}, {\"colorbar\": {\"title\": {\"text\": \"Objective Value\"}}, \"colorscale\": [[0, \"rgb(5,10,172)\"], [0.35, \"rgb(40,60,190)\"], [0.5, \"rgb(70,100,245)\"], [0.6, \"rgb(90,120,245)\"], [0.7, \"rgb(106,137,247)\"], [1, \"rgb(220,220,220)\"]], \"connectgaps\": true, \"contours\": {\"coloring\": \"heatmap\"}, \"hoverinfo\": \"none\", \"line\": {\"smoothing\": 1.3}, \"showscale\": false, \"type\": \"contour\", \"x\": [0.8292747404960318, 0.8343662356211846, 0.8583730620569984, 0.8700648073603755, 0.8792675991877269, 0.8847775912911807, 0.8964296642692322, 0.9355278762575644, 0.9454761908726577, 0.9910653091313444], \"xaxis\": \"x14\", \"y\": [0.13696254402480412, 0.27574042289278133, 0.30811559721491616, 0.3206051108604173, 0.32940522064176114, 0.4051284289161241, 0.4199071669462878, 0.43912042347804847, 0.4475426537245917, 0.4476176051738697], \"yaxis\": \"y14\", \"z\": [[null, null, null, null, null, null, null, null, 0.9458865523338318, null], [null, null, null, null, null, null, null, null, null, 0.9208266735076904], [null, null, null, null, 0.8695088028907776, null, null, null, null, null], [null, null, null, null, null, null, 0.5784744620323181, null, null, null], [0.7717651724815369, null, null, null, null, null, null, null, null, null], [null, null, null, 0.5426318049430847, null, null, null, null, null, null], [null, null, 0.7521964907646179, null, null, null, null, null, null, null], [null, null, null, null, null, 0.8660143613815308, null, null, null, null], [null, 0.763079047203064, null, null, null, null, null, null, null, null], [null, null, null, null, null, null, null, 0.7892372012138367, null, null]]}, {\"marker\": {\"color\": \"black\"}, \"mode\": \"markers\", \"showlegend\": false, \"type\": \"scatter\", \"x\": [0.8343662356211846, 0.8792675991877269, 0.8700648073603755, 0.8583730620569984, 0.9910653091313444, 0.9454761908726577, 0.9355278762575644, 0.8847775912911807, 0.8292747404960318, 0.8964296642692322], \"xaxis\": \"x14\", \"y\": [0.4475426537245917, 0.30811559721491616, 0.4051284289161241, 0.4199071669462878, 0.27574042289278133, 0.13696254402480412, 0.4476176051738697, 0.43912042347804847, 0.32940522064176114, 0.3206051108604173], \"yaxis\": \"y14\"}, {\"colorbar\": {\"title\": {\"text\": \"Objective Value\"}}, \"colorscale\": [[0, \"rgb(5,10,172)\"], [0.35, \"rgb(40,60,190)\"], [0.5, \"rgb(70,100,245)\"], [0.6, \"rgb(90,120,245)\"], [0.7, \"rgb(106,137,247)\"], [1, \"rgb(220,220,220)\"]], \"connectgaps\": true, \"contours\": {\"coloring\": \"heatmap\"}, \"hoverinfo\": \"none\", \"line\": {\"smoothing\": 1.3}, \"showscale\": false, \"type\": \"contour\", \"x\": [0.8292747404960318, 0.8343662356211846, 0.8583730620569984, 0.8700648073603755, 0.8792675991877269, 0.8847775912911807, 0.8964296642692322, 0.9355278762575644, 0.9454761908726577, 0.9910653091313444], \"xaxis\": \"x22\", \"y\": [8, 16, 128, 256], \"yaxis\": \"y22\", \"z\": [[null, null, null, 0.5426318049430847, null, null, 0.5784744620323181, null, null, null], [null, null, 0.7521964907646179, null, null, null, null, null, null, 0.9208266735076904], [0.7717651724815369, 0.763079047203064, null, null, 0.8695088028907776, 0.8660143613815308, null, 0.7892372012138367, null, null], [null, null, null, null, null, null, null, null, 0.9458865523338318, null]]}, {\"marker\": {\"color\": \"black\"}, \"mode\": \"markers\", \"showlegend\": false, \"type\": \"scatter\", \"x\": [0.8343662356211846, 0.8792675991877269, 0.8700648073603755, 0.8583730620569984, 0.9910653091313444, 0.9454761908726577, 0.9355278762575644, 0.8847775912911807, 0.8292747404960318, 0.8964296642692322], \"xaxis\": \"x22\", \"y\": [128, 128, 8, 16, 16, 256, 128, 128, 128, 8], \"yaxis\": \"y22\"}, {\"colorbar\": {\"title\": {\"text\": \"Objective Value\"}}, \"colorscale\": [[0, \"rgb(5,10,172)\"], [0.35, \"rgb(40,60,190)\"], [0.5, \"rgb(70,100,245)\"], [0.6, \"rgb(90,120,245)\"], [0.7, \"rgb(106,137,247)\"], [1, \"rgb(220,220,220)\"]], \"connectgaps\": true, \"contours\": {\"coloring\": \"heatmap\"}, \"hoverinfo\": \"none\", \"line\": {\"smoothing\": 1.3}, \"showscale\": false, \"type\": \"contour\", \"x\": [0.8292747404960318, 0.8343662356211846, 0.8583730620569984, 0.8700648073603755, 0.8792675991877269, 0.8847775912911807, 0.8964296642692322, 0.9355278762575644, 0.9454761908726577, 0.9910653091313444], \"xaxis\": \"x30\", \"y\": [2, 3, 4, 5], \"yaxis\": \"y30\", \"z\": [[null, null, null, null, null, 0.8660143613815308, null, null, null, null], [null, null, null, 0.5426318049430847, null, null, 0.5784744620323181, null, null, null], [null, null, 0.7521964907646179, null, 0.8695088028907776, null, null, null, null, 0.9208266735076904], [0.7717651724815369, 0.763079047203064, null, null, null, null, null, 0.7892372012138367, 0.9458865523338318, null]]}, {\"marker\": {\"color\": \"black\"}, \"mode\": \"markers\", \"showlegend\": false, \"type\": \"scatter\", \"x\": [0.8343662356211846, 0.8792675991877269, 0.8700648073603755, 0.8583730620569984, 0.9910653091313444, 0.9454761908726577, 0.9355278762575644, 0.8847775912911807, 0.8292747404960318, 0.8964296642692322], \"xaxis\": \"x30\", \"y\": [5, 4, 3, 4, 4, 5, 5, 2, 5, 3], \"yaxis\": \"y30\"}, {\"colorbar\": {\"title\": {\"text\": \"Objective Value\"}}, \"colorscale\": [[0, \"rgb(5,10,172)\"], [0.35, \"rgb(40,60,190)\"], [0.5, \"rgb(70,100,245)\"], [0.6, \"rgb(90,120,245)\"], [0.7, \"rgb(106,137,247)\"], [1, \"rgb(220,220,220)\"]], \"connectgaps\": true, \"contours\": {\"coloring\": \"heatmap\"}, \"hoverinfo\": \"none\", \"line\": {\"smoothing\": 1.3}, \"showscale\": false, \"type\": \"contour\", \"x\": [0.8292747404960318, 0.8343662356211846, 0.8583730620569984, 0.8700648073603755, 0.8792675991877269, 0.8847775912911807, 0.8964296642692322, 0.9355278762575644, 0.9454761908726577, 0.9910653091313444], \"xaxis\": \"x38\", \"y\": [0.00011431229408656762, 0.00011985939874632534, 0.00019459451111337528, 0.00021577654778061675, 0.0002781761413312715, 0.00031379768467785276, 0.0003222124173376937, 0.00034234441557670246, 0.0009011149211580522, 0.0009969827342691411], \"yaxis\": \"y38\", \"z\": [[null, null, null, null, null, null, null, 0.7892372012138367, null, null], [null, null, null, null, null, 0.8660143613815308, null, null, null, null], [null, null, null, null, 0.8695088028907776, null, null, null, null, null], [0.7717651724815369, null, null, null, null, null, null, null, null, null], [null, 0.763079047203064, null, null, null, null, null, null, null, null], [null, null, null, 0.5426318049430847, null, null, null, null, null, null], [null, null, null, null, null, null, null, null, null, 0.9208266735076904], [null, null, null, null, null, null, 0.5784744620323181, null, null, null], [null, null, null, null, null, null, null, null, 0.9458865523338318, null], [null, null, 0.7521964907646179, null, null, null, null, null, null, null]]}, {\"marker\": {\"color\": \"black\"}, \"mode\": \"markers\", \"showlegend\": false, \"type\": \"scatter\", \"x\": [0.8343662356211846, 0.8792675991877269, 0.8700648073603755, 0.8583730620569984, 0.9910653091313444, 0.9454761908726577, 0.9355278762575644, 0.8847775912911807, 0.8292747404960318, 0.8964296642692322], \"xaxis\": \"x38\", \"y\": [0.0002781761413312715, 0.00019459451111337528, 0.00031379768467785276, 0.0009969827342691411, 0.0003222124173376937, 0.0009011149211580522, 0.00011431229408656762, 0.00011985939874632534, 0.00021577654778061675, 0.00034234441557670246], \"yaxis\": \"y38\"}, {\"type\": \"scatter\", \"xaxis\": \"x46\", \"yaxis\": \"y46\"}, {\"colorbar\": {\"title\": {\"text\": \"Objective Value\"}}, \"colorscale\": [[0, \"rgb(5,10,172)\"], [0.35, \"rgb(40,60,190)\"], [0.5, \"rgb(70,100,245)\"], [0.6, \"rgb(90,120,245)\"], [0.7, \"rgb(106,137,247)\"], [1, \"rgb(220,220,220)\"]], \"connectgaps\": true, \"contours\": {\"coloring\": \"heatmap\"}, \"hoverinfo\": \"none\", \"line\": {\"smoothing\": 1.3}, \"showscale\": false, \"type\": \"contour\", \"x\": [0.8292747404960318, 0.8343662356211846, 0.8583730620569984, 0.8700648073603755, 0.8792675991877269, 0.8847775912911807, 0.8964296642692322, 0.9355278762575644, 0.9454761908726577, 0.9910653091313444], \"xaxis\": \"x54\", \"y\": [false, true], \"yaxis\": \"y54\", \"z\": [[0.7717651724815369, null, 0.7521964907646179, null, null, 0.8660143613815308, 0.5784744620323181, null, null, null], [null, 0.763079047203064, null, 0.5426318049430847, 0.8695088028907776, null, null, 0.7892372012138367, 0.9458865523338318, 0.9208266735076904]]}, {\"marker\": {\"color\": \"black\"}, \"mode\": \"markers\", \"showlegend\": false, \"type\": \"scatter\", \"x\": [0.8343662356211846, 0.8792675991877269, 0.8700648073603755, 0.8583730620569984, 0.9910653091313444, 0.9454761908726577, 0.9355278762575644, 0.8847775912911807, 0.8292747404960318, 0.8964296642692322], \"xaxis\": \"x54\", \"y\": [true, true, true, false, true, true, true, false, false, false], \"yaxis\": \"y54\"}, {\"colorbar\": {\"title\": {\"text\": \"Objective Value\"}}, \"colorscale\": [[0, \"rgb(5,10,172)\"], [0.35, \"rgb(40,60,190)\"], [0.5, \"rgb(70,100,245)\"], [0.6, \"rgb(90,120,245)\"], [0.7, \"rgb(106,137,247)\"], [1, \"rgb(220,220,220)\"]], \"connectgaps\": true, \"contours\": {\"coloring\": \"heatmap\"}, \"hoverinfo\": \"none\", \"line\": {\"smoothing\": 1.3}, \"showscale\": false, \"type\": \"contour\", \"x\": [0.8292747404960318, 0.8343662356211846, 0.8583730620569984, 0.8700648073603755, 0.8792675991877269, 0.8847775912911807, 0.8964296642692322, 0.9355278762575644, 0.9454761908726577, 0.9910653091313444], \"xaxis\": \"x62\", \"y\": [7.769001540971277e-05, 9.658630631397371e-05, 0.00010839860995588048, 0.00013574996304822177, 0.00024206467053167096, 0.0002461730007892341, 0.00026786709389757784, 0.0008316437322277936, 0.00191834042067662, 0.008235695017360493], \"yaxis\": \"y62\", \"z\": [[null, null, null, null, null, null, 0.5784744620323181, null, null, null], [null, null, null, null, null, null, null, 0.7892372012138367, null, null], [0.7717651724815369, null, null, null, null, null, null, null, null, null], [null, null, null, null, null, 0.8660143613815308, null, null, null, null], [null, null, null, 0.5426318049430847, null, null, null, null, null, null], [null, null, null, null, null, null, null, null, null, 0.9208266735076904], [null, 0.763079047203064, null, null, null, null, null, null, null, null], [null, null, null, null, 0.8695088028907776, null, null, null, null, null], [null, null, 0.7521964907646179, null, null, null, null, null, null, null], [null, null, null, null, null, null, null, null, 0.9458865523338318, null]]}, {\"marker\": {\"color\": \"black\"}, \"mode\": \"markers\", \"showlegend\": false, \"type\": \"scatter\", \"x\": [0.8343662356211846, 0.8792675991877269, 0.8700648073603755, 0.8583730620569984, 0.9910653091313444, 0.9454761908726577, 0.9355278762575644, 0.8847775912911807, 0.8292747404960318, 0.8964296642692322], \"xaxis\": \"x62\", \"y\": [0.00026786709389757784, 0.0008316437322277936, 0.00024206467053167096, 0.00191834042067662, 0.0002461730007892341, 0.008235695017360493, 9.658630631397371e-05, 0.00013574996304822177, 0.00010839860995588048, 7.769001540971277e-05], \"yaxis\": \"y62\"}, {\"colorbar\": {\"title\": {\"text\": \"Objective Value\"}}, \"colorscale\": [[0, \"rgb(5,10,172)\"], [0.35, \"rgb(40,60,190)\"], [0.5, \"rgb(70,100,245)\"], [0.6, \"rgb(90,120,245)\"], [0.7, \"rgb(106,137,247)\"], [1, \"rgb(220,220,220)\"]], \"connectgaps\": true, \"contours\": {\"coloring\": \"heatmap\"}, \"hoverinfo\": \"none\", \"line\": {\"smoothing\": 1.3}, \"showscale\": false, \"type\": \"contour\", \"x\": [false, true], \"xaxis\": \"x7\", \"y\": [16, 64, 128], \"yaxis\": \"y7\", \"z\": [[null, 0.7892372012138367], [0.5784744620323181, null], [0.8660143613815308, 0.9208266735076904]]}, {\"marker\": {\"color\": \"black\"}, \"mode\": \"markers\", \"showlegend\": false, \"type\": \"scatter\", \"x\": [true, true, true, false, true, true, true, false, false, false], \"xaxis\": \"x7\", \"y\": [16, 16, 128, 64, 128, 16, 16, 128, 64, 64], \"yaxis\": \"y7\"}, {\"colorbar\": {\"title\": {\"text\": \"Objective Value\"}}, \"colorscale\": [[0, \"rgb(5,10,172)\"], [0.35, \"rgb(40,60,190)\"], [0.5, \"rgb(70,100,245)\"], [0.6, \"rgb(90,120,245)\"], [0.7, \"rgb(106,137,247)\"], [1, \"rgb(220,220,220)\"]], \"connectgaps\": true, \"contours\": {\"coloring\": \"heatmap\"}, \"hoverinfo\": \"none\", \"line\": {\"smoothing\": 1.3}, \"showscale\": false, \"type\": \"contour\", \"x\": [false, true], \"xaxis\": \"x15\", \"y\": [0.13696254402480412, 0.27574042289278133, 0.30811559721491616, 0.3206051108604173, 0.32940522064176114, 0.4051284289161241, 0.4199071669462878, 0.43912042347804847, 0.4475426537245917, 0.4476176051738697], \"yaxis\": \"y15\", \"z\": [[null, 0.9458865523338318], [null, 0.9208266735076904], [null, 0.8695088028907776], [0.5784744620323181, null], [0.7717651724815369, null], [null, 0.5426318049430847], [0.7521964907646179, null], [0.8660143613815308, null], [null, 0.763079047203064], [null, 0.7892372012138367]]}, {\"marker\": {\"color\": \"black\"}, \"mode\": \"markers\", \"showlegend\": false, \"type\": \"scatter\", \"x\": [true, true, true, false, true, true, true, false, false, false], \"xaxis\": \"x15\", \"y\": [0.4475426537245917, 0.30811559721491616, 0.4051284289161241, 0.4199071669462878, 0.27574042289278133, 0.13696254402480412, 0.4476176051738697, 0.43912042347804847, 0.32940522064176114, 0.3206051108604173], \"yaxis\": \"y15\"}, {\"colorbar\": {\"title\": {\"text\": \"Objective Value\"}}, \"colorscale\": [[0, \"rgb(5,10,172)\"], [0.35, \"rgb(40,60,190)\"], [0.5, \"rgb(70,100,245)\"], [0.6, \"rgb(90,120,245)\"], [0.7, \"rgb(106,137,247)\"], [1, \"rgb(220,220,220)\"]], \"connectgaps\": true, \"contours\": {\"coloring\": \"heatmap\"}, \"hoverinfo\": \"none\", \"line\": {\"smoothing\": 1.3}, \"showscale\": false, \"type\": \"contour\", \"x\": [false, true], \"xaxis\": \"x23\", \"y\": [8, 16, 128, 256], \"yaxis\": \"y23\", \"z\": [[0.5784744620323181, 0.5426318049430847], [0.7521964907646179, 0.9208266735076904], [0.7717651724815369, 0.7892372012138367], [null, 0.9458865523338318]]}, {\"marker\": {\"color\": \"black\"}, \"mode\": \"markers\", \"showlegend\": false, \"type\": \"scatter\", \"x\": [true, true, true, false, true, true, true, false, false, false], \"xaxis\": \"x23\", \"y\": [128, 128, 8, 16, 16, 256, 128, 128, 128, 8], \"yaxis\": \"y23\"}, {\"colorbar\": {\"title\": {\"text\": \"Objective Value\"}}, \"colorscale\": [[0, \"rgb(5,10,172)\"], [0.35, \"rgb(40,60,190)\"], [0.5, \"rgb(70,100,245)\"], [0.6, \"rgb(90,120,245)\"], [0.7, \"rgb(106,137,247)\"], [1, \"rgb(220,220,220)\"]], \"connectgaps\": true, \"contours\": {\"coloring\": \"heatmap\"}, \"hoverinfo\": \"none\", \"line\": {\"smoothing\": 1.3}, \"showscale\": false, \"type\": \"contour\", \"x\": [false, true], \"xaxis\": \"x31\", \"y\": [2, 3, 4, 5], \"yaxis\": \"y31\", \"z\": [[0.8660143613815308, null], [0.5784744620323181, 0.5426318049430847], [0.7521964907646179, 0.9208266735076904], [0.7717651724815369, 0.7892372012138367]]}, {\"marker\": {\"color\": \"black\"}, \"mode\": \"markers\", \"showlegend\": false, \"type\": \"scatter\", \"x\": [true, true, true, false, true, true, true, false, false, false], \"xaxis\": \"x31\", \"y\": [5, 4, 3, 4, 4, 5, 5, 2, 5, 3], \"yaxis\": \"y31\"}, {\"colorbar\": {\"title\": {\"text\": \"Objective Value\"}}, \"colorscale\": [[0, \"rgb(5,10,172)\"], [0.35, \"rgb(40,60,190)\"], [0.5, \"rgb(70,100,245)\"], [0.6, \"rgb(90,120,245)\"], [0.7, \"rgb(106,137,247)\"], [1, \"rgb(220,220,220)\"]], \"connectgaps\": true, \"contours\": {\"coloring\": \"heatmap\"}, \"hoverinfo\": \"none\", \"line\": {\"smoothing\": 1.3}, \"showscale\": false, \"type\": \"contour\", \"x\": [false, true], \"xaxis\": \"x39\", \"y\": [0.00011431229408656762, 0.00011985939874632534, 0.00019459451111337528, 0.00021577654778061675, 0.0002781761413312715, 0.00031379768467785276, 0.0003222124173376937, 0.00034234441557670246, 0.0009011149211580522, 0.0009969827342691411], \"yaxis\": \"y39\", \"z\": [[null, 0.7892372012138367], [0.8660143613815308, null], [null, 0.8695088028907776], [0.7717651724815369, null], [null, 0.763079047203064], [null, 0.5426318049430847], [null, 0.9208266735076904], [0.5784744620323181, null], [null, 0.9458865523338318], [0.7521964907646179, null]]}, {\"marker\": {\"color\": \"black\"}, \"mode\": \"markers\", \"showlegend\": false, \"type\": \"scatter\", \"x\": [true, true, true, false, true, true, true, false, false, false], \"xaxis\": \"x39\", \"y\": [0.0002781761413312715, 0.00019459451111337528, 0.00031379768467785276, 0.0009969827342691411, 0.0003222124173376937, 0.0009011149211580522, 0.00011431229408656762, 0.00011985939874632534, 0.00021577654778061675, 0.00034234441557670246], \"yaxis\": \"y39\"}, {\"colorbar\": {\"title\": {\"text\": \"Objective Value\"}}, \"colorscale\": [[0, \"rgb(5,10,172)\"], [0.35, \"rgb(40,60,190)\"], [0.5, \"rgb(70,100,245)\"], [0.6, \"rgb(90,120,245)\"], [0.7, \"rgb(106,137,247)\"], [1, \"rgb(220,220,220)\"]], \"connectgaps\": true, \"contours\": {\"coloring\": \"heatmap\"}, \"hoverinfo\": \"none\", \"line\": {\"smoothing\": 1.3}, \"showscale\": false, \"type\": \"contour\", \"x\": [false, true], \"xaxis\": \"x47\", \"y\": [0.8292747404960318, 0.8343662356211846, 0.8583730620569984, 0.8700648073603755, 0.8792675991877269, 0.8847775912911807, 0.8964296642692322, 0.9355278762575644, 0.9454761908726577, 0.9910653091313444], \"yaxis\": \"y47\", \"z\": [[0.7717651724815369, null], [null, 0.763079047203064], [0.7521964907646179, null], [null, 0.5426318049430847], [null, 0.8695088028907776], [0.8660143613815308, null], [0.5784744620323181, null], [null, 0.7892372012138367], [null, 0.9458865523338318], [null, 0.9208266735076904]]}, {\"marker\": {\"color\": \"black\"}, \"mode\": \"markers\", \"showlegend\": false, \"type\": \"scatter\", \"x\": [true, true, true, false, true, true, true, false, false, false], \"xaxis\": \"x47\", \"y\": [0.8343662356211846, 0.8792675991877269, 0.8700648073603755, 0.8583730620569984, 0.9910653091313444, 0.9454761908726577, 0.9355278762575644, 0.8847775912911807, 0.8292747404960318, 0.8964296642692322], \"yaxis\": \"y47\"}, {\"type\": \"scatter\", \"xaxis\": \"x55\", \"yaxis\": \"y55\"}, {\"colorbar\": {\"title\": {\"text\": \"Objective Value\"}}, \"colorscale\": [[0, \"rgb(5,10,172)\"], [0.35, \"rgb(40,60,190)\"], [0.5, \"rgb(70,100,245)\"], [0.6, \"rgb(90,120,245)\"], [0.7, \"rgb(106,137,247)\"], [1, \"rgb(220,220,220)\"]], \"connectgaps\": true, \"contours\": {\"coloring\": \"heatmap\"}, \"hoverinfo\": \"none\", \"line\": {\"smoothing\": 1.3}, \"showscale\": false, \"type\": \"contour\", \"x\": [false, true], \"xaxis\": \"x63\", \"y\": [7.769001540971277e-05, 9.658630631397371e-05, 0.00010839860995588048, 0.00013574996304822177, 0.00024206467053167096, 0.0002461730007892341, 0.00026786709389757784, 0.0008316437322277936, 0.00191834042067662, 0.008235695017360493], \"yaxis\": \"y63\", \"z\": [[0.5784744620323181, null], [null, 0.7892372012138367], [0.7717651724815369, null], [0.8660143613815308, null], [null, 0.5426318049430847], [null, 0.9208266735076904], [null, 0.763079047203064], [null, 0.8695088028907776], [0.7521964907646179, null], [null, 0.9458865523338318]]}, {\"marker\": {\"color\": \"black\"}, \"mode\": \"markers\", \"showlegend\": false, \"type\": \"scatter\", \"x\": [true, true, true, false, true, true, true, false, false, false], \"xaxis\": \"x63\", \"y\": [0.00026786709389757784, 0.0008316437322277936, 0.00024206467053167096, 0.00191834042067662, 0.0002461730007892341, 0.008235695017360493, 9.658630631397371e-05, 0.00013574996304822177, 0.00010839860995588048, 7.769001540971277e-05], \"yaxis\": \"y63\"}, {\"colorbar\": {\"title\": {\"text\": \"Objective Value\"}}, \"colorscale\": [[0, \"rgb(5,10,172)\"], [0.35, \"rgb(40,60,190)\"], [0.5, \"rgb(70,100,245)\"], [0.6, \"rgb(90,120,245)\"], [0.7, \"rgb(106,137,247)\"], [1, \"rgb(220,220,220)\"]], \"connectgaps\": true, \"contours\": {\"coloring\": \"heatmap\"}, \"hoverinfo\": \"none\", \"line\": {\"smoothing\": 1.3}, \"showscale\": false, \"type\": \"contour\", \"x\": [7.769001540971277e-05, 9.658630631397371e-05, 0.00010839860995588048, 0.00013574996304822177, 0.00024206467053167096, 0.0002461730007892341, 0.00026786709389757784, 0.0008316437322277936, 0.00191834042067662, 0.008235695017360493], \"xaxis\": \"x8\", \"y\": [16, 64, 128], \"yaxis\": \"y8\", \"z\": [[null, 0.7892372012138367, null, null, null, null, 0.763079047203064, 0.8695088028907776, null, 0.9458865523338318], [0.5784744620323181, null, 0.7717651724815369, null, null, null, null, null, 0.7521964907646179, null], [null, null, null, 0.8660143613815308, 0.5426318049430847, 0.9208266735076904, null, null, null, null]]}, {\"marker\": {\"color\": \"black\"}, \"mode\": \"markers\", \"showlegend\": false, \"type\": \"scatter\", \"x\": [0.00026786709389757784, 0.0008316437322277936, 0.00024206467053167096, 0.00191834042067662, 0.0002461730007892341, 0.008235695017360493, 9.658630631397371e-05, 0.00013574996304822177, 0.00010839860995588048, 7.769001540971277e-05], \"xaxis\": \"x8\", \"y\": [16, 16, 128, 64, 128, 16, 16, 128, 64, 64], \"yaxis\": \"y8\"}, {\"colorbar\": {\"title\": {\"text\": \"Objective Value\"}}, \"colorscale\": [[0, \"rgb(5,10,172)\"], [0.35, \"rgb(40,60,190)\"], [0.5, \"rgb(70,100,245)\"], [0.6, \"rgb(90,120,245)\"], [0.7, \"rgb(106,137,247)\"], [1, \"rgb(220,220,220)\"]], \"connectgaps\": true, \"contours\": {\"coloring\": \"heatmap\"}, \"hoverinfo\": \"none\", \"line\": {\"smoothing\": 1.3}, \"showscale\": false, \"type\": \"contour\", \"x\": [7.769001540971277e-05, 9.658630631397371e-05, 0.00010839860995588048, 0.00013574996304822177, 0.00024206467053167096, 0.0002461730007892341, 0.00026786709389757784, 0.0008316437322277936, 0.00191834042067662, 0.008235695017360493], \"xaxis\": \"x16\", \"y\": [0.13696254402480412, 0.27574042289278133, 0.30811559721491616, 0.3206051108604173, 0.32940522064176114, 0.4051284289161241, 0.4199071669462878, 0.43912042347804847, 0.4475426537245917, 0.4476176051738697], \"yaxis\": \"y16\", \"z\": [[null, null, null, null, null, null, null, null, null, 0.9458865523338318], [null, null, null, null, null, 0.9208266735076904, null, null, null, null], [null, null, null, null, null, null, null, 0.8695088028907776, null, null], [0.5784744620323181, null, null, null, null, null, null, null, null, null], [null, null, 0.7717651724815369, null, null, null, null, null, null, null], [null, null, null, null, 0.5426318049430847, null, null, null, null, null], [null, null, null, null, null, null, null, null, 0.7521964907646179, null], [null, null, null, 0.8660143613815308, null, null, null, null, null, null], [null, null, null, null, null, null, 0.763079047203064, null, null, null], [null, 0.7892372012138367, null, null, null, null, null, null, null, null]]}, {\"marker\": {\"color\": \"black\"}, \"mode\": \"markers\", \"showlegend\": false, \"type\": \"scatter\", \"x\": [0.00026786709389757784, 0.0008316437322277936, 0.00024206467053167096, 0.00191834042067662, 0.0002461730007892341, 0.008235695017360493, 9.658630631397371e-05, 0.00013574996304822177, 0.00010839860995588048, 7.769001540971277e-05], \"xaxis\": \"x16\", \"y\": [0.4475426537245917, 0.30811559721491616, 0.4051284289161241, 0.4199071669462878, 0.27574042289278133, 0.13696254402480412, 0.4476176051738697, 0.43912042347804847, 0.32940522064176114, 0.3206051108604173], \"yaxis\": \"y16\"}, {\"colorbar\": {\"title\": {\"text\": \"Objective Value\"}}, \"colorscale\": [[0, \"rgb(5,10,172)\"], [0.35, \"rgb(40,60,190)\"], [0.5, \"rgb(70,100,245)\"], [0.6, \"rgb(90,120,245)\"], [0.7, \"rgb(106,137,247)\"], [1, \"rgb(220,220,220)\"]], \"connectgaps\": true, \"contours\": {\"coloring\": \"heatmap\"}, \"hoverinfo\": \"none\", \"line\": {\"smoothing\": 1.3}, \"showscale\": false, \"type\": \"contour\", \"x\": [7.769001540971277e-05, 9.658630631397371e-05, 0.00010839860995588048, 0.00013574996304822177, 0.00024206467053167096, 0.0002461730007892341, 0.00026786709389757784, 0.0008316437322277936, 0.00191834042067662, 0.008235695017360493], \"xaxis\": \"x24\", \"y\": [8, 16, 128, 256], \"yaxis\": \"y24\", \"z\": [[0.5784744620323181, null, null, null, 0.5426318049430847, null, null, null, null, null], [null, null, null, null, null, 0.9208266735076904, null, null, 0.7521964907646179, null], [null, 0.7892372012138367, 0.7717651724815369, 0.8660143613815308, null, null, 0.763079047203064, 0.8695088028907776, null, null], [null, null, null, null, null, null, null, null, null, 0.9458865523338318]]}, {\"marker\": {\"color\": \"black\"}, \"mode\": \"markers\", \"showlegend\": false, \"type\": \"scatter\", \"x\": [0.00026786709389757784, 0.0008316437322277936, 0.00024206467053167096, 0.00191834042067662, 0.0002461730007892341, 0.008235695017360493, 9.658630631397371e-05, 0.00013574996304822177, 0.00010839860995588048, 7.769001540971277e-05], \"xaxis\": \"x24\", \"y\": [128, 128, 8, 16, 16, 256, 128, 128, 128, 8], \"yaxis\": \"y24\"}, {\"colorbar\": {\"title\": {\"text\": \"Objective Value\"}}, \"colorscale\": [[0, \"rgb(5,10,172)\"], [0.35, \"rgb(40,60,190)\"], [0.5, \"rgb(70,100,245)\"], [0.6, \"rgb(90,120,245)\"], [0.7, \"rgb(106,137,247)\"], [1, \"rgb(220,220,220)\"]], \"connectgaps\": true, \"contours\": {\"coloring\": \"heatmap\"}, \"hoverinfo\": \"none\", \"line\": {\"smoothing\": 1.3}, \"showscale\": false, \"type\": \"contour\", \"x\": [7.769001540971277e-05, 9.658630631397371e-05, 0.00010839860995588048, 0.00013574996304822177, 0.00024206467053167096, 0.0002461730007892341, 0.00026786709389757784, 0.0008316437322277936, 0.00191834042067662, 0.008235695017360493], \"xaxis\": \"x32\", \"y\": [2, 3, 4, 5], \"yaxis\": \"y32\", \"z\": [[null, null, null, 0.8660143613815308, null, null, null, null, null, null], [0.5784744620323181, null, null, null, 0.5426318049430847, null, null, null, null, null], [null, null, null, null, null, 0.9208266735076904, null, 0.8695088028907776, 0.7521964907646179, null], [null, 0.7892372012138367, 0.7717651724815369, null, null, null, 0.763079047203064, null, null, 0.9458865523338318]]}, {\"marker\": {\"color\": \"black\"}, \"mode\": \"markers\", \"showlegend\": false, \"type\": \"scatter\", \"x\": [0.00026786709389757784, 0.0008316437322277936, 0.00024206467053167096, 0.00191834042067662, 0.0002461730007892341, 0.008235695017360493, 9.658630631397371e-05, 0.00013574996304822177, 0.00010839860995588048, 7.769001540971277e-05], \"xaxis\": \"x32\", \"y\": [5, 4, 3, 4, 4, 5, 5, 2, 5, 3], \"yaxis\": \"y32\"}, {\"colorbar\": {\"title\": {\"text\": \"Objective Value\"}}, \"colorscale\": [[0, \"rgb(5,10,172)\"], [0.35, \"rgb(40,60,190)\"], [0.5, \"rgb(70,100,245)\"], [0.6, \"rgb(90,120,245)\"], [0.7, \"rgb(106,137,247)\"], [1, \"rgb(220,220,220)\"]], \"connectgaps\": true, \"contours\": {\"coloring\": \"heatmap\"}, \"hoverinfo\": \"none\", \"line\": {\"smoothing\": 1.3}, \"showscale\": false, \"type\": \"contour\", \"x\": [7.769001540971277e-05, 9.658630631397371e-05, 0.00010839860995588048, 0.00013574996304822177, 0.00024206467053167096, 0.0002461730007892341, 0.00026786709389757784, 0.0008316437322277936, 0.00191834042067662, 0.008235695017360493], \"xaxis\": \"x40\", \"y\": [0.00011431229408656762, 0.00011985939874632534, 0.00019459451111337528, 0.00021577654778061675, 0.0002781761413312715, 0.00031379768467785276, 0.0003222124173376937, 0.00034234441557670246, 0.0009011149211580522, 0.0009969827342691411], \"yaxis\": \"y40\", \"z\": [[null, 0.7892372012138367, null, null, null, null, null, null, null, null], [null, null, null, 0.8660143613815308, null, null, null, null, null, null], [null, null, null, null, null, null, null, 0.8695088028907776, null, null], [null, null, 0.7717651724815369, null, null, null, null, null, null, null], [null, null, null, null, null, null, 0.763079047203064, null, null, null], [null, null, null, null, 0.5426318049430847, null, null, null, null, null], [null, null, null, null, null, 0.9208266735076904, null, null, null, null], [0.5784744620323181, null, null, null, null, null, null, null, null, null], [null, null, null, null, null, null, null, null, null, 0.9458865523338318], [null, null, null, null, null, null, null, null, 0.7521964907646179, null]]}, {\"marker\": {\"color\": \"black\"}, \"mode\": \"markers\", \"showlegend\": false, \"type\": \"scatter\", \"x\": [0.00026786709389757784, 0.0008316437322277936, 0.00024206467053167096, 0.00191834042067662, 0.0002461730007892341, 0.008235695017360493, 9.658630631397371e-05, 0.00013574996304822177, 0.00010839860995588048, 7.769001540971277e-05], \"xaxis\": \"x40\", \"y\": [0.0002781761413312715, 0.00019459451111337528, 0.00031379768467785276, 0.0009969827342691411, 0.0003222124173376937, 0.0009011149211580522, 0.00011431229408656762, 0.00011985939874632534, 0.00021577654778061675, 0.00034234441557670246], \"yaxis\": \"y40\"}, {\"colorbar\": {\"title\": {\"text\": \"Objective Value\"}}, \"colorscale\": [[0, \"rgb(5,10,172)\"], [0.35, \"rgb(40,60,190)\"], [0.5, \"rgb(70,100,245)\"], [0.6, \"rgb(90,120,245)\"], [0.7, \"rgb(106,137,247)\"], [1, \"rgb(220,220,220)\"]], \"connectgaps\": true, \"contours\": {\"coloring\": \"heatmap\"}, \"hoverinfo\": \"none\", \"line\": {\"smoothing\": 1.3}, \"showscale\": false, \"type\": \"contour\", \"x\": [7.769001540971277e-05, 9.658630631397371e-05, 0.00010839860995588048, 0.00013574996304822177, 0.00024206467053167096, 0.0002461730007892341, 0.00026786709389757784, 0.0008316437322277936, 0.00191834042067662, 0.008235695017360493], \"xaxis\": \"x48\", \"y\": [0.8292747404960318, 0.8343662356211846, 0.8583730620569984, 0.8700648073603755, 0.8792675991877269, 0.8847775912911807, 0.8964296642692322, 0.9355278762575644, 0.9454761908726577, 0.9910653091313444], \"yaxis\": \"y48\", \"z\": [[null, null, 0.7717651724815369, null, null, null, null, null, null, null], [null, null, null, null, null, null, 0.763079047203064, null, null, null], [null, null, null, null, null, null, null, null, 0.7521964907646179, null], [null, null, null, null, 0.5426318049430847, null, null, null, null, null], [null, null, null, null, null, null, null, 0.8695088028907776, null, null], [null, null, null, 0.8660143613815308, null, null, null, null, null, null], [0.5784744620323181, null, null, null, null, null, null, null, null, null], [null, 0.7892372012138367, null, null, null, null, null, null, null, null], [null, null, null, null, null, null, null, null, null, 0.9458865523338318], [null, null, null, null, null, 0.9208266735076904, null, null, null, null]]}, {\"marker\": {\"color\": \"black\"}, \"mode\": \"markers\", \"showlegend\": false, \"type\": \"scatter\", \"x\": [0.00026786709389757784, 0.0008316437322277936, 0.00024206467053167096, 0.00191834042067662, 0.0002461730007892341, 0.008235695017360493, 9.658630631397371e-05, 0.00013574996304822177, 0.00010839860995588048, 7.769001540971277e-05], \"xaxis\": \"x48\", \"y\": [0.8343662356211846, 0.8792675991877269, 0.8700648073603755, 0.8583730620569984, 0.9910653091313444, 0.9454761908726577, 0.9355278762575644, 0.8847775912911807, 0.8292747404960318, 0.8964296642692322], \"yaxis\": \"y48\"}, {\"colorbar\": {\"title\": {\"text\": \"Objective Value\"}}, \"colorscale\": [[0, \"rgb(5,10,172)\"], [0.35, \"rgb(40,60,190)\"], [0.5, \"rgb(70,100,245)\"], [0.6, \"rgb(90,120,245)\"], [0.7, \"rgb(106,137,247)\"], [1, \"rgb(220,220,220)\"]], \"connectgaps\": true, \"contours\": {\"coloring\": \"heatmap\"}, \"hoverinfo\": \"none\", \"line\": {\"smoothing\": 1.3}, \"showscale\": false, \"type\": \"contour\", \"x\": [7.769001540971277e-05, 9.658630631397371e-05, 0.00010839860995588048, 0.00013574996304822177, 0.00024206467053167096, 0.0002461730007892341, 0.00026786709389757784, 0.0008316437322277936, 0.00191834042067662, 0.008235695017360493], \"xaxis\": \"x56\", \"y\": [false, true], \"yaxis\": \"y56\", \"z\": [[0.5784744620323181, null, 0.7717651724815369, 0.8660143613815308, null, null, null, null, 0.7521964907646179, null], [null, 0.7892372012138367, null, null, 0.5426318049430847, 0.9208266735076904, 0.763079047203064, 0.8695088028907776, null, 0.9458865523338318]]}, {\"marker\": {\"color\": \"black\"}, \"mode\": \"markers\", \"showlegend\": false, \"type\": \"scatter\", \"x\": [0.00026786709389757784, 0.0008316437322277936, 0.00024206467053167096, 0.00191834042067662, 0.0002461730007892341, 0.008235695017360493, 9.658630631397371e-05, 0.00013574996304822177, 0.00010839860995588048, 7.769001540971277e-05], \"xaxis\": \"x56\", \"y\": [true, true, true, false, true, true, true, false, false, false], \"yaxis\": \"y56\"}, {\"type\": \"scatter\", \"xaxis\": \"x64\", \"yaxis\": \"y64\"}],\n",
       "                        {\"template\": {\"data\": {\"bar\": [{\"error_x\": {\"color\": \"#2a3f5f\"}, \"error_y\": {\"color\": \"#2a3f5f\"}, \"marker\": {\"line\": {\"color\": \"#E5ECF6\", \"width\": 0.5}}, \"type\": \"bar\"}], \"barpolar\": [{\"marker\": {\"line\": {\"color\": \"#E5ECF6\", \"width\": 0.5}}, \"type\": \"barpolar\"}], \"carpet\": [{\"aaxis\": {\"endlinecolor\": \"#2a3f5f\", \"gridcolor\": \"white\", \"linecolor\": \"white\", \"minorgridcolor\": \"white\", \"startlinecolor\": \"#2a3f5f\"}, \"baxis\": {\"endlinecolor\": \"#2a3f5f\", \"gridcolor\": \"white\", \"linecolor\": \"white\", \"minorgridcolor\": \"white\", \"startlinecolor\": \"#2a3f5f\"}, \"type\": \"carpet\"}], \"choropleth\": [{\"colorbar\": {\"outlinewidth\": 0, \"ticks\": \"\"}, \"type\": \"choropleth\"}], \"contour\": [{\"colorbar\": {\"outlinewidth\": 0, \"ticks\": \"\"}, \"colorscale\": [[0.0, \"#0d0887\"], [0.1111111111111111, \"#46039f\"], [0.2222222222222222, \"#7201a8\"], [0.3333333333333333, \"#9c179e\"], [0.4444444444444444, \"#bd3786\"], [0.5555555555555556, \"#d8576b\"], [0.6666666666666666, \"#ed7953\"], [0.7777777777777778, \"#fb9f3a\"], [0.8888888888888888, \"#fdca26\"], [1.0, \"#f0f921\"]], \"type\": \"contour\"}], \"contourcarpet\": [{\"colorbar\": {\"outlinewidth\": 0, \"ticks\": \"\"}, \"type\": \"contourcarpet\"}], \"heatmap\": [{\"colorbar\": {\"outlinewidth\": 0, \"ticks\": \"\"}, \"colorscale\": [[0.0, \"#0d0887\"], [0.1111111111111111, \"#46039f\"], [0.2222222222222222, \"#7201a8\"], [0.3333333333333333, \"#9c179e\"], [0.4444444444444444, \"#bd3786\"], [0.5555555555555556, \"#d8576b\"], [0.6666666666666666, \"#ed7953\"], [0.7777777777777778, \"#fb9f3a\"], [0.8888888888888888, \"#fdca26\"], [1.0, \"#f0f921\"]], \"type\": \"heatmap\"}], \"heatmapgl\": [{\"colorbar\": {\"outlinewidth\": 0, \"ticks\": \"\"}, \"colorscale\": [[0.0, \"#0d0887\"], [0.1111111111111111, \"#46039f\"], [0.2222222222222222, \"#7201a8\"], [0.3333333333333333, \"#9c179e\"], [0.4444444444444444, \"#bd3786\"], [0.5555555555555556, \"#d8576b\"], [0.6666666666666666, \"#ed7953\"], [0.7777777777777778, \"#fb9f3a\"], [0.8888888888888888, \"#fdca26\"], [1.0, \"#f0f921\"]], \"type\": \"heatmapgl\"}], \"histogram\": [{\"marker\": {\"colorbar\": {\"outlinewidth\": 0, \"ticks\": \"\"}}, \"type\": \"histogram\"}], \"histogram2d\": [{\"colorbar\": {\"outlinewidth\": 0, \"ticks\": \"\"}, \"colorscale\": [[0.0, \"#0d0887\"], [0.1111111111111111, \"#46039f\"], [0.2222222222222222, \"#7201a8\"], [0.3333333333333333, \"#9c179e\"], [0.4444444444444444, \"#bd3786\"], [0.5555555555555556, \"#d8576b\"], [0.6666666666666666, \"#ed7953\"], [0.7777777777777778, \"#fb9f3a\"], [0.8888888888888888, \"#fdca26\"], [1.0, \"#f0f921\"]], \"type\": \"histogram2d\"}], \"histogram2dcontour\": [{\"colorbar\": {\"outlinewidth\": 0, \"ticks\": \"\"}, \"colorscale\": [[0.0, \"#0d0887\"], [0.1111111111111111, \"#46039f\"], [0.2222222222222222, \"#7201a8\"], [0.3333333333333333, \"#9c179e\"], [0.4444444444444444, \"#bd3786\"], [0.5555555555555556, \"#d8576b\"], [0.6666666666666666, \"#ed7953\"], [0.7777777777777778, \"#fb9f3a\"], [0.8888888888888888, \"#fdca26\"], [1.0, \"#f0f921\"]], \"type\": \"histogram2dcontour\"}], \"mesh3d\": [{\"colorbar\": {\"outlinewidth\": 0, \"ticks\": \"\"}, \"type\": \"mesh3d\"}], \"parcoords\": [{\"line\": {\"colorbar\": {\"outlinewidth\": 0, \"ticks\": \"\"}}, \"type\": \"parcoords\"}], \"pie\": [{\"automargin\": true, \"type\": \"pie\"}], \"scatter\": [{\"marker\": {\"colorbar\": {\"outlinewidth\": 0, \"ticks\": \"\"}}, \"type\": \"scatter\"}], \"scatter3d\": [{\"line\": {\"colorbar\": {\"outlinewidth\": 0, \"ticks\": \"\"}}, \"marker\": {\"colorbar\": {\"outlinewidth\": 0, \"ticks\": \"\"}}, \"type\": \"scatter3d\"}], \"scattercarpet\": [{\"marker\": {\"colorbar\": {\"outlinewidth\": 0, \"ticks\": \"\"}}, \"type\": \"scattercarpet\"}], \"scattergeo\": [{\"marker\": {\"colorbar\": {\"outlinewidth\": 0, \"ticks\": \"\"}}, \"type\": \"scattergeo\"}], \"scattergl\": [{\"marker\": {\"colorbar\": {\"outlinewidth\": 0, \"ticks\": \"\"}}, \"type\": \"scattergl\"}], \"scattermapbox\": [{\"marker\": {\"colorbar\": {\"outlinewidth\": 0, \"ticks\": \"\"}}, \"type\": \"scattermapbox\"}], \"scatterpolar\": [{\"marker\": {\"colorbar\": {\"outlinewidth\": 0, \"ticks\": \"\"}}, \"type\": \"scatterpolar\"}], \"scatterpolargl\": [{\"marker\": {\"colorbar\": {\"outlinewidth\": 0, \"ticks\": \"\"}}, \"type\": \"scatterpolargl\"}], \"scatterternary\": [{\"marker\": {\"colorbar\": {\"outlinewidth\": 0, \"ticks\": \"\"}}, \"type\": \"scatterternary\"}], \"surface\": [{\"colorbar\": {\"outlinewidth\": 0, \"ticks\": \"\"}, \"colorscale\": [[0.0, \"#0d0887\"], [0.1111111111111111, \"#46039f\"], [0.2222222222222222, \"#7201a8\"], [0.3333333333333333, \"#9c179e\"], [0.4444444444444444, \"#bd3786\"], [0.5555555555555556, \"#d8576b\"], [0.6666666666666666, \"#ed7953\"], [0.7777777777777778, \"#fb9f3a\"], [0.8888888888888888, \"#fdca26\"], [1.0, \"#f0f921\"]], \"type\": \"surface\"}], \"table\": [{\"cells\": {\"fill\": {\"color\": \"#EBF0F8\"}, \"line\": {\"color\": \"white\"}}, \"header\": {\"fill\": {\"color\": \"#C8D4E3\"}, \"line\": {\"color\": \"white\"}}, \"type\": \"table\"}]}, \"layout\": {\"annotationdefaults\": {\"arrowcolor\": \"#2a3f5f\", \"arrowhead\": 0, \"arrowwidth\": 1}, \"coloraxis\": {\"colorbar\": {\"outlinewidth\": 0, \"ticks\": \"\"}}, \"colorscale\": {\"diverging\": [[0, \"#8e0152\"], [0.1, \"#c51b7d\"], [0.2, \"#de77ae\"], [0.3, \"#f1b6da\"], [0.4, \"#fde0ef\"], [0.5, \"#f7f7f7\"], [0.6, \"#e6f5d0\"], [0.7, \"#b8e186\"], [0.8, \"#7fbc41\"], [0.9, \"#4d9221\"], [1, \"#276419\"]], \"sequential\": [[0.0, \"#0d0887\"], [0.1111111111111111, \"#46039f\"], [0.2222222222222222, \"#7201a8\"], [0.3333333333333333, \"#9c179e\"], [0.4444444444444444, \"#bd3786\"], [0.5555555555555556, \"#d8576b\"], [0.6666666666666666, \"#ed7953\"], [0.7777777777777778, \"#fb9f3a\"], [0.8888888888888888, \"#fdca26\"], [1.0, \"#f0f921\"]], \"sequentialminus\": [[0.0, \"#0d0887\"], [0.1111111111111111, \"#46039f\"], [0.2222222222222222, \"#7201a8\"], [0.3333333333333333, \"#9c179e\"], [0.4444444444444444, \"#bd3786\"], [0.5555555555555556, \"#d8576b\"], [0.6666666666666666, \"#ed7953\"], [0.7777777777777778, \"#fb9f3a\"], [0.8888888888888888, \"#fdca26\"], [1.0, \"#f0f921\"]]}, \"colorway\": [\"#636efa\", \"#EF553B\", \"#00cc96\", \"#ab63fa\", \"#FFA15A\", \"#19d3f3\", \"#FF6692\", \"#B6E880\", \"#FF97FF\", \"#FECB52\"], \"font\": {\"color\": \"#2a3f5f\"}, \"geo\": {\"bgcolor\": \"white\", \"lakecolor\": \"white\", \"landcolor\": \"#E5ECF6\", \"showlakes\": true, \"showland\": true, \"subunitcolor\": \"white\"}, \"hoverlabel\": {\"align\": \"left\"}, \"hovermode\": \"closest\", \"mapbox\": {\"style\": \"light\"}, \"paper_bgcolor\": \"white\", \"plot_bgcolor\": \"#E5ECF6\", \"polar\": {\"angularaxis\": {\"gridcolor\": \"white\", \"linecolor\": \"white\", \"ticks\": \"\"}, \"bgcolor\": \"#E5ECF6\", \"radialaxis\": {\"gridcolor\": \"white\", \"linecolor\": \"white\", \"ticks\": \"\"}}, \"scene\": {\"xaxis\": {\"backgroundcolor\": \"#E5ECF6\", \"gridcolor\": \"white\", \"gridwidth\": 2, \"linecolor\": \"white\", \"showbackground\": true, \"ticks\": \"\", \"zerolinecolor\": \"white\"}, \"yaxis\": {\"backgroundcolor\": \"#E5ECF6\", \"gridcolor\": \"white\", \"gridwidth\": 2, \"linecolor\": \"white\", \"showbackground\": true, \"ticks\": \"\", \"zerolinecolor\": \"white\"}, \"zaxis\": {\"backgroundcolor\": \"#E5ECF6\", \"gridcolor\": \"white\", \"gridwidth\": 2, \"linecolor\": \"white\", \"showbackground\": true, \"ticks\": \"\", \"zerolinecolor\": \"white\"}}, \"shapedefaults\": {\"line\": {\"color\": \"#2a3f5f\"}}, \"ternary\": {\"aaxis\": {\"gridcolor\": \"white\", \"linecolor\": \"white\", \"ticks\": \"\"}, \"baxis\": {\"gridcolor\": \"white\", \"linecolor\": \"white\", \"ticks\": \"\"}, \"bgcolor\": \"#E5ECF6\", \"caxis\": {\"gridcolor\": \"white\", \"linecolor\": \"white\", \"ticks\": \"\"}}, \"title\": {\"x\": 0.05}, \"xaxis\": {\"automargin\": true, \"gridcolor\": \"white\", \"linecolor\": \"white\", \"ticks\": \"\", \"title\": {\"standoff\": 15}, \"zerolinecolor\": \"white\", \"zerolinewidth\": 2}, \"yaxis\": {\"automargin\": true, \"gridcolor\": \"white\", \"linecolor\": \"white\", \"ticks\": \"\", \"title\": {\"standoff\": 15}, \"zerolinecolor\": \"white\", \"zerolinewidth\": 2}}}, \"title\": {\"text\": \"Contour Plot\"}, \"xaxis\": {\"anchor\": \"y\", \"domain\": [0.0, 0.103125], \"matches\": \"x57\", \"range\": [16, 128], \"showticklabels\": false}, \"xaxis10\": {\"anchor\": \"y10\", \"domain\": [0.128125, 0.23124999999999998], \"matches\": \"x58\", \"range\": [0.13696254402480412, 0.4476176051738697], \"showticklabels\": false}, \"xaxis11\": {\"anchor\": \"y11\", \"domain\": [0.25625, 0.359375], \"matches\": \"x59\", \"range\": [8, 256], \"showticklabels\": false}, \"xaxis12\": {\"anchor\": \"y12\", \"domain\": [0.38437499999999997, 0.48749999999999993], \"matches\": \"x60\", \"range\": [2, 5], \"showticklabels\": false}, \"xaxis13\": {\"anchor\": \"y13\", \"domain\": [0.5125, 0.615625], \"matches\": \"x61\", \"range\": [-3.9419070594837002, -3.00131236272803], \"showticklabels\": false, \"type\": \"log\"}, \"xaxis14\": {\"anchor\": \"y14\", \"domain\": [0.640625, 0.74375], \"matches\": \"x62\", \"range\": [0.8292747404960318, 0.9910653091313444], \"showticklabels\": false}, \"xaxis15\": {\"anchor\": \"y15\", \"domain\": [0.76875, 0.8718750000000001], \"matches\": \"x63\", \"range\": [false, true], \"showticklabels\": false}, \"xaxis16\": {\"anchor\": \"y16\", \"domain\": [0.8968750000000001, 1.0], \"matches\": \"x64\", \"range\": [-4.109634792410126, -2.0842997444641393], \"showticklabels\": false, \"type\": \"log\"}, \"xaxis17\": {\"anchor\": \"y17\", \"domain\": [0.0, 0.103125], \"matches\": \"x57\", \"range\": [16, 128], \"showticklabels\": false}, \"xaxis18\": {\"anchor\": \"y18\", \"domain\": [0.128125, 0.23124999999999998], \"matches\": \"x58\", \"range\": [0.13696254402480412, 0.4476176051738697], \"showticklabels\": false}, \"xaxis19\": {\"anchor\": \"y19\", \"domain\": [0.25625, 0.359375], \"matches\": \"x59\", \"range\": [8, 256], \"showticklabels\": false}, \"xaxis2\": {\"anchor\": \"y2\", \"domain\": [0.128125, 0.23124999999999998], \"matches\": \"x58\", \"range\": [0.13696254402480412, 0.4476176051738697], \"showticklabels\": false}, \"xaxis20\": {\"anchor\": \"y20\", \"domain\": [0.38437499999999997, 0.48749999999999993], \"matches\": \"x60\", \"range\": [2, 5], \"showticklabels\": false}, \"xaxis21\": {\"anchor\": \"y21\", \"domain\": [0.5125, 0.615625], \"matches\": \"x61\", \"range\": [-3.9419070594837002, -3.00131236272803], \"showticklabels\": false, \"type\": \"log\"}, \"xaxis22\": {\"anchor\": \"y22\", \"domain\": [0.640625, 0.74375], \"matches\": \"x62\", \"range\": [0.8292747404960318, 0.9910653091313444], \"showticklabels\": false}, \"xaxis23\": {\"anchor\": \"y23\", \"domain\": [0.76875, 0.8718750000000001], \"matches\": \"x63\", \"range\": [false, true], \"showticklabels\": false}, \"xaxis24\": {\"anchor\": \"y24\", \"domain\": [0.8968750000000001, 1.0], \"matches\": \"x64\", \"range\": [-4.109634792410126, -2.0842997444641393], \"showticklabels\": false, \"type\": \"log\"}, \"xaxis25\": {\"anchor\": \"y25\", \"domain\": [0.0, 0.103125], \"matches\": \"x57\", \"range\": [16, 128], \"showticklabels\": false}, \"xaxis26\": {\"anchor\": \"y26\", \"domain\": [0.128125, 0.23124999999999998], \"matches\": \"x58\", \"range\": [0.13696254402480412, 0.4476176051738697], \"showticklabels\": false}, \"xaxis27\": {\"anchor\": \"y27\", \"domain\": [0.25625, 0.359375], \"matches\": \"x59\", \"range\": [8, 256], \"showticklabels\": false}, \"xaxis28\": {\"anchor\": \"y28\", \"domain\": [0.38437499999999997, 0.48749999999999993], \"matches\": \"x60\", \"range\": [2, 5], \"showticklabels\": false}, \"xaxis29\": {\"anchor\": \"y29\", \"domain\": [0.5125, 0.615625], \"matches\": \"x61\", \"range\": [-3.9419070594837002, -3.00131236272803], \"showticklabels\": false, \"type\": \"log\"}, \"xaxis3\": {\"anchor\": \"y3\", \"domain\": [0.25625, 0.359375], \"matches\": \"x59\", \"range\": [8, 256], \"showticklabels\": false}, \"xaxis30\": {\"anchor\": \"y30\", \"domain\": [0.640625, 0.74375], \"matches\": \"x62\", \"range\": [0.8292747404960318, 0.9910653091313444], \"showticklabels\": false}, \"xaxis31\": {\"anchor\": \"y31\", \"domain\": [0.76875, 0.8718750000000001], \"matches\": \"x63\", \"range\": [false, true], \"showticklabels\": false}, \"xaxis32\": {\"anchor\": \"y32\", \"domain\": [0.8968750000000001, 1.0], \"matches\": \"x64\", \"range\": [-4.109634792410126, -2.0842997444641393], \"showticklabels\": false, \"type\": \"log\"}, \"xaxis33\": {\"anchor\": \"y33\", \"domain\": [0.0, 0.103125], \"matches\": \"x57\", \"range\": [16, 128], \"showticklabels\": false}, \"xaxis34\": {\"anchor\": \"y34\", \"domain\": [0.128125, 0.23124999999999998], \"matches\": \"x58\", \"range\": [0.13696254402480412, 0.4476176051738697], \"showticklabels\": false}, \"xaxis35\": {\"anchor\": \"y35\", \"domain\": [0.25625, 0.359375], \"matches\": \"x59\", \"range\": [8, 256], \"showticklabels\": false}, \"xaxis36\": {\"anchor\": \"y36\", \"domain\": [0.38437499999999997, 0.48749999999999993], \"matches\": \"x60\", \"range\": [2, 5], \"showticklabels\": false}, \"xaxis37\": {\"anchor\": \"y37\", \"domain\": [0.5125, 0.615625], \"matches\": \"x61\", \"range\": [-3.9419070594837002, -3.00131236272803], \"showticklabels\": false, \"type\": \"log\"}, \"xaxis38\": {\"anchor\": \"y38\", \"domain\": [0.640625, 0.74375], \"matches\": \"x62\", \"range\": [0.8292747404960318, 0.9910653091313444], \"showticklabels\": false}, \"xaxis39\": {\"anchor\": \"y39\", \"domain\": [0.76875, 0.8718750000000001], \"matches\": \"x63\", \"range\": [false, true], \"showticklabels\": false}, \"xaxis4\": {\"anchor\": \"y4\", \"domain\": [0.38437499999999997, 0.48749999999999993], \"matches\": \"x60\", \"range\": [2, 5], \"showticklabels\": false}, \"xaxis40\": {\"anchor\": \"y40\", \"domain\": [0.8968750000000001, 1.0], \"matches\": \"x64\", \"range\": [-4.109634792410126, -2.0842997444641393], \"showticklabels\": false, \"type\": \"log\"}, \"xaxis41\": {\"anchor\": \"y41\", \"domain\": [0.0, 0.103125], \"matches\": \"x57\", \"range\": [16, 128], \"showticklabels\": false}, \"xaxis42\": {\"anchor\": \"y42\", \"domain\": [0.128125, 0.23124999999999998], \"matches\": \"x58\", \"range\": [0.13696254402480412, 0.4476176051738697], \"showticklabels\": false}, \"xaxis43\": {\"anchor\": \"y43\", \"domain\": [0.25625, 0.359375], \"matches\": \"x59\", \"range\": [8, 256], \"showticklabels\": false}, \"xaxis44\": {\"anchor\": \"y44\", \"domain\": [0.38437499999999997, 0.48749999999999993], \"matches\": \"x60\", \"range\": [2, 5], \"showticklabels\": false}, \"xaxis45\": {\"anchor\": \"y45\", \"domain\": [0.5125, 0.615625], \"matches\": \"x61\", \"range\": [-3.9419070594837002, -3.00131236272803], \"showticklabels\": false, \"type\": \"log\"}, \"xaxis46\": {\"anchor\": \"y46\", \"domain\": [0.640625, 0.74375], \"matches\": \"x62\", \"range\": [0.8292747404960318, 0.9910653091313444], \"showticklabels\": false}, \"xaxis47\": {\"anchor\": \"y47\", \"domain\": [0.76875, 0.8718750000000001], \"matches\": \"x63\", \"range\": [false, true], \"showticklabels\": false}, \"xaxis48\": {\"anchor\": \"y48\", \"domain\": [0.8968750000000001, 1.0], \"matches\": \"x64\", \"range\": [-4.109634792410126, -2.0842997444641393], \"showticklabels\": false, \"type\": \"log\"}, \"xaxis49\": {\"anchor\": \"y49\", \"domain\": [0.0, 0.103125], \"matches\": \"x57\", \"range\": [16, 128], \"showticklabels\": false}, \"xaxis5\": {\"anchor\": \"y5\", \"domain\": [0.5125, 0.615625], \"matches\": \"x61\", \"range\": [-3.9419070594837002, -3.00131236272803], \"showticklabels\": false, \"type\": \"log\"}, \"xaxis50\": {\"anchor\": \"y50\", \"domain\": [0.128125, 0.23124999999999998], \"matches\": \"x58\", \"range\": [0.13696254402480412, 0.4476176051738697], \"showticklabels\": false}, \"xaxis51\": {\"anchor\": \"y51\", \"domain\": [0.25625, 0.359375], \"matches\": \"x59\", \"range\": [8, 256], \"showticklabels\": false}, \"xaxis52\": {\"anchor\": \"y52\", \"domain\": [0.38437499999999997, 0.48749999999999993], \"matches\": \"x60\", \"range\": [2, 5], \"showticklabels\": false}, \"xaxis53\": {\"anchor\": \"y53\", \"domain\": [0.5125, 0.615625], \"matches\": \"x61\", \"range\": [-3.9419070594837002, -3.00131236272803], \"showticklabels\": false, \"type\": \"log\"}, \"xaxis54\": {\"anchor\": \"y54\", \"domain\": [0.640625, 0.74375], \"matches\": \"x62\", \"range\": [0.8292747404960318, 0.9910653091313444], \"showticklabels\": false}, \"xaxis55\": {\"anchor\": \"y55\", \"domain\": [0.76875, 0.8718750000000001], \"matches\": \"x63\", \"range\": [false, true], \"showticklabels\": false}, \"xaxis56\": {\"anchor\": \"y56\", \"domain\": [0.8968750000000001, 1.0], \"matches\": \"x64\", \"range\": [-4.109634792410126, -2.0842997444641393], \"showticklabels\": false, \"type\": \"log\"}, \"xaxis57\": {\"anchor\": \"y57\", \"domain\": [0.0, 0.103125], \"range\": [16, 128], \"title\": {\"text\": \"batch_size\"}}, \"xaxis58\": {\"anchor\": \"y58\", \"domain\": [0.128125, 0.23124999999999998], \"range\": [0.13696254402480412, 0.4476176051738697], \"title\": {\"text\": \"dropout\"}}, \"xaxis59\": {\"anchor\": \"y59\", \"domain\": [0.25625, 0.359375], \"range\": [8, 256], \"title\": {\"text\": \"hidden_size\"}}, \"xaxis6\": {\"anchor\": \"y6\", \"domain\": [0.640625, 0.74375], \"matches\": \"x62\", \"range\": [0.8292747404960318, 0.9910653091313444], \"showticklabels\": false}, \"xaxis60\": {\"anchor\": \"y60\", \"domain\": [0.38437499999999997, 0.48749999999999993], \"range\": [2, 5], \"title\": {\"text\": \"layer_size\"}}, \"xaxis61\": {\"anchor\": \"y61\", \"domain\": [0.5125, 0.615625], \"range\": [-3.9419070594837002, -3.00131236272803], \"title\": {\"text\": \"learning_rate\"}, \"type\": \"log\"}, \"xaxis62\": {\"anchor\": \"y62\", \"domain\": [0.640625, 0.74375], \"range\": [0.8292747404960318, 0.9910653091313444], \"title\": {\"text\": \"momentum\"}}, \"xaxis63\": {\"anchor\": \"y63\", \"domain\": [0.76875, 0.8718750000000001], \"range\": [false, true], \"title\": {\"text\": \"nesterov\"}}, \"xaxis64\": {\"anchor\": \"y64\", \"domain\": [0.8968750000000001, 1.0], \"range\": [-4.109634792410126, -2.0842997444641393], \"title\": {\"text\": \"weight_decay\"}, \"type\": \"log\"}, \"xaxis7\": {\"anchor\": \"y7\", \"domain\": [0.76875, 0.8718750000000001], \"matches\": \"x63\", \"range\": [false, true], \"showticklabels\": false}, \"xaxis8\": {\"anchor\": \"y8\", \"domain\": [0.8968750000000001, 1.0], \"matches\": \"x64\", \"range\": [-4.109634792410126, -2.0842997444641393], \"showticklabels\": false, \"type\": \"log\"}, \"xaxis9\": {\"anchor\": \"y9\", \"domain\": [0.0, 0.103125], \"matches\": \"x57\", \"range\": [16, 128], \"showticklabels\": false}, \"yaxis\": {\"anchor\": \"x\", \"domain\": [0.9078124999999999, 0.9999999999999999], \"range\": [16, 128], \"title\": {\"text\": \"batch_size\"}}, \"yaxis10\": {\"anchor\": \"x10\", \"domain\": [0.778125, 0.8703124999999999], \"matches\": \"y9\", \"range\": [0.13696254402480412, 0.4476176051738697], \"showticklabels\": false}, \"yaxis11\": {\"anchor\": \"x11\", \"domain\": [0.778125, 0.8703124999999999], \"matches\": \"y9\", \"range\": [0.13696254402480412, 0.4476176051738697], \"showticklabels\": false}, \"yaxis12\": {\"anchor\": \"x12\", \"domain\": [0.778125, 0.8703124999999999], \"matches\": \"y9\", \"range\": [0.13696254402480412, 0.4476176051738697], \"showticklabels\": false}, \"yaxis13\": {\"anchor\": \"x13\", \"domain\": [0.778125, 0.8703124999999999], \"matches\": \"y9\", \"range\": [0.13696254402480412, 0.4476176051738697], \"showticklabels\": false}, \"yaxis14\": {\"anchor\": \"x14\", \"domain\": [0.778125, 0.8703124999999999], \"matches\": \"y9\", \"range\": [0.13696254402480412, 0.4476176051738697], \"showticklabels\": false}, \"yaxis15\": {\"anchor\": \"x15\", \"domain\": [0.778125, 0.8703124999999999], \"matches\": \"y9\", \"range\": [0.13696254402480412, 0.4476176051738697], \"showticklabels\": false}, \"yaxis16\": {\"anchor\": \"x16\", \"domain\": [0.778125, 0.8703124999999999], \"matches\": \"y9\", \"range\": [0.13696254402480412, 0.4476176051738697], \"showticklabels\": false}, \"yaxis17\": {\"anchor\": \"x17\", \"domain\": [0.6484375, 0.740625], \"range\": [8, 256], \"title\": {\"text\": \"hidden_size\"}}, \"yaxis18\": {\"anchor\": \"x18\", \"domain\": [0.6484375, 0.740625], \"matches\": \"y17\", \"range\": [8, 256], \"showticklabels\": false}, \"yaxis19\": {\"anchor\": \"x19\", \"domain\": [0.6484375, 0.740625], \"matches\": \"y17\", \"range\": [8, 256], \"showticklabels\": false}, \"yaxis2\": {\"anchor\": \"x2\", \"domain\": [0.9078124999999999, 0.9999999999999999], \"matches\": \"y\", \"range\": [16, 128], \"showticklabels\": false}, \"yaxis20\": {\"anchor\": \"x20\", \"domain\": [0.6484375, 0.740625], \"matches\": \"y17\", \"range\": [8, 256], \"showticklabels\": false}, \"yaxis21\": {\"anchor\": \"x21\", \"domain\": [0.6484375, 0.740625], \"matches\": \"y17\", \"range\": [8, 256], \"showticklabels\": false}, \"yaxis22\": {\"anchor\": \"x22\", \"domain\": [0.6484375, 0.740625], \"matches\": \"y17\", \"range\": [8, 256], \"showticklabels\": false}, \"yaxis23\": {\"anchor\": \"x23\", \"domain\": [0.6484375, 0.740625], \"matches\": \"y17\", \"range\": [8, 256], \"showticklabels\": false}, \"yaxis24\": {\"anchor\": \"x24\", \"domain\": [0.6484375, 0.740625], \"matches\": \"y17\", \"range\": [8, 256], \"showticklabels\": false}, \"yaxis25\": {\"anchor\": \"x25\", \"domain\": [0.51875, 0.6109375], \"range\": [2, 5], \"title\": {\"text\": \"layer_size\"}}, \"yaxis26\": {\"anchor\": \"x26\", \"domain\": [0.51875, 0.6109375], \"matches\": \"y25\", \"range\": [2, 5], \"showticklabels\": false}, \"yaxis27\": {\"anchor\": \"x27\", \"domain\": [0.51875, 0.6109375], \"matches\": \"y25\", \"range\": [2, 5], \"showticklabels\": false}, \"yaxis28\": {\"anchor\": \"x28\", \"domain\": [0.51875, 0.6109375], \"matches\": \"y25\", \"range\": [2, 5], \"showticklabels\": false}, \"yaxis29\": {\"anchor\": \"x29\", \"domain\": [0.51875, 0.6109375], \"matches\": \"y25\", \"range\": [2, 5], \"showticklabels\": false}, \"yaxis3\": {\"anchor\": \"x3\", \"domain\": [0.9078124999999999, 0.9999999999999999], \"matches\": \"y\", \"range\": [16, 128], \"showticklabels\": false}, \"yaxis30\": {\"anchor\": \"x30\", \"domain\": [0.51875, 0.6109375], \"matches\": \"y25\", \"range\": [2, 5], \"showticklabels\": false}, \"yaxis31\": {\"anchor\": \"x31\", \"domain\": [0.51875, 0.6109375], \"matches\": \"y25\", \"range\": [2, 5], \"showticklabels\": false}, \"yaxis32\": {\"anchor\": \"x32\", \"domain\": [0.51875, 0.6109375], \"matches\": \"y25\", \"range\": [2, 5], \"showticklabels\": false}, \"yaxis33\": {\"anchor\": \"x33\", \"domain\": [0.38906250000000003, 0.48125000000000007], \"range\": [-3.9419070594837002, -3.00131236272803], \"title\": {\"text\": \"learning_rate\"}, \"type\": \"log\"}, \"yaxis34\": {\"anchor\": \"x34\", \"domain\": [0.38906250000000003, 0.48125000000000007], \"matches\": \"y33\", \"range\": [-3.9419070594837002, -3.00131236272803], \"showticklabels\": false, \"type\": \"log\"}, \"yaxis35\": {\"anchor\": \"x35\", \"domain\": [0.38906250000000003, 0.48125000000000007], \"matches\": \"y33\", \"range\": [-3.9419070594837002, -3.00131236272803], \"showticklabels\": false, \"type\": \"log\"}, \"yaxis36\": {\"anchor\": \"x36\", \"domain\": [0.38906250000000003, 0.48125000000000007], \"matches\": \"y33\", \"range\": [-3.9419070594837002, -3.00131236272803], \"showticklabels\": false, \"type\": \"log\"}, \"yaxis37\": {\"anchor\": \"x37\", \"domain\": [0.38906250000000003, 0.48125000000000007], \"matches\": \"y33\", \"range\": [-3.9419070594837002, -3.00131236272803], \"showticklabels\": false, \"type\": \"log\"}, \"yaxis38\": {\"anchor\": \"x38\", \"domain\": [0.38906250000000003, 0.48125000000000007], \"matches\": \"y33\", \"range\": [-3.9419070594837002, -3.00131236272803], \"showticklabels\": false, \"type\": \"log\"}, \"yaxis39\": {\"anchor\": \"x39\", \"domain\": [0.38906250000000003, 0.48125000000000007], \"matches\": \"y33\", \"range\": [-3.9419070594837002, -3.00131236272803], \"showticklabels\": false, \"type\": \"log\"}, \"yaxis4\": {\"anchor\": \"x4\", \"domain\": [0.9078124999999999, 0.9999999999999999], \"matches\": \"y\", \"range\": [16, 128], \"showticklabels\": false}, \"yaxis40\": {\"anchor\": \"x40\", \"domain\": [0.38906250000000003, 0.48125000000000007], \"matches\": \"y33\", \"range\": [-3.9419070594837002, -3.00131236272803], \"showticklabels\": false, \"type\": \"log\"}, \"yaxis41\": {\"anchor\": \"x41\", \"domain\": [0.259375, 0.3515625], \"range\": [0.8292747404960318, 0.9910653091313444], \"title\": {\"text\": \"momentum\"}}, \"yaxis42\": {\"anchor\": \"x42\", \"domain\": [0.259375, 0.3515625], \"matches\": \"y41\", \"range\": [0.8292747404960318, 0.9910653091313444], \"showticklabels\": false}, \"yaxis43\": {\"anchor\": \"x43\", \"domain\": [0.259375, 0.3515625], \"matches\": \"y41\", \"range\": [0.8292747404960318, 0.9910653091313444], \"showticklabels\": false}, \"yaxis44\": {\"anchor\": \"x44\", \"domain\": [0.259375, 0.3515625], \"matches\": \"y41\", \"range\": [0.8292747404960318, 0.9910653091313444], \"showticklabels\": false}, \"yaxis45\": {\"anchor\": \"x45\", \"domain\": [0.259375, 0.3515625], \"matches\": \"y41\", \"range\": [0.8292747404960318, 0.9910653091313444], \"showticklabels\": false}, \"yaxis46\": {\"anchor\": \"x46\", \"domain\": [0.259375, 0.3515625], \"matches\": \"y41\", \"range\": [0.8292747404960318, 0.9910653091313444], \"showticklabels\": false}, \"yaxis47\": {\"anchor\": \"x47\", \"domain\": [0.259375, 0.3515625], \"matches\": \"y41\", \"range\": [0.8292747404960318, 0.9910653091313444], \"showticklabels\": false}, \"yaxis48\": {\"anchor\": \"x48\", \"domain\": [0.259375, 0.3515625], \"matches\": \"y41\", \"range\": [0.8292747404960318, 0.9910653091313444], \"showticklabels\": false}, \"yaxis49\": {\"anchor\": \"x49\", \"domain\": [0.1296875, 0.22187500000000002], \"range\": [false, true], \"title\": {\"text\": \"nesterov\"}}, \"yaxis5\": {\"anchor\": \"x5\", \"domain\": [0.9078124999999999, 0.9999999999999999], \"matches\": \"y\", \"range\": [16, 128], \"showticklabels\": false}, \"yaxis50\": {\"anchor\": \"x50\", \"domain\": [0.1296875, 0.22187500000000002], \"matches\": \"y49\", \"range\": [false, true], \"showticklabels\": false}, \"yaxis51\": {\"anchor\": \"x51\", \"domain\": [0.1296875, 0.22187500000000002], \"matches\": \"y49\", \"range\": [false, true], \"showticklabels\": false}, \"yaxis52\": {\"anchor\": \"x52\", \"domain\": [0.1296875, 0.22187500000000002], \"matches\": \"y49\", \"range\": [false, true], \"showticklabels\": false}, \"yaxis53\": {\"anchor\": \"x53\", \"domain\": [0.1296875, 0.22187500000000002], \"matches\": \"y49\", \"range\": [false, true], \"showticklabels\": false}, \"yaxis54\": {\"anchor\": \"x54\", \"domain\": [0.1296875, 0.22187500000000002], \"matches\": \"y49\", \"range\": [false, true], \"showticklabels\": false}, \"yaxis55\": {\"anchor\": \"x55\", \"domain\": [0.1296875, 0.22187500000000002], \"matches\": \"y49\", \"range\": [false, true], \"showticklabels\": false}, \"yaxis56\": {\"anchor\": \"x56\", \"domain\": [0.1296875, 0.22187500000000002], \"matches\": \"y49\", \"range\": [false, true], \"showticklabels\": false}, \"yaxis57\": {\"anchor\": \"x57\", \"domain\": [0.0, 0.0921875], \"range\": [-4.109634792410126, -2.0842997444641393], \"title\": {\"text\": \"weight_decay\"}, \"type\": \"log\"}, \"yaxis58\": {\"anchor\": \"x58\", \"domain\": [0.0, 0.0921875], \"matches\": \"y57\", \"range\": [-4.109634792410126, -2.0842997444641393], \"showticklabels\": false, \"type\": \"log\"}, \"yaxis59\": {\"anchor\": \"x59\", \"domain\": [0.0, 0.0921875], \"matches\": \"y57\", \"range\": [-4.109634792410126, -2.0842997444641393], \"showticklabels\": false, \"type\": \"log\"}, \"yaxis6\": {\"anchor\": \"x6\", \"domain\": [0.9078124999999999, 0.9999999999999999], \"matches\": \"y\", \"range\": [16, 128], \"showticklabels\": false}, \"yaxis60\": {\"anchor\": \"x60\", \"domain\": [0.0, 0.0921875], \"matches\": \"y57\", \"range\": [-4.109634792410126, -2.0842997444641393], \"showticklabels\": false, \"type\": \"log\"}, \"yaxis61\": {\"anchor\": \"x61\", \"domain\": [0.0, 0.0921875], \"matches\": \"y57\", \"range\": [-4.109634792410126, -2.0842997444641393], \"showticklabels\": false, \"type\": \"log\"}, \"yaxis62\": {\"anchor\": \"x62\", \"domain\": [0.0, 0.0921875], \"matches\": \"y57\", \"range\": [-4.109634792410126, -2.0842997444641393], \"showticklabels\": false, \"type\": \"log\"}, \"yaxis63\": {\"anchor\": \"x63\", \"domain\": [0.0, 0.0921875], \"matches\": \"y57\", \"range\": [-4.109634792410126, -2.0842997444641393], \"showticklabels\": false, \"type\": \"log\"}, \"yaxis64\": {\"anchor\": \"x64\", \"domain\": [0.0, 0.0921875], \"matches\": \"y57\", \"range\": [-4.109634792410126, -2.0842997444641393], \"showticklabels\": false, \"type\": \"log\"}, \"yaxis7\": {\"anchor\": \"x7\", \"domain\": [0.9078124999999999, 0.9999999999999999], \"matches\": \"y\", \"range\": [16, 128], \"showticklabels\": false}, \"yaxis8\": {\"anchor\": \"x8\", \"domain\": [0.9078124999999999, 0.9999999999999999], \"matches\": \"y\", \"range\": [16, 128], \"showticklabels\": false}, \"yaxis9\": {\"anchor\": \"x9\", \"domain\": [0.778125, 0.8703124999999999], \"range\": [0.13696254402480412, 0.4476176051738697], \"title\": {\"text\": \"dropout\"}}},\n",
       "                        {\"responsive\": true}\n",
       "                    ).then(function(){\n",
       "                            \n",
       "var gd = document.getElementById('cb406edc-08cf-4e2f-b90d-5177c21cce2c');\n",
       "var x = new MutationObserver(function (mutations, observer) {{\n",
       "        var display = window.getComputedStyle(gd).display;\n",
       "        if (!display || display === 'none') {{\n",
       "            console.log([gd, 'removed!']);\n",
       "            Plotly.purge(gd);\n",
       "            observer.disconnect();\n",
       "        }}\n",
       "}});\n",
       "\n",
       "// Listen for the removal of the full notebook cells\n",
       "var notebookContainer = gd.closest('#notebook-container');\n",
       "if (notebookContainer) {{\n",
       "    x.observe(notebookContainer, {childList: true});\n",
       "}}\n",
       "\n",
       "// Listen for the clearing of the current output cell\n",
       "var outputEl = gd.closest('.output');\n",
       "if (outputEl) {{\n",
       "    x.observe(outputEl, {childList: true});\n",
       "}}\n",
       "\n",
       "                        })\n",
       "                };\n",
       "                });\n",
       "            </script>\n",
       "        </div>"
      ]
     },
     "metadata": {},
     "output_type": "display_data"
    }
   ],
   "source": [
    "optuna.visualization.plot_contour(study)"
   ]
  },
  {
   "cell_type": "code",
   "execution_count": 31,
   "metadata": {},
   "outputs": [
    {
     "data": {
      "application/vnd.plotly.v1+json": {
       "config": {
        "plotlyServerURL": "https://plot.ly"
       },
       "data": [
        {
         "mode": "markers",
         "name": "Objective Value",
         "type": "scatter",
         "x": [
          0,
          1,
          2,
          3,
          4,
          5,
          6,
          7,
          8,
          9
         ],
         "y": [
          0.763079047203064,
          0.8695088028907776,
          0.5426318049430847,
          0.7521964907646179,
          0.9208266735076904,
          0.9458865523338318,
          0.7892372012138367,
          0.8660143613815308,
          0.7717651724815369,
          0.5784744620323181
         ]
        },
        {
         "name": "Best Value",
         "type": "scatter",
         "x": [
          0,
          1,
          2,
          3,
          4,
          5,
          6,
          7,
          8,
          9
         ],
         "y": [
          0.763079047203064,
          0.8695088028907776,
          0.8695088028907776,
          0.8695088028907776,
          0.9208266735076904,
          0.9458865523338318,
          0.9458865523338318,
          0.9458865523338318,
          0.9458865523338318,
          0.9458865523338318
         ]
        }
       ],
       "layout": {
        "template": {
         "data": {
          "bar": [
           {
            "error_x": {
             "color": "#2a3f5f"
            },
            "error_y": {
             "color": "#2a3f5f"
            },
            "marker": {
             "line": {
              "color": "#E5ECF6",
              "width": 0.5
             }
            },
            "type": "bar"
           }
          ],
          "barpolar": [
           {
            "marker": {
             "line": {
              "color": "#E5ECF6",
              "width": 0.5
             }
            },
            "type": "barpolar"
           }
          ],
          "carpet": [
           {
            "aaxis": {
             "endlinecolor": "#2a3f5f",
             "gridcolor": "white",
             "linecolor": "white",
             "minorgridcolor": "white",
             "startlinecolor": "#2a3f5f"
            },
            "baxis": {
             "endlinecolor": "#2a3f5f",
             "gridcolor": "white",
             "linecolor": "white",
             "minorgridcolor": "white",
             "startlinecolor": "#2a3f5f"
            },
            "type": "carpet"
           }
          ],
          "choropleth": [
           {
            "colorbar": {
             "outlinewidth": 0,
             "ticks": ""
            },
            "type": "choropleth"
           }
          ],
          "contour": [
           {
            "colorbar": {
             "outlinewidth": 0,
             "ticks": ""
            },
            "colorscale": [
             [
              0,
              "#0d0887"
             ],
             [
              0.1111111111111111,
              "#46039f"
             ],
             [
              0.2222222222222222,
              "#7201a8"
             ],
             [
              0.3333333333333333,
              "#9c179e"
             ],
             [
              0.4444444444444444,
              "#bd3786"
             ],
             [
              0.5555555555555556,
              "#d8576b"
             ],
             [
              0.6666666666666666,
              "#ed7953"
             ],
             [
              0.7777777777777778,
              "#fb9f3a"
             ],
             [
              0.8888888888888888,
              "#fdca26"
             ],
             [
              1,
              "#f0f921"
             ]
            ],
            "type": "contour"
           }
          ],
          "contourcarpet": [
           {
            "colorbar": {
             "outlinewidth": 0,
             "ticks": ""
            },
            "type": "contourcarpet"
           }
          ],
          "heatmap": [
           {
            "colorbar": {
             "outlinewidth": 0,
             "ticks": ""
            },
            "colorscale": [
             [
              0,
              "#0d0887"
             ],
             [
              0.1111111111111111,
              "#46039f"
             ],
             [
              0.2222222222222222,
              "#7201a8"
             ],
             [
              0.3333333333333333,
              "#9c179e"
             ],
             [
              0.4444444444444444,
              "#bd3786"
             ],
             [
              0.5555555555555556,
              "#d8576b"
             ],
             [
              0.6666666666666666,
              "#ed7953"
             ],
             [
              0.7777777777777778,
              "#fb9f3a"
             ],
             [
              0.8888888888888888,
              "#fdca26"
             ],
             [
              1,
              "#f0f921"
             ]
            ],
            "type": "heatmap"
           }
          ],
          "heatmapgl": [
           {
            "colorbar": {
             "outlinewidth": 0,
             "ticks": ""
            },
            "colorscale": [
             [
              0,
              "#0d0887"
             ],
             [
              0.1111111111111111,
              "#46039f"
             ],
             [
              0.2222222222222222,
              "#7201a8"
             ],
             [
              0.3333333333333333,
              "#9c179e"
             ],
             [
              0.4444444444444444,
              "#bd3786"
             ],
             [
              0.5555555555555556,
              "#d8576b"
             ],
             [
              0.6666666666666666,
              "#ed7953"
             ],
             [
              0.7777777777777778,
              "#fb9f3a"
             ],
             [
              0.8888888888888888,
              "#fdca26"
             ],
             [
              1,
              "#f0f921"
             ]
            ],
            "type": "heatmapgl"
           }
          ],
          "histogram": [
           {
            "marker": {
             "colorbar": {
              "outlinewidth": 0,
              "ticks": ""
             }
            },
            "type": "histogram"
           }
          ],
          "histogram2d": [
           {
            "colorbar": {
             "outlinewidth": 0,
             "ticks": ""
            },
            "colorscale": [
             [
              0,
              "#0d0887"
             ],
             [
              0.1111111111111111,
              "#46039f"
             ],
             [
              0.2222222222222222,
              "#7201a8"
             ],
             [
              0.3333333333333333,
              "#9c179e"
             ],
             [
              0.4444444444444444,
              "#bd3786"
             ],
             [
              0.5555555555555556,
              "#d8576b"
             ],
             [
              0.6666666666666666,
              "#ed7953"
             ],
             [
              0.7777777777777778,
              "#fb9f3a"
             ],
             [
              0.8888888888888888,
              "#fdca26"
             ],
             [
              1,
              "#f0f921"
             ]
            ],
            "type": "histogram2d"
           }
          ],
          "histogram2dcontour": [
           {
            "colorbar": {
             "outlinewidth": 0,
             "ticks": ""
            },
            "colorscale": [
             [
              0,
              "#0d0887"
             ],
             [
              0.1111111111111111,
              "#46039f"
             ],
             [
              0.2222222222222222,
              "#7201a8"
             ],
             [
              0.3333333333333333,
              "#9c179e"
             ],
             [
              0.4444444444444444,
              "#bd3786"
             ],
             [
              0.5555555555555556,
              "#d8576b"
             ],
             [
              0.6666666666666666,
              "#ed7953"
             ],
             [
              0.7777777777777778,
              "#fb9f3a"
             ],
             [
              0.8888888888888888,
              "#fdca26"
             ],
             [
              1,
              "#f0f921"
             ]
            ],
            "type": "histogram2dcontour"
           }
          ],
          "mesh3d": [
           {
            "colorbar": {
             "outlinewidth": 0,
             "ticks": ""
            },
            "type": "mesh3d"
           }
          ],
          "parcoords": [
           {
            "line": {
             "colorbar": {
              "outlinewidth": 0,
              "ticks": ""
             }
            },
            "type": "parcoords"
           }
          ],
          "pie": [
           {
            "automargin": true,
            "type": "pie"
           }
          ],
          "scatter": [
           {
            "marker": {
             "colorbar": {
              "outlinewidth": 0,
              "ticks": ""
             }
            },
            "type": "scatter"
           }
          ],
          "scatter3d": [
           {
            "line": {
             "colorbar": {
              "outlinewidth": 0,
              "ticks": ""
             }
            },
            "marker": {
             "colorbar": {
              "outlinewidth": 0,
              "ticks": ""
             }
            },
            "type": "scatter3d"
           }
          ],
          "scattercarpet": [
           {
            "marker": {
             "colorbar": {
              "outlinewidth": 0,
              "ticks": ""
             }
            },
            "type": "scattercarpet"
           }
          ],
          "scattergeo": [
           {
            "marker": {
             "colorbar": {
              "outlinewidth": 0,
              "ticks": ""
             }
            },
            "type": "scattergeo"
           }
          ],
          "scattergl": [
           {
            "marker": {
             "colorbar": {
              "outlinewidth": 0,
              "ticks": ""
             }
            },
            "type": "scattergl"
           }
          ],
          "scattermapbox": [
           {
            "marker": {
             "colorbar": {
              "outlinewidth": 0,
              "ticks": ""
             }
            },
            "type": "scattermapbox"
           }
          ],
          "scatterpolar": [
           {
            "marker": {
             "colorbar": {
              "outlinewidth": 0,
              "ticks": ""
             }
            },
            "type": "scatterpolar"
           }
          ],
          "scatterpolargl": [
           {
            "marker": {
             "colorbar": {
              "outlinewidth": 0,
              "ticks": ""
             }
            },
            "type": "scatterpolargl"
           }
          ],
          "scatterternary": [
           {
            "marker": {
             "colorbar": {
              "outlinewidth": 0,
              "ticks": ""
             }
            },
            "type": "scatterternary"
           }
          ],
          "surface": [
           {
            "colorbar": {
             "outlinewidth": 0,
             "ticks": ""
            },
            "colorscale": [
             [
              0,
              "#0d0887"
             ],
             [
              0.1111111111111111,
              "#46039f"
             ],
             [
              0.2222222222222222,
              "#7201a8"
             ],
             [
              0.3333333333333333,
              "#9c179e"
             ],
             [
              0.4444444444444444,
              "#bd3786"
             ],
             [
              0.5555555555555556,
              "#d8576b"
             ],
             [
              0.6666666666666666,
              "#ed7953"
             ],
             [
              0.7777777777777778,
              "#fb9f3a"
             ],
             [
              0.8888888888888888,
              "#fdca26"
             ],
             [
              1,
              "#f0f921"
             ]
            ],
            "type": "surface"
           }
          ],
          "table": [
           {
            "cells": {
             "fill": {
              "color": "#EBF0F8"
             },
             "line": {
              "color": "white"
             }
            },
            "header": {
             "fill": {
              "color": "#C8D4E3"
             },
             "line": {
              "color": "white"
             }
            },
            "type": "table"
           }
          ]
         },
         "layout": {
          "annotationdefaults": {
           "arrowcolor": "#2a3f5f",
           "arrowhead": 0,
           "arrowwidth": 1
          },
          "coloraxis": {
           "colorbar": {
            "outlinewidth": 0,
            "ticks": ""
           }
          },
          "colorscale": {
           "diverging": [
            [
             0,
             "#8e0152"
            ],
            [
             0.1,
             "#c51b7d"
            ],
            [
             0.2,
             "#de77ae"
            ],
            [
             0.3,
             "#f1b6da"
            ],
            [
             0.4,
             "#fde0ef"
            ],
            [
             0.5,
             "#f7f7f7"
            ],
            [
             0.6,
             "#e6f5d0"
            ],
            [
             0.7,
             "#b8e186"
            ],
            [
             0.8,
             "#7fbc41"
            ],
            [
             0.9,
             "#4d9221"
            ],
            [
             1,
             "#276419"
            ]
           ],
           "sequential": [
            [
             0,
             "#0d0887"
            ],
            [
             0.1111111111111111,
             "#46039f"
            ],
            [
             0.2222222222222222,
             "#7201a8"
            ],
            [
             0.3333333333333333,
             "#9c179e"
            ],
            [
             0.4444444444444444,
             "#bd3786"
            ],
            [
             0.5555555555555556,
             "#d8576b"
            ],
            [
             0.6666666666666666,
             "#ed7953"
            ],
            [
             0.7777777777777778,
             "#fb9f3a"
            ],
            [
             0.8888888888888888,
             "#fdca26"
            ],
            [
             1,
             "#f0f921"
            ]
           ],
           "sequentialminus": [
            [
             0,
             "#0d0887"
            ],
            [
             0.1111111111111111,
             "#46039f"
            ],
            [
             0.2222222222222222,
             "#7201a8"
            ],
            [
             0.3333333333333333,
             "#9c179e"
            ],
            [
             0.4444444444444444,
             "#bd3786"
            ],
            [
             0.5555555555555556,
             "#d8576b"
            ],
            [
             0.6666666666666666,
             "#ed7953"
            ],
            [
             0.7777777777777778,
             "#fb9f3a"
            ],
            [
             0.8888888888888888,
             "#fdca26"
            ],
            [
             1,
             "#f0f921"
            ]
           ]
          },
          "colorway": [
           "#636efa",
           "#EF553B",
           "#00cc96",
           "#ab63fa",
           "#FFA15A",
           "#19d3f3",
           "#FF6692",
           "#B6E880",
           "#FF97FF",
           "#FECB52"
          ],
          "font": {
           "color": "#2a3f5f"
          },
          "geo": {
           "bgcolor": "white",
           "lakecolor": "white",
           "landcolor": "#E5ECF6",
           "showlakes": true,
           "showland": true,
           "subunitcolor": "white"
          },
          "hoverlabel": {
           "align": "left"
          },
          "hovermode": "closest",
          "mapbox": {
           "style": "light"
          },
          "paper_bgcolor": "white",
          "plot_bgcolor": "#E5ECF6",
          "polar": {
           "angularaxis": {
            "gridcolor": "white",
            "linecolor": "white",
            "ticks": ""
           },
           "bgcolor": "#E5ECF6",
           "radialaxis": {
            "gridcolor": "white",
            "linecolor": "white",
            "ticks": ""
           }
          },
          "scene": {
           "xaxis": {
            "backgroundcolor": "#E5ECF6",
            "gridcolor": "white",
            "gridwidth": 2,
            "linecolor": "white",
            "showbackground": true,
            "ticks": "",
            "zerolinecolor": "white"
           },
           "yaxis": {
            "backgroundcolor": "#E5ECF6",
            "gridcolor": "white",
            "gridwidth": 2,
            "linecolor": "white",
            "showbackground": true,
            "ticks": "",
            "zerolinecolor": "white"
           },
           "zaxis": {
            "backgroundcolor": "#E5ECF6",
            "gridcolor": "white",
            "gridwidth": 2,
            "linecolor": "white",
            "showbackground": true,
            "ticks": "",
            "zerolinecolor": "white"
           }
          },
          "shapedefaults": {
           "line": {
            "color": "#2a3f5f"
           }
          },
          "ternary": {
           "aaxis": {
            "gridcolor": "white",
            "linecolor": "white",
            "ticks": ""
           },
           "baxis": {
            "gridcolor": "white",
            "linecolor": "white",
            "ticks": ""
           },
           "bgcolor": "#E5ECF6",
           "caxis": {
            "gridcolor": "white",
            "linecolor": "white",
            "ticks": ""
           }
          },
          "title": {
           "x": 0.05
          },
          "xaxis": {
           "automargin": true,
           "gridcolor": "white",
           "linecolor": "white",
           "ticks": "",
           "title": {
            "standoff": 15
           },
           "zerolinecolor": "white",
           "zerolinewidth": 2
          },
          "yaxis": {
           "automargin": true,
           "gridcolor": "white",
           "linecolor": "white",
           "ticks": "",
           "title": {
            "standoff": 15
           },
           "zerolinecolor": "white",
           "zerolinewidth": 2
          }
         }
        },
        "title": {
         "text": "Optimization History Plot"
        },
        "xaxis": {
         "title": {
          "text": "#Trials"
         }
        },
        "yaxis": {
         "title": {
          "text": "Objective Value"
         }
        }
       }
      },
      "text/html": [
       "<div>\n",
       "        \n",
       "        \n",
       "            <div id=\"58d1ca6e-6fba-400f-b963-788dc74759d1\" class=\"plotly-graph-div\" style=\"height:525px; width:100%;\"></div>\n",
       "            <script type=\"text/javascript\">\n",
       "                require([\"plotly\"], function(Plotly) {\n",
       "                    window.PLOTLYENV=window.PLOTLYENV || {};\n",
       "                    \n",
       "                if (document.getElementById(\"58d1ca6e-6fba-400f-b963-788dc74759d1\")) {\n",
       "                    Plotly.newPlot(\n",
       "                        '58d1ca6e-6fba-400f-b963-788dc74759d1',\n",
       "                        [{\"mode\": \"markers\", \"name\": \"Objective Value\", \"type\": \"scatter\", \"x\": [0, 1, 2, 3, 4, 5, 6, 7, 8, 9], \"y\": [0.763079047203064, 0.8695088028907776, 0.5426318049430847, 0.7521964907646179, 0.9208266735076904, 0.9458865523338318, 0.7892372012138367, 0.8660143613815308, 0.7717651724815369, 0.5784744620323181]}, {\"name\": \"Best Value\", \"type\": \"scatter\", \"x\": [0, 1, 2, 3, 4, 5, 6, 7, 8, 9], \"y\": [0.763079047203064, 0.8695088028907776, 0.8695088028907776, 0.8695088028907776, 0.9208266735076904, 0.9458865523338318, 0.9458865523338318, 0.9458865523338318, 0.9458865523338318, 0.9458865523338318]}],\n",
       "                        {\"template\": {\"data\": {\"bar\": [{\"error_x\": {\"color\": \"#2a3f5f\"}, \"error_y\": {\"color\": \"#2a3f5f\"}, \"marker\": {\"line\": {\"color\": \"#E5ECF6\", \"width\": 0.5}}, \"type\": \"bar\"}], \"barpolar\": [{\"marker\": {\"line\": {\"color\": \"#E5ECF6\", \"width\": 0.5}}, \"type\": \"barpolar\"}], \"carpet\": [{\"aaxis\": {\"endlinecolor\": \"#2a3f5f\", \"gridcolor\": \"white\", \"linecolor\": \"white\", \"minorgridcolor\": \"white\", \"startlinecolor\": \"#2a3f5f\"}, \"baxis\": {\"endlinecolor\": \"#2a3f5f\", \"gridcolor\": \"white\", \"linecolor\": \"white\", \"minorgridcolor\": \"white\", \"startlinecolor\": \"#2a3f5f\"}, \"type\": \"carpet\"}], \"choropleth\": [{\"colorbar\": {\"outlinewidth\": 0, \"ticks\": \"\"}, \"type\": \"choropleth\"}], \"contour\": [{\"colorbar\": {\"outlinewidth\": 0, \"ticks\": \"\"}, \"colorscale\": [[0.0, \"#0d0887\"], [0.1111111111111111, \"#46039f\"], [0.2222222222222222, \"#7201a8\"], [0.3333333333333333, \"#9c179e\"], [0.4444444444444444, \"#bd3786\"], [0.5555555555555556, \"#d8576b\"], [0.6666666666666666, \"#ed7953\"], [0.7777777777777778, \"#fb9f3a\"], [0.8888888888888888, \"#fdca26\"], [1.0, \"#f0f921\"]], \"type\": \"contour\"}], \"contourcarpet\": [{\"colorbar\": {\"outlinewidth\": 0, \"ticks\": \"\"}, \"type\": \"contourcarpet\"}], \"heatmap\": [{\"colorbar\": {\"outlinewidth\": 0, \"ticks\": \"\"}, \"colorscale\": [[0.0, \"#0d0887\"], [0.1111111111111111, \"#46039f\"], [0.2222222222222222, \"#7201a8\"], [0.3333333333333333, \"#9c179e\"], [0.4444444444444444, \"#bd3786\"], [0.5555555555555556, \"#d8576b\"], [0.6666666666666666, \"#ed7953\"], [0.7777777777777778, \"#fb9f3a\"], [0.8888888888888888, \"#fdca26\"], [1.0, \"#f0f921\"]], \"type\": \"heatmap\"}], \"heatmapgl\": [{\"colorbar\": {\"outlinewidth\": 0, \"ticks\": \"\"}, \"colorscale\": [[0.0, \"#0d0887\"], [0.1111111111111111, \"#46039f\"], [0.2222222222222222, \"#7201a8\"], [0.3333333333333333, \"#9c179e\"], [0.4444444444444444, \"#bd3786\"], [0.5555555555555556, \"#d8576b\"], [0.6666666666666666, \"#ed7953\"], [0.7777777777777778, \"#fb9f3a\"], [0.8888888888888888, \"#fdca26\"], [1.0, \"#f0f921\"]], \"type\": \"heatmapgl\"}], \"histogram\": [{\"marker\": {\"colorbar\": {\"outlinewidth\": 0, \"ticks\": \"\"}}, \"type\": \"histogram\"}], \"histogram2d\": [{\"colorbar\": {\"outlinewidth\": 0, \"ticks\": \"\"}, \"colorscale\": [[0.0, \"#0d0887\"], [0.1111111111111111, \"#46039f\"], [0.2222222222222222, \"#7201a8\"], [0.3333333333333333, \"#9c179e\"], [0.4444444444444444, \"#bd3786\"], [0.5555555555555556, \"#d8576b\"], [0.6666666666666666, \"#ed7953\"], [0.7777777777777778, \"#fb9f3a\"], [0.8888888888888888, \"#fdca26\"], [1.0, \"#f0f921\"]], \"type\": \"histogram2d\"}], \"histogram2dcontour\": [{\"colorbar\": {\"outlinewidth\": 0, \"ticks\": \"\"}, \"colorscale\": [[0.0, \"#0d0887\"], [0.1111111111111111, \"#46039f\"], [0.2222222222222222, \"#7201a8\"], [0.3333333333333333, \"#9c179e\"], [0.4444444444444444, \"#bd3786\"], [0.5555555555555556, \"#d8576b\"], [0.6666666666666666, \"#ed7953\"], [0.7777777777777778, \"#fb9f3a\"], [0.8888888888888888, \"#fdca26\"], [1.0, \"#f0f921\"]], \"type\": \"histogram2dcontour\"}], \"mesh3d\": [{\"colorbar\": {\"outlinewidth\": 0, \"ticks\": \"\"}, \"type\": \"mesh3d\"}], \"parcoords\": [{\"line\": {\"colorbar\": {\"outlinewidth\": 0, \"ticks\": \"\"}}, \"type\": \"parcoords\"}], \"pie\": [{\"automargin\": true, \"type\": \"pie\"}], \"scatter\": [{\"marker\": {\"colorbar\": {\"outlinewidth\": 0, \"ticks\": \"\"}}, \"type\": \"scatter\"}], \"scatter3d\": [{\"line\": {\"colorbar\": {\"outlinewidth\": 0, \"ticks\": \"\"}}, \"marker\": {\"colorbar\": {\"outlinewidth\": 0, \"ticks\": \"\"}}, \"type\": \"scatter3d\"}], \"scattercarpet\": [{\"marker\": {\"colorbar\": {\"outlinewidth\": 0, \"ticks\": \"\"}}, \"type\": \"scattercarpet\"}], \"scattergeo\": [{\"marker\": {\"colorbar\": {\"outlinewidth\": 0, \"ticks\": \"\"}}, \"type\": \"scattergeo\"}], \"scattergl\": [{\"marker\": {\"colorbar\": {\"outlinewidth\": 0, \"ticks\": \"\"}}, \"type\": \"scattergl\"}], \"scattermapbox\": [{\"marker\": {\"colorbar\": {\"outlinewidth\": 0, \"ticks\": \"\"}}, \"type\": \"scattermapbox\"}], \"scatterpolar\": [{\"marker\": {\"colorbar\": {\"outlinewidth\": 0, \"ticks\": \"\"}}, \"type\": \"scatterpolar\"}], \"scatterpolargl\": [{\"marker\": {\"colorbar\": {\"outlinewidth\": 0, \"ticks\": \"\"}}, \"type\": \"scatterpolargl\"}], \"scatterternary\": [{\"marker\": {\"colorbar\": {\"outlinewidth\": 0, \"ticks\": \"\"}}, \"type\": \"scatterternary\"}], \"surface\": [{\"colorbar\": {\"outlinewidth\": 0, \"ticks\": \"\"}, \"colorscale\": [[0.0, \"#0d0887\"], [0.1111111111111111, \"#46039f\"], [0.2222222222222222, \"#7201a8\"], [0.3333333333333333, \"#9c179e\"], [0.4444444444444444, \"#bd3786\"], [0.5555555555555556, \"#d8576b\"], [0.6666666666666666, \"#ed7953\"], [0.7777777777777778, \"#fb9f3a\"], [0.8888888888888888, \"#fdca26\"], [1.0, \"#f0f921\"]], \"type\": \"surface\"}], \"table\": [{\"cells\": {\"fill\": {\"color\": \"#EBF0F8\"}, \"line\": {\"color\": \"white\"}}, \"header\": {\"fill\": {\"color\": \"#C8D4E3\"}, \"line\": {\"color\": \"white\"}}, \"type\": \"table\"}]}, \"layout\": {\"annotationdefaults\": {\"arrowcolor\": \"#2a3f5f\", \"arrowhead\": 0, \"arrowwidth\": 1}, \"coloraxis\": {\"colorbar\": {\"outlinewidth\": 0, \"ticks\": \"\"}}, \"colorscale\": {\"diverging\": [[0, \"#8e0152\"], [0.1, \"#c51b7d\"], [0.2, \"#de77ae\"], [0.3, \"#f1b6da\"], [0.4, \"#fde0ef\"], [0.5, \"#f7f7f7\"], [0.6, \"#e6f5d0\"], [0.7, \"#b8e186\"], [0.8, \"#7fbc41\"], [0.9, \"#4d9221\"], [1, \"#276419\"]], \"sequential\": [[0.0, \"#0d0887\"], [0.1111111111111111, \"#46039f\"], [0.2222222222222222, \"#7201a8\"], [0.3333333333333333, \"#9c179e\"], [0.4444444444444444, \"#bd3786\"], [0.5555555555555556, \"#d8576b\"], [0.6666666666666666, \"#ed7953\"], [0.7777777777777778, \"#fb9f3a\"], [0.8888888888888888, \"#fdca26\"], [1.0, \"#f0f921\"]], \"sequentialminus\": [[0.0, \"#0d0887\"], [0.1111111111111111, \"#46039f\"], [0.2222222222222222, \"#7201a8\"], [0.3333333333333333, \"#9c179e\"], [0.4444444444444444, \"#bd3786\"], [0.5555555555555556, \"#d8576b\"], [0.6666666666666666, \"#ed7953\"], [0.7777777777777778, \"#fb9f3a\"], [0.8888888888888888, \"#fdca26\"], [1.0, \"#f0f921\"]]}, \"colorway\": [\"#636efa\", \"#EF553B\", \"#00cc96\", \"#ab63fa\", \"#FFA15A\", \"#19d3f3\", \"#FF6692\", \"#B6E880\", \"#FF97FF\", \"#FECB52\"], \"font\": {\"color\": \"#2a3f5f\"}, \"geo\": {\"bgcolor\": \"white\", \"lakecolor\": \"white\", \"landcolor\": \"#E5ECF6\", \"showlakes\": true, \"showland\": true, \"subunitcolor\": \"white\"}, \"hoverlabel\": {\"align\": \"left\"}, \"hovermode\": \"closest\", \"mapbox\": {\"style\": \"light\"}, \"paper_bgcolor\": \"white\", \"plot_bgcolor\": \"#E5ECF6\", \"polar\": {\"angularaxis\": {\"gridcolor\": \"white\", \"linecolor\": \"white\", \"ticks\": \"\"}, \"bgcolor\": \"#E5ECF6\", \"radialaxis\": {\"gridcolor\": \"white\", \"linecolor\": \"white\", \"ticks\": \"\"}}, \"scene\": {\"xaxis\": {\"backgroundcolor\": \"#E5ECF6\", \"gridcolor\": \"white\", \"gridwidth\": 2, \"linecolor\": \"white\", \"showbackground\": true, \"ticks\": \"\", \"zerolinecolor\": \"white\"}, \"yaxis\": {\"backgroundcolor\": \"#E5ECF6\", \"gridcolor\": \"white\", \"gridwidth\": 2, \"linecolor\": \"white\", \"showbackground\": true, \"ticks\": \"\", \"zerolinecolor\": \"white\"}, \"zaxis\": {\"backgroundcolor\": \"#E5ECF6\", \"gridcolor\": \"white\", \"gridwidth\": 2, \"linecolor\": \"white\", \"showbackground\": true, \"ticks\": \"\", \"zerolinecolor\": \"white\"}}, \"shapedefaults\": {\"line\": {\"color\": \"#2a3f5f\"}}, \"ternary\": {\"aaxis\": {\"gridcolor\": \"white\", \"linecolor\": \"white\", \"ticks\": \"\"}, \"baxis\": {\"gridcolor\": \"white\", \"linecolor\": \"white\", \"ticks\": \"\"}, \"bgcolor\": \"#E5ECF6\", \"caxis\": {\"gridcolor\": \"white\", \"linecolor\": \"white\", \"ticks\": \"\"}}, \"title\": {\"x\": 0.05}, \"xaxis\": {\"automargin\": true, \"gridcolor\": \"white\", \"linecolor\": \"white\", \"ticks\": \"\", \"title\": {\"standoff\": 15}, \"zerolinecolor\": \"white\", \"zerolinewidth\": 2}, \"yaxis\": {\"automargin\": true, \"gridcolor\": \"white\", \"linecolor\": \"white\", \"ticks\": \"\", \"title\": {\"standoff\": 15}, \"zerolinecolor\": \"white\", \"zerolinewidth\": 2}}}, \"title\": {\"text\": \"Optimization History Plot\"}, \"xaxis\": {\"title\": {\"text\": \"#Trials\"}}, \"yaxis\": {\"title\": {\"text\": \"Objective Value\"}}},\n",
       "                        {\"responsive\": true}\n",
       "                    ).then(function(){\n",
       "                            \n",
       "var gd = document.getElementById('58d1ca6e-6fba-400f-b963-788dc74759d1');\n",
       "var x = new MutationObserver(function (mutations, observer) {{\n",
       "        var display = window.getComputedStyle(gd).display;\n",
       "        if (!display || display === 'none') {{\n",
       "            console.log([gd, 'removed!']);\n",
       "            Plotly.purge(gd);\n",
       "            observer.disconnect();\n",
       "        }}\n",
       "}});\n",
       "\n",
       "// Listen for the removal of the full notebook cells\n",
       "var notebookContainer = gd.closest('#notebook-container');\n",
       "if (notebookContainer) {{\n",
       "    x.observe(notebookContainer, {childList: true});\n",
       "}}\n",
       "\n",
       "// Listen for the clearing of the current output cell\n",
       "var outputEl = gd.closest('.output');\n",
       "if (outputEl) {{\n",
       "    x.observe(outputEl, {childList: true});\n",
       "}}\n",
       "\n",
       "                        })\n",
       "                };\n",
       "                });\n",
       "            </script>\n",
       "        </div>"
      ]
     },
     "metadata": {},
     "output_type": "display_data"
    }
   ],
   "source": [
    "optuna.visualization.plot_optimization_history(study)"
   ]
  },
  {
   "cell_type": "code",
   "execution_count": 32,
   "metadata": {},
   "outputs": [
    {
     "name": "stderr",
     "output_type": "stream",
     "text": [
      "/usr/local/lib/python3.7/site-packages/optuna/_experimental.py:63: ExperimentalWarning:\n",
      "\n",
      "plot_param_importances is experimental (supported from v1.5.0). The interface can change in the future.\n",
      "\n",
      "/usr/local/lib/python3.7/site-packages/optuna/_experimental.py:63: ExperimentalWarning:\n",
      "\n",
      "get_param_importances is experimental (supported from v1.3.0). The interface can change in the future.\n",
      "\n",
      "/usr/local/lib/python3.7/site-packages/optuna/_experimental.py:84: ExperimentalWarning:\n",
      "\n",
      "MeanDecreaseImpurityImportanceEvaluator is experimental (supported from v1.5.0). The interface can change in the future.\n",
      "\n"
     ]
    },
    {
     "data": {
      "application/vnd.plotly.v1+json": {
       "config": {
        "plotlyServerURL": "https://plot.ly"
       },
       "data": [
        {
         "type": "bar",
         "x": [
          "hidden_size",
          "momentum",
          "batch_size",
          "layer_size",
          "dropout",
          "weight_decay",
          "learning_rate",
          "nesterov"
         ],
         "y": [
          0.49411134380079363,
          0.19227087898744025,
          0.12429742326061491,
          0.10479136287653465,
          0.04912876833171208,
          0.018553494569748776,
          0.015056127380052315,
          0.0017906007931033988
         ]
        }
       ],
       "layout": {
        "showlegend": false,
        "template": {
         "data": {
          "bar": [
           {
            "error_x": {
             "color": "#2a3f5f"
            },
            "error_y": {
             "color": "#2a3f5f"
            },
            "marker": {
             "line": {
              "color": "#E5ECF6",
              "width": 0.5
             }
            },
            "type": "bar"
           }
          ],
          "barpolar": [
           {
            "marker": {
             "line": {
              "color": "#E5ECF6",
              "width": 0.5
             }
            },
            "type": "barpolar"
           }
          ],
          "carpet": [
           {
            "aaxis": {
             "endlinecolor": "#2a3f5f",
             "gridcolor": "white",
             "linecolor": "white",
             "minorgridcolor": "white",
             "startlinecolor": "#2a3f5f"
            },
            "baxis": {
             "endlinecolor": "#2a3f5f",
             "gridcolor": "white",
             "linecolor": "white",
             "minorgridcolor": "white",
             "startlinecolor": "#2a3f5f"
            },
            "type": "carpet"
           }
          ],
          "choropleth": [
           {
            "colorbar": {
             "outlinewidth": 0,
             "ticks": ""
            },
            "type": "choropleth"
           }
          ],
          "contour": [
           {
            "colorbar": {
             "outlinewidth": 0,
             "ticks": ""
            },
            "colorscale": [
             [
              0,
              "#0d0887"
             ],
             [
              0.1111111111111111,
              "#46039f"
             ],
             [
              0.2222222222222222,
              "#7201a8"
             ],
             [
              0.3333333333333333,
              "#9c179e"
             ],
             [
              0.4444444444444444,
              "#bd3786"
             ],
             [
              0.5555555555555556,
              "#d8576b"
             ],
             [
              0.6666666666666666,
              "#ed7953"
             ],
             [
              0.7777777777777778,
              "#fb9f3a"
             ],
             [
              0.8888888888888888,
              "#fdca26"
             ],
             [
              1,
              "#f0f921"
             ]
            ],
            "type": "contour"
           }
          ],
          "contourcarpet": [
           {
            "colorbar": {
             "outlinewidth": 0,
             "ticks": ""
            },
            "type": "contourcarpet"
           }
          ],
          "heatmap": [
           {
            "colorbar": {
             "outlinewidth": 0,
             "ticks": ""
            },
            "colorscale": [
             [
              0,
              "#0d0887"
             ],
             [
              0.1111111111111111,
              "#46039f"
             ],
             [
              0.2222222222222222,
              "#7201a8"
             ],
             [
              0.3333333333333333,
              "#9c179e"
             ],
             [
              0.4444444444444444,
              "#bd3786"
             ],
             [
              0.5555555555555556,
              "#d8576b"
             ],
             [
              0.6666666666666666,
              "#ed7953"
             ],
             [
              0.7777777777777778,
              "#fb9f3a"
             ],
             [
              0.8888888888888888,
              "#fdca26"
             ],
             [
              1,
              "#f0f921"
             ]
            ],
            "type": "heatmap"
           }
          ],
          "heatmapgl": [
           {
            "colorbar": {
             "outlinewidth": 0,
             "ticks": ""
            },
            "colorscale": [
             [
              0,
              "#0d0887"
             ],
             [
              0.1111111111111111,
              "#46039f"
             ],
             [
              0.2222222222222222,
              "#7201a8"
             ],
             [
              0.3333333333333333,
              "#9c179e"
             ],
             [
              0.4444444444444444,
              "#bd3786"
             ],
             [
              0.5555555555555556,
              "#d8576b"
             ],
             [
              0.6666666666666666,
              "#ed7953"
             ],
             [
              0.7777777777777778,
              "#fb9f3a"
             ],
             [
              0.8888888888888888,
              "#fdca26"
             ],
             [
              1,
              "#f0f921"
             ]
            ],
            "type": "heatmapgl"
           }
          ],
          "histogram": [
           {
            "marker": {
             "colorbar": {
              "outlinewidth": 0,
              "ticks": ""
             }
            },
            "type": "histogram"
           }
          ],
          "histogram2d": [
           {
            "colorbar": {
             "outlinewidth": 0,
             "ticks": ""
            },
            "colorscale": [
             [
              0,
              "#0d0887"
             ],
             [
              0.1111111111111111,
              "#46039f"
             ],
             [
              0.2222222222222222,
              "#7201a8"
             ],
             [
              0.3333333333333333,
              "#9c179e"
             ],
             [
              0.4444444444444444,
              "#bd3786"
             ],
             [
              0.5555555555555556,
              "#d8576b"
             ],
             [
              0.6666666666666666,
              "#ed7953"
             ],
             [
              0.7777777777777778,
              "#fb9f3a"
             ],
             [
              0.8888888888888888,
              "#fdca26"
             ],
             [
              1,
              "#f0f921"
             ]
            ],
            "type": "histogram2d"
           }
          ],
          "histogram2dcontour": [
           {
            "colorbar": {
             "outlinewidth": 0,
             "ticks": ""
            },
            "colorscale": [
             [
              0,
              "#0d0887"
             ],
             [
              0.1111111111111111,
              "#46039f"
             ],
             [
              0.2222222222222222,
              "#7201a8"
             ],
             [
              0.3333333333333333,
              "#9c179e"
             ],
             [
              0.4444444444444444,
              "#bd3786"
             ],
             [
              0.5555555555555556,
              "#d8576b"
             ],
             [
              0.6666666666666666,
              "#ed7953"
             ],
             [
              0.7777777777777778,
              "#fb9f3a"
             ],
             [
              0.8888888888888888,
              "#fdca26"
             ],
             [
              1,
              "#f0f921"
             ]
            ],
            "type": "histogram2dcontour"
           }
          ],
          "mesh3d": [
           {
            "colorbar": {
             "outlinewidth": 0,
             "ticks": ""
            },
            "type": "mesh3d"
           }
          ],
          "parcoords": [
           {
            "line": {
             "colorbar": {
              "outlinewidth": 0,
              "ticks": ""
             }
            },
            "type": "parcoords"
           }
          ],
          "pie": [
           {
            "automargin": true,
            "type": "pie"
           }
          ],
          "scatter": [
           {
            "marker": {
             "colorbar": {
              "outlinewidth": 0,
              "ticks": ""
             }
            },
            "type": "scatter"
           }
          ],
          "scatter3d": [
           {
            "line": {
             "colorbar": {
              "outlinewidth": 0,
              "ticks": ""
             }
            },
            "marker": {
             "colorbar": {
              "outlinewidth": 0,
              "ticks": ""
             }
            },
            "type": "scatter3d"
           }
          ],
          "scattercarpet": [
           {
            "marker": {
             "colorbar": {
              "outlinewidth": 0,
              "ticks": ""
             }
            },
            "type": "scattercarpet"
           }
          ],
          "scattergeo": [
           {
            "marker": {
             "colorbar": {
              "outlinewidth": 0,
              "ticks": ""
             }
            },
            "type": "scattergeo"
           }
          ],
          "scattergl": [
           {
            "marker": {
             "colorbar": {
              "outlinewidth": 0,
              "ticks": ""
             }
            },
            "type": "scattergl"
           }
          ],
          "scattermapbox": [
           {
            "marker": {
             "colorbar": {
              "outlinewidth": 0,
              "ticks": ""
             }
            },
            "type": "scattermapbox"
           }
          ],
          "scatterpolar": [
           {
            "marker": {
             "colorbar": {
              "outlinewidth": 0,
              "ticks": ""
             }
            },
            "type": "scatterpolar"
           }
          ],
          "scatterpolargl": [
           {
            "marker": {
             "colorbar": {
              "outlinewidth": 0,
              "ticks": ""
             }
            },
            "type": "scatterpolargl"
           }
          ],
          "scatterternary": [
           {
            "marker": {
             "colorbar": {
              "outlinewidth": 0,
              "ticks": ""
             }
            },
            "type": "scatterternary"
           }
          ],
          "surface": [
           {
            "colorbar": {
             "outlinewidth": 0,
             "ticks": ""
            },
            "colorscale": [
             [
              0,
              "#0d0887"
             ],
             [
              0.1111111111111111,
              "#46039f"
             ],
             [
              0.2222222222222222,
              "#7201a8"
             ],
             [
              0.3333333333333333,
              "#9c179e"
             ],
             [
              0.4444444444444444,
              "#bd3786"
             ],
             [
              0.5555555555555556,
              "#d8576b"
             ],
             [
              0.6666666666666666,
              "#ed7953"
             ],
             [
              0.7777777777777778,
              "#fb9f3a"
             ],
             [
              0.8888888888888888,
              "#fdca26"
             ],
             [
              1,
              "#f0f921"
             ]
            ],
            "type": "surface"
           }
          ],
          "table": [
           {
            "cells": {
             "fill": {
              "color": "#EBF0F8"
             },
             "line": {
              "color": "white"
             }
            },
            "header": {
             "fill": {
              "color": "#C8D4E3"
             },
             "line": {
              "color": "white"
             }
            },
            "type": "table"
           }
          ]
         },
         "layout": {
          "annotationdefaults": {
           "arrowcolor": "#2a3f5f",
           "arrowhead": 0,
           "arrowwidth": 1
          },
          "coloraxis": {
           "colorbar": {
            "outlinewidth": 0,
            "ticks": ""
           }
          },
          "colorscale": {
           "diverging": [
            [
             0,
             "#8e0152"
            ],
            [
             0.1,
             "#c51b7d"
            ],
            [
             0.2,
             "#de77ae"
            ],
            [
             0.3,
             "#f1b6da"
            ],
            [
             0.4,
             "#fde0ef"
            ],
            [
             0.5,
             "#f7f7f7"
            ],
            [
             0.6,
             "#e6f5d0"
            ],
            [
             0.7,
             "#b8e186"
            ],
            [
             0.8,
             "#7fbc41"
            ],
            [
             0.9,
             "#4d9221"
            ],
            [
             1,
             "#276419"
            ]
           ],
           "sequential": [
            [
             0,
             "#0d0887"
            ],
            [
             0.1111111111111111,
             "#46039f"
            ],
            [
             0.2222222222222222,
             "#7201a8"
            ],
            [
             0.3333333333333333,
             "#9c179e"
            ],
            [
             0.4444444444444444,
             "#bd3786"
            ],
            [
             0.5555555555555556,
             "#d8576b"
            ],
            [
             0.6666666666666666,
             "#ed7953"
            ],
            [
             0.7777777777777778,
             "#fb9f3a"
            ],
            [
             0.8888888888888888,
             "#fdca26"
            ],
            [
             1,
             "#f0f921"
            ]
           ],
           "sequentialminus": [
            [
             0,
             "#0d0887"
            ],
            [
             0.1111111111111111,
             "#46039f"
            ],
            [
             0.2222222222222222,
             "#7201a8"
            ],
            [
             0.3333333333333333,
             "#9c179e"
            ],
            [
             0.4444444444444444,
             "#bd3786"
            ],
            [
             0.5555555555555556,
             "#d8576b"
            ],
            [
             0.6666666666666666,
             "#ed7953"
            ],
            [
             0.7777777777777778,
             "#fb9f3a"
            ],
            [
             0.8888888888888888,
             "#fdca26"
            ],
            [
             1,
             "#f0f921"
            ]
           ]
          },
          "colorway": [
           "#636efa",
           "#EF553B",
           "#00cc96",
           "#ab63fa",
           "#FFA15A",
           "#19d3f3",
           "#FF6692",
           "#B6E880",
           "#FF97FF",
           "#FECB52"
          ],
          "font": {
           "color": "#2a3f5f"
          },
          "geo": {
           "bgcolor": "white",
           "lakecolor": "white",
           "landcolor": "#E5ECF6",
           "showlakes": true,
           "showland": true,
           "subunitcolor": "white"
          },
          "hoverlabel": {
           "align": "left"
          },
          "hovermode": "closest",
          "mapbox": {
           "style": "light"
          },
          "paper_bgcolor": "white",
          "plot_bgcolor": "#E5ECF6",
          "polar": {
           "angularaxis": {
            "gridcolor": "white",
            "linecolor": "white",
            "ticks": ""
           },
           "bgcolor": "#E5ECF6",
           "radialaxis": {
            "gridcolor": "white",
            "linecolor": "white",
            "ticks": ""
           }
          },
          "scene": {
           "xaxis": {
            "backgroundcolor": "#E5ECF6",
            "gridcolor": "white",
            "gridwidth": 2,
            "linecolor": "white",
            "showbackground": true,
            "ticks": "",
            "zerolinecolor": "white"
           },
           "yaxis": {
            "backgroundcolor": "#E5ECF6",
            "gridcolor": "white",
            "gridwidth": 2,
            "linecolor": "white",
            "showbackground": true,
            "ticks": "",
            "zerolinecolor": "white"
           },
           "zaxis": {
            "backgroundcolor": "#E5ECF6",
            "gridcolor": "white",
            "gridwidth": 2,
            "linecolor": "white",
            "showbackground": true,
            "ticks": "",
            "zerolinecolor": "white"
           }
          },
          "shapedefaults": {
           "line": {
            "color": "#2a3f5f"
           }
          },
          "ternary": {
           "aaxis": {
            "gridcolor": "white",
            "linecolor": "white",
            "ticks": ""
           },
           "baxis": {
            "gridcolor": "white",
            "linecolor": "white",
            "ticks": ""
           },
           "bgcolor": "#E5ECF6",
           "caxis": {
            "gridcolor": "white",
            "linecolor": "white",
            "ticks": ""
           }
          },
          "title": {
           "x": 0.05
          },
          "xaxis": {
           "automargin": true,
           "gridcolor": "white",
           "linecolor": "white",
           "ticks": "",
           "title": {
            "standoff": 15
           },
           "zerolinecolor": "white",
           "zerolinewidth": 2
          },
          "yaxis": {
           "automargin": true,
           "gridcolor": "white",
           "linecolor": "white",
           "ticks": "",
           "title": {
            "standoff": 15
           },
           "zerolinecolor": "white",
           "zerolinewidth": 2
          }
         }
        },
        "title": {
         "text": "Hyperparameter Importances"
        },
        "xaxis": {
         "title": {
          "text": "Hyperparameter"
         }
        },
        "yaxis": {
         "title": {
          "text": "Importance"
         }
        }
       }
      },
      "text/html": [
       "<div>\n",
       "        \n",
       "        \n",
       "            <div id=\"7cdbb908-b7aa-4f48-b650-be519b0392fe\" class=\"plotly-graph-div\" style=\"height:525px; width:100%;\"></div>\n",
       "            <script type=\"text/javascript\">\n",
       "                require([\"plotly\"], function(Plotly) {\n",
       "                    window.PLOTLYENV=window.PLOTLYENV || {};\n",
       "                    \n",
       "                if (document.getElementById(\"7cdbb908-b7aa-4f48-b650-be519b0392fe\")) {\n",
       "                    Plotly.newPlot(\n",
       "                        '7cdbb908-b7aa-4f48-b650-be519b0392fe',\n",
       "                        [{\"type\": \"bar\", \"x\": [\"hidden_size\", \"momentum\", \"batch_size\", \"layer_size\", \"dropout\", \"weight_decay\", \"learning_rate\", \"nesterov\"], \"y\": [0.49411134380079363, 0.19227087898744025, 0.12429742326061491, 0.10479136287653465, 0.04912876833171208, 0.018553494569748776, 0.015056127380052315, 0.0017906007931033988]}],\n",
       "                        {\"showlegend\": false, \"template\": {\"data\": {\"bar\": [{\"error_x\": {\"color\": \"#2a3f5f\"}, \"error_y\": {\"color\": \"#2a3f5f\"}, \"marker\": {\"line\": {\"color\": \"#E5ECF6\", \"width\": 0.5}}, \"type\": \"bar\"}], \"barpolar\": [{\"marker\": {\"line\": {\"color\": \"#E5ECF6\", \"width\": 0.5}}, \"type\": \"barpolar\"}], \"carpet\": [{\"aaxis\": {\"endlinecolor\": \"#2a3f5f\", \"gridcolor\": \"white\", \"linecolor\": \"white\", \"minorgridcolor\": \"white\", \"startlinecolor\": \"#2a3f5f\"}, \"baxis\": {\"endlinecolor\": \"#2a3f5f\", \"gridcolor\": \"white\", \"linecolor\": \"white\", \"minorgridcolor\": \"white\", \"startlinecolor\": \"#2a3f5f\"}, \"type\": \"carpet\"}], \"choropleth\": [{\"colorbar\": {\"outlinewidth\": 0, \"ticks\": \"\"}, \"type\": \"choropleth\"}], \"contour\": [{\"colorbar\": {\"outlinewidth\": 0, \"ticks\": \"\"}, \"colorscale\": [[0.0, \"#0d0887\"], [0.1111111111111111, \"#46039f\"], [0.2222222222222222, \"#7201a8\"], [0.3333333333333333, \"#9c179e\"], [0.4444444444444444, \"#bd3786\"], [0.5555555555555556, \"#d8576b\"], [0.6666666666666666, \"#ed7953\"], [0.7777777777777778, \"#fb9f3a\"], [0.8888888888888888, \"#fdca26\"], [1.0, \"#f0f921\"]], \"type\": \"contour\"}], \"contourcarpet\": [{\"colorbar\": {\"outlinewidth\": 0, \"ticks\": \"\"}, \"type\": \"contourcarpet\"}], \"heatmap\": [{\"colorbar\": {\"outlinewidth\": 0, \"ticks\": \"\"}, \"colorscale\": [[0.0, \"#0d0887\"], [0.1111111111111111, \"#46039f\"], [0.2222222222222222, \"#7201a8\"], [0.3333333333333333, \"#9c179e\"], [0.4444444444444444, \"#bd3786\"], [0.5555555555555556, \"#d8576b\"], [0.6666666666666666, \"#ed7953\"], [0.7777777777777778, \"#fb9f3a\"], [0.8888888888888888, \"#fdca26\"], [1.0, \"#f0f921\"]], \"type\": \"heatmap\"}], \"heatmapgl\": [{\"colorbar\": {\"outlinewidth\": 0, \"ticks\": \"\"}, \"colorscale\": [[0.0, \"#0d0887\"], [0.1111111111111111, \"#46039f\"], [0.2222222222222222, \"#7201a8\"], [0.3333333333333333, \"#9c179e\"], [0.4444444444444444, \"#bd3786\"], [0.5555555555555556, \"#d8576b\"], [0.6666666666666666, \"#ed7953\"], [0.7777777777777778, \"#fb9f3a\"], [0.8888888888888888, \"#fdca26\"], [1.0, \"#f0f921\"]], \"type\": \"heatmapgl\"}], \"histogram\": [{\"marker\": {\"colorbar\": {\"outlinewidth\": 0, \"ticks\": \"\"}}, \"type\": \"histogram\"}], \"histogram2d\": [{\"colorbar\": {\"outlinewidth\": 0, \"ticks\": \"\"}, \"colorscale\": [[0.0, \"#0d0887\"], [0.1111111111111111, \"#46039f\"], [0.2222222222222222, \"#7201a8\"], [0.3333333333333333, \"#9c179e\"], [0.4444444444444444, \"#bd3786\"], [0.5555555555555556, \"#d8576b\"], [0.6666666666666666, \"#ed7953\"], [0.7777777777777778, \"#fb9f3a\"], [0.8888888888888888, \"#fdca26\"], [1.0, \"#f0f921\"]], \"type\": \"histogram2d\"}], \"histogram2dcontour\": [{\"colorbar\": {\"outlinewidth\": 0, \"ticks\": \"\"}, \"colorscale\": [[0.0, \"#0d0887\"], [0.1111111111111111, \"#46039f\"], [0.2222222222222222, \"#7201a8\"], [0.3333333333333333, \"#9c179e\"], [0.4444444444444444, \"#bd3786\"], [0.5555555555555556, \"#d8576b\"], [0.6666666666666666, \"#ed7953\"], [0.7777777777777778, \"#fb9f3a\"], [0.8888888888888888, \"#fdca26\"], [1.0, \"#f0f921\"]], \"type\": \"histogram2dcontour\"}], \"mesh3d\": [{\"colorbar\": {\"outlinewidth\": 0, \"ticks\": \"\"}, \"type\": \"mesh3d\"}], \"parcoords\": [{\"line\": {\"colorbar\": {\"outlinewidth\": 0, \"ticks\": \"\"}}, \"type\": \"parcoords\"}], \"pie\": [{\"automargin\": true, \"type\": \"pie\"}], \"scatter\": [{\"marker\": {\"colorbar\": {\"outlinewidth\": 0, \"ticks\": \"\"}}, \"type\": \"scatter\"}], \"scatter3d\": [{\"line\": {\"colorbar\": {\"outlinewidth\": 0, \"ticks\": \"\"}}, \"marker\": {\"colorbar\": {\"outlinewidth\": 0, \"ticks\": \"\"}}, \"type\": \"scatter3d\"}], \"scattercarpet\": [{\"marker\": {\"colorbar\": {\"outlinewidth\": 0, \"ticks\": \"\"}}, \"type\": \"scattercarpet\"}], \"scattergeo\": [{\"marker\": {\"colorbar\": {\"outlinewidth\": 0, \"ticks\": \"\"}}, \"type\": \"scattergeo\"}], \"scattergl\": [{\"marker\": {\"colorbar\": {\"outlinewidth\": 0, \"ticks\": \"\"}}, \"type\": \"scattergl\"}], \"scattermapbox\": [{\"marker\": {\"colorbar\": {\"outlinewidth\": 0, \"ticks\": \"\"}}, \"type\": \"scattermapbox\"}], \"scatterpolar\": [{\"marker\": {\"colorbar\": {\"outlinewidth\": 0, \"ticks\": \"\"}}, \"type\": \"scatterpolar\"}], \"scatterpolargl\": [{\"marker\": {\"colorbar\": {\"outlinewidth\": 0, \"ticks\": \"\"}}, \"type\": \"scatterpolargl\"}], \"scatterternary\": [{\"marker\": {\"colorbar\": {\"outlinewidth\": 0, \"ticks\": \"\"}}, \"type\": \"scatterternary\"}], \"surface\": [{\"colorbar\": {\"outlinewidth\": 0, \"ticks\": \"\"}, \"colorscale\": [[0.0, \"#0d0887\"], [0.1111111111111111, \"#46039f\"], [0.2222222222222222, \"#7201a8\"], [0.3333333333333333, \"#9c179e\"], [0.4444444444444444, \"#bd3786\"], [0.5555555555555556, \"#d8576b\"], [0.6666666666666666, \"#ed7953\"], [0.7777777777777778, \"#fb9f3a\"], [0.8888888888888888, \"#fdca26\"], [1.0, \"#f0f921\"]], \"type\": \"surface\"}], \"table\": [{\"cells\": {\"fill\": {\"color\": \"#EBF0F8\"}, \"line\": {\"color\": \"white\"}}, \"header\": {\"fill\": {\"color\": \"#C8D4E3\"}, \"line\": {\"color\": \"white\"}}, \"type\": \"table\"}]}, \"layout\": {\"annotationdefaults\": {\"arrowcolor\": \"#2a3f5f\", \"arrowhead\": 0, \"arrowwidth\": 1}, \"coloraxis\": {\"colorbar\": {\"outlinewidth\": 0, \"ticks\": \"\"}}, \"colorscale\": {\"diverging\": [[0, \"#8e0152\"], [0.1, \"#c51b7d\"], [0.2, \"#de77ae\"], [0.3, \"#f1b6da\"], [0.4, \"#fde0ef\"], [0.5, \"#f7f7f7\"], [0.6, \"#e6f5d0\"], [0.7, \"#b8e186\"], [0.8, \"#7fbc41\"], [0.9, \"#4d9221\"], [1, \"#276419\"]], \"sequential\": [[0.0, \"#0d0887\"], [0.1111111111111111, \"#46039f\"], [0.2222222222222222, \"#7201a8\"], [0.3333333333333333, \"#9c179e\"], [0.4444444444444444, \"#bd3786\"], [0.5555555555555556, \"#d8576b\"], [0.6666666666666666, \"#ed7953\"], [0.7777777777777778, \"#fb9f3a\"], [0.8888888888888888, \"#fdca26\"], [1.0, \"#f0f921\"]], \"sequentialminus\": [[0.0, \"#0d0887\"], [0.1111111111111111, \"#46039f\"], [0.2222222222222222, \"#7201a8\"], [0.3333333333333333, \"#9c179e\"], [0.4444444444444444, \"#bd3786\"], [0.5555555555555556, \"#d8576b\"], [0.6666666666666666, \"#ed7953\"], [0.7777777777777778, \"#fb9f3a\"], [0.8888888888888888, \"#fdca26\"], [1.0, \"#f0f921\"]]}, \"colorway\": [\"#636efa\", \"#EF553B\", \"#00cc96\", \"#ab63fa\", \"#FFA15A\", \"#19d3f3\", \"#FF6692\", \"#B6E880\", \"#FF97FF\", \"#FECB52\"], \"font\": {\"color\": \"#2a3f5f\"}, \"geo\": {\"bgcolor\": \"white\", \"lakecolor\": \"white\", \"landcolor\": \"#E5ECF6\", \"showlakes\": true, \"showland\": true, \"subunitcolor\": \"white\"}, \"hoverlabel\": {\"align\": \"left\"}, \"hovermode\": \"closest\", \"mapbox\": {\"style\": \"light\"}, \"paper_bgcolor\": \"white\", \"plot_bgcolor\": \"#E5ECF6\", \"polar\": {\"angularaxis\": {\"gridcolor\": \"white\", \"linecolor\": \"white\", \"ticks\": \"\"}, \"bgcolor\": \"#E5ECF6\", \"radialaxis\": {\"gridcolor\": \"white\", \"linecolor\": \"white\", \"ticks\": \"\"}}, \"scene\": {\"xaxis\": {\"backgroundcolor\": \"#E5ECF6\", \"gridcolor\": \"white\", \"gridwidth\": 2, \"linecolor\": \"white\", \"showbackground\": true, \"ticks\": \"\", \"zerolinecolor\": \"white\"}, \"yaxis\": {\"backgroundcolor\": \"#E5ECF6\", \"gridcolor\": \"white\", \"gridwidth\": 2, \"linecolor\": \"white\", \"showbackground\": true, \"ticks\": \"\", \"zerolinecolor\": \"white\"}, \"zaxis\": {\"backgroundcolor\": \"#E5ECF6\", \"gridcolor\": \"white\", \"gridwidth\": 2, \"linecolor\": \"white\", \"showbackground\": true, \"ticks\": \"\", \"zerolinecolor\": \"white\"}}, \"shapedefaults\": {\"line\": {\"color\": \"#2a3f5f\"}}, \"ternary\": {\"aaxis\": {\"gridcolor\": \"white\", \"linecolor\": \"white\", \"ticks\": \"\"}, \"baxis\": {\"gridcolor\": \"white\", \"linecolor\": \"white\", \"ticks\": \"\"}, \"bgcolor\": \"#E5ECF6\", \"caxis\": {\"gridcolor\": \"white\", \"linecolor\": \"white\", \"ticks\": \"\"}}, \"title\": {\"x\": 0.05}, \"xaxis\": {\"automargin\": true, \"gridcolor\": \"white\", \"linecolor\": \"white\", \"ticks\": \"\", \"title\": {\"standoff\": 15}, \"zerolinecolor\": \"white\", \"zerolinewidth\": 2}, \"yaxis\": {\"automargin\": true, \"gridcolor\": \"white\", \"linecolor\": \"white\", \"ticks\": \"\", \"title\": {\"standoff\": 15}, \"zerolinecolor\": \"white\", \"zerolinewidth\": 2}}}, \"title\": {\"text\": \"Hyperparameter Importances\"}, \"xaxis\": {\"title\": {\"text\": \"Hyperparameter\"}}, \"yaxis\": {\"title\": {\"text\": \"Importance\"}}},\n",
       "                        {\"responsive\": true}\n",
       "                    ).then(function(){\n",
       "                            \n",
       "var gd = document.getElementById('7cdbb908-b7aa-4f48-b650-be519b0392fe');\n",
       "var x = new MutationObserver(function (mutations, observer) {{\n",
       "        var display = window.getComputedStyle(gd).display;\n",
       "        if (!display || display === 'none') {{\n",
       "            console.log([gd, 'removed!']);\n",
       "            Plotly.purge(gd);\n",
       "            observer.disconnect();\n",
       "        }}\n",
       "}});\n",
       "\n",
       "// Listen for the removal of the full notebook cells\n",
       "var notebookContainer = gd.closest('#notebook-container');\n",
       "if (notebookContainer) {{\n",
       "    x.observe(notebookContainer, {childList: true});\n",
       "}}\n",
       "\n",
       "// Listen for the clearing of the current output cell\n",
       "var outputEl = gd.closest('.output');\n",
       "if (outputEl) {{\n",
       "    x.observe(outputEl, {childList: true});\n",
       "}}\n",
       "\n",
       "                        })\n",
       "                };\n",
       "                });\n",
       "            </script>\n",
       "        </div>"
      ]
     },
     "metadata": {},
     "output_type": "display_data"
    }
   ],
   "source": [
    "optuna.visualization.plot_param_importances(study)"
   ]
  },
  {
   "cell_type": "code",
   "execution_count": 33,
   "metadata": {},
   "outputs": [],
   "source": [
    "import shutil\n",
    "shutil.rmtree(MODEL_DIR)"
   ]
  },
  {
   "cell_type": "code",
   "execution_count": null,
   "metadata": {},
   "outputs": [],
   "source": []
  }
 ],
 "metadata": {
  "kernelspec": {
   "display_name": "Python 3",
   "language": "python",
   "name": "python3"
  },
  "language_info": {
   "codemirror_mode": {
    "name": "ipython",
    "version": 3
   },
   "file_extension": ".py",
   "mimetype": "text/x-python",
   "name": "python",
   "nbconvert_exporter": "python",
   "pygments_lexer": "ipython3",
   "version": "3.7.7"
  },
  "latex_envs": {
   "LaTeX_envs_menu_present": true,
   "autoclose": false,
   "autocomplete": true,
   "bibliofile": "biblio.bib",
   "cite_by": "apalike",
   "current_citInitial": 1,
   "eqLabelWithNumbers": true,
   "eqNumInitial": 1,
   "hotkeys": {
    "equation": "Ctrl-E",
    "itemize": "Ctrl-I"
   },
   "labels_anchors": false,
   "latex_user_defs": false,
   "report_style_numbering": false,
   "user_envs_cfg": false
  }
 },
 "nbformat": 4,
 "nbformat_minor": 4
}
