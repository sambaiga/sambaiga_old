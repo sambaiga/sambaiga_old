{
 "cells": [
  {
   "cell_type": "markdown",
   "metadata": {},
   "source": [
    "# Super-charge hyper-paramater search with Optuna\n",
    "> The post introduce the basics principle of probability and information theory and their application to machine learning.\n",
    "- toc: true \n",
    "- badges: true\n",
    "- comments: true\n",
    "- author: Anthony Faust\n",
    "- show_tags: true\n",
    "- categories: [Machine learning, Deep learning]\n",
    "- image: images/post/search.jpg\n"
   ]
  },
  {
   "cell_type": "markdown",
   "metadata": {},
   "source": [
    "## Introduction\n",
    "Training machine learning sometimes involves various hyperparameter settings. Performing a hyperparameter search is an integral element in building machine learning models. It consists of attuning different sets of parameters to find the best settings for excellent model performance. It should be remarked that deep neural networks can involve many hyperparameter settings. Getting the best set parameters for such a high dimensional space might a challenging task. Opportunely, different strategies and tools can be used to simplify the process. This post will guide you on how to use Optuna for a hyper-parameter search using [PyTorch](https://pytorch.org/) and [PyTorch lightning](https://github.com/PyTorchLightning/pytorch-lightning) framework."
   ]
  },
  {
   "cell_type": "markdown",
   "metadata": {},
   "source": [
    "To install these packages"
   ]
  },
  {
   "cell_type": "markdown",
   "metadata": {},
   "source": [
    "```python\n",
    "pip install -U optuna\n",
    "pip install -U torch torchvision\n",
    "pip install -U pytorch-lightning\n",
    "```"
   ]
  },
  {
   "cell_type": "markdown",
   "metadata": {},
   "source": [
    "### Optuna\n",
    "[Optuna](https://optuna.org/) is an open-source hyperparameter optimization framework.  It automates the process of searching for optimal hyperparameter using Python conditionals, loops, and syntax. The optuna library offers efficiently hyper-parameter search in large spaces while pruning unpromising trials for faster results. Using optuna it is possible to parallelize hyperparameter searches over multiple threads or processes without modifying code.\n",
    "The optuna optimization problem consists of three main building blocks; **objective function**, **trial** and **study**. Let consider a simple optimisation problem: *Suppose a rectangular garden is to be constructed using a rock wall as one side of the garden and wire fencing for the other three sides as shown in figure belwo. Given  500m of wire fencing, determine the dimensions that would create a garden of maximum area. What is the maximum area?*"
   ]
  },
  {
   "cell_type": "markdown",
   "metadata": {},
   "source": [
    "Let  $x$ denote the length of the side of the garden perpendicular to the rock wall and  $y$  denote the length of the side parallel to the rock wall. Then the area of the garden $A= x \\cdot y$. We want to find the maximum possible area subject to the constraint that the total fencing is 500m. The total amount of fencing used will be  $2x+y$.  Therefore, the constraint equation is \n",
    "\\begin{align}\n",
    "500 & = 2x +y \\\\\n",
    "y  & = 500-2x\\\\\n",
    "A(x) &= x \\cdot (500-2x) =  500x - 2x^2\n",
    "\\end{align}\n",
    "\n",
    "From equation above, $A(x) = 500x - 2x^2$ is an **objective function**, the function to be optimized. To maximize this function, we need to determine optimization constraints. We know that to construct a rectangular garden, we certainly need the lengths of both sides to be positive $y>0$, and  $x>0$. Since $500  = 2x +y$ and $y>0$ then $x<250$. Therefore, we will try to determine the maximum value of A(x) for x over the open interval (0,50).\n",
    "\n",
    "Optuna [**trial**](https://optuna.readthedocs.io/en/stable/reference/trial.html)  corresponds to a single execution of the **objective function** and is internally instantiated upon each invocation of the function. To obtain the parameters for each trial within a provided *contsrtainst* the [**suggest**](https://optuna.readthedocs.io/en/stable/reference/trial.html) is used. \n",
    "\n",
    "```python\n",
    "trial.suggest_uniform('x', 0, 250)\n",
    "```\n",
    "\n",
    "We can now code the objective function that be optimized for our problem.\n",
    "\n",
    "\n"
   ]
  },
  {
   "cell_type": "code",
   "execution_count": 10,
   "metadata": {},
   "outputs": [],
   "source": [
    "def gardent_area(trial):\n",
    "    x = trial.suggest_uniform('x', 0, 250)\n",
    "    return (500*x - 2*x**2 ) "
   ]
  },
  {
   "cell_type": "markdown",
   "metadata": {},
   "source": [
    "Once the objective function has been defined, the [**study object**]() is used to start the optimization. Thus optuna **trial** is a single call of the objective function whereas **study** is  an optimization session, which is a set of trials. We can now create a study and start the optimisation process."
   ]
  },
  {
   "cell_type": "code",
   "execution_count": 16,
   "metadata": {},
   "outputs": [
    {
     "name": "stderr",
     "output_type": "stream",
     "text": [
      "\u001b[32m[I 2020-06-20 21:26:28,248]\u001b[0m Finished trial#0 with value: 28205.741307428172 with parameters: {'x': 85.98552388810133}. Best is trial#0 with value: 28205.741307428172.\u001b[0m\n",
      "\u001b[32m[I 2020-06-20 21:26:28,383]\u001b[0m Finished trial#1 with value: 15560.237260738759 with parameters: {'x': 36.42866507932366}. Best is trial#0 with value: 28205.741307428172.\u001b[0m\n",
      "\u001b[32m[I 2020-06-20 21:26:28,504]\u001b[0m Finished trial#2 with value: 27381.28139315071 with parameters: {'x': 168.98135176895596}. Best is trial#0 with value: 28205.741307428172.\u001b[0m\n",
      "\u001b[32m[I 2020-06-20 21:26:28,601]\u001b[0m Finished trial#3 with value: 25826.98243229805 with parameters: {'x': 72.92785020905154}. Best is trial#0 with value: 28205.741307428172.\u001b[0m\n",
      "\u001b[32m[I 2020-06-20 21:26:28,708]\u001b[0m Finished trial#4 with value: 22181.440803890582 with parameters: {'x': 57.66294038157957}. Best is trial#0 with value: 28205.741307428172.\u001b[0m\n",
      "\u001b[32m[I 2020-06-20 21:26:28,824]\u001b[0m Finished trial#5 with value: 26068.17672389483 with parameters: {'x': 74.0990016006308}. Best is trial#0 with value: 28205.741307428172.\u001b[0m\n",
      "\u001b[32m[I 2020-06-20 21:26:28,961]\u001b[0m Finished trial#6 with value: 30441.721465587085 with parameters: {'x': 145.10321534497547}. Best is trial#6 with value: 30441.721465587085.\u001b[0m\n",
      "\u001b[32m[I 2020-06-20 21:26:29,081]\u001b[0m Finished trial#7 with value: 21575.942169721733 with parameters: {'x': 194.54875207463564}. Best is trial#6 with value: 30441.721465587085.\u001b[0m\n",
      "\u001b[32m[I 2020-06-20 21:26:29,196]\u001b[0m Finished trial#8 with value: 2758.1590588097624 with parameters: {'x': 5.643724628341729}. Best is trial#6 with value: 30441.721465587085.\u001b[0m\n",
      "\u001b[32m[I 2020-06-20 21:26:29,395]\u001b[0m Finished trial#9 with value: 30681.435989674595 with parameters: {'x': 141.8606644342003}. Best is trial#9 with value: 30681.435989674595.\u001b[0m\n"
     ]
    }
   ],
   "source": [
    "import optuna\n",
    "study = optuna.create_study(study_name=\"garden\", direction=\"maximize\")\n",
    "study.optimize(gardent_area, n_trials=10)"
   ]
  },
  {
   "cell_type": "markdown",
   "metadata": {},
   "source": [
    "Once the study is completed you can get the best parameters as follows"
   ]
  },
  {
   "cell_type": "code",
   "execution_count": 17,
   "metadata": {},
   "outputs": [
    {
     "data": {
      "text/plain": [
       "{'x': 141.8606644342003}"
      ]
     },
     "execution_count": 17,
     "metadata": {},
     "output_type": "execute_result"
    }
   ],
   "source": [
    "study.best_params"
   ]
  },
  {
   "cell_type": "markdown",
   "metadata": {},
   "source": [
    "Thefore the dimensions that would create a garden of maximum area are $x=129.4033$ and $y=241.1933$. The best area  is the obtained best value which is."
   ]
  },
  {
   "cell_type": "code",
   "execution_count": 18,
   "metadata": {},
   "outputs": [
    {
     "data": {
      "text/plain": [
       "30681.435989674595"
      ]
     },
     "execution_count": 18,
     "metadata": {},
     "output_type": "execute_result"
    }
   ],
   "source": [
    "study.best_value"
   ]
  },
  {
   "cell_type": "markdown",
   "metadata": {},
   "source": [
    "## Deep neural net\n",
    "\n",
    "Suppose we want to build MLP classifier to recognize handwritten digits using the MNIST dataset. We will first build a pytorch lightning model as follows"
   ]
  },
  {
   "cell_type": "code",
   "execution_count": 40,
   "metadata": {},
   "outputs": [],
   "source": [
    "import torch\n",
    "import torch.nn as nn\n",
    "from torch.nn import functional as F\n",
    "import pytorch_lightning as pl\n",
    "import  pytorch_lightning.metrics.functional as metrics"
   ]
  },
  {
   "cell_type": "code",
   "execution_count": 27,
   "metadata": {},
   "outputs": [],
   "source": [
    "class MLP(nn.Module):\n",
    "    \n",
    "    def __init__(self, hparams):\n",
    "        super().__init__()\n",
    "        self.model = nn.Sequential(\n",
    "        nn.Linear(hparams['in_size'],hparams['hidden_size']), \n",
    "        nn.ReLU(),\n",
    "        nn.Linear(hparams['hidden_size'],hparams['hidden_size']), \n",
    "        torch.nn.ReLU(),\n",
    "        nn.Linear(hparams['hidden_size'],hparams['out_size'])   \n",
    "        )\n",
    "        \n",
    "    def forward(self, x):\n",
    "        return self.model(x)"
   ]
  },
  {
   "cell_type": "code",
   "execution_count": 35,
   "metadata": {},
   "outputs": [],
   "source": [
    "class MLPIL(pl.LightningModule):\n",
    "    \n",
    "    def __init__(self, hparams):\n",
    "        super().__init__()\n",
    "        self.hparams = hparams\n",
    "        self.model = MLP(hparams)\n",
    "    #define forward pass\n",
    "    def forward(self, x):\n",
    "        return self.model(x)\n",
    "    \n",
    "    def training_step(self, batch, batch_idx):\n",
    "        x, y = batch\n",
    "        y_hat = self(x)\n",
    "        loss = F.cross_entropy(y_hat, y)\n",
    "    \n",
    "    ##define validat step\n",
    "    def training_step(self, x):\n",
    "        pass"
   ]
  },
  {
   "cell_type": "code",
   "execution_count": 36,
   "metadata": {},
   "outputs": [],
   "source": [
    "hparams = {\"in_size\": 28*28, \"hidden_size\":128, \"out_size\":10}"
   ]
  },
  {
   "cell_type": "code",
   "execution_count": 37,
   "metadata": {},
   "outputs": [],
   "source": [
    "model = MLPIL(hparams)"
   ]
  },
  {
   "cell_type": "code",
   "execution_count": 38,
   "metadata": {},
   "outputs": [
    {
     "data": {
      "text/plain": [
       "MLPIL(\n",
       "  (model): MLP(\n",
       "    (model): Sequential(\n",
       "      (0): Linear(in_features=784, out_features=128, bias=True)\n",
       "      (1): ReLU()\n",
       "      (2): Linear(in_features=128, out_features=128, bias=True)\n",
       "      (3): ReLU()\n",
       "      (4): Linear(in_features=128, out_features=10, bias=True)\n",
       "    )\n",
       "  )\n",
       ")"
      ]
     },
     "execution_count": 38,
     "metadata": {},
     "output_type": "execute_result"
    }
   ],
   "source": [
    "model"
   ]
  },
  {
   "cell_type": "code",
   "execution_count": null,
   "metadata": {},
   "outputs": [],
   "source": []
  }
 ],
 "metadata": {
  "kernelspec": {
   "display_name": "Python 3",
   "language": "python",
   "name": "python3"
  },
  "language_info": {
   "codemirror_mode": {
    "name": "ipython",
    "version": 3
   },
   "file_extension": ".py",
   "mimetype": "text/x-python",
   "name": "python",
   "nbconvert_exporter": "python",
   "pygments_lexer": "ipython3",
   "version": "3.7.7"
  },
  "latex_envs": {
   "LaTeX_envs_menu_present": true,
   "autoclose": false,
   "autocomplete": true,
   "bibliofile": "biblio.bib",
   "cite_by": "apalike",
   "current_citInitial": 1,
   "eqLabelWithNumbers": true,
   "eqNumInitial": 1,
   "hotkeys": {
    "equation": "Ctrl-E",
    "itemize": "Ctrl-I"
   },
   "labels_anchors": false,
   "latex_user_defs": false,
   "report_style_numbering": false,
   "user_envs_cfg": false
  }
 },
 "nbformat": 4,
 "nbformat_minor": 4
}
