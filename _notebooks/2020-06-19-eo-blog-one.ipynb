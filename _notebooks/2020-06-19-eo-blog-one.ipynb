{
 "cells": [
  {
   "cell_type": "markdown",
   "metadata": {},
   "source": [
    "\n",
    "# AI4EO: An Opportunity for Computation Sustainability\n",
    "> This post introduces how Earth Observation (EO)  and Artificial Intelligence (AI) could be used for Computational Sustainability\n",
    "- toc: true \n",
    "- badges: true\n",
    "- comments: true\n",
    "- categories: [Machine learning, Deep learning, Generative models, EO]\n",
    "- sticky_rank: 1\n",
    "- author: Anthony Faustine & Shridhar Kulkarni\n",
    "- image: images/post/eo.jpg"
   ]
  },
  {
   "cell_type": "markdown",
   "metadata": {},
   "source": [
    "Computational Sustainability focuses on developing computational models, methods, and tools to help policymakers design more effective solutions and policies for sustainable development. The advancement of Information and Communication Technologies (ICT), particularly Earth Observation (EO) and Artificial intelligence (AI) offer prospects of addressing sustainability challenges.\n",
    "\n",
    "Earth observations (EO) are data and information about the planet’s physical, chemical, and biological systems.  It involves the collection, analysis, and presentation about the status of, and changes in, the natural and human-made environment. The most common sources of EO data include drones,  land stations, and satellites. While drones capture high-resolution images on a small scale, satellites generate growing amounts of multi-resolution and multi-bands imagery and other data sources for the whole Earth. These data could be used to create all kinds of different products so that scientists, policymakers, and even everyday citizens can understand the past, present, and future trends in the Earth systems. Figure [below](https://desktop.arcgis.com/en/arcmap/latest/manage-data/raster-and-images/raster-bands.htm).  shows multiband imagery from satellites by the electromagnetic \n",
    "![](my_icons/Multispectral_bands.png) \n",
    "\n",
    "On the other hand, AI is an area of computer science devoted to developing systems that can learn (from data) to make decisions and predictions within specific contexts. Indeed, AI technology can extract more in-depth insights from datasets than other techniques. Over recently, AI has been used with success in solving complex problems in several domains such as machine translation, computer vision, autonomous cars, to mention a few. Machine learning and specifically, computer vision models provide explicitly useful and practical approaches for analyzing and extracting relevant information from EO imagery data. Recently deep learning models and specifically Convolution Neural Networks (CNNs) have proven effective in several computer vision tasks such as object detection, classification, and video processing, image generations, and image captioning, to mention a few. These models could be applied to detect and classify objects from complex EO imagery at a larger scale. Figure 2 presents AI capability for object detection and using computer vision techniques for multiband satellite images. This image has been taken from [here](https://desktop.arcgis.com/en/arcmap/latest/manage-data/raster-and-images/raster-bands.htm))*. \n",
    "![](my_icons/EO_AI.png) \n",
    "\n",
    "Applying these techniques to EO data will make it easy to efficiently automate the recognition of known and unknown patterns at large-scale. This is likely to reveal useful insights and opportunities for addressing sustainability challenges. For example, AI models could be applied to perform automated change detection, crop mapping, and yield estimation from high-resolution imagery in a larger-scale. The fusion of EO data and other data sources such as geo-referenced, demographics, and social-network data can be used to facilitate the more targeted developmental challenge. For instance, it has been demonstrated that the AI model can be used to predict the poverty level by analyzing satellite imagery, night lights, and demographic data.  Figure below shows the different application domains of EO.Image has been taken from [here](https://www.sentinel-hub.com/) and [here](https://www.agrilinks.org/post/enhancing-earth-observation-solutions-agriculture-machine-learning)\n",
    " ![](my_icons/Applications_2.png) \n",
    "             \n"
   ]
  },
  {
   "cell_type": "markdown",
   "metadata": {},
   "source": [
    "##  EO data sources\n",
    "\n",
    "There are many EO data sources made available recently. These data sources offer virtual visualization of any location on earth with resolution ranging from 5 centimeters to 120 meters depending on the instruments of satellites, airbus, or drones. The data sources are published as public or commercial data sources.\n",
    "\n",
    "**Public EO data providers**\n",
    "\n",
    "The EO puplic data providers are public service framework that allows full, free and open access to all data collected. [Copernicus](https://www.copernicus.eu/en/about-copernicus) and [Landsat](https://landsat.gsfc.nasa.gov/about/) are the famous and largest public satellite data providers. \n",
    "Landsat s one of the world's largest satellite image providers. It is a joint program of the National Aeronautics and Space Administration (NASA) and the United States Geological Survey (USGS). It provides access to satellites of the Landsat family, which have access over the archival of 50 years of earth data. Landsat satellites collect data on the forests, farms, urban areas, and water sources, generating the longest continuous record. The freely available information is used to understand environmental change better, [manage agricultural practices](https://landsat.gsfc.nasa.gov/how_landsat_helps/agriculture/), [allocate scarce water resources](https://landsat.gsfc.nasa.gov/how_landsat_helps/water), [monitor the extent and health of forests](https://landsat.gsfc.nasa.gov/how_landsat_helps/forest-management/) and respond to natural disasters, and more. Data can be accessed using LandsLook Viewer, USGS GloVis, Earth Explorer, Free Web-Enabled Landsat Data (WELD). More information is available [here](https://landsat.gsfc.nasa.gov/data/where-to-get-data/).\n",
    "\n",
    "Copernicus is managed by the Europe Unions EO program and collect data from a constellation of 6 families of satellites, known as Sentinels. Each Sentinel mission focuses on different but interrelated aspects of EO, including [Atmospheric monitoring (Sentinels 4 and 5)](http://atmosphere.copernicus.eu), [Marine environment monitoring (Sentinel-3)](http://marine.copernicus.eu), [Land monitoring (Sentinel-2)](http://land.copernicus.eu), [Climate Change](http://climate.copernicus.eu) and [Emergency management](http://emergency.copernicus.eu). Currently Copernicus produces 12 terabytes per day of data for the 6 families of satellites, known as \"Sentinels.\" The data are  open access and can be freely downloaded using [Copernicus Open Access Hub]. \n",
    "\n",
    "**Commercial data providers***\n",
    "\n",
    "The commercial satellite imagery providers provide access to data with high resolution with 3 centimeters to 10 meters. These services are paid and have good archival imagery. The most popular commercial EO imagery providers include; [Planet Labs](https://www.planet.com/), [DigitalGlobe](https://www.digitalglobe.com/) and [Airbus](https://www.intelligence-airbusds.com/en/8692-pleiades). \n",
    "\n",
    "[Planet Labs](https://www.planet.com/) provides access to a wide range of satellite data. It provides access to SkySAT families and RapidEye satellites. With 120+ satellites in orbit, Planet can image anywhere on Earth’s landmass daily, at 3 - 5-meter resolution. Planet processes and delivers imagery quickly and efficiently. Planet’s platform downloads and processes 11+ TB of data daily, enabling customers to build and run analytics at scale. Users can access Planet's data, using the paid planet API. Nevertheless, university researchers, academics, and scientists apply for free access as decribed in this [link](https://www.planet.com/markets/education-and-research/).\n",
    "\n",
    "The [DigitalGlobe](https://www.digitalglobe.com/) is similar to Planet Labs and provides data access to a full range constellation of satellites in orbit. It provides access to EarlyBird-1, IKONOS, QuickBird, GeoEye-1, a family of WorldView satellites. It offers a high resolution of up to 30cm, showing crisp details, satellite imagery, geospatial information, and location-based intelligence. Recently, DigitalGlobe has started providing 0.4m resolution imagery today, which is one of the best in the business. \n",
    "\n",
    "On the other hand, the Airbus, with Pleiades and SPOT missions, provide very high-resolution multispectral twin satellites with 0.5 meters and 1.5-meter resolution, respectively. These imagery data are particularly suitable for emergency response and up-to daily change detection.\n",
    "![Satellites families. This image is taken from [here](https://www.copernicus.eu/)](my_icons/Satellites_commrcial_coopernicus.png) \n",
    "             \n",
    "\n"
   ]
  },
  {
   "cell_type": "code",
   "execution_count": null,
   "metadata": {},
   "outputs": [],
   "source": []
  },
  {
   "cell_type": "code",
   "execution_count": null,
   "metadata": {},
   "outputs": [],
   "source": []
  }
 ],
 "metadata": {
  "kernelspec": {
   "display_name": "Python 3",
   "language": "python",
   "name": "python3"
  },
  "language_info": {
   "codemirror_mode": {
    "name": "ipython",
    "version": 3
   },
   "file_extension": ".py",
   "mimetype": "text/x-python",
   "name": "python",
   "nbconvert_exporter": "python",
   "pygments_lexer": "ipython3",
   "version": "3.7.7"
  },
  "latex_envs": {
   "LaTeX_envs_menu_present": true,
   "autoclose": false,
   "autocomplete": true,
   "bibliofile": "biblio.bib",
   "cite_by": "apalike",
   "current_citInitial": 1,
   "eqLabelWithNumbers": true,
   "eqNumInitial": 1,
   "hotkeys": {
    "equation": "Ctrl-E",
    "itemize": "Ctrl-I"
   },
   "labels_anchors": false,
   "latex_user_defs": false,
   "report_style_numbering": false,
   "user_envs_cfg": false
  }
 },
 "nbformat": 4,
 "nbformat_minor": 4
}
