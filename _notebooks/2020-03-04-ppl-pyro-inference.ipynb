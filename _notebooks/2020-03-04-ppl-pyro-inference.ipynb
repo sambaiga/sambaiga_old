{
 "cells": [
  {
   "cell_type": "markdown",
   "metadata": {},
   "source": [
    "# Automatic Inference in Pyro\n",
    "- toc: true \n",
    "- badges: true\n",
    "- comments: true\n",
    "- categories: [jupyter]\n",
    "- image: images/ppl-pyro-intro.png"
   ]
  },
  {
   "cell_type": "markdown",
   "metadata": {},
   "source": [
    "## Introduction\n",
    "\n",
    "In the previous post we introduced pyro and its building blocks such as schotastic function, primitive sample and param primitive statement, model and guide. We also defined pyro model and use it to generate data, learn from data and predict future observations.\n",
    "\n",
    "In this section, we will learn in details about inference in Pyro, how to use Pyro primitives and the effect handling library (pyro.poutine) to build custom tools for analysis."
   ]
  },
  {
   "cell_type": "code",
   "execution_count": 2,
   "metadata": {},
   "outputs": [],
   "source": [
    "import torch\n",
    "import pyro\n",
    "import pyro.distributions as dist\n",
    "from torch.distributions import constraints\n",
    "%matplotlib inline\n"
   ]
  },
  {
   "cell_type": "markdown",
   "metadata": {},
   "source": [
    "Consider a previous poison regression model"
   ]
  },
  {
   "cell_type": "code",
   "execution_count": 8,
   "metadata": {},
   "outputs": [],
   "source": [
    "def model_global_trend(p):\n",
    "    slope = pyro.param('slope', torch.tensor(0.))\n",
    "    sigma = pyro.param('sigma', torch.tensor(1.0), constraints=dist.constraints.positive)\n",
    "    intercept = pyro.param('intercept', torch.tensor(13.))\n",
    "    for i in range(len(y)):\n",
    "        log_p_hat = slope * i + intercept\n",
    "        pyro.sample('y_{}'.format(i), dist.LogNormal(log_p_hat, sigma), obs=p[i])"
   ]
  },
  {
   "cell_type": "code",
   "execution_count": null,
   "metadata": {},
   "outputs": [],
   "source": [
    "From the given  model above , ```pyro.param``` designate model parameters that we would like to optimize. Observations are denoted by the obs= keyword argument to pyro.sample. This specifies the likelihood function. Instead of log transforming the data, we use a LogNormal distribution. The observations are conditionally independent given the latent random variable slope and intercept. To explicitly mark this in Pyro, **plate** statement is used to construct conditionally independent sequences of variables.\n",
    "\n",
    "```python\n",
    "with pyro.plate(\"name\", size, subsample_size, device) as ind:\n",
    "    # ...do conditionally independent stuff with ind...\n",
    "```\n",
    "However compared to ``range()`` each invocation of **plate** requires the user to provide a unique name. The **plate**  statement can be used either sequentially as a generator or in parallel as a context manager. Sequential plate is similar to ``range()``in that it generates a sequence of values. \n",
    "```python\n",
    " # This version declares sequential independence and subsamples data:\n",
    "    for i in plate('data', 100, subsample_size=10):\n",
    "         if z[i]:  # Control flow in this example prevents vectorization.\n",
    "                obs = sample('obs_{}'.format(i), dist.Normal(loc, scale), obs=data[i])\n",
    "```\n",
    "Vectorized plate is similar to ``torch.arange()`` in that it yields an array of indices by which other tensors can be indexed. However, unlike  ``torch.arange()`` **plate**  also informs inference algorithms that the variables being indexed are conditionally independent.\n",
    "```python\n",
    "     # This version declares vectorized independence:\n",
    "     with plate('data'):\n",
    "            obs = sample('obs', dist.Normal(loc, scale), obs=data)\n",
    "```\n",
    "Additionally, plate can take advantage of the conditional independence assumptions by subsampling the indices and informing inference algorithms to scale various computed values. This is typically used to subsample minibatches of data:\n",
    "```python\n",
    "with plate(\"data\", len(data), subsample_size=100) as ind:\n",
    "    batch = data[ind]\n",
    "    assert len(batch) == 100\n",
    "```"
   ]
  },
  {
   "cell_type": "code",
   "execution_count": null,
   "metadata": {},
   "outputs": [],
   "source": []
  }
 ],
 "metadata": {
  "kernelspec": {
   "display_name": "Python 3",
   "language": "python",
   "name": "python3"
  },
  "language_info": {
   "codemirror_mode": {
    "name": "ipython",
    "version": 3
   },
   "file_extension": ".py",
   "mimetype": "text/x-python",
   "name": "python",
   "nbconvert_exporter": "python",
   "pygments_lexer": "ipython3",
   "version": "3.7.4-final"
  }
 },
 "nbformat": 4,
 "nbformat_minor": 4
}