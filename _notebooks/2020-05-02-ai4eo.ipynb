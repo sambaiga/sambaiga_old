{
 "cells": [
  {
   "cell_type": "markdown",
   "metadata": {},
   "source": [
    "# Ai4EO: An Opportunity for Computation Sustainability\n",
    "> This post introduce  stochastic gradient based algorithm (SVI) used in practise to do variational inference under mean filed assumptions. It also present two important tricks namely re-parametrization trick and amortized inference that are useful when using SVI in solving problems.\n",
    "\n",
    "- toc: true \n",
    "- badges: true\n",
    "- comments: true\n",
    "- categories: [AI, EO]\n",
    "- image: images/svi.jpg\n",
    "- author: Anthony Faustine and Shridhar Kulkarni"
   ]
  },
  {
   "cell_type": "markdown",
   "metadata": {},
   "source": [
    "## 1. Introduction\n",
    "\n",
    "Computational Sustainability focuses on developing computational models, methods, and tools to support policymakers in developing more effective solutions and policies for sustainable development. The advancement of Information and Communication Technologies (ICT), particularly Earth Observation (EO) and Artificial intelligence (AI), offer prospects of addressing sustainability challenges.\n",
    "\n",
    "Earth observations (EO) are data and information about the planet’s physical, chemical, and biological systems.  It involves the collection, analysis, and presentation about the status of, and changes in, the natural and human-made environment. The most common sources of EO data include drones,  land stations, and satellites. While drones capture high-resolution images on a small scale, satellites generate growing amounts of multi-resolution and multi-bands imagery and other data sources for the whole Earth. The figure 1 shows multiband imagery from satellites by electromagnetic spectrum.\n",
    "\n",
    " ![](Multispectral_bands.png) \n",
    "             \n",
    "*Figure 1: Multiband imagery from satellites by electromagnetic spectrum. (Image has been taken from [here](https://desktop.arcgis.com/en/arcmap/latest/manage-data/raster-and-images/raster-bands.htm))*\n",
    "\n",
    "On the other hand, AI is an area of computer science devoted to developing systems that can learn (from data) to make decisions and predictions within specific contexts. Indeed, AI technology can extract deeper insights from datasets than other techniques. Over recently, AI has been used with success in solving complex problems in several domains such as machine translation, computer vision, autonomous cars, to mention a few. Machine learning and specifically, computer vision models provide explicitly useful and practical approaches for analyzing and extracting relevant information from EO imagery data. Recently deep learning models and specifically Convolution Neural Networks (CNNs) have proven effective in several computer vision tasks such as object detection, classification, and video processing, image generations, and image captioning, to mention a few. These models could be applied to detect and classify objects from complex EO imagery at a larger scale. The figure 2 explains AI capability for object detection and using computer vision techniques for multibands satellite images. \n",
    "\n",
    " ![](Eo_AI.png) \n",
    "             \n",
    "*Figure 2: Object detection using computer vision and usage of multibands in AI.*\n",
    "\n",
    "\n",
    "\n",
    "Applying these techniques to EO data will make it easy to efficiently automate the recognition of known and unknown patterns at large-scale. This is likely to reveal useful insights and opportunities for addressing sustainability challenges. For instance, AI models could be applied  to perform automated change detection, crop mapping, and yield estimation from high-resolution imagery in a larger-scale. The fusion of EO data and other data sources such as geo-referenced, demographics, and social-network data can be used to facilitate the more targeted developmental challenge. For instance, it has been demonstrated that the AI model can be used to predict the poverty level by analyzing satellite imagery, night lights, and demographic data.  Figure 3 shows the different application in domain.\n",
    "\n",
    " ![](Applications_2.png) \n",
    "             \n",
    "*Figure 3: Applications of EO in diferrent domains.(Image has been taken from [here](https://www.sentinel-hub.com/) and [here](https://www.agrilinks.org/post/enhancing-earth-observation-solutions-agriculture-machine-learning))*\n"
   ]
  },
  {
   "cell_type": "markdown",
   "metadata": {},
   "source": [
    "## 2. EO data sources\n",
    "\n",
    "There are many EO data sources made available recently. These data sources offer virtual visualization of any location on earth with resolution ranging from 5 centimeters to 120 meters depending on the instruments of satellites, airbus, or drones. The data sources are published as public or commercial data sources.\n",
    "\n",
    "### 2. 1 Public EO data providers: \n",
    "The free EO data provide free access to data with a resolution of 10 meters to 120 meters. [Copernicus](https://www.copernicus.eu/en/about-copernicus) and [Landsat](https://landsat.gsfc.nasa.gov/about/) are the famous and largest public satellite data providers. \n",
    "\n",
    "Copernicus is one of the world's largest data providers,  managed by the Europe Unions EO program. Currently Copernicus produces 12 terabytes per day of data for the 6 families of satellites, known as \"Sentinels.\" The data are  open access and can be freely downloaded using [Copernicus Open Access Hub]. Environmental data can also be accessed using EUMETCast and Copernicus Online Data Access (CODA), which is  managed by EUMETSAT. \n",
    "\n",
    "Landsat is a joint program of the National Aeronautics and Space Administration (NASA) and the United States Geological Survey (USGS). It provides access to satellites of the Landsat family. Landsat families have access over archival of 50 years of earth data, and data archive continues to expand. Data can be accessed using LandsLook Viewer, USGS GloVis, Earth Explorer, Free Web-Enabled Landsat Data (WELD). More information is available [here](https://landsat.gsfc.nasa.gov/data/where-to-get-data/).\n",
    "\n",
    "### 2. 2 Commercial data providers:\n",
    "\n",
    "\n",
    "The commercial satellite imagery providers provide access to data with high resolution with 3 centimeters to 10 meters. These services are paid and have good archival imagery. The most popular commercial EO imagery providers include; [Planet Labs](https://www.planet.com/), [DigitalGlobe](https://www.digitalglobe.com/) and [Airbus](https://www.intelligence-airbusds.com/en/8692-pleiades). \n",
    "\n",
    "[Planet Labs](https://www.planet.com/) provides access to a wide range of satellite data. It provides access to SkySAT families and RapidEye satellites. With 120+ satellites in orbit, Planet can image anywhere on Earth’s landmass daily, at 3 - 5-meter resolution. Planet processes and delivers imagery quickly and efficiently. Planet’s platform downloads and processes 11+ TB of data daily, enabling customers to build and run analytics at scale. To access the data, use the paid planet API.\n",
    "\n",
    "The [DigitalGlobe](https://www.digitalglobe.com/) is similar to Planet Labs and provides data access to a full range constellation of satellites in orbit. It provides access to EarlyBird-1, IKONOS, QuickBird, GeoEye-1, a family of WorldView satellites. It offers a high resolution of up to 30cm, showing crisp details, satellite imagery, geospatial information, and location-based intelligence. Recently, DigitalGlobe has started providing 0.4m resolution imagery today, which is one of the best in the business. \n",
    "\n",
    "On the other hand, the Airbus, with Pleiades and SPOT missions, provide very high-resolution multispectral twin satellites with 0.5 meters and 1.5-meter resolution, respectively. These imagery data are particularly suitable for emergency response and up-to daily change detection.\n",
    "\n",
    "\n",
    "![](Satellites_commrcial_coopernicus.png) \n",
    "             \n",
    "*Figure 3: Satellites families. This image is taken from [here](https://www.copernicus.eu/)*"
   ]
  },
  {
   "cell_type": "markdown",
   "metadata": {},
   "source": [
    "## 3. AI ready datasets\n",
    "Building ML applications for EO requires access to both EO data and their ground truth. Creating such a data-set is time-consuming and costly. As a result different organisations provide ready-to-use EO dataset which allow ML and GIS researchers and other stakeholders to build and test their ML application specific to EO. Radiant MLHub and Spacenet are the two notable EO training data providers. [Radiant MLHub](www.mlhub.earth) is an open library for geospatial training data to advance machine learning applications on EO. It hosts open training datasets generated by Radiant Earth Foundation's team as well as other training data catalogs contributed by Radiant Earth's partners. The data provided by Radiant MLHub are stored using a SpatioTemporal Asset Catalog (STAC) compliant catalog and exposed through a standard API. These data are open to anyone to use. It also free stores, register and share your dataset. \n",
    "\n",
    "The [Spacenet](https://spacenet.ai/datasets/), on the other hand, provides access to high-quality geospatial data for developers, researchers, and startups with a specific focus on the four open-source key pillars: data, challenges, algorithms, and tools. It also hosts challenges that focus on applying advanced machine learning techniques to solve difficult mapping challenges. The SpaceNet Dataset is hosted as an [Amazon Web Services (AWS) Public Dataset](https://registry.opendata.aws/), which is open for geospatial machine learning research. The dataset consists of well-annotated and very high-resolution satellite imagery with foundational mapping features such as building footprints or road networks.\n",
    "\n",
    "[Kaggle](https://www.kaggle.com), a world's largest data science community with powerful tools and resources, is another source of EO training datasets which host several machine learning challenges EO imagery. This challenges includes [Dstl Satellite Imagery Feature Detection](https://www.kaggle.com/c/dstl-satellite-imagery-feature-detection), [Airbus Ship Detection Challenge](https://www.kaggle.com/c/airbus-ship-detection) and [Draper Satellite Image Chronology](https://www.kaggle.com/c/draper-satellite-image-chronology) to mention a few.\n",
    "\n",
    "\n",
    "![](ai_ready.png) \n",
    "             \n",
    "*Figure 4: AI ready dataset providers.(This image is taken from [here](https://www.spacenet.ai) and [here](https://www.mlhub.earth/))*"
   ]
  },
  {
   "cell_type": "markdown",
   "metadata": {},
   "source": [
    "## 4. API for accessing EO imager data.\n",
    "\n",
    "Despite the availability of free and commercial satellite imagery, it is somehow challenging to directly download  and use these data.  Accessing these data requires one to have expertise in satellite imagery. Several API solutions that make it easy to access, download, and use satellite imagery from different sources have been developed to address these challenges. Sentinel Hub API is one of the easily available data API. \n",
    "\n",
    "[Sentinel Hub API](https://www.sentinel-hub.com/) makes satellite data from Sentinel, Landsat, and other Earth observation imagery easily accessible via easy-to-integrate web services. The API allows users to integrate satellite data either into their applications. To this end, Sentinel-hub offers several plugins such as [sentinelhub-python](https://github.com/sentinel-hub/sentinelhub-py), [Sentinelhub-js](https://medium.com/sentinel-hub/sentinelhub-js-open-source-library-for-satellite-imagery-powered-web-applications-aabe5495495b), [Sentinel Hub QGIS](https://github.com/sinergise/qgis_sentinel_hub) and [EO Browser](https://github.com/sentinel-hub/EOBrowser/) which is is a search tool for Sentinel-2 and Landsat 5,7,8 satellite imagery. Sentinelhub-js offer seamless integration of Sentinel Hub and other similar EO web services in web or node.js. This allows web developers to access remote sensing data quickly and to integrate it with their applications. On the other hand, the sentinel hub-python enables users to seamlessly make requests from Sentinel Hub OGC web services, download, and process images within their Python scripts. The Sentinel Hub QGIS plugin allows users to configure and harness Sentinel Hub services directly in QGIS.\n",
    "\n",
    "![](Sentinel_API.png) \n",
    "             \n",
    "*Figure 5: Sentinel services to access data.(This image has been taken from [here](https://www.sentinel-hub.com/))*"
   ]
  }
 ],
 "metadata": {
  "kernelspec": {
   "display_name": "Python 3",
   "language": "python",
   "name": "python3"
  },
  "language_info": {
   "codemirror_mode": {
    "name": "ipython",
    "version": 3
   },
   "file_extension": ".py",
   "mimetype": "text/x-python",
   "name": "python",
   "nbconvert_exporter": "python",
   "pygments_lexer": "ipython3",
   "version": "3.7.4"
  },
  "latex_envs": {
   "LaTeX_envs_menu_present": true,
   "autoclose": false,
   "autocomplete": true,
   "bibliofile": "biblio.bib",
   "cite_by": "apalike",
   "current_citInitial": 1,
   "eqLabelWithNumbers": true,
   "eqNumInitial": 1,
   "hotkeys": {
    "equation": "Ctrl-E",
    "itemize": "Ctrl-I"
   },
   "labels_anchors": false,
   "latex_user_defs": false,
   "report_style_numbering": false,
   "user_envs_cfg": false
  }
 },
 "nbformat": 4,
 "nbformat_minor": 4
}
